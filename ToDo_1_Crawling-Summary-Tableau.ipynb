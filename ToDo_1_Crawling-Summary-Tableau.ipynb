_{
 "cells": [
  {
   "cell_type": "markdown",
   "id": "eab3f37a",
   "metadata": {},
   "source": [
    "# 1. 웹사이트에서 원하는 데이터를 클로링합니다."
   ]
  },
  {
   "cell_type": "code",
   "execution_count": 1,
   "id": "cb20f84a",
   "metadata": {},
   "outputs": [],
   "source": [
    "# 1. 04_web_crawling.ipynb 파일을 참고해서 크롤링합니다."
   ]
  },
  {
   "cell_type": "markdown",
   "id": "e49f7051",
   "metadata": {},
   "source": [
    "# 2. Bedrock 을 호출해서 파싱의 일부 내용을 요약합니다."
   ]
  },
  {
   "cell_type": "code",
   "execution_count": 2,
   "id": "55109200",
   "metadata": {},
   "outputs": [],
   "source": [
    "# 01_bedrock_fundamental.ipynb 파일을 참고합니다."
   ]
  },
  {
   "cell_type": "markdown",
   "id": "f42d795c",
   "metadata": {},
   "source": [
    "# 3. Tableau를 위한 데이터를 만듭니다."
   ]
  },
  {
   "cell_type": "code",
   "execution_count": 3,
   "id": "00a74db7",
   "metadata": {},
   "outputs": [],
   "source": [
    "# "
   ]
  },
  {
   "cell_type": "markdown",
   "id": "21fd4139",
   "metadata": {},
   "source": [
    "# 4. S3 에 데이터를 업로드합니다."
   ]
  },
  {
   "cell_type": "code",
   "execution_count": 4,
   "id": "822b6954",
   "metadata": {},
   "outputs": [],
   "source": [
    "# Boto3 라이브러리를 사용하거나 CLI 명령어를 사용해서 S3에 최종 데이터를 업로드합니다."
   ]
  },
  {
   "cell_type": "markdown",
   "id": "75522c88",
   "metadata": {},
   "source": [
    "# 5. S3에 업로드된 데이터를 Tableau와 연동합니다."
   ]
  },
  {
   "cell_type": "code",
   "execution_count": 5,
   "id": "273897b3",
   "metadata": {},
   "outputs": [],
   "source": [
    "# S3와 Tableau 가 직접 연동이 되는지는 확인이 필요합니다. \n",
    "# 직접 연동되지 않을 경우 지원하는 방법을 사용해서 데이터와 연결합니다."
   ]
  },
  {
   "cell_type": "code",
   "execution_count": null,
   "id": "d81b444e",
   "metadata": {},
   "outputs": [],
   "source": []
  }
 ],
 "metadata": {
  "kernelspec": {
   "display_name": "conda_python3",
   "language": "python",
   "name": "conda_python3"
  },
  "language_info": {
   "codemirror_mode": {
    "name": "ipython",
    "version": 3
   },
   "file_extension": ".py",
   "mimetype": "text/x-python",
   "name": "python",
   "nbconvert_exporter": "python",
   "pygments_lexer": "ipython3",
   "version": "3.10.13"
  }
 },
 "nbformat": 4,
 "nbformat_minor": 5
}
