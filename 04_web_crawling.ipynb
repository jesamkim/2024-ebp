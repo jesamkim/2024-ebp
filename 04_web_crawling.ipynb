{
 "cells": [
  {
   "cell_type": "markdown",
   "id": "cf5d11ed",
   "metadata": {},
   "source": [
    "# 0. 패키지 인스톨"
   ]
  },
  {
   "cell_type": "code",
   "execution_count": 1,
   "id": "c6015484",
   "metadata": {},
   "outputs": [
    {
     "name": "stdout",
     "output_type": "stream",
     "text": [
      "Requirement already satisfied: beautifulsoup4 in /home/ec2-user/anaconda3/envs/python3/lib/python3.10/site-packages (4.12.3)\n",
      "Requirement already satisfied: soupsieve>1.2 in /home/ec2-user/anaconda3/envs/python3/lib/python3.10/site-packages (from beautifulsoup4) (2.5)\n"
     ]
    }
   ],
   "source": [
    "!pip install beautifulsoup4"
   ]
  },
  {
   "cell_type": "markdown",
   "id": "a0d60978",
   "metadata": {},
   "source": [
    "# 1. 함수 정의\n",
    "다음 내용을 참고했습니다: https://dev.to/webscraping/extract-google-search-results-using-python-and-beautifulsoup-16ig"
   ]
  },
  {
   "cell_type": "code",
   "execution_count": 2,
   "id": "285b09d8",
   "metadata": {},
   "outputs": [],
   "source": [
    "import requests\n",
    "from bs4 import BeautifulSoup\n",
    "from rich import print\n",
    "from urllib.parse import urlparse\n",
    "from urllib.parse import parse_qs\n",
    "\n",
    "# 크롤링\n",
    "def crawling(query):\n",
    "    # 구글 검색 URL 생성\n",
    "    url = f\"https://www.google.com/search?q={query}\"\n",
    "\n",
    "    # 요청 보내기\n",
    "    response = requests.get(url)\n",
    "\n",
    "    # HTML 파싱\n",
    "    soup = BeautifulSoup(response.text, \"html.parser\")\n",
    "    res = extract_results(soup)\n",
    "\n",
    "    return res\n",
    "    \n",
    "    \n",
    "# 파싱 함수 정의\n",
    "def extract_results(soup):\n",
    "    main = soup.select_one(\"#main\")\n",
    "\n",
    "    res = []\n",
    "    for gdiv in main.select('.g, .fP1Qef'):\n",
    "        res.append(extract_section(gdiv))\n",
    "    return res\n",
    "\n",
    "\n",
    "def extract_section(gdiv):\n",
    "    # Getting our elements\n",
    "    title = gdiv.select_one('h3')\n",
    "    link = gdiv.select_one('a')\n",
    "    description = gdiv.find_all(class_='BNeawe')[-1]\n",
    "    return {\n",
    "        # Extract title's text only if text is found \n",
    "        'title': title.text if title else None,\n",
    "#         'link': link['href'] if link else None,\n",
    "        'link': extract_href(link['href']) if link else None,\n",
    "        'description': description.find(string=True, recursive=False) if description else None\n",
    "    }\n",
    "\n",
    "def extract_href(href):\n",
    "    url = urlparse(href)\n",
    "    query = parse_qs(url.query)\n",
    "    if not ('q' in query and query['q'] and len(query['q']) > 0):\n",
    "        return None\n",
    "    return query['q'][0]\n"
   ]
  },
  {
   "cell_type": "markdown",
   "id": "71034ae5",
   "metadata": {},
   "source": [
    "# 2. 클롤링"
   ]
  },
  {
   "cell_type": "code",
   "execution_count": 3,
   "id": "0faa8645",
   "metadata": {},
   "outputs": [
    {
     "data": {
      "text/html": [
       "<pre style=\"white-space:pre;overflow-x:auto;line-height:normal;font-family:Menlo,'DejaVu Sans Mono',consolas,'Courier New',monospace\"><span style=\"font-weight: bold\">[</span>\n",
       "    <span style=\"font-weight: bold\">{</span>\n",
       "        <span style=\"color: #008000; text-decoration-color: #008000\">'title'</span>: <span style=\"color: #008000; text-decoration-color: #008000\">'한국에너지공단 신재생에너지센터'</span>,\n",
       "        <span style=\"color: #008000; text-decoration-color: #008000\">'link'</span>: <span style=\"color: #008000; text-decoration-color: #008000\">'https://www.knrec.or.kr/'</span>,\n",
       "        <span style=\"color: #008000; text-decoration-color: #008000\">'description'</span>: <span style=\"color: #008000; text-decoration-color: #008000\">'한국에너지공단; 신재생에너지 콜센터 1855-3020; 태양광 피해상담 센터 1670-4260; </span>\n",
       "<span style=\"color: #008000; text-decoration-color: #008000\">고장접수지원센터 1544-0940. 한국에너지공단 신재생에너지센터.'</span>\n",
       "    <span style=\"font-weight: bold\">}</span>,\n",
       "    <span style=\"font-weight: bold\">{</span>\n",
       "        <span style=\"color: #008000; text-decoration-color: #008000\">'title'</span>: <span style=\"color: #008000; text-decoration-color: #008000\">'신재생에너지란 - Kepco'</span>,\n",
       "        <span style=\"color: #008000; text-decoration-color: #008000\">'link'</span>: <span style=\"color: #008000; text-decoration-color: #008000\">'https://home.kepco.co.kr/kepco/SM/C/htmlView/SMCCHP001.do?menuCd=FN29030304'</span>,\n",
       "        <span style=\"color: #008000; text-decoration-color: #008000\">'description'</span>: <span style=\"color: #800080; text-decoration-color: #800080; font-style: italic\">None</span>\n",
       "    <span style=\"font-weight: bold\">}</span>,\n",
       "    <span style=\"font-weight: bold\">{</span>\n",
       "        <span style=\"color: #008000; text-decoration-color: #008000\">'title'</span>: <span style=\"color: #008000; text-decoration-color: #008000\">'신재생에너지 소개 - 한국전력공사'</span>,\n",
       "        <span style=\"color: #008000; text-decoration-color: #008000\">'link'</span>: <span style=\"color: #008000; text-decoration-color: #008000\">'https://cyber.kepco.co.kr/ckepco/mobile/resources/resources_introduce.jsp'</span>,\n",
       "        <span style=\"color: #008000; text-decoration-color: #008000\">'description'</span>: <span style=\"color: #008000; text-decoration-color: #008000\">'신재생에너지 종류 · 신에너지(3개) : 수소에너지, 연료전지, 석탄액화가스화 및 중질산사유 </span>\n",
       "<span style=\"color: #008000; text-decoration-color: #008000\">가스화 · 재생에너지(8개) : 태양광, 태양열, 풍력, 수력, 해양, 지열, 바이오\\xa0...'</span>\n",
       "    <span style=\"font-weight: bold\">}</span>,\n",
       "    <span style=\"font-weight: bold\">{</span>\n",
       "        <span style=\"color: #008000; text-decoration-color: #008000\">'title'</span>: <span style=\"color: #008000; text-decoration-color: #008000\">'신·재생에너지란? - 안양시청'</span>,\n",
       "        <span style=\"color: #008000; text-decoration-color: #008000\">'link'</span>: <span style=\"color: #008000; text-decoration-color: #008000\">'https://www.anyang.go.kr/main/contents.do?key=782'</span>,\n",
       "        <span style=\"color: #008000; text-decoration-color: #008000\">'description'</span>: <span style=\"color: #008000; text-decoration-color: #008000\">'공유하기 · 재생에너지 : 태양광, 태양열, 바이오, 풍력, 수력, 해양, 폐기물, 지열(8개 분야) · </span>\n",
       "<span style=\"color: #008000; text-decoration-color: #008000\">신에너지 : 연료전지, 석탄 액화가스화 및 중질잔사유 가스화, 수소에너지\\xa0...'</span>\n",
       "    <span style=\"font-weight: bold\">}</span>,\n",
       "    <span style=\"font-weight: bold\">{</span>\n",
       "        <span style=\"color: #008000; text-decoration-color: #008000\">'title'</span>: <span style=\"color: #008000; text-decoration-color: #008000\">'재생 가능 에너지 - 위키백과, 우리 모두의 백과사전'</span>,\n",
       "        <span style=\"color: #008000; text-decoration-color: #008000\">'link'</span>: <span style=\"color: #008000; text-decoration-color: #008000\">'https://ko.wikipedia.org/wiki/%EC%9E%AC%EC%83%9D_%EA%B0%80%EB%8A%A5_%EC%97%90%EB%84%88%EC%A7%80'</span>,\n",
       "        <span style=\"color: #008000; text-decoration-color: #008000\">'description'</span>: <span style=\"color: #008000; text-decoration-color: #008000\">'신·재생 에너지는 신 에너지와 재생 에너지를 통틀어 부르는 말로, 화석 연료나 핵분열을 이용한 </span>\n",
       "<span style=\"color: #008000; text-decoration-color: #008000\">에너지가 아닌 대체 에너지의 일부이다. 신 에너지는 새로운 물리력,\\xa0...'</span>\n",
       "    <span style=\"font-weight: bold\">}</span>,\n",
       "    <span style=\"font-weight: bold\">{</span>\n",
       "        <span style=\"color: #008000; text-decoration-color: #008000\">'title'</span>: <span style=\"color: #008000; text-decoration-color: #008000\">'신재생 에너지'</span>,\n",
       "        <span style=\"color: #008000; text-decoration-color: #008000\">'link'</span>: <span style=\"color: #008000; text-decoration-color: #008000\">'https://www.infineon.com/cms/kr/discoveries/renewable-energies/'</span>,\n",
       "        <span style=\"color: #008000; text-decoration-color: #008000\">'description'</span>: <span style=\"color: #008000; text-decoration-color: #008000\">'대체 에너지는 자연적으로 보충되고 무한정하게 공급됩니다. 수력 발전, 태양광, 풍력 에너지, </span>\n",
       "<span style=\"color: #008000; text-decoration-color: #008000\">바이오매스, 지열 난방이 여기에 해당됩니다. 이러한 설비와 시스템은 온실\\xa0...'</span>\n",
       "    <span style=\"font-weight: bold\">}</span>,\n",
       "    <span style=\"font-weight: bold\">{</span>\n",
       "        <span style=\"color: #008000; text-decoration-color: #008000\">'title'</span>: <span style=\"color: #008000; text-decoration-color: #008000\">'신재생에너지와 재생가능에너지, 뭐가 다르지? - Greenpeace Korea'</span>,\n",
       "        <span style=\"color: #008000; text-decoration-color: #008000\">'link'</span>: <span style=\"color: #008000; text-decoration-color: #008000\">'https://www.greenpeace.org/korea/update/6956/blog-ce-re-definition-explanation/'</span>,\n",
       "        <span style=\"color: #008000; text-decoration-color: #008000\">'description'</span>: <span style=\"color: #008000; text-decoration-color: #008000\">\"한 번 사용 하고 나서도 다시 자연 과정에 의해 사용한 만큼의 양이 재생되는 에너지를 </span>\n",
       "<span style=\"color: #008000; text-decoration-color: #008000\">'재생에너지' 또는 '재생가능에너지'라고 부르는 것이죠. 말\\xa0...\"</span>\n",
       "    <span style=\"font-weight: bold\">}</span>,\n",
       "    <span style=\"font-weight: bold\">{</span>\n",
       "        <span style=\"color: #008000; text-decoration-color: #008000\">'title'</span>: <span style=\"color: #008000; text-decoration-color: #008000\">'[에너지백과] 재생에너지 - SK E&amp;S 미디어룸'</span>,\n",
       "        <span style=\"color: #008000; text-decoration-color: #008000\">'link'</span>: <span style=\"color: #008000; text-decoration-color: #008000\">'https://media.skens.com/3153'</span>,\n",
       "        <span style=\"color: #008000; text-decoration-color: #008000\">'description'</span>: <span style=\"color: #008000; text-decoration-color: #008000\">\"'신재생에너지'는 재생에너지와 '신(新)에너지'를 통칭하는 개념입니다. 신에너지란 “기존의 </span>\n",
       "<span style=\"color: #008000; text-decoration-color: #008000\">화석연료를 변환시켜 이용하거나 수소ㆍ산소 등의 화학 반응\\xa0...\"</span>\n",
       "    <span style=\"font-weight: bold\">}</span>,\n",
       "    <span style=\"font-weight: bold\">{</span>\n",
       "        <span style=\"color: #008000; text-decoration-color: #008000\">'title'</span>: <span style=\"color: #008000; text-decoration-color: #008000\">'Kodex K-신재생에너지액티브 - 삼성자산운용'</span>,\n",
       "        <span style=\"color: #008000; text-decoration-color: #008000\">'link'</span>: <span style=\"color: #008000; text-decoration-color: #008000\">'https://www.samsungfund.com/etf/product/view.do?id=2ETFE5'</span>,\n",
       "        <span style=\"color: #008000; text-decoration-color: #008000\">'description'</span>: <span style=\"color: #008000; text-decoration-color: #008000\">'국내 신재생에너지 산업 관련 기업에 투자할 수 있는 ETF. KODEX K-신재생에너지액티브 ETF는 </span>\n",
       "<span style=\"color: #008000; text-decoration-color: #008000\">태양에너지, 풍력에너지, 수소에너지, 2차전지 등의 신재생에너지 관련\\xa0...'</span>\n",
       "    <span style=\"font-weight: bold\">}</span>\n",
       "<span style=\"font-weight: bold\">]</span>\n",
       "</pre>\n"
      ],
      "text/plain": [
       "\u001b[1m[\u001b[0m\n",
       "    \u001b[1m{\u001b[0m\n",
       "        \u001b[32m'title'\u001b[0m: \u001b[32m'한국에너지공단 신재생에너지센터'\u001b[0m,\n",
       "        \u001b[32m'link'\u001b[0m: \u001b[32m'https://www.knrec.or.kr/'\u001b[0m,\n",
       "        \u001b[32m'description'\u001b[0m: \u001b[32m'한국에너지공단; 신재생에너지 콜센터 1855-3020; 태양광 피해상담 센터 1670-4260; \u001b[0m\n",
       "\u001b[32m고장접수지원센터 1544-0940. 한국에너지공단 신재생에너지센터.'\u001b[0m\n",
       "    \u001b[1m}\u001b[0m,\n",
       "    \u001b[1m{\u001b[0m\n",
       "        \u001b[32m'title'\u001b[0m: \u001b[32m'신재생에너지란 - Kepco'\u001b[0m,\n",
       "        \u001b[32m'link'\u001b[0m: \u001b[32m'https://home.kepco.co.kr/kepco/SM/C/htmlView/SMCCHP001.do?\u001b[0m\u001b[32mmenuCd\u001b[0m\u001b[32m=\u001b[0m\u001b[32mFN29030304\u001b[0m\u001b[32m'\u001b[0m,\n",
       "        \u001b[32m'description'\u001b[0m: \u001b[3;35mNone\u001b[0m\n",
       "    \u001b[1m}\u001b[0m,\n",
       "    \u001b[1m{\u001b[0m\n",
       "        \u001b[32m'title'\u001b[0m: \u001b[32m'신재생에너지 소개 - 한국전력공사'\u001b[0m,\n",
       "        \u001b[32m'link'\u001b[0m: \u001b[32m'https://cyber.kepco.co.kr/ckepco/mobile/resources/resources_introduce.jsp'\u001b[0m,\n",
       "        \u001b[32m'description'\u001b[0m: \u001b[32m'신재생에너지 종류 · 신에너지\u001b[0m\u001b[32m(\u001b[0m\u001b[32m3개\u001b[0m\u001b[32m)\u001b[0m\u001b[32m : 수소에너지, 연료전지, 석탄액화가스화 및 중질산사유 \u001b[0m\n",
       "\u001b[32m가스화 · 재생에너지\u001b[0m\u001b[32m(\u001b[0m\u001b[32m8개\u001b[0m\u001b[32m)\u001b[0m\u001b[32m : 태양광, 태양열, 풍력, 수력, 해양, 지열, 바이오\\xa0...'\u001b[0m\n",
       "    \u001b[1m}\u001b[0m,\n",
       "    \u001b[1m{\u001b[0m\n",
       "        \u001b[32m'title'\u001b[0m: \u001b[32m'신·재생에너지란? - 안양시청'\u001b[0m,\n",
       "        \u001b[32m'link'\u001b[0m: \u001b[32m'https://www.anyang.go.kr/main/contents.do?\u001b[0m\u001b[32mkey\u001b[0m\u001b[32m=\u001b[0m\u001b[32m782\u001b[0m\u001b[32m'\u001b[0m,\n",
       "        \u001b[32m'description'\u001b[0m: \u001b[32m'공유하기 · 재생에너지 : 태양광, 태양열, 바이오, 풍력, 수력, 해양, 폐기물, 지열\u001b[0m\u001b[32m(\u001b[0m\u001b[32m8개 분야\u001b[0m\u001b[32m)\u001b[0m\u001b[32m · \u001b[0m\n",
       "\u001b[32m신에너지 : 연료전지, 석탄 액화가스화 및 중질잔사유 가스화, 수소에너지\\xa0...'\u001b[0m\n",
       "    \u001b[1m}\u001b[0m,\n",
       "    \u001b[1m{\u001b[0m\n",
       "        \u001b[32m'title'\u001b[0m: \u001b[32m'재생 가능 에너지 - 위키백과, 우리 모두의 백과사전'\u001b[0m,\n",
       "        \u001b[32m'link'\u001b[0m: \u001b[32m'https://ko.wikipedia.org/wiki/%EC%9E%AC%EC%83%9D_%EA%B0%80%EB%8A%A5_%EC%97%90%EB%84%88%EC%A7%80'\u001b[0m,\n",
       "        \u001b[32m'description'\u001b[0m: \u001b[32m'신·재생 에너지는 신 에너지와 재생 에너지를 통틀어 부르는 말로, 화석 연료나 핵분열을 이용한 \u001b[0m\n",
       "\u001b[32m에너지가 아닌 대체 에너지의 일부이다. 신 에너지는 새로운 물리력,\\xa0...'\u001b[0m\n",
       "    \u001b[1m}\u001b[0m,\n",
       "    \u001b[1m{\u001b[0m\n",
       "        \u001b[32m'title'\u001b[0m: \u001b[32m'신재생 에너지'\u001b[0m,\n",
       "        \u001b[32m'link'\u001b[0m: \u001b[32m'https://www.infineon.com/cms/kr/discoveries/renewable-energies/'\u001b[0m,\n",
       "        \u001b[32m'description'\u001b[0m: \u001b[32m'대체 에너지는 자연적으로 보충되고 무한정하게 공급됩니다. 수력 발전, 태양광, 풍력 에너지, \u001b[0m\n",
       "\u001b[32m바이오매스, 지열 난방이 여기에 해당됩니다. 이러한 설비와 시스템은 온실\\xa0...'\u001b[0m\n",
       "    \u001b[1m}\u001b[0m,\n",
       "    \u001b[1m{\u001b[0m\n",
       "        \u001b[32m'title'\u001b[0m: \u001b[32m'신재생에너지와 재생가능에너지, 뭐가 다르지? - Greenpeace Korea'\u001b[0m,\n",
       "        \u001b[32m'link'\u001b[0m: \u001b[32m'https://www.greenpeace.org/korea/update/6956/blog-ce-re-definition-explanation/'\u001b[0m,\n",
       "        \u001b[32m'description'\u001b[0m: \u001b[32m\"한 번 사용 하고 나서도 다시 자연 과정에 의해 사용한 만큼의 양이 재생되는 에너지를 \u001b[0m\n",
       "\u001b[32m'재생에너지' 또는 '재생가능에너지'라고 부르는 것이죠. 말\\xa0...\"\u001b[0m\n",
       "    \u001b[1m}\u001b[0m,\n",
       "    \u001b[1m{\u001b[0m\n",
       "        \u001b[32m'title'\u001b[0m: \u001b[32m'\u001b[0m\u001b[32m[\u001b[0m\u001b[32m에너지백과\u001b[0m\u001b[32m]\u001b[0m\u001b[32m 재생에너지 - SK E&S 미디어룸'\u001b[0m,\n",
       "        \u001b[32m'link'\u001b[0m: \u001b[32m'https://media.skens.com/3153'\u001b[0m,\n",
       "        \u001b[32m'description'\u001b[0m: \u001b[32m\"'신재생에너지'는 재생에너지와 '신\u001b[0m\u001b[32m(\u001b[0m\u001b[32m新\u001b[0m\u001b[32m)\u001b[0m\u001b[32m에너지'를 통칭하는 개념입니다. 신에너지란 “기존의 \u001b[0m\n",
       "\u001b[32m화석연료를 변환시켜 이용하거나 수소ㆍ산소 등의 화학 반응\\xa0...\"\u001b[0m\n",
       "    \u001b[1m}\u001b[0m,\n",
       "    \u001b[1m{\u001b[0m\n",
       "        \u001b[32m'title'\u001b[0m: \u001b[32m'Kodex K-신재생에너지액티브 - 삼성자산운용'\u001b[0m,\n",
       "        \u001b[32m'link'\u001b[0m: \u001b[32m'https://www.samsungfund.com/etf/product/view.do?\u001b[0m\u001b[32mid\u001b[0m\u001b[32m=\u001b[0m\u001b[32m2ETFE5\u001b[0m\u001b[32m'\u001b[0m,\n",
       "        \u001b[32m'description'\u001b[0m: \u001b[32m'국내 신재생에너지 산업 관련 기업에 투자할 수 있는 ETF. KODEX K-신재생에너지액티브 ETF는 \u001b[0m\n",
       "\u001b[32m태양에너지, 풍력에너지, 수소에너지, 2차전지 등의 신재생에너지 관련\\xa0...'\u001b[0m\n",
       "    \u001b[1m}\u001b[0m\n",
       "\u001b[1m]\u001b[0m\n"
      ]
     },
     "metadata": {},
     "output_type": "display_data"
    }
   ],
   "source": [
    "res = crawling(query=\"신 재생 에너지\")\n",
    "print(res)"
   ]
  },
  {
   "cell_type": "code",
   "execution_count": null,
   "id": "d9f334fb",
   "metadata": {},
   "outputs": [],
   "source": []
  }
 ],
 "metadata": {
  "kernelspec": {
   "display_name": "conda_python3",
   "language": "python",
   "name": "conda_python3"
  },
  "language_info": {
   "codemirror_mode": {
    "name": "ipython",
    "version": 3
   },
   "file_extension": ".py",
   "mimetype": "text/x-python",
   "name": "python",
   "nbconvert_exporter": "python",
   "pygments_lexer": "ipython3",
   "version": "3.10.13"
  }
 },
 "nbformat": 4,
 "nbformat_minor": 5
}
