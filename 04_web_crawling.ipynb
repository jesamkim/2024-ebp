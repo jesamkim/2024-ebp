{
 "cells": [
  {
   "cell_type": "markdown",
   "id": "cf5d11ed",
   "metadata": {},
   "source": [
    "# 0. 패키지 인스톨"
   ]
  },
  {
   "cell_type": "code",
   "execution_count": 1,
   "id": "c6015484",
   "metadata": {
    "tags": []
   },
   "outputs": [
    {
     "data": {
      "text/plain": [
       "'\\n!pip install beautifulsoup4\\n'"
      ]
     },
     "execution_count": 1,
     "metadata": {},
     "output_type": "execute_result"
    }
   ],
   "source": [
    "import os\n",
    "\n",
    "# 처음 실행시 아래 주석 제거 후 설치\n",
    "\n",
    "\"\"\"\n",
    "!pip install beautifulsoup4\n",
    "\"\"\""
   ]
  },
  {
   "cell_type": "markdown",
   "id": "a0d60978",
   "metadata": {},
   "source": [
    "## 1. Beautifulshop을 활용한 크롤링 샘플 코드\n",
    "\n",
    "#### 함수 정의\n",
    "다음 내용을 참고했습니다: https://dev.to/webscraping/extract-google-search-results-using-python-and-beautifulsoup-16ig"
   ]
  },
  {
   "cell_type": "code",
   "execution_count": 2,
   "id": "285b09d8",
   "metadata": {},
   "outputs": [],
   "source": [
    "import requests\n",
    "from bs4 import BeautifulSoup\n",
    "from rich import print\n",
    "from urllib.parse import urlparse\n",
    "from urllib.parse import parse_qs\n",
    "\n",
    "# 크롤링\n",
    "def crawling(query):\n",
    "    # 구글 검색 URL 생성\n",
    "    url = f\"https://www.google.com/search?q={query}\"\n",
    "\n",
    "    # 요청 보내기\n",
    "    response = requests.get(url)\n",
    "\n",
    "    # HTML 파싱\n",
    "    soup = BeautifulSoup(response.text, \"html.parser\")\n",
    "    res = extract_results(soup)\n",
    "\n",
    "    return res\n",
    "    \n",
    "    \n",
    "# 파싱 함수 정의\n",
    "def extract_results(soup):\n",
    "    main = soup.select_one(\"#main\")\n",
    "\n",
    "    res = []\n",
    "    for gdiv in main.select('.g, .fP1Qef'):\n",
    "        res.append(extract_section(gdiv))\n",
    "    return res\n",
    "\n",
    "\n",
    "def extract_section(gdiv):\n",
    "    # Getting our elements\n",
    "    title = gdiv.select_one('h3')\n",
    "    link = gdiv.select_one('a')\n",
    "    description = gdiv.find_all(class_='BNeawe')[-1]\n",
    "    return {\n",
    "        # Extract title's text only if text is found \n",
    "        'title': title.text if title else None,\n",
    "#         'link': link['href'] if link else None,\n",
    "        'link': extract_href(link['href']) if link else None,\n",
    "        'description': description.find(string=True, recursive=False) if description else None\n",
    "    }\n",
    "\n",
    "def extract_href(href):\n",
    "    url = urlparse(href)\n",
    "    query = parse_qs(url.query)\n",
    "    if not ('q' in query and query['q'] and len(query['q']) > 0):\n",
    "        return None\n",
    "    return query['q'][0]\n"
   ]
  },
  {
   "cell_type": "markdown",
   "id": "71034ae5",
   "metadata": {},
   "source": [
    "#### 크롤링 테스트"
   ]
  },
  {
   "cell_type": "code",
   "execution_count": 3,
   "id": "0faa8645",
   "metadata": {},
   "outputs": [
    {
     "data": {
      "text/html": [
       "<pre style=\"white-space:pre;overflow-x:auto;line-height:normal;font-family:Menlo,'DejaVu Sans Mono',consolas,'Courier New',monospace\"><span style=\"font-weight: bold\">[</span>\n",
       "    <span style=\"font-weight: bold\">{</span>\n",
       "        <span style=\"color: #008000; text-decoration-color: #008000\">'title'</span>: <span style=\"color: #008000; text-decoration-color: #008000\">'한국에너지공단 신재생에너지센터'</span>,\n",
       "        <span style=\"color: #008000; text-decoration-color: #008000\">'link'</span>: <span style=\"color: #008000; text-decoration-color: #008000\">'https://www.knrec.or.kr/'</span>,\n",
       "        <span style=\"color: #008000; text-decoration-color: #008000\">'description'</span>: <span style=\"color: #008000; text-decoration-color: #008000\">'한국에너지공단; 신재생에너지 콜센터 1855-3020; 태양광 피해상담 센터 1670-4260; </span>\n",
       "<span style=\"color: #008000; text-decoration-color: #008000\">고장접수지원센터 1544-0940. 한국에너지공단 신재생에너지센터.'</span>\n",
       "    <span style=\"font-weight: bold\">}</span>,\n",
       "    <span style=\"font-weight: bold\">{</span>\n",
       "        <span style=\"color: #008000; text-decoration-color: #008000\">'title'</span>: <span style=\"color: #008000; text-decoration-color: #008000\">'신재생에너지란 - Kepco'</span>,\n",
       "        <span style=\"color: #008000; text-decoration-color: #008000\">'link'</span>: <span style=\"color: #008000; text-decoration-color: #008000\">'https://home.kepco.co.kr/kepco/SM/C/htmlView/SMCCHP001.do?menuCd=FN29030304'</span>,\n",
       "        <span style=\"color: #008000; text-decoration-color: #008000\">'description'</span>: <span style=\"color: #800080; text-decoration-color: #800080; font-style: italic\">None</span>\n",
       "    <span style=\"font-weight: bold\">}</span>,\n",
       "    <span style=\"font-weight: bold\">{</span>\n",
       "        <span style=\"color: #008000; text-decoration-color: #008000\">'title'</span>: <span style=\"color: #008000; text-decoration-color: #008000\">'신재생에너지 소개 - 한국전력공사'</span>,\n",
       "        <span style=\"color: #008000; text-decoration-color: #008000\">'link'</span>: <span style=\"color: #008000; text-decoration-color: #008000\">'https://cyber.kepco.co.kr/ckepco/mobile/resources/resources_introduce.jsp'</span>,\n",
       "        <span style=\"color: #008000; text-decoration-color: #008000\">'description'</span>: <span style=\"color: #008000; text-decoration-color: #008000\">'신재생에너지 종류 · 신에너지(3개) : 수소에너지, 연료전지, 석탄액화가스화 및 중질산사유 </span>\n",
       "<span style=\"color: #008000; text-decoration-color: #008000\">가스화 · 재생에너지(8개) : 태양광, 태양열, 풍력, 수력, 해양, 지열, 바이오\\xa0...'</span>\n",
       "    <span style=\"font-weight: bold\">}</span>,\n",
       "    <span style=\"font-weight: bold\">{</span>\n",
       "        <span style=\"color: #008000; text-decoration-color: #008000\">'title'</span>: <span style=\"color: #008000; text-decoration-color: #008000\">'신·재생에너지란? - 안양시청'</span>,\n",
       "        <span style=\"color: #008000; text-decoration-color: #008000\">'link'</span>: <span style=\"color: #008000; text-decoration-color: #008000\">'https://www.anyang.go.kr/main/contents.do?key=782'</span>,\n",
       "        <span style=\"color: #008000; text-decoration-color: #008000\">'description'</span>: <span style=\"color: #008000; text-decoration-color: #008000\">'공유하기 · 재생에너지 : 태양광, 태양열, 바이오, 풍력, 수력, 해양, 폐기물, 지열(8개 분야) · </span>\n",
       "<span style=\"color: #008000; text-decoration-color: #008000\">신에너지 : 연료전지, 석탄 액화가스화 및 중질잔사유 가스화, 수소에너지\\xa0...'</span>\n",
       "    <span style=\"font-weight: bold\">}</span>,\n",
       "    <span style=\"font-weight: bold\">{</span>\n",
       "        <span style=\"color: #008000; text-decoration-color: #008000\">'title'</span>: <span style=\"color: #008000; text-decoration-color: #008000\">'신재생에너지란 무엇인가? / YTN 사이언스 - YouTube'</span>,\n",
       "        <span style=\"color: #008000; text-decoration-color: #008000\">'link'</span>: <span style=\"color: #008000; text-decoration-color: #008000\">'https://www.youtube.com/watch?v=CIxhlYjgJZI'</span>,\n",
       "        <span style=\"color: #008000; text-decoration-color: #008000\">'description'</span>: <span style=\"color: #008000; text-decoration-color: #008000\">'신재생에너지는, 신에너지와 재생에너지가 합쳐진 말이다. 그렇다면 신에너지는 무엇이고 </span>\n",
       "<span style=\"color: #008000; text-decoration-color: #008000\">재생에너지는 무엇이며 요즘 대두되고 ...'</span>\n",
       "    <span style=\"font-weight: bold\">}</span>,\n",
       "    <span style=\"font-weight: bold\">{</span>\n",
       "        <span style=\"color: #008000; text-decoration-color: #008000\">'title'</span>: <span style=\"color: #008000; text-decoration-color: #008000\">'신재생 에너지'</span>,\n",
       "        <span style=\"color: #008000; text-decoration-color: #008000\">'link'</span>: <span style=\"color: #008000; text-decoration-color: #008000\">'https://www.infineon.com/cms/kr/discoveries/renewable-energies/'</span>,\n",
       "        <span style=\"color: #008000; text-decoration-color: #008000\">'description'</span>: <span style=\"color: #008000; text-decoration-color: #008000\">'대체 에너지는 자연적으로 보충되고 무한정하게 공급됩니다. 수력 발전, 태양광, 풍력 에너지, </span>\n",
       "<span style=\"color: #008000; text-decoration-color: #008000\">바이오매스, 지열 난방이 여기에 해당됩니다. 이러한 설비와 시스템은 온실\\xa0...'</span>\n",
       "    <span style=\"font-weight: bold\">}</span>,\n",
       "    <span style=\"font-weight: bold\">{</span>\n",
       "        <span style=\"color: #008000; text-decoration-color: #008000\">'title'</span>: <span style=\"color: #008000; text-decoration-color: #008000\">'신재생에너지와 재생가능에너지, 뭐가 다르지? - Greenpeace Korea'</span>,\n",
       "        <span style=\"color: #008000; text-decoration-color: #008000\">'link'</span>: <span style=\"color: #008000; text-decoration-color: #008000\">'https://www.greenpeace.org/korea/update/6956/blog-ce-re-definition-explanation/'</span>,\n",
       "        <span style=\"color: #008000; text-decoration-color: #008000\">'description'</span>: <span style=\"color: #008000; text-decoration-color: #008000\">\"한 번 사용 하고 나서도 다시 자연 과정에 의해 사용한 만큼의 양이 재생되는 에너지를 </span>\n",
       "<span style=\"color: #008000; text-decoration-color: #008000\">'재생에너지' 또는 '재생가능에너지'라고 부르는 것이죠. 말\\xa0...\"</span>\n",
       "    <span style=\"font-weight: bold\">}</span>,\n",
       "    <span style=\"font-weight: bold\">{</span>\n",
       "        <span style=\"color: #008000; text-decoration-color: #008000\">'title'</span>: <span style=\"color: #008000; text-decoration-color: #008000\">'재생 가능 에너지 - 위키백과, 우리 모두의 백과사전'</span>,\n",
       "        <span style=\"color: #008000; text-decoration-color: #008000\">'link'</span>: <span style=\"color: #008000; text-decoration-color: #008000\">'https://ko.wikipedia.org/wiki/%EC%9E%AC%EC%83%9D_%EA%B0%80%EB%8A%A5_%EC%97%90%EB%84%88%EC%A7%80'</span>,\n",
       "        <span style=\"color: #008000; text-decoration-color: #008000\">'description'</span>: <span style=\"color: #008000; text-decoration-color: #008000\">'신·재생 에너지는 신 에너지와 재생 에너지를 통틀어 부르는 말로, 화석 연료나 핵분열을 이용한 </span>\n",
       "<span style=\"color: #008000; text-decoration-color: #008000\">에너지가 아닌 대체 에너지의 일부이다. 신 에너지는 새로운 물리력,\\xa0...'</span>\n",
       "    <span style=\"font-weight: bold\">}</span>,\n",
       "    <span style=\"font-weight: bold\">{</span>\n",
       "        <span style=\"color: #008000; text-decoration-color: #008000\">'title'</span>: <span style=\"color: #008000; text-decoration-color: #008000\">'신재생에너지 - 한국수력원자력'</span>,\n",
       "        <span style=\"color: #008000; text-decoration-color: #008000\">'link'</span>: <span style=\"color: #008000; text-decoration-color: #008000\">'https://www.khnp.co.kr/main/contents.do?key=250'</span>,\n",
       "        <span style=\"color: #008000; text-decoration-color: #008000\">'description'</span>: <span style=\"color: #008000; text-decoration-color: #008000\">'신재생에너지 정의(신재생에너지 개발 및 이용 보급촉진법 제 2조) · 신에너지 : 연료전지, 석탄 </span>\n",
       "<span style=\"color: #008000; text-decoration-color: #008000\">액화 및 가스화, 수소에너지(3개분야) · 재생에너지 : 태양열, 태양광발전\\xa0...'</span>\n",
       "    <span style=\"font-weight: bold\">}</span>\n",
       "<span style=\"font-weight: bold\">]</span>\n",
       "</pre>\n"
      ],
      "text/plain": [
       "\u001b[1m[\u001b[0m\n",
       "    \u001b[1m{\u001b[0m\n",
       "        \u001b[32m'title'\u001b[0m: \u001b[32m'한국에너지공단 신재생에너지센터'\u001b[0m,\n",
       "        \u001b[32m'link'\u001b[0m: \u001b[32m'https://www.knrec.or.kr/'\u001b[0m,\n",
       "        \u001b[32m'description'\u001b[0m: \u001b[32m'한국에너지공단; 신재생에너지 콜센터 1855-3020; 태양광 피해상담 센터 1670-4260; \u001b[0m\n",
       "\u001b[32m고장접수지원센터 1544-0940. 한국에너지공단 신재생에너지센터.'\u001b[0m\n",
       "    \u001b[1m}\u001b[0m,\n",
       "    \u001b[1m{\u001b[0m\n",
       "        \u001b[32m'title'\u001b[0m: \u001b[32m'신재생에너지란 - Kepco'\u001b[0m,\n",
       "        \u001b[32m'link'\u001b[0m: \u001b[32m'https://home.kepco.co.kr/kepco/SM/C/htmlView/SMCCHP001.do?\u001b[0m\u001b[32mmenuCd\u001b[0m\u001b[32m=\u001b[0m\u001b[32mFN29030304\u001b[0m\u001b[32m'\u001b[0m,\n",
       "        \u001b[32m'description'\u001b[0m: \u001b[3;35mNone\u001b[0m\n",
       "    \u001b[1m}\u001b[0m,\n",
       "    \u001b[1m{\u001b[0m\n",
       "        \u001b[32m'title'\u001b[0m: \u001b[32m'신재생에너지 소개 - 한국전력공사'\u001b[0m,\n",
       "        \u001b[32m'link'\u001b[0m: \u001b[32m'https://cyber.kepco.co.kr/ckepco/mobile/resources/resources_introduce.jsp'\u001b[0m,\n",
       "        \u001b[32m'description'\u001b[0m: \u001b[32m'신재생에너지 종류 · 신에너지\u001b[0m\u001b[32m(\u001b[0m\u001b[32m3개\u001b[0m\u001b[32m)\u001b[0m\u001b[32m : 수소에너지, 연료전지, 석탄액화가스화 및 중질산사유 \u001b[0m\n",
       "\u001b[32m가스화 · 재생에너지\u001b[0m\u001b[32m(\u001b[0m\u001b[32m8개\u001b[0m\u001b[32m)\u001b[0m\u001b[32m : 태양광, 태양열, 풍력, 수력, 해양, 지열, 바이오\\xa0...'\u001b[0m\n",
       "    \u001b[1m}\u001b[0m,\n",
       "    \u001b[1m{\u001b[0m\n",
       "        \u001b[32m'title'\u001b[0m: \u001b[32m'신·재생에너지란? - 안양시청'\u001b[0m,\n",
       "        \u001b[32m'link'\u001b[0m: \u001b[32m'https://www.anyang.go.kr/main/contents.do?\u001b[0m\u001b[32mkey\u001b[0m\u001b[32m=\u001b[0m\u001b[32m782\u001b[0m\u001b[32m'\u001b[0m,\n",
       "        \u001b[32m'description'\u001b[0m: \u001b[32m'공유하기 · 재생에너지 : 태양광, 태양열, 바이오, 풍력, 수력, 해양, 폐기물, 지열\u001b[0m\u001b[32m(\u001b[0m\u001b[32m8개 분야\u001b[0m\u001b[32m)\u001b[0m\u001b[32m · \u001b[0m\n",
       "\u001b[32m신에너지 : 연료전지, 석탄 액화가스화 및 중질잔사유 가스화, 수소에너지\\xa0...'\u001b[0m\n",
       "    \u001b[1m}\u001b[0m,\n",
       "    \u001b[1m{\u001b[0m\n",
       "        \u001b[32m'title'\u001b[0m: \u001b[32m'신재생에너지란 무엇인가? / YTN 사이언스 - YouTube'\u001b[0m,\n",
       "        \u001b[32m'link'\u001b[0m: \u001b[32m'https://www.youtube.com/watch?\u001b[0m\u001b[32mv\u001b[0m\u001b[32m=\u001b[0m\u001b[32mCIxhlYjgJZI\u001b[0m\u001b[32m'\u001b[0m,\n",
       "        \u001b[32m'description'\u001b[0m: \u001b[32m'신재생에너지는, 신에너지와 재생에너지가 합쳐진 말이다. 그렇다면 신에너지는 무엇이고 \u001b[0m\n",
       "\u001b[32m재생에너지는 무엇이며 요즘 대두되고 ...'\u001b[0m\n",
       "    \u001b[1m}\u001b[0m,\n",
       "    \u001b[1m{\u001b[0m\n",
       "        \u001b[32m'title'\u001b[0m: \u001b[32m'신재생 에너지'\u001b[0m,\n",
       "        \u001b[32m'link'\u001b[0m: \u001b[32m'https://www.infineon.com/cms/kr/discoveries/renewable-energies/'\u001b[0m,\n",
       "        \u001b[32m'description'\u001b[0m: \u001b[32m'대체 에너지는 자연적으로 보충되고 무한정하게 공급됩니다. 수력 발전, 태양광, 풍력 에너지, \u001b[0m\n",
       "\u001b[32m바이오매스, 지열 난방이 여기에 해당됩니다. 이러한 설비와 시스템은 온실\\xa0...'\u001b[0m\n",
       "    \u001b[1m}\u001b[0m,\n",
       "    \u001b[1m{\u001b[0m\n",
       "        \u001b[32m'title'\u001b[0m: \u001b[32m'신재생에너지와 재생가능에너지, 뭐가 다르지? - Greenpeace Korea'\u001b[0m,\n",
       "        \u001b[32m'link'\u001b[0m: \u001b[32m'https://www.greenpeace.org/korea/update/6956/blog-ce-re-definition-explanation/'\u001b[0m,\n",
       "        \u001b[32m'description'\u001b[0m: \u001b[32m\"한 번 사용 하고 나서도 다시 자연 과정에 의해 사용한 만큼의 양이 재생되는 에너지를 \u001b[0m\n",
       "\u001b[32m'재생에너지' 또는 '재생가능에너지'라고 부르는 것이죠. 말\\xa0...\"\u001b[0m\n",
       "    \u001b[1m}\u001b[0m,\n",
       "    \u001b[1m{\u001b[0m\n",
       "        \u001b[32m'title'\u001b[0m: \u001b[32m'재생 가능 에너지 - 위키백과, 우리 모두의 백과사전'\u001b[0m,\n",
       "        \u001b[32m'link'\u001b[0m: \u001b[32m'https://ko.wikipedia.org/wiki/%EC%9E%AC%EC%83%9D_%EA%B0%80%EB%8A%A5_%EC%97%90%EB%84%88%EC%A7%80'\u001b[0m,\n",
       "        \u001b[32m'description'\u001b[0m: \u001b[32m'신·재생 에너지는 신 에너지와 재생 에너지를 통틀어 부르는 말로, 화석 연료나 핵분열을 이용한 \u001b[0m\n",
       "\u001b[32m에너지가 아닌 대체 에너지의 일부이다. 신 에너지는 새로운 물리력,\\xa0...'\u001b[0m\n",
       "    \u001b[1m}\u001b[0m,\n",
       "    \u001b[1m{\u001b[0m\n",
       "        \u001b[32m'title'\u001b[0m: \u001b[32m'신재생에너지 - 한국수력원자력'\u001b[0m,\n",
       "        \u001b[32m'link'\u001b[0m: \u001b[32m'https://www.khnp.co.kr/main/contents.do?\u001b[0m\u001b[32mkey\u001b[0m\u001b[32m=\u001b[0m\u001b[32m250\u001b[0m\u001b[32m'\u001b[0m,\n",
       "        \u001b[32m'description'\u001b[0m: \u001b[32m'신재생에너지 정의\u001b[0m\u001b[32m(\u001b[0m\u001b[32m신재생에너지 개발 및 이용 보급촉진법 제 2조\u001b[0m\u001b[32m)\u001b[0m\u001b[32m · 신에너지 : 연료전지, 석탄 \u001b[0m\n",
       "\u001b[32m액화 및 가스화, 수소에너지\u001b[0m\u001b[32m(\u001b[0m\u001b[32m3개분야\u001b[0m\u001b[32m)\u001b[0m\u001b[32m · 재생에너지 : 태양열, 태양광발전\\xa0...'\u001b[0m\n",
       "    \u001b[1m}\u001b[0m\n",
       "\u001b[1m]\u001b[0m\n"
      ]
     },
     "metadata": {},
     "output_type": "display_data"
    }
   ],
   "source": [
    "res = crawling(query=\"신 재생 에너지\")\n",
    "print(res)"
   ]
  },
  {
   "cell_type": "markdown",
   "id": "0deebfdf-538a-4baf-9929-7dddcb47b5e7",
   "metadata": {},
   "source": [
    "---\n",
    "---"
   ]
  },
  {
   "cell_type": "markdown",
   "id": "dd754137-3f08-421d-bbf1-47377864fb12",
   "metadata": {},
   "source": [
    "\n",
    "## 2. Selenium을 활용한 크롤링 샘플 코드\n",
    "> Chrome 및 Chrom driver의 stable 버전은 [이 URL](https://googlechromelabs.github.io/chrome-for-testing/#stable) 에서 다운로드 받았습니다."
   ]
  },
  {
   "cell_type": "markdown",
   "id": "13313468-a4be-4c62-8a4f-25c4829809b5",
   "metadata": {},
   "source": [
    "#### 2-1. 리눅스용 Chrome Driver (123.0.6312.105 버전) 다운로드"
   ]
  },
  {
   "cell_type": "code",
   "execution_count": 4,
   "id": "b62c61d9-84e3-4aba-889d-85759f254850",
   "metadata": {
    "tags": []
   },
   "outputs": [
    {
     "data": {
      "text/plain": [
       "'\\n!wget https://storage.googleapis.com/chrome-for-testing-public/123.0.6312.105/linux64/chromedriver-linux64.zip\\n!unzip chrome-linux64.zip\\n'"
      ]
     },
     "execution_count": 4,
     "metadata": {},
     "output_type": "execute_result"
    }
   ],
   "source": [
    "## Chrome 드라이버 다운로드 및 설치는 필수 입니다.\n",
    "\n",
    "!wget https://storage.googleapis.com/chrome-for-testing-public/123.0.6312.105/linux64/chromedriver-linux64.zip\n",
    "\n",
    "!unzip chromedriver-linux64.zip\n"
   ]
  },
  {
   "cell_type": "code",
   "execution_count": 5,
   "id": "5160b19f-ae0f-4229-b64f-9ca31818a30b",
   "metadata": {
    "tags": []
   },
   "outputs": [
    {
     "name": "stdout",
     "output_type": "stream",
     "text": [
      "ChromeDriver 123.0.6312.105 (399174dbe6eff0f59de9a6096129c0c827002b3a-refs/branch-heads/6312@{#761})\n"
     ]
    }
   ],
   "source": [
    "# Chrome 드라이버 버전 확인\n",
    "\n",
    "!./chromedriver-linux64/chromedriver --version"
   ]
  },
  {
   "cell_type": "markdown",
   "id": "7f920194-169a-4696-bd03-fa619d166582",
   "metadata": {},
   "source": [
    "#### 2-2. Google-chome (123.0.6312.105 버전) 설치"
   ]
  },
  {
   "cell_type": "code",
   "execution_count": 6,
   "id": "afcf3bae-5f61-4e7a-bf33-f0abe0f1e007",
   "metadata": {
    "tags": []
   },
   "outputs": [
    {
     "data": {
      "text/plain": [
       "'\\n!wget https://storage.googleapis.com/chrome-for-testing-public/123.0.6312.105/linux64/chrome-linux64.zip\\n!unzip chrome-linux64.zip\\n'"
      ]
     },
     "execution_count": 6,
     "metadata": {},
     "output_type": "execute_result"
    }
   ],
   "source": [
    "## Chrome 다운로드 및 설치는 필수 입니다.\n",
    "\n",
    "!wget https://storage.googleapis.com/chrome-for-testing-public/123.0.6312.105/linux64/chrome-linux64.zip\n",
    "\n",
    "!unzip chrome-linux64.zip\n"
   ]
  },
  {
   "cell_type": "code",
   "execution_count": 7,
   "id": "8646e80d-b91e-4255-96ce-c753c31b33e1",
   "metadata": {
    "tags": []
   },
   "outputs": [
    {
     "name": "stdout",
     "output_type": "stream",
     "text": [
      "Google Chrome for Testing 123.0.6312.105 \n"
     ]
    }
   ],
   "source": [
    "# Chrome 버전 확인\n",
    "\n",
    "!./chrome-linux64/chrome --version"
   ]
  },
  {
   "cell_type": "markdown",
   "id": "a26a39ba-9bf3-4ed0-9daa-25ee43d03898",
   "metadata": {},
   "source": [
    "#### 2-3. Chrome Driver 설정"
   ]
  },
  {
   "cell_type": "code",
   "execution_count": 8,
   "id": "1b0f676a-23dd-473f-a3c4-3a5dbade06fe",
   "metadata": {
    "tags": []
   },
   "outputs": [],
   "source": [
    "from selenium import webdriver\n",
    "from selenium.webdriver.chrome.service import Service\n",
    "from selenium.webdriver.chrome.options import Options\n",
    "\n",
    "# Selenium 드라이버 옵션 설정\n",
    "chrome_options = Options()\n",
    "chrome_options.add_argument('--headless')\n",
    "chrome_options.add_argument('--no-sandbox')\n",
    "chrome_options.add_argument('--disable-dev-shm-usage')\n",
    "chrome_options.binary_location = './chrome-linux64/chrome'  # 크롬 브라우저 경로 지정\n",
    "\n",
    "# 크롬 드라이버 경로 설정\n",
    "driver_path = \"./chromedriver-linux64/chromedriver\""
   ]
  },
  {
   "cell_type": "code",
   "execution_count": 9,
   "id": "53f4eb84-e57a-462d-a545-f18b049f83cd",
   "metadata": {
    "tags": []
   },
   "outputs": [],
   "source": [
    "# 크롬 드라이버 서비스 객체 생성\n",
    "service = Service(driver_path)\n",
    "\n",
    "# 크롬 드라이버 실행\n",
    "driver = webdriver.Chrome(service=service, options=chrome_options)"
   ]
  },
  {
   "cell_type": "markdown",
   "id": "9ec56ba3-ebcd-4086-b2cd-22671d0075fd",
   "metadata": {},
   "source": [
    "#### 2-3. 크롤링 테스트"
   ]
  },
  {
   "cell_type": "code",
   "execution_count": 10,
   "id": "b5a5a157-a965-4bcc-8657-ff1a74f541a9",
   "metadata": {
    "tags": []
   },
   "outputs": [],
   "source": [
    "from bs4 import BeautifulSoup\n",
    "from rich import print\n",
    "\n",
    "# 크롤링 함수 정의\n",
    "def crawling(query):\n",
    "    # 구글 검색 URL 생성\n",
    "    url = f\"https://www.google.com/search?q={query}\"\n",
    "\n",
    "    # 웹페이지 열기\n",
    "    driver.get(url)\n",
    "\n",
    "    # HTML 소스 가져오기\n",
    "    html = driver.page_source\n",
    "\n",
    "    # HTML 파싱\n",
    "    soup = BeautifulSoup(html, \"html.parser\")\n",
    "    res = extract_results(soup)\n",
    "\n",
    "    return res\n",
    "\n",
    "\n",
    "# 파싱 함수 정의\n",
    "def extract_results(soup):\n",
    "    res = []\n",
    "    for gdiv in soup.select('.g'):\n",
    "        res.append(extract_section(gdiv))\n",
    "    return res\n",
    "\n",
    "\n",
    "def extract_section(gdiv):\n",
    "    title_div = gdiv.select_one('.yuRUbf a')\n",
    "    title = title_div.select_one('h3') if title_div else None\n",
    "\n",
    "    description_div = gdiv.select_one('.VlSpcd')\n",
    "    description_span = description_div.select_one('.aCOpRe span') if description_div else None\n",
    "    description = description_span.text if description_span else None\n",
    "\n",
    "    return {\n",
    "        'title': title.text if title else None,\n",
    "        'link': title_div['href'] if title_div else None,\n",
    "        'description': description\n",
    "    }\n",
    "\n",
    "\n",
    "def extract_href(href):\n",
    "    url = urlparse(href)\n",
    "    query = parse_qs(url.query)\n",
    "    if not ('q' in query and query['q'] and len(query['q']) > 0):\n",
    "        return None\n",
    "    return query['q'][0]"
   ]
  },
  {
   "cell_type": "code",
   "execution_count": 11,
   "id": "3b045a85-fd8c-4fcd-8844-30882edcb4a8",
   "metadata": {
    "tags": []
   },
   "outputs": [
    {
     "data": {
      "text/html": [
       "<pre style=\"white-space:pre;overflow-x:auto;line-height:normal;font-family:Menlo,'DejaVu Sans Mono',consolas,'Courier New',monospace\"><span style=\"font-weight: bold\">[</span>\n",
       "    <span style=\"font-weight: bold\">{</span>\n",
       "        <span style=\"color: #008000; text-decoration-color: #008000\">'title'</span>: <span style=\"color: #008000; text-decoration-color: #008000\">'신재생에너지(新再生에너지) - 한국민족문화대백과사전'</span>,\n",
       "        <span style=\"color: #008000; text-decoration-color: #008000\">'link'</span>: \n",
       "<span style=\"color: #008000; text-decoration-color: #008000\">'https://encykorea.aks.ac.kr/Article/E0078943#:~:text=%EC%8B%A0%EC%9E%AC%EC%83%9D%EC%97%90%EB%84%88%EC%A7%80%EB%8A%</span>\n",
       "<span style=\"color: #008000; text-decoration-color: #008000\">94%20%ED%99%94%EC%84%9D,%ED%95%98%EB%8A%94%20%EC%9E%AC%EC%83%9D%20%EA%B0%80%EB%8A%A5%ED%95%9C%20%EC%97%90%EB%84%88%</span>\n",
       "<span style=\"color: #008000; text-decoration-color: #008000\">EC%A7%80%EC%9D%B4%EB%8B%A4.'</span>,\n",
       "        <span style=\"color: #008000; text-decoration-color: #008000\">'description'</span>: <span style=\"color: #800080; text-decoration-color: #800080; font-style: italic\">None</span>\n",
       "    <span style=\"font-weight: bold\">}</span>,\n",
       "    <span style=\"font-weight: bold\">{</span>\n",
       "        <span style=\"color: #008000; text-decoration-color: #008000\">'title'</span>: <span style=\"color: #008000; text-decoration-color: #008000\">'신재생에너지(新再生에너지) - 한국민족문화대백과사전'</span>,\n",
       "        <span style=\"color: #008000; text-decoration-color: #008000\">'link'</span>: \n",
       "<span style=\"color: #008000; text-decoration-color: #008000\">'https://encykorea.aks.ac.kr/Article/E0078943#:~:text=%EC%8B%A0%EC%9E%AC%EC%83%9D%EC%97%90%EB%84%88%EC%A7%80%EB%8A%</span>\n",
       "<span style=\"color: #008000; text-decoration-color: #008000\">94%20%ED%99%94%EC%84%9D,%ED%95%98%EB%8A%94%20%EC%9E%AC%EC%83%9D%20%EA%B0%80%EB%8A%A5%ED%95%9C%20%EC%97%90%EB%84%88%</span>\n",
       "<span style=\"color: #008000; text-decoration-color: #008000\">EC%A7%80%EC%9D%B4%EB%8B%A4.'</span>,\n",
       "        <span style=\"color: #008000; text-decoration-color: #008000\">'description'</span>: <span style=\"color: #800080; text-decoration-color: #800080; font-style: italic\">None</span>\n",
       "    <span style=\"font-weight: bold\">}</span>,\n",
       "    <span style=\"font-weight: bold\">{</span><span style=\"color: #008000; text-decoration-color: #008000\">'title'</span>: <span style=\"color: #008000; text-decoration-color: #008000\">'한국에너지공단 신재생에너지센터'</span>, <span style=\"color: #008000; text-decoration-color: #008000\">'link'</span>: <span style=\"color: #008000; text-decoration-color: #008000\">'https://www.knrec.or.kr/'</span>, <span style=\"color: #008000; text-decoration-color: #008000\">'description'</span>: <span style=\"color: #800080; text-decoration-color: #800080; font-style: italic\">None</span><span style=\"font-weight: bold\">}</span>,\n",
       "    <span style=\"font-weight: bold\">{</span>\n",
       "        <span style=\"color: #008000; text-decoration-color: #008000\">'title'</span>: <span style=\"color: #008000; text-decoration-color: #008000\">'신재생에너지란 - Kepco'</span>,\n",
       "        <span style=\"color: #008000; text-decoration-color: #008000\">'link'</span>: <span style=\"color: #008000; text-decoration-color: #008000\">'https://home.kepco.co.kr/kepco/SM/C/htmlView/SMCCHP001.do?menuCd=FN29030304'</span>,\n",
       "        <span style=\"color: #008000; text-decoration-color: #008000\">'description'</span>: <span style=\"color: #800080; text-decoration-color: #800080; font-style: italic\">None</span>\n",
       "    <span style=\"font-weight: bold\">}</span>,\n",
       "    <span style=\"font-weight: bold\">{</span>\n",
       "        <span style=\"color: #008000; text-decoration-color: #008000\">'title'</span>: <span style=\"color: #008000; text-decoration-color: #008000\">'신재생에너지와 재생가능에너지, 뭐가 다르지? | 그린피스'</span>,\n",
       "        <span style=\"color: #008000; text-decoration-color: #008000\">'link'</span>: \n",
       "<span style=\"color: #008000; text-decoration-color: #008000\">\"https://www.greenpeace.org/korea/update/6956/blog-ce-re-definition-explanation/#:~:text=%EC%82%AC%EC%8B%A4%20%EC%A</span>\n",
       "<span style=\"color: #008000; text-decoration-color: #008000\">0%84%20%EC%84%B8%EA%B3%84%EC%A0%81%EC%9C%BC%EB%A1%9C%20'%EC%9E%AC%EC%83%9D,%EA%B0%80%EB%8A%A5%ED%95%9C%20%EC%97%90%</span>\n",
       "<span style=\"color: #008000; text-decoration-color: #008000\">EB%84%88%EC%A7%80'%EB%9D%BC%EB%8A%94%20%EB%9C%BB%EC%9E%85%EB%8B%88%EB%8B%A4.\"</span>,\n",
       "        <span style=\"color: #008000; text-decoration-color: #008000\">'description'</span>: <span style=\"color: #800080; text-decoration-color: #800080; font-style: italic\">None</span>\n",
       "    <span style=\"font-weight: bold\">}</span>,\n",
       "    <span style=\"font-weight: bold\">{</span>\n",
       "        <span style=\"color: #008000; text-decoration-color: #008000\">'title'</span>: <span style=\"color: #008000; text-decoration-color: #008000\">'지구를 위한 친환경에너지 신·재생에너지 - 행복지기 - 충남대학교병원'</span>,\n",
       "        <span style=\"color: #008000; text-decoration-color: #008000\">'link'</span>: \n",
       "<span style=\"color: #008000; text-decoration-color: #008000\">'http://webzine.cnuh.co.kr/2019/09/sec3/environment#:~:text=%EC%8B%A0%C2%B7%EC%9E%AC%EC%83%9D%EC%97%90%EB%84%88%EC%</span>\n",
       "<span style=\"color: #008000; text-decoration-color: #008000\">A7%80%EC%9D%98%20%EA%B0%80%EC%9E%A5,%EB%82%AE%EB%8B%A4%EB%8A%94%20%EB%8B%A8%EC%A0%90%EC%9D%B4%20%EC%9E%88%EB%8B%A4.</span>\n",
       "<span style=\"color: #008000; text-decoration-color: #008000\">'</span>,\n",
       "        <span style=\"color: #008000; text-decoration-color: #008000\">'description'</span>: <span style=\"color: #800080; text-decoration-color: #800080; font-style: italic\">None</span>\n",
       "    <span style=\"font-weight: bold\">}</span>,\n",
       "    <span style=\"font-weight: bold\">{</span>\n",
       "        <span style=\"color: #008000; text-decoration-color: #008000\">'title'</span>: <span style=\"color: #008000; text-decoration-color: #008000\">'신재생 에너지'</span>,\n",
       "        <span style=\"color: #008000; text-decoration-color: #008000\">'link'</span>: \n",
       "<span style=\"color: #008000; text-decoration-color: #008000\">'https://www.infineon.com/cms/kr/discoveries/renewable-energies/#:~:text=%EC%88%98%EB%A0%A5%20%EB%B0%9C%EC%A0%84%2C</span>\n",
       "<span style=\"color: #008000; text-decoration-color: #008000\">%20%ED%83%9C%EC%96%91%EA%B4%91%2C%20%ED%92%8D%EB%A0%A5,%EC%97%90%EB%84%88%EC%A7%80%EB%A5%BC%20%EC%83%9D%EC%82%B0%ED</span>\n",
       "<span style=\"color: #008000; text-decoration-color: #008000\">%95%A0%20%EC%88%98%20%EC%9E%88%EC%8A%B5%EB%8B%88%EB%8B%A4.'</span>,\n",
       "        <span style=\"color: #008000; text-decoration-color: #008000\">'description'</span>: <span style=\"color: #800080; text-decoration-color: #800080; font-style: italic\">None</span>\n",
       "    <span style=\"font-weight: bold\">}</span>,\n",
       "    <span style=\"font-weight: bold\">{</span>\n",
       "        <span style=\"color: #008000; text-decoration-color: #008000\">'title'</span>: <span style=\"color: #008000; text-decoration-color: #008000\">'신재생에너지 소개'</span>,\n",
       "        <span style=\"color: #008000; text-decoration-color: #008000\">'link'</span>: <span style=\"color: #008000; text-decoration-color: #008000\">'https://cyber.kepco.co.kr/ckepco/mobile/resources/resources_introduce.jsp'</span>,\n",
       "        <span style=\"color: #008000; text-decoration-color: #008000\">'description'</span>: <span style=\"color: #800080; text-decoration-color: #800080; font-style: italic\">None</span>\n",
       "    <span style=\"font-weight: bold\">}</span>,\n",
       "    <span style=\"font-weight: bold\">{</span>\n",
       "        <span style=\"color: #008000; text-decoration-color: #008000\">'title'</span>: <span style=\"color: #008000; text-decoration-color: #008000\">'신·재생에너지란?'</span>,\n",
       "        <span style=\"color: #008000; text-decoration-color: #008000\">'link'</span>: <span style=\"color: #008000; text-decoration-color: #008000\">'https://www.anyang.go.kr/main/contents.do?key=782'</span>,\n",
       "        <span style=\"color: #008000; text-decoration-color: #008000\">'description'</span>: <span style=\"color: #800080; text-decoration-color: #800080; font-style: italic\">None</span>\n",
       "    <span style=\"font-weight: bold\">}</span>,\n",
       "    <span style=\"font-weight: bold\">{</span>\n",
       "        <span style=\"color: #008000; text-decoration-color: #008000\">'title'</span>: <span style=\"color: #008000; text-decoration-color: #008000\">'재생 가능 에너지 - 위키백과, 우리 모두의 백과사전'</span>,\n",
       "        <span style=\"color: #008000; text-decoration-color: #008000\">'link'</span>: <span style=\"color: #008000; text-decoration-color: #008000\">'https://ko.wikipedia.org/wiki/%EC%9E%AC%EC%83%9D_%EA%B0%80%EB%8A%A5_%EC%97%90%EB%84%88%EC%A7%80'</span>,\n",
       "        <span style=\"color: #008000; text-decoration-color: #008000\">'description'</span>: <span style=\"color: #800080; text-decoration-color: #800080; font-style: italic\">None</span>\n",
       "    <span style=\"font-weight: bold\">}</span>,\n",
       "    <span style=\"font-weight: bold\">{</span><span style=\"color: #008000; text-decoration-color: #008000\">'title'</span>: <span style=\"color: #800080; text-decoration-color: #800080; font-style: italic\">None</span>, <span style=\"color: #008000; text-decoration-color: #008000\">'link'</span>: <span style=\"color: #800080; text-decoration-color: #800080; font-style: italic\">None</span>, <span style=\"color: #008000; text-decoration-color: #008000\">'description'</span>: <span style=\"color: #800080; text-decoration-color: #800080; font-style: italic\">None</span><span style=\"font-weight: bold\">}</span>,\n",
       "    <span style=\"font-weight: bold\">{</span>\n",
       "        <span style=\"color: #008000; text-decoration-color: #008000\">'title'</span>: <span style=\"color: #008000; text-decoration-color: #008000\">'신재생 에너지'</span>,\n",
       "        <span style=\"color: #008000; text-decoration-color: #008000\">'link'</span>: <span style=\"color: #008000; text-decoration-color: #008000\">'https://www.infineon.com/cms/kr/discoveries/renewable-energies/'</span>,\n",
       "        <span style=\"color: #008000; text-decoration-color: #008000\">'description'</span>: <span style=\"color: #800080; text-decoration-color: #800080; font-style: italic\">None</span>\n",
       "    <span style=\"font-weight: bold\">}</span>,\n",
       "    <span style=\"font-weight: bold\">{</span><span style=\"color: #008000; text-decoration-color: #008000\">'title'</span>: <span style=\"color: #008000; text-decoration-color: #008000\">'[에너지백과] 재생에너지'</span>, <span style=\"color: #008000; text-decoration-color: #008000\">'link'</span>: <span style=\"color: #008000; text-decoration-color: #008000\">'https://media.skens.com/3153'</span>, <span style=\"color: #008000; text-decoration-color: #008000\">'description'</span>: <span style=\"color: #800080; text-decoration-color: #800080; font-style: italic\">None</span><span style=\"font-weight: bold\">}</span>,\n",
       "    <span style=\"font-weight: bold\">{</span>\n",
       "        <span style=\"color: #008000; text-decoration-color: #008000\">'title'</span>: <span style=\"color: #008000; text-decoration-color: #008000\">'신재생에너지와 재생가능에너지, 뭐가 다르지?'</span>,\n",
       "        <span style=\"color: #008000; text-decoration-color: #008000\">'link'</span>: <span style=\"color: #008000; text-decoration-color: #008000\">'https://www.greenpeace.org/korea/update/6956/blog-ce-re-definition-explanation/'</span>,\n",
       "        <span style=\"color: #008000; text-decoration-color: #008000\">'description'</span>: <span style=\"color: #800080; text-decoration-color: #800080; font-style: italic\">None</span>\n",
       "    <span style=\"font-weight: bold\">}</span>\n",
       "<span style=\"font-weight: bold\">]</span>\n",
       "</pre>\n"
      ],
      "text/plain": [
       "\u001b[1m[\u001b[0m\n",
       "    \u001b[1m{\u001b[0m\n",
       "        \u001b[32m'title'\u001b[0m: \u001b[32m'신재생에너지\u001b[0m\u001b[32m(\u001b[0m\u001b[32m新再生에너지\u001b[0m\u001b[32m)\u001b[0m\u001b[32m - 한국민족문화대백과사전'\u001b[0m,\n",
       "        \u001b[32m'link'\u001b[0m: \n",
       "\u001b[32m'https://encykorea.aks.ac.kr/Article/E0078943#:~:\u001b[0m\u001b[32mtext\u001b[0m\u001b[32m=%EC%8B%A0%EC%9E%AC%EC%83%9D%EC%97%90%EB%84%88%EC%A7%80%EB%8A%\u001b[0m\n",
       "\u001b[32m94%20%ED%99%94%EC%84%9D,%ED%95%98%EB%8A%94%20%EC%9E%AC%EC%83%9D%20%EA%B0%80%EB%8A%A5%ED%95%9C%20%EC%97%90%EB%84%88%\u001b[0m\n",
       "\u001b[32mEC%A7%80%EC%9D%B4%EB%8B%A4.'\u001b[0m,\n",
       "        \u001b[32m'description'\u001b[0m: \u001b[3;35mNone\u001b[0m\n",
       "    \u001b[1m}\u001b[0m,\n",
       "    \u001b[1m{\u001b[0m\n",
       "        \u001b[32m'title'\u001b[0m: \u001b[32m'신재생에너지\u001b[0m\u001b[32m(\u001b[0m\u001b[32m新再生에너지\u001b[0m\u001b[32m)\u001b[0m\u001b[32m - 한국민족문화대백과사전'\u001b[0m,\n",
       "        \u001b[32m'link'\u001b[0m: \n",
       "\u001b[32m'https://encykorea.aks.ac.kr/Article/E0078943#:~:\u001b[0m\u001b[32mtext\u001b[0m\u001b[32m=%EC%8B%A0%EC%9E%AC%EC%83%9D%EC%97%90%EB%84%88%EC%A7%80%EB%8A%\u001b[0m\n",
       "\u001b[32m94%20%ED%99%94%EC%84%9D,%ED%95%98%EB%8A%94%20%EC%9E%AC%EC%83%9D%20%EA%B0%80%EB%8A%A5%ED%95%9C%20%EC%97%90%EB%84%88%\u001b[0m\n",
       "\u001b[32mEC%A7%80%EC%9D%B4%EB%8B%A4.'\u001b[0m,\n",
       "        \u001b[32m'description'\u001b[0m: \u001b[3;35mNone\u001b[0m\n",
       "    \u001b[1m}\u001b[0m,\n",
       "    \u001b[1m{\u001b[0m\u001b[32m'title'\u001b[0m: \u001b[32m'한국에너지공단 신재생에너지센터'\u001b[0m, \u001b[32m'link'\u001b[0m: \u001b[32m'https://www.knrec.or.kr/'\u001b[0m, \u001b[32m'description'\u001b[0m: \u001b[3;35mNone\u001b[0m\u001b[1m}\u001b[0m,\n",
       "    \u001b[1m{\u001b[0m\n",
       "        \u001b[32m'title'\u001b[0m: \u001b[32m'신재생에너지란 - Kepco'\u001b[0m,\n",
       "        \u001b[32m'link'\u001b[0m: \u001b[32m'https://home.kepco.co.kr/kepco/SM/C/htmlView/SMCCHP001.do?\u001b[0m\u001b[32mmenuCd\u001b[0m\u001b[32m=\u001b[0m\u001b[32mFN29030304\u001b[0m\u001b[32m'\u001b[0m,\n",
       "        \u001b[32m'description'\u001b[0m: \u001b[3;35mNone\u001b[0m\n",
       "    \u001b[1m}\u001b[0m,\n",
       "    \u001b[1m{\u001b[0m\n",
       "        \u001b[32m'title'\u001b[0m: \u001b[32m'신재생에너지와 재생가능에너지, 뭐가 다르지? | 그린피스'\u001b[0m,\n",
       "        \u001b[32m'link'\u001b[0m: \n",
       "\u001b[32m\"https://www.greenpeace.org/korea/update/6956/blog-ce-re-definition-explanation/#:~:\u001b[0m\u001b[32mtext\u001b[0m\u001b[32m=%EC%82%AC%EC%8B%A4%20%EC%A\u001b[0m\n",
       "\u001b[32m0%84%20%EC%84%B8%EA%B3%84%EC%A0%81%EC%9C%BC%EB%A1%9C%20'%EC%9E%AC%EC%83%9D,%EA%B0%80%EB%8A%A5%ED%95%9C%20%EC%97%90%\u001b[0m\n",
       "\u001b[32mEB%84%88%EC%A7%80'%EB%9D%BC%EB%8A%94%20%EB%9C%BB%EC%9E%85%EB%8B%88%EB%8B%A4.\"\u001b[0m,\n",
       "        \u001b[32m'description'\u001b[0m: \u001b[3;35mNone\u001b[0m\n",
       "    \u001b[1m}\u001b[0m,\n",
       "    \u001b[1m{\u001b[0m\n",
       "        \u001b[32m'title'\u001b[0m: \u001b[32m'지구를 위한 친환경에너지 신·재생에너지 - 행복지기 - 충남대학교병원'\u001b[0m,\n",
       "        \u001b[32m'link'\u001b[0m: \n",
       "\u001b[32m'http://webzine.cnuh.co.kr/2019/09/sec3/environment#:~:\u001b[0m\u001b[32mtext\u001b[0m\u001b[32m=%EC%8B%A0%C2%B7%EC%9E%AC%EC%83%9D%EC%97%90%EB%84%88%EC%\u001b[0m\n",
       "\u001b[32mA7%80%EC%9D%98%20%EA%B0%80%EC%9E%A5,%EB%82%AE%EB%8B%A4%EB%8A%94%20%EB%8B%A8%EC%A0%90%EC%9D%B4%20%EC%9E%88%EB%8B%A4.\u001b[0m\n",
       "\u001b[32m'\u001b[0m,\n",
       "        \u001b[32m'description'\u001b[0m: \u001b[3;35mNone\u001b[0m\n",
       "    \u001b[1m}\u001b[0m,\n",
       "    \u001b[1m{\u001b[0m\n",
       "        \u001b[32m'title'\u001b[0m: \u001b[32m'신재생 에너지'\u001b[0m,\n",
       "        \u001b[32m'link'\u001b[0m: \n",
       "\u001b[32m'https://www.infineon.com/cms/kr/discoveries/renewable-energies/#:~:\u001b[0m\u001b[32mtext\u001b[0m\u001b[32m=%EC%88%98%EB%A0%A5%20%EB%B0%9C%EC%A0%84%2C\u001b[0m\n",
       "\u001b[32m%20%ED%83%9C%EC%96%91%EA%B4%91%2C%20%ED%92%8D%EB%A0%A5,%EC%97%90%EB%84%88%EC%A7%80%EB%A5%BC%20%EC%83%9D%EC%82%B0%ED\u001b[0m\n",
       "\u001b[32m%95%A0%20%EC%88%98%20%EC%9E%88%EC%8A%B5%EB%8B%88%EB%8B%A4.'\u001b[0m,\n",
       "        \u001b[32m'description'\u001b[0m: \u001b[3;35mNone\u001b[0m\n",
       "    \u001b[1m}\u001b[0m,\n",
       "    \u001b[1m{\u001b[0m\n",
       "        \u001b[32m'title'\u001b[0m: \u001b[32m'신재생에너지 소개'\u001b[0m,\n",
       "        \u001b[32m'link'\u001b[0m: \u001b[32m'https://cyber.kepco.co.kr/ckepco/mobile/resources/resources_introduce.jsp'\u001b[0m,\n",
       "        \u001b[32m'description'\u001b[0m: \u001b[3;35mNone\u001b[0m\n",
       "    \u001b[1m}\u001b[0m,\n",
       "    \u001b[1m{\u001b[0m\n",
       "        \u001b[32m'title'\u001b[0m: \u001b[32m'신·재생에너지란?'\u001b[0m,\n",
       "        \u001b[32m'link'\u001b[0m: \u001b[32m'https://www.anyang.go.kr/main/contents.do?\u001b[0m\u001b[32mkey\u001b[0m\u001b[32m=\u001b[0m\u001b[32m782\u001b[0m\u001b[32m'\u001b[0m,\n",
       "        \u001b[32m'description'\u001b[0m: \u001b[3;35mNone\u001b[0m\n",
       "    \u001b[1m}\u001b[0m,\n",
       "    \u001b[1m{\u001b[0m\n",
       "        \u001b[32m'title'\u001b[0m: \u001b[32m'재생 가능 에너지 - 위키백과, 우리 모두의 백과사전'\u001b[0m,\n",
       "        \u001b[32m'link'\u001b[0m: \u001b[32m'https://ko.wikipedia.org/wiki/%EC%9E%AC%EC%83%9D_%EA%B0%80%EB%8A%A5_%EC%97%90%EB%84%88%EC%A7%80'\u001b[0m,\n",
       "        \u001b[32m'description'\u001b[0m: \u001b[3;35mNone\u001b[0m\n",
       "    \u001b[1m}\u001b[0m,\n",
       "    \u001b[1m{\u001b[0m\u001b[32m'title'\u001b[0m: \u001b[3;35mNone\u001b[0m, \u001b[32m'link'\u001b[0m: \u001b[3;35mNone\u001b[0m, \u001b[32m'description'\u001b[0m: \u001b[3;35mNone\u001b[0m\u001b[1m}\u001b[0m,\n",
       "    \u001b[1m{\u001b[0m\n",
       "        \u001b[32m'title'\u001b[0m: \u001b[32m'신재생 에너지'\u001b[0m,\n",
       "        \u001b[32m'link'\u001b[0m: \u001b[32m'https://www.infineon.com/cms/kr/discoveries/renewable-energies/'\u001b[0m,\n",
       "        \u001b[32m'description'\u001b[0m: \u001b[3;35mNone\u001b[0m\n",
       "    \u001b[1m}\u001b[0m,\n",
       "    \u001b[1m{\u001b[0m\u001b[32m'title'\u001b[0m: \u001b[32m'\u001b[0m\u001b[32m[\u001b[0m\u001b[32m에너지백과\u001b[0m\u001b[32m]\u001b[0m\u001b[32m 재생에너지'\u001b[0m, \u001b[32m'link'\u001b[0m: \u001b[32m'https://media.skens.com/3153'\u001b[0m, \u001b[32m'description'\u001b[0m: \u001b[3;35mNone\u001b[0m\u001b[1m}\u001b[0m,\n",
       "    \u001b[1m{\u001b[0m\n",
       "        \u001b[32m'title'\u001b[0m: \u001b[32m'신재생에너지와 재생가능에너지, 뭐가 다르지?'\u001b[0m,\n",
       "        \u001b[32m'link'\u001b[0m: \u001b[32m'https://www.greenpeace.org/korea/update/6956/blog-ce-re-definition-explanation/'\u001b[0m,\n",
       "        \u001b[32m'description'\u001b[0m: \u001b[3;35mNone\u001b[0m\n",
       "    \u001b[1m}\u001b[0m\n",
       "\u001b[1m]\u001b[0m\n"
      ]
     },
     "metadata": {},
     "output_type": "display_data"
    }
   ],
   "source": [
    "# 크롤링 실행\n",
    "res = crawling(query=\"신 재생 에너지\")\n",
    "print(res)"
   ]
  },
  {
   "cell_type": "code",
   "execution_count": 12,
   "id": "bf024456-d9dd-4fbb-bd6d-af95adcfc49f",
   "metadata": {
    "tags": []
   },
   "outputs": [],
   "source": [
    "# 드라이버 종료\n",
    "driver.quit()"
   ]
  },
  {
   "cell_type": "code",
   "execution_count": null,
   "id": "2a89090f-fef8-482c-87bc-e13f5e5b6140",
   "metadata": {},
   "outputs": [],
   "source": []
  }
 ],
 "metadata": {
  "kernelspec": {
   "display_name": "conda_python3",
   "language": "python",
   "name": "conda_python3"
  },
  "language_info": {
   "codemirror_mode": {
    "name": "ipython",
    "version": 3
   },
   "file_extension": ".py",
   "mimetype": "text/x-python",
   "name": "python",
   "nbconvert_exporter": "python",
   "pygments_lexer": "ipython3",
   "version": "3.10.13"
  }
 },
 "nbformat": 4,
 "nbformat_minor": 5
}
