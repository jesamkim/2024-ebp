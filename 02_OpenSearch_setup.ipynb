{
 "cells": [
  {
   "cell_type": "markdown",
   "id": "31091928-f1db-4ec6-b69c-4eb26a3e5637",
   "metadata": {},
   "source": [
    "# OpenSearch 클러스터 생성"
   ]
  },
  {
   "cell_type": "markdown",
   "id": "b229b3df-391b-4a94-83db-3bc3244fd65a",
   "metadata": {},
   "source": [
    "> 이 노트북은, SageMaker Notebook <i><b>conda_python3</b></i> 커널에서 테스트 되었습니다."
   ]
  },
  {
   "cell_type": "markdown",
   "id": "35c76651-b4ab-4cbb-b3ba-13ad92b20b19",
   "metadata": {},
   "source": [
    "#### 중요\n",
    "* OpenSearch 클러스터 생성으로 인한 \"과금\" 이 발생이 되는 부분 유념 해주시기 바랍니다."
   ]
  },
  {
   "cell_type": "code",
   "execution_count": 1,
   "id": "cebb2acf-6761-4b49-977a-bedede2d3ad4",
   "metadata": {
    "tags": []
   },
   "outputs": [],
   "source": [
    "#!pip install -r requirements.txt"
   ]
  },
  {
   "cell_type": "markdown",
   "id": "f7db920f-994a-4e4c-8d27-2dcaafefe7c1",
   "metadata": {},
   "source": [
    "## OpenSearch 도메인 생성"
   ]
  },
  {
   "cell_type": "markdown",
   "id": "b2892e40-f054-4659-a7d5-5ef22120d092",
   "metadata": {},
   "source": [
    "#### Step1. OpenSearch 콘솔로 이동 후, Navigator에서 Domain 이동 후 Create domain 선택\n",
    "![aoss-01.png](./img/aoss-01.png)"
   ]
  },
  {
   "cell_type": "markdown",
   "id": "67614536-f8c3-4f9f-a085-127d04a81c09",
   "metadata": {},
   "source": [
    "#### Step2. Domain config 세팅\n",
    "* Domain name :\n",
    "* Domain creation Method: 사용자 지정생성 (손쉬운생성 선택시 '최대 절수' 오류 발생하는 경우)\n",
    "\n",
    "![aoss-02.png](./img/aoss-02.png)\n",
    "\n",
    "* Engine options: 2.11\n",
    "\n",
    "* Network: Public access (실전에서는 VPC를 생성하여 VPC 액세스로 구성해야 합니다)\n",
    "\n",
    "![aoss-03.png](./img/aoss-03.png)\n",
    "\n",
    "* Master user: Create master user\n",
    "\n",
    "* Master username, Master password and Confirm master password 입력\n",
    "\n",
    "![aoss-04.png](./img/aoss-04.png)\n",
    "\n",
    "* 고급클러스터 > 최대절수 선택 (손쉬운 생성 오류 경우)\n",
    "\n",
    "![aoss-05.png](./img/aoss-05.png)\n",
    "\n",
    "* 오른쪽 아래 주황색 create 선택"
   ]
  },
  {
   "cell_type": "markdown",
   "id": "9499fe2d-7b19-43d5-af36-8ea279040121",
   "metadata": {},
   "source": [
    "#### Step3. Access 설정\n",
    "* 도메인 보안구성 > 편집 클릭\n",
    "\n",
    "![aoss-06.png](./img/aoss-06.png)\n",
    "\n",
    "* 도메인 수준 엑세스 정책 구성 > Effect : Allow 로 수정\n",
    "\n",
    "![aoss-07.png](./img/aoss-07.png)\n"
   ]
  },
  {
   "cell_type": "markdown",
   "id": "c51de26e-7397-4aa9-a3cf-33b053fef0ad",
   "metadata": {},
   "source": [
    "#### Step4. Domain enapoint 복사\n",
    "\n",
    "![aoss-08.png](./img/aoss-08.png)\n",
    "\n",
    "* [create_domain](https://boto3.amazonaws.com/v1/documentation/api/1.18.51/reference/services/opensearch.html#OpenSearchService.Client.create_domain)\n",
    "* It takes about 20 mins"
   ]
  },
  {
   "cell_type": "code",
   "execution_count": null,
   "id": "7a56b297-8b00-4cf4-bc6e-07c4f2d2ea59",
   "metadata": {},
   "outputs": [],
   "source": [
    "# OpenSearch Domain Endpoint 를 복사하여 아래에 붙여넣기\n",
    "\n",
    "#opensearch_domain_endpoint = \"https://search-ragopensearch-2pz3fgitugmvrz7vbngitqljzu.us-east-1.es.amazonaws.com\"\n",
    "\n",
    "opensearch_domain_endpoint = \"\""
   ]
  },
  {
   "cell_type": "code",
   "execution_count": null,
   "id": "96db6311-797f-4715-bddb-6d4d4a01b2a3",
   "metadata": {},
   "outputs": [],
   "source": [
    "http_auth = (\"raguser\", \"Passw0rd1!\") # Master username, Master password"
   ]
  },
  {
   "cell_type": "markdown",
   "id": "ae1412e2-b732-4f80-95ab-93a0fae03fa3",
   "metadata": {},
   "source": [
    "## 샘플 CSV 준비\n",
    "로컬 디렉터리에서 데이터를 읽고, langchain을 사용하여 임베딩을 생성한 다음, 임베딩을 OpenSearch에 업로드 합니다."
   ]
  },
  {
   "cell_type": "code",
   "execution_count": null,
   "id": "89a5d15c-5403-482e-8f7a-3bc49da458f4",
   "metadata": {},
   "outputs": [],
   "source": [
    "import json\n",
    "import boto3\n",
    "from langchain.document_loaders.csv_loader import CSVLoader"
   ]
  },
  {
   "cell_type": "code",
   "execution_count": null,
   "id": "9a58be46-e6a8-4754-8c2c-2096d17212ed",
   "metadata": {},
   "outputs": [],
   "source": [
    "loader = CSVLoader(\n",
    "    file_path=\"./dataset/fsi_smart_faq_ko.csv\",\n",
    "    source_column=\"Source\",\n",
    "    encoding=\"utf-8\"\n",
    ")\n",
    "context_documents = loader.load()"
   ]
  },
  {
   "cell_type": "code",
   "execution_count": null,
   "id": "1c7cf3ca-66be-42aa-a77b-81854b777096",
   "metadata": {},
   "outputs": [],
   "source": [
    "len(context_documents), context_documents[5]"
   ]
  },
  {
   "cell_type": "markdown",
   "id": "fbf7138c-1a33-4a28-8cc2-9417a79d6abc",
   "metadata": {},
   "source": [
    "## OpenSearch에 Data 입력\n",
    "\n"
   ]
  },
  {
   "cell_type": "code",
   "execution_count": null,
   "id": "9a206331-1bb6-4d12-bbfd-764ba052b056",
   "metadata": {},
   "outputs": [],
   "source": []
  },
  {
   "cell_type": "code",
   "execution_count": null,
   "id": "eeef78eb-7f74-43b7-96b9-41b455bec1ef",
   "metadata": {},
   "outputs": [],
   "source": []
  },
  {
   "cell_type": "code",
   "execution_count": null,
   "id": "d13cb5dc-1286-4b00-8002-20256677da3b",
   "metadata": {},
   "outputs": [],
   "source": []
  },
  {
   "cell_type": "code",
   "execution_count": null,
   "id": "43ea1f77-ad14-4af3-ab03-d1849b128d15",
   "metadata": {},
   "outputs": [],
   "source": []
  },
  {
   "cell_type": "code",
   "execution_count": null,
   "id": "1585d712-d4c5-4da2-9d9a-fb5546ef2ec6",
   "metadata": {},
   "outputs": [],
   "source": []
  },
  {
   "cell_type": "markdown",
   "id": "847b4c2c-5488-4bc5-9579-74ebc96b7ced",
   "metadata": {},
   "source": [
    "## OpenSearch 도메인 삭제"
   ]
  },
  {
   "cell_type": "code",
   "execution_count": null,
   "id": "d71c9271-f3e7-4d96-a68e-9cb9b3d57f92",
   "metadata": {},
   "outputs": [],
   "source": [
    "import boto3\n",
    "\n",
    "client = boto3.client('opensearch')\n",
    "\n",
    "response = client.delete_domain(\n",
    "    DomainName=opnsearch_config[\"domain\"]\n",
    ")"
   ]
  }
 ],
 "metadata": {
  "kernelspec": {
   "display_name": "conda_python3",
   "language": "python",
   "name": "conda_python3"
  },
  "language_info": {
   "codemirror_mode": {
    "name": "ipython",
    "version": 3
   },
   "file_extension": ".py",
   "mimetype": "text/x-python",
   "name": "python",
   "nbconvert_exporter": "python",
   "pygments_lexer": "ipython3",
   "version": "3.10.13"
  }
 },
 "nbformat": 4,
 "nbformat_minor": 5
}
