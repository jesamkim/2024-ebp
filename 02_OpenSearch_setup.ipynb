{
 "cells": [
  {
   "cell_type": "markdown",
   "id": "31091928-f1db-4ec6-b69c-4eb26a3e5637",
   "metadata": {},
   "source": [
    "# OpenSearch 클러스터 생성"
   ]
  },
  {
   "cell_type": "markdown",
   "id": "b229b3df-391b-4a94-83db-3bc3244fd65a",
   "metadata": {},
   "source": [
    "> 이 노트북은, SageMaker Notebook <i><b>conda_python3</b></i> 커널에서 테스트 되었습니다."
   ]
  },
  {
   "cell_type": "markdown",
   "id": "35c76651-b4ab-4cbb-b3ba-13ad92b20b19",
   "metadata": {},
   "source": [
    "#### 중요\n",
    "* OpenSearch 클러스터 생성으로 인한 \"과금\" 이 발생이 되는 부분 유념 해주시기 바랍니다.\n",
    "* SageMaker JupyterLab에서 아래 코드를 통해 OpenSearch Domain을 생성하는 경우, SageMaker Notebook IAM role에 <b>OpenSearchFullAccess 같은 권한</b>이 필요합니다."
   ]
  },
  {
   "cell_type": "code",
   "execution_count": 1,
   "id": "cebb2acf-6761-4b49-977a-bedede2d3ad4",
   "metadata": {
    "tags": []
   },
   "outputs": [],
   "source": [
    "# 필요 package 설치\n",
    "\n",
    "!pip install -r requirements.txt"
   ]
  },
  {
   "cell_type": "markdown",
   "id": "f7db920f-994a-4e4c-8d27-2dcaafefe7c1",
   "metadata": {},
   "source": [
    "## OpenSearch 도메인 생성 (콘솔에서 진행하는 경우)\n",
    "\n",
    "아래는 OpenSearch 콘솔 화면에서 UI로 도메인을 생성하는 절차 입니다.\n",
    "참고용으로만 봐주시고, 그림 설명 다음의 코드를 통해서 도메인을 생성합니다."
   ]
  },
  {
   "cell_type": "markdown",
   "id": "b2892e40-f054-4659-a7d5-5ef22120d092",
   "metadata": {},
   "source": [
    "#### Step1. OpenSearch 콘솔로 이동 후, Navigator에서 Domain 이동 후 Create domain 선택\n",
    "![aoss-01.png](./img/aoss-01.png)"
   ]
  },
  {
   "cell_type": "markdown",
   "id": "67614536-f8c3-4f9f-a085-127d04a81c09",
   "metadata": {},
   "source": [
    "#### Step2. Domain config 세팅\n",
    "* Domain name :\n",
    "* Domain creation Method: 사용자 지정생성 (손쉬운생성 선택시 '최대 절수' 오류 발생하는 경우)\n",
    "\n",
    "![aoss-02.png](./img/aoss-02.png)\n",
    "\n",
    "* Engine options: 2.11\n",
    "\n",
    "* Network: Public access (실전에서는 VPC를 생성하여 VPC 액세스로 구성해야 합니다)\n",
    "\n",
    "![aoss-03.png](./img/aoss-03.png)\n",
    "\n",
    "* Master user: Create master user\n",
    "\n",
    "* Master username, Master password and Confirm master password 입력\n",
    "\n",
    "![aoss-04.png](./img/aoss-04.png)\n",
    "\n",
    "* 고급클러스터 > 최대절수 선택 (손쉬운 생성 오류 경우)\n",
    "\n",
    "![aoss-05.png](./img/aoss-05.png)\n",
    "\n",
    "* 오른쪽 아래 주황색 create 선택"
   ]
  },
  {
   "cell_type": "markdown",
   "id": "9499fe2d-7b19-43d5-af36-8ea279040121",
   "metadata": {},
   "source": [
    "#### Step3. Access 설정\n",
    "* 도메인 보안구성 > 편집 클릭\n",
    "\n",
    "![aoss-06.png](./img/aoss-06.png)\n",
    "\n",
    "* 도메인 수준 엑세스 정책 구성 > Effect : Allow 로 수정\n",
    "\n",
    "![aoss-07.png](./img/aoss-07.png)\n"
   ]
  },
  {
   "cell_type": "markdown",
   "id": "c51de26e-7397-4aa9-a3cf-33b053fef0ad",
   "metadata": {},
   "source": [
    "#### Step4. Domain enapoint 복사\n",
    "\n",
    "![aoss-08.png](./img/aoss-08.png)\n",
    "\n",
    "* [create_domain](https://boto3.amazonaws.com/v1/documentation/api/1.18.51/reference/services/opensearch.html#OpenSearchService.Client.create_domain)\n",
    "* It takes about 20 mins"
   ]
  },
  {
   "cell_type": "markdown",
   "id": "158d5bf5-34a0-4f7e-b112-39775c92079c",
   "metadata": {},
   "source": [
    "## OpenSearch 도메인 생성 (15~20분 소요)\n",
    "\n",
    "<b>[ 중요 ]</b>\n",
    "* SageMaker JupyterLab에서 아래 코드를 통해 OpenSearch Domain을 생성하는 경우, SageMaker Notebook IAM role에 OpenSearchFullAccess와 같은 권한이 필요합니다."
   ]
  },
  {
   "cell_type": "code",
   "execution_count": 5,
   "id": "6a6cfdc8-70ce-4023-8b75-03069d3403d8",
   "metadata": {
    "tags": []
   },
   "outputs": [],
   "source": [
    "import boto3\n",
    "import uuid\n",
    "import botocore\n",
    "import time\n",
    "DEV = True # True일 경우 1-AZ without standby로 생성, False일 경우 3-AZ with standby. 워크샵 목적일 때는 지나친 과금/리소스 방지를 위해 True로 설정하는 것을 권장\n",
    "VERSION = \"2.11\" # OpenSearch Version (예: 2.7 / 2.9 / 2.11)\n",
    "\n",
    "opensearch_user_id = 'raguser'\n",
    "opensearch_user_password = 'Passw0rd1!'\n",
    "\n",
    "region = boto3.Session().region_name\n",
    "account_id = boto3.client(\"sts\").get_caller_identity()[\"Account\"]\n",
    "opensearch = boto3.client('opensearch', region)\n",
    "rand_str = uuid.uuid4().hex[:8]\n",
    "domain_name = f'rag-hol-{rand_str}'\n",
    "\n",
    "cluster_config_prod = {\n",
    "    'InstanceCount': 3,\n",
    "    'InstanceType': 'r6g.large.search',\n",
    "    'ZoneAwarenessEnabled': True,\n",
    "    'DedicatedMasterEnabled': True,\n",
    "    'MultiAZWithStandbyEnabled': True,\n",
    "    'DedicatedMasterType': 'r6g.large.search',\n",
    "    'DedicatedMasterCount': 3\n",
    "}\n",
    "\n",
    "cluster_config_dev = {\n",
    "    'InstanceCount': 1,\n",
    "    'InstanceType': 'r6g.large.search',\n",
    "    'ZoneAwarenessEnabled': False,\n",
    "    'DedicatedMasterEnabled': False,\n",
    "}\n",
    "\n",
    "\n",
    "ebs_options = {\n",
    "    'EBSEnabled': True,\n",
    "    'VolumeType': 'gp3',\n",
    "    'VolumeSize': 100,\n",
    "}\n",
    "\n",
    "advanced_security_options = {\n",
    "    'Enabled': True,\n",
    "    'InternalUserDatabaseEnabled': True,\n",
    "    'MasterUserOptions': {\n",
    "        'MasterUserName': opensearch_user_id,\n",
    "        'MasterUserPassword': opensearch_user_password\n",
    "    }\n",
    "}\n",
    "\n",
    "ap = f'{{\\\"Version\\\":\\\"2012-10-17\\\",\\\"Statement\\\":[{{\\\"Effect\\\":\\\"Allow\\\",\\\"Principal\\\":{{\\\"AWS\\\":\\\"*\\\"}},\\\"Action\\\":\\\"es:*\\\",\\\"Resource\\\":\\\"arn:aws:es:{region}:{account_id}:domain\\/{domain_name}\\/*\\\"}}]}}'\n",
    "\n",
    "if DEV:\n",
    "    cluster_config = cluster_config_dev\n",
    "else:\n",
    "    cluster_config = cluster_config_prod\n",
    "    \n",
    "response = opensearch.create_domain(\n",
    "    DomainName=domain_name,\n",
    "    EngineVersion=f'OpenSearch_{VERSION}',\n",
    "    ClusterConfig=cluster_config,\n",
    "    AccessPolicies=ap,\n",
    "    EBSOptions=ebs_options,\n",
    "    AdvancedSecurityOptions=advanced_security_options,\n",
    "    NodeToNodeEncryptionOptions={'Enabled': True},\n",
    "    EncryptionAtRestOptions={'Enabled': True},\n",
    "    DomainEndpointOptions={'EnforceHTTPS': True}\n",
    ")"
   ]
  },
  {
   "cell_type": "code",
   "execution_count": 6,
   "id": "68a06f62-25cd-4a54-96ff-0c51810c096b",
   "metadata": {
    "tags": []
   },
   "outputs": [
    {
     "name": "stdout",
     "output_type": "stream",
     "text": [
      "Creating domain...\n",
      "Creating domain...\n",
      "Creating domain...\n",
      "Creating domain...\n",
      "Creating domain...\n",
      "Creating domain...\n",
      "Creating domain...\n",
      "Creating domain...\n",
      "Creating domain...\n",
      "Creating domain...\n",
      "Creating domain...\n",
      "Creating domain...\n",
      "Creating domain...\n",
      "Creating domain...\n",
      "Creating domain...\n",
      "Creating domain...\n",
      "Domain endpoint ready to receive data: search-rag-hol-f5833a6c-oii6t4x4yosha7d62gjjelicca.us-west-2.es.amazonaws.com\n",
      "CPU times: user 281 ms, sys: 7.53 ms, total: 289 ms\n",
      "Wall time: 16min 3s\n"
     ]
    }
   ],
   "source": [
    "%%time\n",
    "def wait_for_domain_creation(domain_name):\n",
    "    try:\n",
    "        response = opensearch.describe_domain(\n",
    "            DomainName=domain_name\n",
    "        )\n",
    "        # Every 60 seconds, check whether the domain is processing.\n",
    "        while 'Endpoint' not in response['DomainStatus']:\n",
    "            print('Creating domain...')\n",
    "            time.sleep(60)\n",
    "            response = opensearch.describe_domain(\n",
    "                DomainName=domain_name)\n",
    "\n",
    "        # Once we exit the loop, the domain is ready for ingestion.\n",
    "        endpoint = response['DomainStatus']['Endpoint']\n",
    "        print('Domain endpoint ready to receive data: ' + endpoint)\n",
    "    except botocore.exceptions.ClientError as error:\n",
    "        if error.response['Error']['Code'] == 'ResourceNotFoundException':\n",
    "            print('Domain not found.')\n",
    "        else:\n",
    "            raise error\n",
    "\n",
    "# OpenSearch 도메인 생성 - 약 20분 소요\n",
    "wait_for_domain_creation(domain_name)"
   ]
  },
  {
   "cell_type": "code",
   "execution_count": 7,
   "id": "5f05035a-ad82-4e6a-8b48-fe65b9c2c36e",
   "metadata": {
    "tags": []
   },
   "outputs": [
    {
     "name": "stdout",
     "output_type": "stream",
     "text": [
      "https://search-rag-hol-f5833a6c-oii6t4x4yosha7d62gjjelicca.us-west-2.es.amazonaws.com\n"
     ]
    }
   ],
   "source": [
    "response = opensearch.describe_domain(DomainName=domain_name)\n",
    "opensearch_domain_endpoint = f\"https://{response['DomainStatus']['Endpoint']}\"\n",
    "\n",
    "# OpenSearch 도메인 Endpoint 확인\n",
    "print(opensearch_domain_endpoint)"
   ]
  },
  {
   "cell_type": "markdown",
   "id": "790f50dd-c8a3-4d93-a836-2668143f6d96",
   "metadata": {},
   "source": [
    "---"
   ]
  },
  {
   "cell_type": "code",
   "execution_count": 17,
   "id": "cd663fd8-3e31-4078-b2f7-acbce81694ef",
   "metadata": {
    "tags": []
   },
   "outputs": [
    {
     "name": "stdout",
     "output_type": "stream",
     "text": [
      "Stored 'opensearch_user_id' (str)\n",
      "Stored 'opensearch_user_password' (str)\n",
      "Stored 'domain_name' (str)\n",
      "Stored 'opensearch_domain_endpoint' (str)\n"
     ]
    }
   ],
   "source": [
    "# 다음 노트북에서 OpenSearch 연결 정보를 활용하기 위해 변수 저장\n",
    "\n",
    "%store opensearch_user_id opensearch_user_password domain_name opensearch_domain_endpoint"
   ]
  },
  {
   "cell_type": "code",
   "execution_count": null,
   "id": "4715c69b-7c03-49f5-97a1-a6c9d7597a05",
   "metadata": {},
   "outputs": [],
   "source": []
  },
  {
   "cell_type": "code",
   "execution_count": null,
   "id": "1a1098e3-c9e9-47ac-a0f6-5389b2d45296",
   "metadata": {},
   "outputs": [],
   "source": []
  },
  {
   "cell_type": "markdown",
   "id": "847b4c2c-5488-4bc5-9579-74ebc96b7ced",
   "metadata": {},
   "source": [
    "## (필요시) Clean-up : OpenSearch 도메인 삭제\n",
    "\n",
    "비용 발생을 막기 위해 OpenSearch를 사용하지 않는다면 아래의 명령어로 도메인을 삭제 합니다.<br>\n",
    "(OpenSearch 콘솔에서 직접 생성한 도메인을 선택하고 Delete를 하셔도 됩니다)"
   ]
  },
  {
   "cell_type": "code",
   "execution_count": 23,
   "id": "d71c9271-f3e7-4d96-a68e-9cb9b3d57f92",
   "metadata": {
    "tags": []
   },
   "outputs": [
    {
     "name": "stdout",
     "output_type": "stream",
     "text": [
      "Deleting domain 'rag-hol-f5833a6c'...\n",
      "Waiting for domain 'rag-hol-f5833a6c' to be deleted...\n",
      "Waiting for domain 'rag-hol-f5833a6c' to be deleted...\n",
      "Waiting for domain 'rag-hol-f5833a6c' to be deleted...\n",
      "Waiting for domain 'rag-hol-f5833a6c' to be deleted...\n",
      "Waiting for domain 'rag-hol-f5833a6c' to be deleted...\n",
      "Waiting for domain 'rag-hol-f5833a6c' to be deleted...\n",
      "Waiting for domain 'rag-hol-f5833a6c' to be deleted...\n",
      "Waiting for domain 'rag-hol-f5833a6c' to be deleted...\n",
      "Waiting for domain 'rag-hol-f5833a6c' to be deleted...\n",
      "Waiting for domain 'rag-hol-f5833a6c' to be deleted...\n",
      "Waiting for domain 'rag-hol-f5833a6c' to be deleted...\n",
      "Domain 'rag-hol-f5833a6c' has been deleted.\n"
     ]
    }
   ],
   "source": [
    "import boto3\n",
    "import botocore\n",
    "\n",
    "opensearch = boto3.client('opensearch', region)\n",
    "\n",
    "\n",
    "# 삭제할 OpenSearch 도메인 이름을 콘솔에서 확인하고 입력합니다.\n",
    "domain_name = \"rag-hol-f5833a6c\"\n",
    "\n",
    "\n",
    "try:\n",
    "    # OpenSearch 도메인 삭제\n",
    "    response = opensearch.delete_domain(\n",
    "        DomainName=domain_name\n",
    "    )\n",
    "    print(f\"Deleting domain '{domain_name}'...\")\n",
    "\n",
    "    # 도메인이 완전히 삭제될 때까지 기다립니다.\n",
    "    while True:\n",
    "        try:\n",
    "            describe_response = opensearch.describe_domain(DomainName=domain_name)\n",
    "            status = describe_response['DomainStatus']['Processing']\n",
    "            if not status:\n",
    "                print(f\"Domain '{domain_name}' has been deleted.\")\n",
    "                break\n",
    "            else:\n",
    "                print(f\"Waiting for domain '{domain_name}' to be deleted...\")\n",
    "                time.sleep(60)\n",
    "        except botocore.exceptions.ClientError as e:\n",
    "            if e.response['Error']['Code'] == 'ResourceNotFoundException':\n",
    "                print(f\"Domain '{domain_name}' has been deleted.\")\n",
    "                break\n",
    "            else:\n",
    "                raise e\n",
    "\n",
    "except botocore.exceptions.ClientError as e:\n",
    "    print(f\"Error: {e.response['Error']['Message']}\")"
   ]
  },
  {
   "cell_type": "code",
   "execution_count": null,
   "id": "f14e06d1-b8fe-4b5d-9eba-008906924260",
   "metadata": {},
   "outputs": [],
   "source": []
  }
 ],
 "metadata": {
  "kernelspec": {
   "display_name": "conda_python3",
   "language": "python",
   "name": "conda_python3"
  },
  "language_info": {
   "codemirror_mode": {
    "name": "ipython",
    "version": 3
   },
   "file_extension": ".py",
   "mimetype": "text/x-python",
   "name": "python",
   "nbconvert_exporter": "python",
   "pygments_lexer": "ipython3",
   "version": "3.10.13"
  }
 },
 "nbformat": 4,
 "nbformat_minor": 5
}
