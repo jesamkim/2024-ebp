{
 "cells": [
  {
   "cell_type": "markdown",
   "id": "fb017ab4-a16a-4c67-b875-a29eed6aa5bd",
   "metadata": {
    "tags": []
   },
   "source": [
    "# OpenSearch 한글 형태소 분석기 통한 키워드 검색 \n",
    ">이 노트북은,\n",
    "> - SageMaker Studio* **`Data Science 3.0`** kernel 및 ml.m5.large 인스턴스에서 테스트 되었습니다.\n",
    "> - SageMaker Notebook **`conda_python3`** 에서 테스트 되었습니다.\n",
    "\n",
    "\n",
    "여기서는 OpenSearch 가 설치된 것을 가정하고, 한글 형태소 분석기의 사용하는 법을 알려 드립니다.\n",
    "\n",
    "---\n",
    "\n",
    "### [중요]\n",
    "- 이 노트북은 Bedrock Titan Embedding Model 을 기본으로 사용합니다. \n",
    "- 오픈 서치 서비스가 액티브 된 상태를 가정 합니다.\n",
    "- 앞서 02_OpenSearch_setup 노트북의 clean-up 이전 부분까지 모두 완료가 되어 있어야 합니다.\n",
    "\n",
    "\n",
    "---\n",
    "## Ref: \n",
    "- [Amazon OpenSearch Service로 검색 구현하기](https://catalog.us-east-1.prod.workshops.aws/workshops/de4e38cb-a0d9-4ffe-a777-bf00d498fa49/ko-KR/indexing/blog-reindex)\n",
    "- [OpenSearch Python Client](https://opensearch.org/docs/1.3/clients/python-high-level/)\n",
    "- [OpenSearch Match, Multi-Match, and Match Phrase Queries](https://opster.com/guides/opensearch/opensearch-search-apis/opensearch-match-multi-match-and-match-phrase-queries/)\n",
    "- OpenSearch Query 에서 Filter, Must, Should, Not Mush 에 대한 설명 입니다.\n",
    "    - [OpenSearch Boolean Queries](https://opster.com/guides/opensearch/opensearch-search-apis/opensearch-boolean-queries/#:~:text=Boolean%20queries%20are%20used%20to,as%20terms%2C%20match%20and%20query_string.)\n",
    "- [OpenSearch Query Description (한글)](https://esbook.kimjmin.net/05-search)\n"
   ]
  },
  {
   "cell_type": "code",
   "execution_count": null,
   "id": "47f2e524",
   "metadata": {},
   "outputs": [],
   "source": []
  },
  {
   "cell_type": "markdown",
   "id": "8a2f9c19-c43c-435c-944d-77984b54a6d8",
   "metadata": {},
   "source": [
    "## 1. 환경 세팅"
   ]
  },
  {
   "cell_type": "code",
   "execution_count": 1,
   "id": "6a20ae24-5c42-4e67-b2cb-8db675e180bc",
   "metadata": {
    "tags": []
   },
   "outputs": [],
   "source": [
    "import boto3\n",
    "region = boto3.Session().region_name\n",
    "opensearch = boto3.client('opensearch', region)\n",
    "\n",
    "%store -r opensearch_user_id opensearch_user_password domain_name opensearch_domain_endpoint\n",
    "\n",
    "try:\n",
    "    opensearch_user_id\n",
    "    opensearch_user_password\n",
    "    domain_name\n",
    "    opensearch_domain_endpoint\n",
    "   \n",
    "except NameError:\n",
    "    print(\"++++++++++++++++++++++++++++++++++++++++++++++++++++++++++++++++++++++++++++\")\n",
    "    print(\"[ERROR] Run 00_setup notebook first or Create Your Own OpenSearch Domain\")\n",
    "    print(\"++++++++++++++++++++++++++++++++++++++++++++++++++++++++++++++++++++++++++++\")"
   ]
  },
  {
   "cell_type": "code",
   "execution_count": 2,
   "id": "787df0f0-7fd9-47ca-a0c3-91b3037d6a10",
   "metadata": {
    "tags": []
   },
   "outputs": [],
   "source": [
    "%load_ext autoreload\n",
    "%autoreload 2"
   ]
  },
  {
   "cell_type": "code",
   "execution_count": 3,
   "id": "96f9fe12-b9a7-4536-ae00-8127e829e684",
   "metadata": {
    "tags": []
   },
   "outputs": [
    {
     "name": "stdout",
     "output_type": "stream",
     "text": [
      "Stored variables and their in-db values:\n",
      "domain_name                            -> 'ebp-poc-all'\n",
      "opensearch_domain_endpoint             -> 'https://search-ebp-poc-all-uw3oqtjpbgjeg4tbb5pf3i\n",
      "opensearch_user_id                     -> 'raguser'\n",
      "opensearch_user_password               -> 'Passw0rd1!'\n"
     ]
    }
   ],
   "source": [
    "%store"
   ]
  },
  {
   "cell_type": "markdown",
   "id": "950cf3b9-26a3-4096-a6e4-4b9a39d2e82f",
   "metadata": {
    "tags": []
   },
   "source": [
    "### Bedrock Client 생성"
   ]
  },
  {
   "cell_type": "code",
   "execution_count": 4,
   "id": "e7e9a4a1-ba92-422a-96b3-c52e0b826b47",
   "metadata": {
    "tags": []
   },
   "outputs": [
    {
     "name": "stdout",
     "output_type": "stream",
     "text": [
      "[('Titan Text Large', 'amazon.titan-tg1-large'),\n",
      " ('Titan Text Embeddings v2', 'amazon.titan-embed-g1-text-02'),\n",
      " ('Titan Text G1 - Lite', 'amazon.titan-text-lite-v1'),\n",
      " ('Titan Text G1 - Express', 'amazon.titan-text-express-v1'),\n",
      " ('Titan Embeddings G1 - Text', 'amazon.titan-embed-text-v1'),\n",
      " ('Titan Multimodal Embeddings G1', 'amazon.titan-embed-image-v1'),\n",
      " ('Titan Image Generator G1', 'amazon.titan-image-generator-v1'),\n",
      " ('SDXL 0.8', 'stability.stable-diffusion-xl'),\n",
      " ('SDXL 0.8', 'stability.stable-diffusion-xl-v0'),\n",
      " ('SDXL 1.0', 'stability.stable-diffusion-xl-v1'),\n",
      " ('J2 Grande Instruct', 'ai21.j2-grande-instruct'),\n",
      " ('J2 Jumbo Instruct', 'ai21.j2-jumbo-instruct'),\n",
      " ('Jurassic-2 Mid', 'ai21.j2-mid'),\n",
      " ('Jurassic-2 Mid', 'ai21.j2-mid-v1'),\n",
      " ('Jurassic-2 Ultra', 'ai21.j2-ultra'),\n",
      " ('Jurassic-2 Ultra', 'ai21.j2-ultra-v1'),\n",
      " ('Claude Instant', 'anthropic.claude-instant-v1'),\n",
      " ('Claude', 'anthropic.claude-v2:1'),\n",
      " ('Claude', 'anthropic.claude-v2'),\n",
      " ('Claude 3 Sonnet', 'anthropic.claude-3-sonnet-20240229-v1:0'),\n",
      " ('Claude 3 Haiku', 'anthropic.claude-3-haiku-20240307-v1:0'),\n",
      " ('Command', 'cohere.command-text-v14'),\n",
      " ('Command Light', 'cohere.command-light-text-v14'),\n",
      " ('Embed English', 'cohere.embed-english-v3'),\n",
      " ('Embed Multilingual', 'cohere.embed-multilingual-v3'),\n",
      " ('Llama 2 Chat 13B', 'meta.llama2-13b-chat-v1'),\n",
      " ('Llama 2 Chat 70B', 'meta.llama2-70b-chat-v1'),\n",
      " ('Mistral 7B Instruct', 'mistral.mistral-7b-instruct-v0:2'),\n",
      " ('Mixtral 8x7B Instruct', 'mistral.mixtral-8x7b-instruct-v0:1'),\n",
      " ('Mistral Large', 'mistral.mistral-large-2402-v1:0')]\n"
     ]
    }
   ],
   "source": [
    "import boto3\n",
    "import os\n",
    "import json\n",
    "from botocore.config import Config\n",
    "import botocore \n",
    "from pprint import pprint\n",
    "from termcolor import colored\n",
    "\n",
    "session = boto3.Session()\n",
    "\n",
    "retry_config = Config(\n",
    "    region_name=os.environ.get(\"AWS_DEFAULT_REGION\", None),\n",
    "    retries={\n",
    "        \"max_attempts\": 10,\n",
    "        \"mode\": \"standard\",\n",
    "    },\n",
    ")\n",
    "\n",
    "# modelId = \"anthropic.claude-instant-v1\"  # (Change this to try different model versions)\n",
    "modelId = \"anthropic.claude-3-sonnet-20240229-v1:0\"\n",
    "accept = \"application/json\"\n",
    "contentType = \"application/json\"\n",
    "\n",
    "bedrock = boto3.client(service_name='bedrock')\n",
    "boto3_bedrock = boto3.client(service_name='bedrock-runtime',config=retry_config)\n",
    "\n",
    "model_list = bedrock.list_foundation_models()\n",
    "result = [(fm_list[\"modelName\"], fm_list[\"modelId\"]) for fm_list in model_list[\"modelSummaries\"] if fm_list['inferenceTypesSupported'] == ['ON_DEMAND']]\n",
    "pprint(result)"
   ]
  },
  {
   "cell_type": "markdown",
   "id": "7ec7b1ce-4407-4164-b28e-84cfde5f32f7",
   "metadata": {
    "tags": []
   },
   "source": [
    "## 2. Titan Embedding 및 LLM 인 Claude-3 sonnet 모델 로딩"
   ]
  },
  {
   "cell_type": "markdown",
   "id": "f4292e3a-e33e-469d-b73d-3904919ab08b",
   "metadata": {},
   "source": [
    "### LLM 로딩 (Claude-v3 sonnet)"
   ]
  },
  {
   "cell_type": "code",
   "execution_count": 5,
   "id": "bc5d7ac7-f528-4ed3-a855-cdd519ddc17b",
   "metadata": {
    "tags": []
   },
   "outputs": [],
   "source": [
    "from langchain_community.chat_models import BedrockChat\n",
    "from langchain_core.messages import HumanMessage\n",
    "from langchain.callbacks.streaming_stdout import StreamingStdOutCallbackHandler"
   ]
  },
  {
   "cell_type": "code",
   "execution_count": 6,
   "id": "97b6ae65-4225-431f-a2c7-52fb22e814ed",
   "metadata": {
    "tags": []
   },
   "outputs": [
    {
     "data": {
      "text/plain": [
       "BedrockChat(client=<botocore.client.BedrockRuntime object at 0x7fa8692edc00>, region_name='us-west-2', model_id='anthropic.claude-3-sonnet-20240229-v1:0', model_kwargs={'anthropic_version': 'bedrock-2023-05-31', 'max_tokens': 4096, 'temperature': 0, 'top_k': 350, 'top_p': 0.999}, streaming=True, callbacks=[<langchain_core.callbacks.streaming_stdout.StreamingStdOutCallbackHandler object at 0x7fa88e390280>])"
      ]
     },
     "execution_count": 6,
     "metadata": {},
     "output_type": "execute_result"
    }
   ],
   "source": [
    "llm_text = BedrockChat(\n",
    "    model_id=modelId,\n",
    "    streaming=True,\n",
    "    callbacks=[StreamingStdOutCallbackHandler()],\n",
    "    model_kwargs={\n",
    "        \"anthropic_version\": \"bedrock-2023-05-31\",\n",
    "        \"max_tokens\": 4096,\n",
    "        \"temperature\" : 0,\n",
    "        \"top_k\": 350,\n",
    "        \"top_p\": 0.999\n",
    "    }\n",
    ")\n",
    "llm_text"
   ]
  },
  {
   "cell_type": "code",
   "execution_count": 7,
   "id": "0687e49d-2e95-4c17-acc8-b3d7949e0676",
   "metadata": {
    "tags": []
   },
   "outputs": [
    {
     "name": "stdout",
     "output_type": "stream",
     "text": [
      "생명보험과 손해보험은 보험의 주요 유형으로 다음과 같은 차이점이 있습니다.\n",
      "\n",
      "1. 보장 대상\n",
      "- 생명보험은 사람의 생명과 관련된 위험을 보장합니다. 예를 들어 사망, 상해, 질병 등을 대상으로 합니다.\n",
      "- 손해보험은 재산상의 손해나 배상책임을 보장합니다. 예를 들어 화재, 자동차사고, 배상책임 등을 대상으로 합니다.\n",
      "\n",
      "2. 보험금 지급 사유\n",
      "- 생명보험은 피보험자의 사망, 상해, 질병 등 인적 위험이 발생했을 때 보험금을 지급합니다.\n",
      "- 손해보험은 재물의 손해나 제3자에 대한 배상책임이 발생했을 때 실제 입은 손해를 보상합니다.\n",
      "\n",
      "3. 보험기간\n",
      "- 생명보험은 일반적으로 장기계약이며, 종신보험의 경우 피보험자 종신까지 보장됩니다.\n",
      "- 손해보험은 단기계약이 일반적이며, 1년 만기로 갱신하는 경우가 많습니다.\n",
      "\n",
      "4. 보험료 산정 기준\n",
      "- 생명보험료는 피보험자의 나이, 건강상태, 가입금액 등에 따라 결정됩니다.\n",
      "- 손해보험료는 보험목적물의 가액, 위험률, 보상한도 등에 따라 결정됩니다.\n",
      "\n",
      "요약하면 생명보험은 개인의 생명과 관련된 위험을 장기적으로 보장하고, 손해보험은 재산상 손해나 배상책임을 단기적으로 보상하는 차이가 있습니다."
     ]
    }
   ],
   "source": [
    "prompt1 = \"나는 인공지능 AI 보험 서비스입니다. 생명과 손해 보험의 차이에 대해 설명해 주세요.\"\n",
    "messages = [\n",
    "    HumanMessage(content=prompt1)\n",
    "]\n",
    "\n",
    "# messages = [\n",
    "#     {\"role\": \"user\", \"content\": [{\"type\": \"text\", \"text\": prompt1}]},\n",
    "# ]\n",
    "\n",
    "response1 = llm_text.invoke(messages)"
   ]
  },
  {
   "cell_type": "markdown",
   "id": "16b9ad47-56b6-427d-84a6-4e792bf4f6f9",
   "metadata": {},
   "source": [
    "### Embedding 모델 선택"
   ]
  },
  {
   "cell_type": "code",
   "execution_count": 8,
   "id": "65afde2a-097b-4a00-82e4-e7bab6e2a4d1",
   "metadata": {
    "tags": []
   },
   "outputs": [],
   "source": [
    "from langchain_community.embeddings import BedrockEmbeddings\n",
    "\n",
    "llm_emb = BedrockEmbeddings(\n",
    "    client=boto3_bedrock,\n",
    "    # model_id=\"cohere.embed-multilingual-v3\"\n",
    "    model_id=\"amazon.titan-embed-g1-text-02\"\n",
    ")"
   ]
  },
  {
   "cell_type": "markdown",
   "id": "160f25b2-8b20-4b57-bc66-bf2b6004cc1c",
   "metadata": {
    "tags": []
   },
   "source": [
    "-------------------"
   ]
  },
  {
   "cell_type": "markdown",
   "id": "a8b8090d-f864-4419-bf20-8135914c0876",
   "metadata": {
    "tags": []
   },
   "source": [
    "## 3. OpenSearch 벡터 Index 생성\n",
    "### 선수 조건\n",
    "- 랭체인 오프서처 참고 자료\n",
    "    - [Langchain Opensearch](https://python.langchain.com/docs/integrations/vectorstores/opensearch)"
   ]
  },
  {
   "cell_type": "markdown",
   "id": "3a6c5796-a418-4505-ba28-0ca33c3fa9f8",
   "metadata": {},
   "source": [
    "### 오픈 서치 인덱스 유무에 따라 삭제\n",
    "오픈 서치에 해당 인덱스가 존재하면, 삭제 합니다. "
   ]
  },
  {
   "cell_type": "code",
   "execution_count": 9,
   "id": "b441a96e-6a2b-42d2-8b27-db78d5dd97d1",
   "metadata": {
    "tags": []
   },
   "outputs": [],
   "source": [
    "from opensearchpy import OpenSearch, RequestsHttpConnection\n",
    "http_auth = (opensearch_user_id, opensearch_user_password)\n",
    "os_client = OpenSearch(\n",
    "            hosts=[\n",
    "                {'host': opensearch_domain_endpoint.replace(\"https://\", \"\"),\n",
    "                 'port': 443\n",
    "                }\n",
    "            ],\n",
    "            http_auth=http_auth, # Master username, Master password,\n",
    "            use_ssl=True,\n",
    "            verify_certs=True,\n",
    "            connection_class=RequestsHttpConnection\n",
    "        )"
   ]
  },
  {
   "cell_type": "markdown",
   "id": "56ac0292-f3fc-4ef7-a00d-becee90f0dec",
   "metadata": {
    "tags": []
   },
   "source": [
    "### index 생성"
   ]
  },
  {
   "cell_type": "code",
   "execution_count": 10,
   "id": "818bec59-9f17-4250-b133-a82767d79657",
   "metadata": {
    "scrolled": true,
    "tags": []
   },
   "outputs": [
    {
     "name": "stdout",
     "output_type": "stream",
     "text": [
      "Index does not exist\n"
     ]
    }
   ],
   "source": [
    "index_name = \"ebp-poc-all-index\"\n",
    "exists = os_client.indices.exists(index_name)\n",
    "\n",
    "if exists:\n",
    "    os_client.indices.delete(index=index_name)\n",
    "    print(\"Index is deleted\")\n",
    "else:\n",
    "    print(\"Index does not exist\")"
   ]
  },
  {
   "cell_type": "code",
   "execution_count": 11,
   "id": "25ad62cb-22ff-4031-b301-0baec1e5608d",
   "metadata": {
    "tags": []
   },
   "outputs": [
    {
     "name": "stdout",
     "output_type": "stream",
     "text": [
      "{\n",
      "  \"settings\": {\n",
      "    \"index.knn\": true,\n",
      "    \"index.knn.algo_param.ef_search\": 512\n",
      "  },\n",
      "  \"mappings\": {\n",
      "    \"properties\": {\n",
      "      \"metadata\": {\n",
      "        \"properties\": {\n",
      "          \"source\": {\n",
      "            \"type\": \"keyword\"\n",
      "          },\n",
      "          \"type\": {\n",
      "            \"type\": \"keyword\"\n",
      "          },\n",
      "          \"timestamp\": {\n",
      "            \"type\": \"date\"\n",
      "          }\n",
      "        }\n",
      "      },\n",
      "      \"vector_field\": {\n",
      "        \"type\": \"knn_vector\",\n",
      "        \"dimension\": 1536,\n",
      "        \"method\": {\n",
      "          \"engine\": \"faiss\",\n",
      "          \"name\": \"hnsw\",\n",
      "          \"parameters\": {\n",
      "            \"ef_construction\": 512,\n",
      "            \"m\": 16\n",
      "          },\n",
      "          \"space_type\": \"l2\"\n",
      "        }\n",
      "      }\n",
      "    }\n",
      "  }\n",
      "}\n"
     ]
    }
   ],
   "source": [
    "## metadata, text, vector_field 의 네이밍은 langchain에서 지정된 이름\n",
    "### model에 따라 dimension 사이즈 변경 필요 (Titan : 1536, Cohere : 1024)\n",
    "import json\n",
    "\n",
    "with open('index_body_simple.json', 'r') as f:\n",
    "    index_body = json.load(f)\n",
    "\n",
    "print(json.dumps(index_body, indent=2))\n"
   ]
  },
  {
   "cell_type": "code",
   "execution_count": 12,
   "id": "66746526-4e79-4e41-a985-79697b5bb8ec",
   "metadata": {
    "tags": []
   },
   "outputs": [
    {
     "data": {
      "text/plain": [
       "{'acknowledged': True,\n",
       " 'shards_acknowledged': True,\n",
       " 'index': 'ebp-poc-all-index'}"
      ]
     },
     "execution_count": 12,
     "metadata": {},
     "output_type": "execute_result"
    }
   ],
   "source": [
    "os_client.indices.create(index_name, body=index_body)"
   ]
  },
  {
   "cell_type": "code",
   "execution_count": 13,
   "id": "bb4971b6-777d-48a1-82dd-668a38e48587",
   "metadata": {
    "tags": []
   },
   "outputs": [
    {
     "name": "stdout",
     "output_type": "stream",
     "text": [
      "CPU times: user 7.44 ms, sys: 0 ns, total: 7.44 ms\n",
      "Wall time: 12.2 ms\n"
     ]
    }
   ],
   "source": [
    "%%time\n",
    "from langchain_community.vectorstores import OpenSearchVectorSearch\n",
    "\n",
    "vector_db = OpenSearchVectorSearch(\n",
    "    index_name=index_name,\n",
    "    opensearch_url=opensearch_domain_endpoint,\n",
    "    embedding_function=llm_emb,\n",
    "    http_auth=http_auth, # http_auth\n",
    ")"
   ]
  },
  {
   "cell_type": "markdown",
   "id": "8c7070c1-8640-40cb-969d-1bc1a413d3f2",
   "metadata": {
    "tags": []
   },
   "source": [
    "## 4. 데이터 준비\n"
   ]
  },
  {
   "cell_type": "code",
   "execution_count": 14,
   "id": "4a1407db-0f63-4a57-aa15-0c430b9bae13",
   "metadata": {
    "tags": []
   },
   "outputs": [],
   "source": [
    "import time\n",
    "from langchain_community.document_loaders import PDFPlumberLoader\n",
    "from langchain_community.document_loaders import PyMuPDFLoader\n",
    "from langchain_community.document_loaders import PyPDFium2Loader\n",
    "\n",
    "\n",
    "from langchain_core.documents import Document\n",
    "\n",
    "# from llmsherpa.readers import LayoutPDFReader"
   ]
  },
  {
   "cell_type": "code",
   "execution_count": 15,
   "id": "919c614e-aa36-499b-90e3-e29ad81c853e",
   "metadata": {
    "tags": []
   },
   "outputs": [
    {
     "data": {
      "text/plain": [
       "['./all/2020_국제_신재생에너지_정책변화_및_시장분석.pdf',\n",
       " './all/2022_국제_신재생에너지_정책변화_및_시장분석.pdf',\n",
       " './all/2021_국제_신재생에너지_정책변화_및_시장분석.pdf']"
      ]
     },
     "execution_count": 15,
     "metadata": {},
     "output_type": "execute_result"
    }
   ],
   "source": [
    "import glob\n",
    "\n",
    "data_path = './all/*'\n",
    "pdf_list = glob.glob(data_path)\n",
    "pdf_list"
   ]
  },
  {
   "cell_type": "code",
   "execution_count": 16,
   "id": "7552675a-8803-40b4-a637-30a9b498ecfd",
   "metadata": {
    "tags": []
   },
   "outputs": [],
   "source": [
    "from multiprocessing.pool import ThreadPool\n",
    "from multiprocessing import  Manager\n",
    "\n",
    "import pdfplumber"
   ]
  },
  {
   "cell_type": "code",
   "execution_count": 17,
   "id": "a85823bc-5171-49fb-a06c-d10ad5672f25",
   "metadata": {
    "tags": []
   },
   "outputs": [],
   "source": [
    "import re\n",
    "\n",
    "def prune_text(text, current_pdf_file):\n",
    "\n",
    "    def replace_cid(match):\n",
    "        print(f\"Please check PDF file {current_pdf_file} : {match}\")\n",
    "        ascii_num = int(match.group(1))\n",
    "        try:\n",
    "            return chr(ascii_num)\n",
    "        except:\n",
    "            return ''  # In case of conversion failure, return empty string\n",
    "\n",
    "    # Regular expression to find all (cid:x) patterns\n",
    "    cid_pattern = re.compile(r'\\(cid:(\\d+)\\)')\n",
    "    pruned_text = re.sub(cid_pattern, replace_cid, text)\n",
    "    return pruned_text"
   ]
  },
  {
   "cell_type": "code",
   "execution_count": 18,
   "id": "5887b6a5-4c82-4123-b152-3e990357fb3a",
   "metadata": {
    "tags": []
   },
   "outputs": [],
   "source": [
    "from datetime import datetime\n",
    "\n",
    "def read_pdf(param):\n",
    "    vector_db = param[0]\n",
    "    current_pdf_file = param[1]\n",
    "    print(f\"current_pdf_file : {current_pdf_file}\")\n",
    "    docs = []\n",
    "    source_name = current_pdf_file.split('/')[-1]\n",
    "    type_name = source_name.split('_')[0]\n",
    "    \n",
    "    with pdfplumber.open(current_pdf_file) as pdf:\n",
    "        for page_number, page in enumerate(pdf.pages, start=1):\n",
    "            page_text = page.extract_text()\n",
    "            if page_text:\n",
    "                pruned_text = prune_text(page_text, current_pdf_file)\n",
    "            else:\n",
    "                pruned_text = \"\"\n",
    "            if len(pruned_text) >= 20:  ## 임의로 20 이상인 sentence만 뽑도록 함\n",
    "                chunk = Document(\n",
    "                    page_content=pruned_text.replace('\\n',' '),\n",
    "                    metadata={\n",
    "                        \"source\" : source_name,\n",
    "                        \"type\": type_name,\n",
    "                        \"timestamp\": datetime.now()\n",
    "                    }\n",
    "                )\n",
    "                #print(f\"chunk : {chunk}\")\n",
    "                docs.append(chunk)\n",
    "    if len(docs) > 0 :\n",
    "        vector_db.add_documents(docs)"
   ]
  },
  {
   "cell_type": "code",
   "execution_count": 19,
   "id": "ef3f90ea-85b1-4066-8260-42bf3df14cb0",
   "metadata": {
    "tags": []
   },
   "outputs": [
    {
     "name": "stdout",
     "output_type": "stream",
     "text": [
      "num of process : 3\n",
      "current_pdf_file : ./all/2020_국제_신재생에너지_정책변화_및_시장분석.pdf\n",
      "current_pdf_file : ./all/2022_국제_신재생에너지_정책변화_및_시장분석.pdf\n",
      "current_pdf_file : ./all/2021_국제_신재생에너지_정책변화_및_시장분석.pdf\n",
      "Please check PDF file ./all/2021_국제_신재생에너지_정책변화_및_시장분석.pdf : <re.Match object; span=(43, 54), match='(cid:48823)'>\n",
      "Please check PDF file ./all/2021_국제_신재생에너지_정책변화_및_시장분석.pdf : <re.Match object; span=(70, 81), match='(cid:48824)'>\n",
      "Please check PDF file ./all/2021_국제_신재생에너지_정책변화_및_시장분석.pdf : <re.Match object; span=(147, 158), match='(cid:48823)'>\n",
      "Please check PDF file ./all/2021_국제_신재생에너지_정책변화_및_시장분석.pdf : <re.Match object; span=(180, 191), match='(cid:48824)'>\n",
      "Please check PDF file ./all/2021_국제_신재생에너지_정책변화_및_시장분석.pdf : <re.Match object; span=(224, 235), match='(cid:48823)'>\n",
      "Please check PDF file ./all/2021_국제_신재생에너지_정책변화_및_시장분석.pdf : <re.Match object; span=(271, 282), match='(cid:48824)'>\n",
      "Please check PDF file ./all/2021_국제_신재생에너지_정책변화_및_시장분석.pdf : <re.Match object; span=(343, 354), match='(cid:48823)'>\n",
      "Please check PDF file ./all/2021_국제_신재생에너지_정책변화_및_시장분석.pdf : <re.Match object; span=(371, 382), match='(cid:48824)'>\n",
      "Please check PDF file ./all/2021_국제_신재생에너지_정책변화_및_시장분석.pdf : <re.Match object; span=(400, 411), match='(cid:48823)'>\n",
      "Please check PDF file ./all/2021_국제_신재생에너지_정책변화_및_시장분석.pdf : <re.Match object; span=(437, 448), match='(cid:48824)'>\n",
      "Please check PDF file ./all/2021_국제_신재생에너지_정책변화_및_시장분석.pdf : <re.Match object; span=(466, 477), match='(cid:48823)'>\n",
      "Please check PDF file ./all/2021_국제_신재생에너지_정책변화_및_시장분석.pdf : <re.Match object; span=(492, 503), match='(cid:48824)'>\n",
      "Please check PDF file ./all/2021_국제_신재생에너지_정책변화_및_시장분석.pdf : <re.Match object; span=(520, 531), match='(cid:48823)'>\n",
      "Please check PDF file ./all/2021_국제_신재생에너지_정책변화_및_시장분석.pdf : <re.Match object; span=(542, 553), match='(cid:48824)'>\n",
      "Please check PDF file ./all/2021_국제_신재생에너지_정책변화_및_시장분석.pdf : <re.Match object; span=(574, 585), match='(cid:48823)'>\n",
      "Please check PDF file ./all/2021_국제_신재생에너지_정책변화_및_시장분석.pdf : <re.Match object; span=(622, 633), match='(cid:48824)'>\n",
      "Please check PDF file ./all/2021_국제_신재생에너지_정책변화_및_시장분석.pdf : <re.Match object; span=(679, 690), match='(cid:48823)'>\n",
      "Please check PDF file ./all/2021_국제_신재생에너지_정책변화_및_시장분석.pdf : <re.Match object; span=(718, 729), match='(cid:48824)'>\n",
      "Please check PDF file ./all/2021_국제_신재생에너지_정책변화_및_시장분석.pdf : <re.Match object; span=(742, 753), match='(cid:48823)'>\n",
      "Please check PDF file ./all/2021_국제_신재생에너지_정책변화_및_시장분석.pdf : <re.Match object; span=(799, 810), match='(cid:48824)'>\n",
      "Please check PDF file ./all/2021_국제_신재생에너지_정책변화_및_시장분석.pdf : <re.Match object; span=(862, 873), match='(cid:48823)'>\n",
      "Please check PDF file ./all/2021_국제_신재생에너지_정책변화_및_시장분석.pdf : <re.Match object; span=(892, 903), match='(cid:48824)'>\n",
      "Please check PDF file ./all/2021_국제_신재생에너지_정책변화_및_시장분석.pdf : <re.Match object; span=(940, 951), match='(cid:48823)'>\n",
      "Please check PDF file ./all/2021_국제_신재생에너지_정책변화_및_시장분석.pdf : <re.Match object; span=(979, 990), match='(cid:48824)'>\n",
      "Please check PDF file ./all/2021_국제_신재생에너지_정책변화_및_시장분석.pdf : <re.Match object; span=(1017, 1028), match='(cid:48823)'>\n",
      "Please check PDF file ./all/2021_국제_신재생에너지_정책변화_및_시장분석.pdf : <re.Match object; span=(1054, 1065), match='(cid:48824)'>\n",
      "Please check PDF file ./all/2021_국제_신재생에너지_정책변화_및_시장분석.pdf : <re.Match object; span=(19, 30), match='(cid:48823)'>\n",
      "Please check PDF file ./all/2021_국제_신재생에너지_정책변화_및_시장분석.pdf : <re.Match object; span=(65, 76), match='(cid:48824)'>\n",
      "Please check PDF file ./all/2021_국제_신재생에너지_정책변화_및_시장분석.pdf : <re.Match object; span=(112, 123), match='(cid:48823)'>\n",
      "Please check PDF file ./all/2021_국제_신재생에너지_정책변화_및_시장분석.pdf : <re.Match object; span=(151, 162), match='(cid:48824)'>\n",
      "Please check PDF file ./all/2021_국제_신재생에너지_정책변화_및_시장분석.pdf : <re.Match object; span=(187, 198), match='(cid:48823)'>\n",
      "Please check PDF file ./all/2021_국제_신재생에너지_정책변화_및_시장분석.pdf : <re.Match object; span=(232, 243), match='(cid:48824)'>\n",
      "Please check PDF file ./all/2021_국제_신재생에너지_정책변화_및_시장분석.pdf : <re.Match object; span=(261, 272), match='(cid:48823)'>\n",
      "Please check PDF file ./all/2021_국제_신재생에너지_정책변화_및_시장분석.pdf : <re.Match object; span=(305, 316), match='(cid:48824)'>\n",
      "Please check PDF file ./all/2021_국제_신재생에너지_정책변화_및_시장분석.pdf : <re.Match object; span=(355, 366), match='(cid:48823)'>\n",
      "Please check PDF file ./all/2021_국제_신재생에너지_정책변화_및_시장분석.pdf : <re.Match object; span=(387, 398), match='(cid:48824)'>\n",
      "Please check PDF file ./all/2021_국제_신재생에너지_정책변화_및_시장분석.pdf : <re.Match object; span=(416, 427), match='(cid:48823)'>\n",
      "Please check PDF file ./all/2021_국제_신재생에너지_정책변화_및_시장분석.pdf : <re.Match object; span=(450, 461), match='(cid:48824)'>\n",
      "Please check PDF file ./all/2021_국제_신재생에너지_정책변화_및_시장분석.pdf : <re.Match object; span=(480, 491), match='(cid:48823)'>\n",
      "Please check PDF file ./all/2021_국제_신재생에너지_정책변화_및_시장분석.pdf : <re.Match object; span=(514, 525), match='(cid:48824)'>\n",
      "Please check PDF file ./all/2021_국제_신재생에너지_정책변화_및_시장분석.pdf : <re.Match object; span=(544, 555), match='(cid:48823)'>\n",
      "Please check PDF file ./all/2021_국제_신재생에너지_정책변화_및_시장분석.pdf : <re.Match object; span=(567, 578), match='(cid:48824)'>\n",
      "Please check PDF file ./all/2021_국제_신재생에너지_정책변화_및_시장분석.pdf : <re.Match object; span=(604, 615), match='(cid:48823)'>\n",
      "Please check PDF file ./all/2021_국제_신재생에너지_정책변화_및_시장분석.pdf : <re.Match object; span=(627, 638), match='(cid:48824)'>\n",
      "Please check PDF file ./all/2021_국제_신재생에너지_정책변화_및_시장분석.pdf : <re.Match object; span=(664, 675), match='(cid:48823)'>\n",
      "Please check PDF file ./all/2021_국제_신재생에너지_정책변화_및_시장분석.pdf : <re.Match object; span=(687, 698), match='(cid:48824)'>\n",
      "Please check PDF file ./all/2021_국제_신재생에너지_정책변화_및_시장분석.pdf : <re.Match object; span=(724, 735), match='(cid:48823)'>\n",
      "Please check PDF file ./all/2021_국제_신재생에너지_정책변화_및_시장분석.pdf : <re.Match object; span=(747, 758), match='(cid:48824)'>\n",
      "Please check PDF file ./all/2021_국제_신재생에너지_정책변화_및_시장분석.pdf : <re.Match object; span=(784, 795), match='(cid:48823)'>\n",
      "Please check PDF file ./all/2021_국제_신재생에너지_정책변화_및_시장분석.pdf : <re.Match object; span=(807, 818), match='(cid:48824)'>\n",
      "Please check PDF file ./all/2021_국제_신재생에너지_정책변화_및_시장분석.pdf : <re.Match object; span=(846, 857), match='(cid:48823)'>\n",
      "Please check PDF file ./all/2021_국제_신재생에너지_정책변화_및_시장분석.pdf : <re.Match object; span=(891, 902), match='(cid:48824)'>\n",
      "Please check PDF file ./all/2021_국제_신재생에너지_정책변화_및_시장분석.pdf : <re.Match object; span=(962, 973), match='(cid:48823)'>\n",
      "Please check PDF file ./all/2021_국제_신재생에너지_정책변화_및_시장분석.pdf : <re.Match object; span=(1008, 1019), match='(cid:48824)'>\n",
      "Please check PDF file ./all/2021_국제_신재생에너지_정책변화_및_시장분석.pdf : <re.Match object; span=(1036, 1047), match='(cid:48823)'>\n",
      "Please check PDF file ./all/2021_국제_신재생에너지_정책변화_및_시장분석.pdf : <re.Match object; span=(1061, 1072), match='(cid:48824)'>\n",
      "Please check PDF file ./all/2021_국제_신재생에너지_정책변화_및_시장분석.pdf : <re.Match object; span=(1090, 1101), match='(cid:48823)'>\n",
      "Please check PDF file ./all/2021_국제_신재생에너지_정책변화_및_시장분석.pdf : <re.Match object; span=(1122, 1133), match='(cid:48824)'>\n",
      "Please check PDF file ./all/2021_국제_신재생에너지_정책변화_및_시장분석.pdf : <re.Match object; span=(1167, 1178), match='(cid:48823)'>\n",
      "Please check PDF file ./all/2021_국제_신재생에너지_정책변화_및_시장분석.pdf : <re.Match object; span=(1211, 1222), match='(cid:48824)'>\n",
      "Please check PDF file ./all/2021_국제_신재생에너지_정책변화_및_시장분석.pdf : <re.Match object; span=(33, 44), match='(cid:48823)'>\n",
      "Please check PDF file ./all/2021_국제_신재생에너지_정책변화_및_시장분석.pdf : <re.Match object; span=(80, 91), match='(cid:48824)'>\n",
      "Please check PDF file ./all/2021_국제_신재생에너지_정책변화_및_시장분석.pdf : <re.Match object; span=(174, 185), match='(cid:48823)'>\n",
      "Please check PDF file ./all/2021_국제_신재생에너지_정책변화_및_시장분석.pdf : <re.Match object; span=(206, 217), match='(cid:48824)'>\n"
     ]
    }
   ],
   "source": [
    "manager = Manager()\n",
    "result_dict = manager.dict()\n",
    "\n",
    "# ml.m5.xlarge에서 multiprocessing으로 동작 확인\n",
    "param = [(vector_db, current_pdf_file)for current_pdf_file in pdf_list]\n",
    "\n",
    "num_processes = len(pdf_list)%os.cpu_count()\n",
    "\n",
    "if num_processes == 0 :\n",
    "    num_processes = os.cpu_count() - 1\n",
    "\n",
    "print(f\"num of process : {num_processes}\")\n",
    "\n",
    "with ThreadPool(processes=num_processes) as pool:\n",
    "    pool.map(read_pdf, param)\n",
    "    pool.close()\n",
    "    pool.join()"
   ]
  },
  {
   "cell_type": "markdown",
   "id": "fae62975-2e46-44e7-97e4-c14c2bfa632f",
   "metadata": {},
   "source": [
    "### OpenSearch에 생성된 인덱스의 구성 확인"
   ]
  },
  {
   "cell_type": "code",
   "execution_count": 20,
   "id": "14827f89-c54b-440d-ab7f-5bb22eefc313",
   "metadata": {
    "tags": []
   },
   "outputs": [
    {
     "name": "stdout",
     "output_type": "stream",
     "text": [
      "{\n",
      "  \"ebp-poc-all-index\": {\n",
      "    \"aliases\": {},\n",
      "    \"mappings\": {\n",
      "      \"properties\": {\n",
      "        \"metadata\": {\n",
      "          \"properties\": {\n",
      "            \"source\": {\n",
      "              \"type\": \"keyword\"\n",
      "            },\n",
      "            \"timestamp\": {\n",
      "              \"type\": \"date\"\n",
      "            },\n",
      "            \"type\": {\n",
      "              \"type\": \"keyword\"\n",
      "            }\n",
      "          }\n",
      "        },\n",
      "        \"text\": {\n",
      "          \"type\": \"text\",\n",
      "          \"fields\": {\n",
      "            \"keyword\": {\n",
      "              \"type\": \"keyword\",\n",
      "              \"ignore_above\": 256\n",
      "            }\n",
      "          }\n",
      "        },\n",
      "        \"vector_field\": {\n",
      "          \"type\": \"knn_vector\",\n",
      "          \"dimension\": 1536,\n",
      "          \"method\": {\n",
      "            \"engine\": \"faiss\",\n",
      "            \"space_type\": \"l2\",\n",
      "            \"name\": \"hnsw\",\n",
      "            \"parameters\": {\n",
      "              \"ef_construction\": 512,\n",
      "              \"m\": 16\n",
      "            }\n",
      "          }\n",
      "        }\n",
      "      }\n",
      "    },\n",
      "    \"settings\": {\n",
      "      \"index\": {\n",
      "        \"replication\": {\n",
      "          \"type\": \"DOCUMENT\"\n",
      "        },\n",
      "        \"number_of_shards\": \"5\",\n",
      "        \"knn.algo_param\": {\n",
      "          \"ef_search\": \"512\"\n",
      "        },\n",
      "        \"provided_name\": \"ebp-poc-all-index\",\n",
      "        \"knn\": \"true\",\n",
      "        \"creation_date\": \"1713142815680\",\n",
      "        \"number_of_replicas\": \"1\",\n",
      "        \"uuid\": \"wI1JdDXwQ_KxGhS0HIpncA\",\n",
      "        \"version\": {\n",
      "          \"created\": \"136327827\"\n",
      "        }\n",
      "      }\n",
      "    }\n",
      "  }\n",
      "}\n"
     ]
    }
   ],
   "source": [
    "index_info = os_client.indices.get(index=index_name)\n",
    "print(json.dumps(index_info, indent=2))"
   ]
  },
  {
   "cell_type": "markdown",
   "id": "ed402bb8-497d-4da6-8a1b-02de77133251",
   "metadata": {},
   "source": [
    "## 5. 어휘를 기반으로 한 전문(full-text) 검색 - Lexical Search\n",
    "\n",
    "> query의 문장은 Nori 형태소 분석기에 의해 형태소로 분리됨\n",
    "> OpenSearch에 입력된 (PDF에서 추출한) 문장(청크)들과 BM25 알고리즘을 기반으로 가장 유사한(score가 높은) 값부터 상위 (k=5)개의 결과가 나타남  "
   ]
  },
  {
   "cell_type": "code",
   "execution_count": 21,
   "id": "2305c9b8-4c14-4e81-b741-91f59506d7c3",
   "metadata": {
    "tags": []
   },
   "outputs": [],
   "source": [
    "from opensearch_dsl import Search"
   ]
  },
  {
   "cell_type": "code",
   "execution_count": 22,
   "id": "32fcdd61-8910-4509-bebc-1e3ab0484fb2",
   "metadata": {
    "tags": []
   },
   "outputs": [],
   "source": [
    "def result_to_dataframe(response):\n",
    "    import pandas as pd\n",
    "\n",
    "    pd.set_option('display.max_columns', 150)\n",
    "    pd.set_option('display.max_colwidth', None)\n",
    "\n",
    "    result = []\n",
    "    for res in response['hits']['hits']:\n",
    "        # print(res.keys())\n",
    "        result.append([res['_index'], round(res['_score'], 4), res['_source']['metadata']['type'], res['_source']['text']])\n",
    "    df = pd.DataFrame(result, columns=['index_name', 'score', 'type', 'text'])\n",
    "    return df.style.set_properties(**{'text-align': 'left'})"
   ]
  },
  {
   "cell_type": "code",
   "execution_count": 23,
   "id": "585b3c8c-ed62-418a-b178-1a9ef450c421",
   "metadata": {
    "tags": []
   },
   "outputs": [],
   "source": [
    "def query_lexical(query, filter=[], k=5):\n",
    "    QUERY_TEMPLATE = {\n",
    "        \"size\": k,\n",
    "        \"query\": {\n",
    "            \"bool\": {\n",
    "                \"must\": [\n",
    "                    {\n",
    "                        \"match\": {\n",
    "                            \"text\": query\n",
    "                        }\n",
    "                    }\n",
    "                ],\n",
    "                \"filter\": filter\n",
    "            }\n",
    "        }\n",
    "    }\n",
    "    if len(filter) > 0:\n",
    "        QUERY_TEMPLATE[\"query\"][\"bool\"][\"filter\"].extend(filter)\n",
    "    return QUERY_TEMPLATE"
   ]
  },
  {
   "cell_type": "code",
   "execution_count": 24,
   "id": "cc6ef235-38d2-46f6-9731-e497afe694ae",
   "metadata": {
    "tags": []
   },
   "outputs": [
    {
     "name": "stdout",
     "output_type": "stream",
     "text": [
      "검색에 걸린 시간:  86 ms\n",
      "<<사용자 입력 쿼리 문장>>:  2020년 LCOE 값을 알려줘.\n"
     ]
    },
    {
     "data": {
      "text/html": [
       "<style type=\"text/css\">\n",
       "#T_daff6_row0_col0, #T_daff6_row0_col1, #T_daff6_row0_col2, #T_daff6_row0_col3, #T_daff6_row1_col0, #T_daff6_row1_col1, #T_daff6_row1_col2, #T_daff6_row1_col3, #T_daff6_row2_col0, #T_daff6_row2_col1, #T_daff6_row2_col2, #T_daff6_row2_col3, #T_daff6_row3_col0, #T_daff6_row3_col1, #T_daff6_row3_col2, #T_daff6_row3_col3, #T_daff6_row4_col0, #T_daff6_row4_col1, #T_daff6_row4_col2, #T_daff6_row4_col3 {\n",
       "  text-align: left;\n",
       "}\n",
       "</style>\n",
       "<table id=\"T_daff6\">\n",
       "  <thead>\n",
       "    <tr>\n",
       "      <th class=\"blank level0\" >&nbsp;</th>\n",
       "      <th id=\"T_daff6_level0_col0\" class=\"col_heading level0 col0\" >index_name</th>\n",
       "      <th id=\"T_daff6_level0_col1\" class=\"col_heading level0 col1\" >score</th>\n",
       "      <th id=\"T_daff6_level0_col2\" class=\"col_heading level0 col2\" >type</th>\n",
       "      <th id=\"T_daff6_level0_col3\" class=\"col_heading level0 col3\" >text</th>\n",
       "    </tr>\n",
       "  </thead>\n",
       "  <tbody>\n",
       "    <tr>\n",
       "      <th id=\"T_daff6_level0_row0\" class=\"row_heading level0 row0\" >0</th>\n",
       "      <td id=\"T_daff6_row0_col0\" class=\"data row0 col0\" >ebp-poc-all-index</td>\n",
       "      <td id=\"T_daff6_row0_col1\" class=\"data row0 col1\" >8.486300</td>\n",
       "      <td id=\"T_daff6_row0_col2\" class=\"data row0 col2\" >2021</td>\n",
       "      <td id=\"T_daff6_row0_col3\" class=\"data row0 col3\" >2. 재생에너지원별 가격 동향 2.1. 원별 균등화발전비용(LCOE)42) 2020년은 코로나19로 인한 전 세계적인 영향을 받았으나 재생에너지 보급 비용 이 하락하는 추세에는 큰 영향을 주지 못하였다. 2020년 균등화발전비용(levelized cost of electricity, 이하 LCOE)를 보면 전년 대비 태양광은 7% 하락하였고, 해상 풍력과 육상풍력은 각각 9%, 13% 하락하였다. 집광형 태양열발전(Concentrated Solar Power, 이하 CSP)은 상대적으로 적은 보급이지만 가장 많은 16%의 가격하 락을 보였다([그림 2-27]). [그림 2-27] 유틸리티급 재생에너지 원별 LCOE 변화(2019~2020년) 주: CSP의 경우 2018~2020년 연평균 변화율임. 자료: IRENA(2021b), p.25. 재생에너지 비용은 태양광과 풍력의 경우 기술의 발전, 규모의 경제, 가치사슬의 경쟁, 개발사의 경험 축적 등으로 지난 10년간 급속히 하락하였다. 가장 비용이 많이 하락한 태양광의 경우 LCOE는 2010년 $0.381/kWh에서 2020년 $0.057/kWh로 85% 하락하였다. 육상풍력과 해상풍력 비용도 빠르게 하락하였는데 육상풍력의 경 우 동기간 $0.089/kWh에서 $0.039/kWh로 56%, 해상풍력은 $0.162 /kWh에서 $0.084/kWh로 48% 하락한 것으로 나타났다. CSP의 경우 보급이 많지 않지만 비 42) LCOE는 발전량 한 단위당 평균 발전비용으로 발전시설 운영 총비용의 현재 값을 총발전량의 현재 값으로 나누어 계산함. 26</td>\n",
       "    </tr>\n",
       "    <tr>\n",
       "      <th id=\"T_daff6_level0_row1\" class=\"row_heading level0 row1\" >1</th>\n",
       "      <td id=\"T_daff6_row1_col0\" class=\"data row1 col0\" >ebp-poc-all-index</td>\n",
       "      <td id=\"T_daff6_row1_col1\" class=\"data row1 col1\" >6.560200</td>\n",
       "      <td id=\"T_daff6_row1_col2\" class=\"data row1 col2\" >2021</td>\n",
       "      <td id=\"T_daff6_row1_col3\" class=\"data row1 col3\" >는 것이다. 동기간 육상풍력의 학습률은 32%, 해상풍력의 학습률은 15%에 이른 다.44) [그림 2-28]은 유틸리티급 재생에너지 원별 LCOE 추세를 연도별로 보여주는 것 이다. 가장 비용이 많이 하락한 태양광의 경우 추세가 안정적으로 매년 하락하였음 이 눈에 띈다. 그림에서 회색밴드는 화석연료 발전비용 범위를 나타내는 것으로 LCOE 범위가 회색밴드에 포함될 경우, 해당 재생에너지원의 발전비용이 화석연료 발전비용 범위 내에 속하게 되는 것으로 화석연료와 비교하여 경쟁력을 갖춘 것으 로 해석할 수 있다. 2020년 현재 모든 재생에너지원의 LCOE가 화석연료 발전비용 범위 내에 들어와서, 재생에너지원은 이미 화석연료 대비 가격 경쟁력을 갖춘 것으 로 볼 수 있다. 특히 육상풍력의 경우 화석연료 발전비용 최저보다 낮은 수준이다. [그림 2-28] 유릴리티급 재생에너지 원별 LCOE 변화(2010~2020년) 자료: IRENA(2021b), p.33. 44) 자료: IRENA(2021b), p.19. 28</td>\n",
       "    </tr>\n",
       "    <tr>\n",
       "      <th id=\"T_daff6_level0_row2\" class=\"row_heading level0 row2\" >2</th>\n",
       "      <td id=\"T_daff6_row2_col0\" class=\"data row2 col0\" >ebp-poc-all-index</td>\n",
       "      <td id=\"T_daff6_row2_col1\" class=\"data row2 col1\" >5.815600</td>\n",
       "      <td id=\"T_daff6_row2_col2\" class=\"data row2 col2\" >2022</td>\n",
       "      <td id=\"T_daff6_row2_col3\" class=\"data row2 col3\" >1.3. 재생에너지원별 균등화발전비용(LCOE)8) IRENA(2022)에 따르면 2021년에는 원자재와 물류비용 상승 등의 이슈가 있었 지만, 태양광, 육상풍력, 해상풍력 등의 비용 하락 추세는 유지되었다. 태양광은 부품 가격이 상승하였지만 균등화발전비용(Levelized Cost of Electricity, 이하 LCOE) 하락 추세에는 큰 영향을 미치지 못하였고, 육상풍력은 전년대비 이용율이 크게 개 선되면서 비용이 하락하였다.9) 2021년 LCOE를 보면 태양광은 전년대비 13% 감소 하였고, 해상풍력은 13%, 육상풍력은 15% 감소하였지만, CSP(Concentrating solar power)는 7% 증가하였다.10) CSP는 전세계적으로 3건의 설비가 가동 개시 되었는데, 이중 칠레의 CSP 설비가 건설 지연으로 비용이 증가하여 2010년~2015년 사이에 개발된 프로젝트와 비용이 비슷한 수준을 보였다.11) 재생에너지 비용은 지난 11년 동안 지열과 수력을 제외하고 모두 감소하면서, 재 생에너지원 모두 화석발전 비용과 비교하여 경쟁력을 갖춘 것으로 나타났다([그림 2-9]). LCOE가 가장 많이 하락한 에너지원은 태양광으로, 2010년 $0.417/kWh에 서 2021년 $0.048/kWh로 88% 하락하였다. 2021년 육상풍력 LCOE는 $0.033/kWh, 해상풍력은 $0.075/kWh로 지난 11년 동안 각각 68%와 60% 하락 한 반면, 지열과 수력의 LCOE는 각각 $0.068/kWh, $0.048/kWh로 지난 11년동 안 34%와 24% 상승하였다. 바이오는 지난 11년 동안 가격 분산이 감소하고 있으 나 상승이나 하락 등의 추세는 관측되지 않았다(<표 2-1>). 여기서 태양광과 육상풍 력의 가격하락은 기술개발의 이유가 가장 크고, 해상풍력은 최근 중국의 해상풍력 발전설비 설치 비중이 2021년 82%까지 증가함에 따라 중국의 상황이 대폭 반영된 특징이 있다.12) 2021년 원자재 가격은 상승하였지만 태양광과 육상풍력 LCOE가 하락할 수 있었 던 이유는 다음과 같다. 첫째, 원자재 가격 상승은 2020년 하반기에서 2021년 상 반기에 이루어졌으며, 2021년 가동개시된 설비는 원자재 가격 상승 이전에 건설되 었을 가능성이 높다. 특히 유럽 외 지역에서 건설된 대규모 프로젝트들은 구매력이 8) LCOE는 발전량 한 단위당 평균 발전비용으로 발전시설 운영 총비용의 현재 값을 총발전량의 현재 값으로 나누어 계산함(공지영· 조일현, 2021, p.26) 9) IRENA(2022), p.16. 10) 전게서, p.16. 11) 다만 해당 설비는 대규모 설비이므로 LCOE는 2건의 중국 CSP 설비에 비해 약간 높은 수준에 그쳤음(IRENA, 2022, p.33) 12) IRENA(2022), pp.30~31. 12</td>\n",
       "    </tr>\n",
       "    <tr>\n",
       "      <th id=\"T_daff6_level0_row3\" class=\"row_heading level0 row3\" >3</th>\n",
       "      <td id=\"T_daff6_row3_col0\" class=\"data row3 col0\" >ebp-poc-all-index</td>\n",
       "      <td id=\"T_daff6_row3_col1\" class=\"data row3 col1\" >5.585500</td>\n",
       "      <td id=\"T_daff6_row3_col2\" class=\"data row3 col2\" >2022</td>\n",
       "      <td id=\"T_daff6_row3_col3\" class=\"data row3 col3\" ><표 4-2> 변수 설명 변수명 설명 출처 전체 발전설비 용량 중 태양광, 풍력, 수력, 재생에너지 비중 Enerdata 조력, 지열, 바이오매스 발전 용량 비중 전체 발전설비 용량 중 태양광, 풍력 발전 변동성 재생에너지 비중 Enerdata 용량 비중 FiT/FiP 제도 시행시 1의 값을 갖는 FiT/FiP REN21, BNEF 더미변수 RPS RPS 제도 시행시 1의 값을 갖는 더미변수 REN21, BNEF 경매 경매제도 시행시 1의 값을 갖는 더미변수 REN21, BNEF 제조업 비중 GDP에서 제조업이 차지하는 비중 World Bank GDP per cap 1인당 GDP(2015년 US dollar) World Bank 금융발전도 GDP 대비 민간신용 비중 World Bank 석탄, 원유, 천연가스, 광물 및 임업제품의 천연자원 지대 비중 World Bank 지대가 GDP에서 차지하는 비중 BP Statistical Review of 전력 순수출량이 0보다 큰 경우 1의 값을 해외 계통연계 World Energy & 갖는 더미변수 Ember156) CO2 per cap 1인당 CO2 배출량 World Bank 국가 면적 국가 면적 World Bank 156) Our World in Data에서 BP Statistical Review of World Energy와 Ember 자료를 가공한 데이터를 활용함. 78</td>\n",
       "    </tr>\n",
       "    <tr>\n",
       "      <th id=\"T_daff6_level0_row4\" class=\"row_heading level0 row4\" >4</th>\n",
       "      <td id=\"T_daff6_row4_col0\" class=\"data row4 col0\" >ebp-poc-all-index</td>\n",
       "      <td id=\"T_daff6_row4_col1\" class=\"data row4 col1\" >5.581000</td>\n",
       "      <td id=\"T_daff6_row4_col2\" class=\"data row4 col2\" >2021</td>\n",
       "      <td id=\"T_daff6_row4_col3\" class=\"data row4 col3\" >제2장 국제 신재생에너지 보급 및 가격 동향 [그림 2-32] BNEF 추정 LCOE 변화(2010~2020년) 자료: BNEF(2021g), p.4. 2.2. 지역별 LCOE 오늘날 전 세계 인구의 2/3가 육상 풍력 또는 대규모 태양광(또는 둘 다)이 가장 저렴한 신규 대규모 전력원인 국가에 거주하고 있다. 하지만 여전히 일본, 한국, 인 도네시아, 말레이시아, 필리핀은 석탄이 가장 저렴한 신규 대규모 발전원이다([그림 2-33]). 기존 화석연료 전원의 한계 비용(기존 설비 운영)을 비교했을 때도 중국, 인 도, 독일, 프랑스, 이탈리아, 스페인, 포르투갈, 그리스의 경우 현재 기존 화석연료 발전소(석탄 및 가스)를 가동하는 것보다 신규 대규모 태양광을 건설하는 것이 더 저렴하고, 스웨덴 영국, 네덜란드, 폴란드, 모로코, 브라질의 경우 육상 풍력 건설이 더 저렴하다([그림 2-34]). 특히 2020년 하반기 이후 유럽 대부분 지역에서 신규 태 양광, 풍력이 기존 화석연료 한계비용보다 더 낮은 LCOE를 달성하였다. 이는 태양 광과 풍력 비용하락뿐 아니라 2021년 석탄 및 가스를 포함한 원자재 가격이 상승하 면서 화석연료 한계비용이 증가한 것도 원인이다.48) 48) BNEF(2021g). p.16. 31</td>\n",
       "    </tr>\n",
       "  </tbody>\n",
       "</table>\n"
      ],
      "text/plain": [
       "<pandas.io.formats.style.Styler at 0x7fa7f7de3370>"
      ]
     },
     "execution_count": 24,
     "metadata": {},
     "output_type": "execute_result"
    }
   ],
   "source": [
    "query = \"2020년 LCOE 값을 알려줘.\"\n",
    "\n",
    "response_lexical_only = os_client.search(\n",
    "    body=query_lexical(query),\n",
    "    index=index_name\n",
    ")\n",
    "\n",
    "time_took_lexical_only = response_lexical_only['took']\n",
    "print('검색에 걸린 시간: ', time_took_lexical_only, 'ms')\n",
    "\n",
    "print(\"<<사용자 입력 쿼리 문장>>: \", query)\n",
    "\n",
    "result_to_dataframe(response_lexical_only)"
   ]
  },
  {
   "cell_type": "markdown",
   "id": "d99ac1ed-abe4-40f1-b9c8-048e7b379217",
   "metadata": {},
   "source": [
    "### 결과값에 매칭되는 Term 확인"
   ]
  },
  {
   "cell_type": "markdown",
   "id": "eb698a69-2cb4-4db6-a01d-9b88a3814c00",
   "metadata": {},
   "source": [
    "BM25 알고리즘에 의해 스코어링이 되고, PDF에서 추출된 문장(chunk)에서 어떤 term들과 매칭되었는지를 확인하려면 아래의 코드를 실행합니다. 아래 쿼리는 결과값에 매칭되는 term을 강조할 수 있도록 html 태그를 추가합니다."
   ]
  },
  {
   "cell_type": "code",
   "execution_count": 25,
   "id": "ded7a543-d108-4710-9902-04920bf9fdab",
   "metadata": {
    "tags": []
   },
   "outputs": [],
   "source": [
    "def query_lexical_with_highlight(query, filter=[], k=5):\n",
    "    QUERY_TEMPLATE = {\n",
    "        \"size\": k,\n",
    "        \"query\": {\n",
    "            \"bool\": {\n",
    "                \"must\": [\n",
    "                    {\n",
    "                        \"match\": {\n",
    "                            \"text\": query\n",
    "                        }\n",
    "                    }\n",
    "                ],\n",
    "                \"filter\": filter\n",
    "            }\n",
    "        },\n",
    "        \"highlight\": {\n",
    "            \"pre_tags\": [\n",
    "                \"<span style='color:red'>\"\n",
    "            ],\n",
    "            \"post_tags\": [\n",
    "                \"</span>\"\n",
    "            ],\n",
    "            \"fields\": {\n",
    "                \"text\": {}\n",
    "            }\n",
    "        }\n",
    "    }\n",
    "    if len(filter) > 0:\n",
    "        QUERY_TEMPLATE[\"query\"][\"bool\"][\"filter\"].extend(filter)\n",
    "    return QUERY_TEMPLATE\n",
    "\n",
    "response_lexical_with_highlight = os_client.search(\n",
    "    body=query_lexical_with_highlight(query),\n",
    "    index=index_name\n",
    ")\n"
   ]
  },
  {
   "cell_type": "code",
   "execution_count": 26,
   "id": "02e75f3c-3b74-432f-abfb-6d7ff048cfbf",
   "metadata": {
    "tags": []
   },
   "outputs": [
    {
     "name": "stdout",
     "output_type": "stream",
     "text": [
      "<<사용자 입력 쿼리 문장>>:  2020년 LCOE 값을 알려줘.\n"
     ]
    },
    {
     "data": {
      "text/html": [
       "<table border=\"1\" class=\"dataframe\">\n",
       "  <thead>\n",
       "    <tr style=\"text-align: right;\">\n",
       "      <th></th>\n",
       "      <th>score</th>\n",
       "      <th>각 문서(chuck) 내에서 매칭된 부분</th>\n",
       "    </tr>\n",
       "  </thead>\n",
       "  <tbody>\n",
       "    <tr>\n",
       "      <th>0</th>\n",
       "      <td>8.486279</td>\n",
       "      <td>[원별 균등화발전비용(<span style='color:red'>LCOE</span>)42) 2020년은 코로나19로 인한 전 세계적인 영향을 받았으나 재생에너지 보급 비용 이 하락하는 추세에는 큰 영향을 주지 못하였다. <span style='color:red'>2020년</span> 균등화발전비용, (levelized cost of electricity, 이하 <span style='color:red'>LCOE</span>)를 보면 전년 대비 태양광은 7% 하락하였고, 해상 풍력과 육상풍력은 각각 9%, 13% 하락하였다., [그림 2-27] 유틸리티급 재생에너지 원별 <span style='color:red'>LCOE</span> 변화(2019~<span style='color:red'>2020년</span>) 주: CSP의 경우 2018~<span style='color:red'>2020년</span> 연평균 변화율임., 가장 비용이 많이 하락한 태양광의 경우 LCOE는 2010년 $0.381/kWh에서 <span style='color:red'>2020년</span> $0.057/kWh로 85% 하락하였다., CSP의 경우 보급이 많지 않지만 비 42) LCOE는 발전량 한 단위당 평균 발전비용으로 발전시설 운영 총비용의 현재 <span style='color:red'>값을</span> 총발전량의 현재 값으로 나누어 계산함. 26]</td>\n",
       "    </tr>\n",
       "    <tr>\n",
       "      <th>1</th>\n",
       "      <td>6.560203</td>\n",
       "      <td>[동기간 육상풍력의 학습률은 32%, 해상풍력의 학습률은 15%에 이른 다.44) [그림 2-28]은 유틸리티급 재생에너지 원별 <span style='color:red'>LCOE</span> 추세를 연도별로 보여주는 것 이다., 그림에서 회색밴드는 화석연료 발전비용 범위를 나타내는 것으로 <span style='color:red'>LCOE</span> 범위가 회색밴드에 포함될 경우, 해당 재생에너지원의 발전비용이 화석연료 발전비용 범위 내에 속하게 되는 것으로, 화석연료와 비교하여 경쟁력을 갖춘 것으 로 해석할 수 있다. <span style='color:red'>2020년</span> 현재 모든 재생에너지원의 LCOE가 화석연료 발전비용 범위 내에 들어와서, 재생에너지원은 이미 화석연료 대비, [그림 2-28] 유릴리티급 재생에너지 원별 <span style='color:red'>LCOE</span> 변화(2010~<span style='color:red'>2020년</span>) 자료: IRENA(2021b), p.33. 44) 자료: IRENA(2021b), p.19. 28]</td>\n",
       "    </tr>\n",
       "    <tr>\n",
       "      <th>2</th>\n",
       "      <td>5.815553</td>\n",
       "      <td>[재생에너지원별 균등화발전비용(<span style='color:red'>LCOE</span>)8) IRENA(2022)에 따르면 2021년에는 원자재와 물류비용 상승 등의 이슈가 있었 지만, 태양광, 육상풍력, 해상풍력 등의 비용 하락, 태양광은 부품 가격이 상승하였지만 균등화발전비용(Levelized Cost of Electricity, 이하 <span style='color:red'>LCOE</span>) 하락 추세에는 큰 영향을 미치지 못하였고, 육상풍력은 전년대비, 첫째, 원자재 가격 상승은 <span style='color:red'>2020년</span> 하반기에서 2021년 상 반기에 이루어졌으며, 2021년 가동개시된 설비는 원자재 가격 상승 이전에 건설되 었을 가능성이 높다., 특히 유럽 외 지역에서 건설된 대규모 프로젝트들은 구매력이 8) LCOE는 발전량 한 단위당 평균 발전비용으로 발전시설 운영 총비용의 현재 <span style='color:red'>값을</span> 총발전량의 현재 값으로 나누어 계산함]</td>\n",
       "    </tr>\n",
       "    <tr>\n",
       "      <th>3</th>\n",
       "      <td>5.585457</td>\n",
       "      <td>[Enerdata 조력, 지열, 바이오매스 발전 용량 비중 전체 발전설비 용량 중 태양광, 풍력 발전 변동성 재생에너지 비중 Enerdata 용량 비중 FiT/FiP 제도 시행시 1의 <span style='color:red'>값을</span>, 갖는 FiT/FiP REN21, BNEF 더미변수 RPS RPS 제도 시행시 1의 <span style='color:red'>값을</span> 갖는 더미변수 REN21, BNEF 경매 경매제도 시행시 1의 <span style='color:red'>값을</span> 갖는 더미변수 REN21, 천연가스, 광물 및 임업제품의 천연자원 지대 비중 World Bank 지대가 GDP에서 차지하는 비중 BP Statistical Review of 전력 순수출량이 0보다 큰 경우 1의 <span style='color:red'>값을</span>]</td>\n",
       "    </tr>\n",
       "    <tr>\n",
       "      <th>4</th>\n",
       "      <td>5.581002</td>\n",
       "      <td>[제2장 국제 신재생에너지 보급 및 가격 동향 [그림 2-32] BNEF 추정 <span style='color:red'>LCOE</span> 변화(2010~<span style='color:red'>2020년</span>) 자료: BNEF(2021g), p.4. 2.2., 지역별 <span style='color:red'>LCOE</span> 오늘날 전 세계 인구의 2/3가 육상 풍력 또는 대규모 태양광(또는 둘 다)이 가장 저렴한 신규 대규모 전력원인 국가에 거주하고 있다., 특히 <span style='color:red'>2020년</span> 하반기 이후 유럽 대부분 지역에서 신규 태 양광, 풍력이 기존 화석연료 한계비용보다 더 낮은 LCOE를 달성하였다.]</td>\n",
       "    </tr>\n",
       "  </tbody>\n",
       "</table>"
      ],
      "text/plain": [
       "<IPython.core.display.HTML object>"
      ]
     },
     "execution_count": 26,
     "metadata": {},
     "output_type": "execute_result"
    }
   ],
   "source": [
    "from IPython.display import HTML\n",
    "\n",
    "import pandas as pd\n",
    "temp_arr = []\n",
    "\n",
    "for res in response_lexical_with_highlight['hits']['hits']:\n",
    "            # result.append([res['_index'], round(res['_score'], 4), res['_source']['metadata']['type'], res['_source']['text']])\n",
    "\n",
    "    temp_arr.append([res['_score'], res['highlight']['text']])\n",
    "\n",
    "# print(\"---------- html 태그가 포함된 결과 ------------\")\n",
    "# print(temp_arr)\n",
    "# print(\"-------------------------------------------\")\n",
    "    \n",
    "#df = pd.DataFrame(temp_arr)\n",
    "df = pd.DataFrame(temp_arr, columns=['score', '각 문서(chuck) 내에서 매칭된 부분'])\n",
    "\n",
    "print(\"<<사용자 입력 쿼리 문장>>: \", query)\n",
    "\n",
    "HTML(df.to_html(escape=False))\n"
   ]
  },
  {
   "cell_type": "markdown",
   "id": "830d6e77-32f0-4a59-9f36-b8f45fce14bc",
   "metadata": {},
   "source": [
    "참고> hightlight 요청은 모든 결과를 return하지 않고, 매칭되는 부분만 중점적으로 보여줍니다. 위의 코드에서는 검색에 매칭되는 term의 앞 뒤로 \\<span style='color:red'>과 \\</span>태그로 눈에 들어오도록 표기했습니다."
   ]
  },
  {
   "cell_type": "markdown",
   "id": "ef366161-656e-4a4a-a800-c7b4a32bdb9e",
   "metadata": {
    "tags": []
   },
   "source": [
    "## 6. Filter 활용\n",
    "- document내 metadata를 활용하여 search space를 줄일 수 있다.\n",
    "- 특히 filter의 경우 search 전에 수행되기 때문에, 검색 속도 향상을 기대할 수 있다\n",
    "- syntax\n",
    "    - filter=[{\"term\"**[고정]**: {\"metadata.source\"**[메타데이터 이름, 혹은 메타데이터 아니여도 상관없음]**: \"신한은행\"**[조건명]**}},]\n",
    "    - list 형식으로 복수개 filter 설정 가능"
   ]
  },
  {
   "cell_type": "code",
   "execution_count": 27,
   "id": "23e178cf-014c-49e2-89e2-9f2191583f17",
   "metadata": {
    "tags": []
   },
   "outputs": [
    {
     "data": {
      "text/html": [
       "<style type=\"text/css\">\n",
       "#T_3bfe7_row0_col0, #T_3bfe7_row0_col1, #T_3bfe7_row0_col2, #T_3bfe7_row0_col3, #T_3bfe7_row1_col0, #T_3bfe7_row1_col1, #T_3bfe7_row1_col2, #T_3bfe7_row1_col3, #T_3bfe7_row2_col0, #T_3bfe7_row2_col1, #T_3bfe7_row2_col2, #T_3bfe7_row2_col3, #T_3bfe7_row3_col0, #T_3bfe7_row3_col1, #T_3bfe7_row3_col2, #T_3bfe7_row3_col3, #T_3bfe7_row4_col0, #T_3bfe7_row4_col1, #T_3bfe7_row4_col2, #T_3bfe7_row4_col3 {\n",
       "  text-align: left;\n",
       "}\n",
       "</style>\n",
       "<table id=\"T_3bfe7\">\n",
       "  <thead>\n",
       "    <tr>\n",
       "      <th class=\"blank level0\" >&nbsp;</th>\n",
       "      <th id=\"T_3bfe7_level0_col0\" class=\"col_heading level0 col0\" >index_name</th>\n",
       "      <th id=\"T_3bfe7_level0_col1\" class=\"col_heading level0 col1\" >score</th>\n",
       "      <th id=\"T_3bfe7_level0_col2\" class=\"col_heading level0 col2\" >type</th>\n",
       "      <th id=\"T_3bfe7_level0_col3\" class=\"col_heading level0 col3\" >text</th>\n",
       "    </tr>\n",
       "  </thead>\n",
       "  <tbody>\n",
       "    <tr>\n",
       "      <th id=\"T_3bfe7_level0_row0\" class=\"row_heading level0 row0\" >0</th>\n",
       "      <td id=\"T_3bfe7_row0_col0\" class=\"data row0 col0\" >ebp-poc-all-index</td>\n",
       "      <td id=\"T_3bfe7_row0_col1\" class=\"data row0 col1\" >4.973200</td>\n",
       "      <td id=\"T_3bfe7_row0_col2\" class=\"data row0 col2\" >2020</td>\n",
       "      <td id=\"T_3bfe7_row0_col3\" class=\"data row0 col3\" >다른 나라와 비교할 때 우리나라는 아직 태양광과 풍력 LCOE 비용이 높은 편이다. BNEF의 2020년 상반기 추정치를 보면, 고정식 태양광 LCOE 범위가 낮은 U.A.E는 $23~51/MWh, 인도는 $27~45/MWh이다. 육 상풍력의 경우 브라질은 $24~44MWh, 미국은 $26~59/MWh로 비용이 낮 은 것을 확인할 수 있다([그림 2-11]). 이에 반해 우리나라의 경우 고정 식 태양광 LCOE는 $73~146/MWh, 육상풍력 LCOE는 $78~142/MWh로, 가장 낮은 국가의 LCOE와 비교하여 상당히 차이가 있다([그림 2-11]). 재생에너지 비용이 높은 아시아로 좁혀서 보면 Wood Mackenzie 추정 으로 재생에너지 프리미엄이44) 평균적으로 16%였다.45) [그림 2-12]에 서 볼 수 있듯 2020년 현재 일본과 말레이시아의 재생에너지 프리미엄 이 가장 높은 국가이고, 신남방 전책으로 주목받고 있는 동남아시아는 전반적으로 프리미엄이 높다([그림 2-12]). 중국과 우리나라의 경우 프 리미엄이 존재하나 높지 않은 것으로 평가되었는데 중국의 경우 5%,46) 우리나라의 경우 4%로 추정하였다.47) 반면, 호주와 인도의 경우 앞선 BNEF의 추정과 같이 재생에너지가 가장 싼 지역으로 재생에너지 프리 미엄이 존재하지 않는다([그림 2-12]). 하지만, 2030년경이면 Wood Mackenzie 추정으로 아시아 태평양 지역 도 평균적으로 재생에너지가 화석 연료와 비교하여 23% 비용이 낮아질 것으로 추정하고 있으며 동남아시아는 경우 재생에너지 가격이 화석연 료와 비슷해질 것으로 전망하고 있다.48) 44) 태양광과 풍력 중 가장 낮은 LCOE가 석탄이나 가스 등 화석연료의 가장 낮은 L COE와 비교하여 재생에너지 비용 프리미엄을 추정. 45) Wood Mackenzie(2020), p.8. 46) 앞선 BNEF는 중국의 재생에너지 프리미엄이 없는 것으로 추정됨. LCOE는 발표 추정 기관마다 차이가 존재함. 47) 전게서, p.30, p.32. 48) 전게서, p.9. 24</td>\n",
       "    </tr>\n",
       "    <tr>\n",
       "      <th id=\"T_3bfe7_level0_row1\" class=\"row_heading level0 row1\" >1</th>\n",
       "      <td id=\"T_3bfe7_row1_col0\" class=\"data row1 col0\" >ebp-poc-all-index</td>\n",
       "      <td id=\"T_3bfe7_row1_col1\" class=\"data row1 col1\" >4.467600</td>\n",
       "      <td id=\"T_3bfe7_row1_col2\" class=\"data row1 col2\" >2020</td>\n",
       "      <td id=\"T_3bfe7_row1_col3\" class=\"data row1 col3\" >표 차례 <표 2-1> 2018년 최종에너지 소비 원별 비중ꞏꞏꞏꞏꞏꞏꞏꞏꞏꞏꞏꞏꞏꞏꞏꞏꞏꞏꞏꞏꞏꞏꞏꞏꞏꞏꞏꞏꞏꞏꞏꞏꞏꞏꞏ11 <표 2-2> 2019년 원별 발전 비중ꞏꞏꞏꞏꞏꞏꞏꞏꞏꞏꞏꞏꞏꞏꞏꞏꞏꞏꞏꞏꞏꞏꞏꞏꞏꞏꞏꞏꞏꞏꞏꞏꞏꞏꞏꞏꞏꞏꞏꞏꞏꞏꞏꞏꞏꞏꞏꞏꞏꞏꞏꞏꞏꞏꞏ14 <표 2-3> 유틸리티급 재생에너지 LCOE 변화 (2009년~2019년)ꞏꞏꞏꞏ19 <표 2-4> RE100 가입 기업의 국가현황ꞏꞏꞏꞏꞏꞏꞏꞏꞏꞏꞏꞏꞏꞏꞏꞏꞏꞏꞏꞏꞏꞏꞏꞏꞏꞏꞏꞏꞏꞏꞏꞏꞏꞏꞏꞏꞏꞏꞏꞏꞏꞏꞏꞏꞏ37 <표 2-5> 일본 태양광 경매 현황ꞏꞏꞏꞏꞏꞏꞏꞏꞏꞏꞏꞏꞏꞏꞏꞏꞏꞏꞏꞏꞏꞏꞏꞏꞏꞏꞏꞏꞏꞏꞏꞏꞏꞏꞏꞏꞏꞏꞏꞏꞏꞏꞏꞏꞏꞏꞏꞏꞏꞏꞏꞏꞏꞏꞏꞏ42 <표 2-6> 중국 2019년과 2020년 태양광 경매 비교ꞏꞏꞏꞏꞏꞏꞏꞏꞏꞏꞏꞏꞏꞏꞏꞏꞏꞏꞏꞏꞏꞏꞏꞏꞏ43 <표 2-7> 국가별 단기적 보급 정책 변화ꞏꞏꞏꞏꞏꞏꞏꞏꞏꞏꞏꞏꞏꞏꞏꞏꞏꞏꞏꞏꞏꞏꞏꞏꞏꞏꞏꞏꞏꞏꞏꞏꞏꞏꞏꞏꞏꞏꞏꞏꞏꞏꞏ48 <표 3-1> 국가/지역별 해상풍력 확대 계획ꞏꞏꞏꞏꞏꞏꞏꞏꞏꞏꞏꞏꞏꞏꞏꞏꞏꞏꞏꞏꞏꞏꞏꞏꞏꞏꞏꞏꞏꞏꞏꞏꞏꞏꞏꞏꞏꞏꞏꞏ72 <표 4-1> 에너지수지(Energy Balance) 계산 기준에 따른 제로에너지 정의ꞏ85 <표 4-2> 신재생에너지 공급방식에 따른 구분ꞏꞏꞏꞏꞏꞏꞏꞏꞏꞏꞏꞏꞏꞏꞏꞏꞏꞏꞏꞏꞏꞏꞏꞏꞏꞏꞏꞏꞏꞏꞏꞏꞏꞏ85 <표 4-3> 주요국 제로에너지 빌딩 정의ꞏꞏꞏꞏꞏꞏꞏꞏꞏꞏꞏꞏꞏꞏꞏꞏꞏꞏꞏꞏꞏꞏꞏꞏꞏꞏꞏꞏꞏꞏꞏꞏꞏꞏꞏꞏꞏꞏꞏꞏꞏꞏꞏꞏꞏ88 <표 4-4> 건물 냉난방 재생에너지 정책 직접 정책, 간접 정책ꞏꞏ104 <표 4-5> HRE 시나리오별 비교ꞏꞏꞏꞏꞏꞏꞏꞏꞏꞏꞏꞏꞏꞏꞏꞏꞏꞏꞏꞏꞏꞏꞏꞏꞏꞏꞏꞏꞏꞏꞏꞏꞏꞏꞏꞏꞏꞏꞏꞏꞏꞏꞏꞏꞏꞏꞏꞏꞏꞏꞏꞏꞏꞏꞏ108 iv</td>\n",
       "    </tr>\n",
       "    <tr>\n",
       "      <th id=\"T_3bfe7_level0_row2\" class=\"row_heading level0 row2\" >2</th>\n",
       "      <td id=\"T_3bfe7_row2_col0\" class=\"data row2 col0\" >ebp-poc-all-index</td>\n",
       "      <td id=\"T_3bfe7_row2_col1\" class=\"data row2 col1\" >4.109800</td>\n",
       "      <td id=\"T_3bfe7_row2_col2\" class=\"data row2 col2\" >2020</td>\n",
       "      <td id=\"T_3bfe7_row2_col3\" class=\"data row2 col3\" >한국건설기술연구원 연구보고서. 2017. 제로에너지건축물 활성화를 위한 제도개선 및 지원 방안 연구. 한국에너지공단. 2019. 2018년 신재생에너지 산업통계(2019년 공표) 한국에너지공단. 2020a. 2019년 신ꞏ재생에너지 보급통계(2020년 공표) 결과 요약. 한국에너지공단. 2020. 신재생에너지 설비의 지원 등에 관한 지침 (신재 생에너지센터 공고 제 2020-5호). <보도 자료> 산업통상자원부, 보도/해명 자료 2020.11.02. 산업통상자원부, 보도자료 “2020년 신재생에너지 보급지원사업 공고”. 2020.03.19. 산업통상자원부, “제5차 신재생에너지 기본계획(2020-2034) 발표”. 2020.12.29. <외국 문헌> BNEF. 2018. “3Q 2018 Global PV Market Outlook” BNEF. 2019a. “Who supplied the World’s Solar Market in 2018?” BNEF. 2019b. “Heat Rodadmap Europe: An Ambition for Low-Carbon Technology” BNEF. 2020a, “Power Transition Trends 2020” BNEF. 2020b. “1H 2020 LCOE Update”. BNEF. 2020c. “Global Renewable Energy Auctions and Tenders” BNEF. 2020d. “3Q 2020 Global Auction and Tender Results and 136</td>\n",
       "    </tr>\n",
       "    <tr>\n",
       "      <th id=\"T_3bfe7_level0_row3\" class=\"row_heading level0 row3\" >3</th>\n",
       "      <td id=\"T_3bfe7_row3_col0\" class=\"data row3 col0\" >ebp-poc-all-index</td>\n",
       "      <td id=\"T_3bfe7_row3_col1\" class=\"data row3 col1\" >3.930400</td>\n",
       "      <td id=\"T_3bfe7_row3_col2\" class=\"data row3 col2\" >2020</td>\n",
       "      <td id=\"T_3bfe7_row3_col3\" class=\"data row3 col3\" >2.2. 지역별 LCOE 전 세계적으로 태양광과 풍력 가격이 하락하면서 신규 보급되는 발 전원 중 LCOE 기준 가장 비용이 낮은 에너지원이 태양광과 풍력인 지 역이 증가하였다. 미주와 유럽 대부분 지역에서 재생에너지원 발전비용 이 화석연료 발전비용보다 낮고, 아시아에서 중국과 호주도 태양광이 가장 싼 신규 발전원이다([그림 2-10]). 하지만, 우리나라와 일본을 비 롯한 동남아시아 국가에서는 여전히 석탄이 가장 싼 발전원이다([그림 2-10]). [그림 2-10] 2019년 LCOE 기준 가장 낮은 대규모 발전 전원 주: 국가별 원별 신규설비의 LCOE 측면의 가장 낮은 발전원을 표시 함. 자료: BNEF(2020b), p.11. [그림 2-11]은 지역별 대규모 고정식 태양광과 육상풍력의 국가별 LCOE를 나타낸 것이다. 세계적으로는 태양광과 풍력 비용이 하락하여 경쟁력을 확보했지만, 지역별로는 편차가 큰 편이다. 제2장 국제 신재생에너지 동향 23</td>\n",
       "    </tr>\n",
       "    <tr>\n",
       "      <th id=\"T_3bfe7_level0_row4\" class=\"row_heading level0 row4\" >4</th>\n",
       "      <td id=\"T_3bfe7_row4_col0\" class=\"data row4 col0\" >ebp-poc-all-index</td>\n",
       "      <td id=\"T_3bfe7_row4_col1\" class=\"data row4 col1\" >3.923700</td>\n",
       "      <td id=\"T_3bfe7_row4_col2\" class=\"data row4 col2\" >2020</td>\n",
       "      <td id=\"T_3bfe7_row4_col3\" class=\"data row4 col3\" >재생에너지 중에서 신규보급이 가장 활발히 진행되고 있는 태양광과 육 상풍력, 해상풍력의 LCOE 비용을 세부적으로 살펴보면, 공통으로 설치비용 이 하락하고 이용률이 지속적으로 증가하고 있음을 볼 수 있다(<표 2-3>). 설치비용과 이용률은 LCOE 비용을 결정하는 중요한 요소들로써, 설치비용 이 하락하면 LCOE는 하락하고, 발전량과 직접적인 관련이 있는 이용률의 증가는 LCOE를 하락시킨다. 태양광의 설치비용은 2010년 $4,702/kW에서 2019년 $995/kW로 하락하였고, 이용률은 2010년 13.8%에서 2019년 18% 로 증가하였다(<표 2-3>). 육상풍력의 설치비용은 동기간 $1,949/kW에서 $1,473/kW로 하락하였고, 이용률은 27.1%에서 35.6%로 증가하였다(<표 2- 3>). 해상풍력의 경우 설비비용은 2000년 초중반 다소 증가하기도 하였지 만([그림 2-9]), 이후 2009년부터 꾸준히 하락하여 2010년 $4,650/kW에서 2019년 $3,800/kW로 하락하였고, 같은 기간 이용률은 36.8%에서 43.5%로 증가하였다(<표 2-3>). [그림 2-8]은 유틸리티급 재생에너지 LCOE를 보여주고, 그림에서 회색밴드는 화석연료 발전비용 범위를 나타낸다. 각 신재생에너지원별 LCOE 범위가 회색밴드에 포함될 경우, 해당 신재생에너지원의 발전 비용이 화석연료 발전비용 범위내에 속하게 되는 것을 의미하고, 화석 연료와 비교하여 경쟁력을 갖춘 것으로 해석할 수 있다. 모든 재생에 너지원의 LCOE가 화석연료 발전 비용범위 내에 들어와서, 재생에너 지원은 이미 화석연료 대비 가격 경쟁력을 갖춘 것으로 볼 수 있다. 이런 비용하락은 기술발전으로 비용하락과 재생에너지가 대규모로 보급되면서 규모의 경제를 갖추었기 때문이다. 그리고 많은 지역 및 국가에서 도입하고 있는 재생에너지 경매로 인한 가격경쟁도 재생에너 지원의 비용을 하락시킨 주요 원인이 되고 있다.41) 경매제도와 관련하 20</td>\n",
       "    </tr>\n",
       "  </tbody>\n",
       "</table>\n"
      ],
      "text/plain": [
       "<pandas.io.formats.style.Styler at 0x7fa8074a3130>"
      ]
     },
     "execution_count": 27,
     "metadata": {},
     "output_type": "execute_result"
    }
   ],
   "source": [
    "filter = [\n",
    "    {\"term\": {\"metadata.source\": \"2020_국제_신재생에너지_정책변화_및_시장분석.pdf\"}}\n",
    "]\n",
    "\n",
    "response = os_client.search(\n",
    "    body=query_lexical(query, filter),\n",
    "    index=index_name\n",
    ")\n",
    "result_to_dataframe(response)"
   ]
  },
  {
   "cell_type": "code",
   "execution_count": 29,
   "id": "f5dae705-0377-4629-9261-fdd50b4b1f9b",
   "metadata": {
    "tags": []
   },
   "outputs": [
    {
     "name": "stdout",
     "output_type": "stream",
     "text": [
      "이전에 필터를 넣치 않고 검색에 걸린 시간:  86 ms\n",
      "지금 필터를 넣고 검색에 걸린 시간:  14 ms\n",
      "<<사용자 입력 쿼리 문장>>:  2020년 LCOE 값을 알려줘.\n"
     ]
    },
    {
     "data": {
      "text/html": [
       "<style type=\"text/css\">\n",
       "</style>\n",
       "<table id=\"T_5e857\">\n",
       "  <thead>\n",
       "    <tr>\n",
       "      <th class=\"blank level0\" >&nbsp;</th>\n",
       "      <th id=\"T_5e857_level0_col0\" class=\"col_heading level0 col0\" >index_name</th>\n",
       "      <th id=\"T_5e857_level0_col1\" class=\"col_heading level0 col1\" >score</th>\n",
       "      <th id=\"T_5e857_level0_col2\" class=\"col_heading level0 col2\" >type</th>\n",
       "      <th id=\"T_5e857_level0_col3\" class=\"col_heading level0 col3\" >text</th>\n",
       "    </tr>\n",
       "  </thead>\n",
       "  <tbody>\n",
       "  </tbody>\n",
       "</table>\n"
      ],
      "text/plain": [
       "<pandas.io.formats.style.Styler at 0x7fa8074a0100>"
      ]
     },
     "execution_count": 29,
     "metadata": {},
     "output_type": "execute_result"
    }
   ],
   "source": [
    "filter = [\n",
    "    {\"term\": {\"metadata.source\": \"2020_국제_신재생에너지_정책변화_및_시장분석.pdf\"}},\n",
    "    {\"term\": {\"metadata.type\": \"2020년 LCOE 값을 알려줘.\"}},\n",
    "]\n",
    "\n",
    "response = os_client.search(\n",
    "    body=query_lexical(query, filter),\n",
    "    index=index_name\n",
    ")\n",
    "print('이전에 필터를 넣치 않고 검색에 걸린 시간: ', time_took_lexical_only, 'ms')\n",
    "print('지금 필터를 넣고 검색에 걸린 시간: ', response['took'], 'ms')\n",
    "\n",
    "print(\"<<사용자 입력 쿼리 문장>>: \", query)\n",
    "\n",
    "result_to_dataframe(response)"
   ]
  },
  {
   "cell_type": "markdown",
   "id": "61bb0cb8-6f3f-4464-a728-a5d3657d6a8e",
   "metadata": {},
   "source": [
    "## 7. 벡터 검색 (knn 검색)을 활용한 검색 - Semantic Search\n",
    "\n",
    "- query 를 제공해서 실제로 유사한 내용이 검색이 되는지를 확인 합니다."
   ]
  },
  {
   "cell_type": "code",
   "execution_count": 30,
   "id": "e0551b04-d50a-4c10-b9cd-062c37b24b76",
   "metadata": {
    "tags": []
   },
   "outputs": [],
   "source": [
    "def query_semantic(vector, filter=[], k=5):\n",
    "    QUERY_TEMPLATE = {\n",
    "        \"size\": k,\n",
    "        \"query\": {                    \n",
    "            \"knn\": {\n",
    "                \"vector_field\": {\n",
    "                    \"vector\": vector,\n",
    "                    \"k\": k \n",
    "                }\n",
    "            }           \n",
    "        }\n",
    "    }\n",
    "    return QUERY_TEMPLATE"
   ]
  },
  {
   "cell_type": "code",
   "execution_count": 31,
   "id": "70a92d0b-e0df-4cf5-ab26-44e1886061db",
   "metadata": {
    "tags": []
   },
   "outputs": [
    {
     "name": "stdout",
     "output_type": "stream",
     "text": [
      "<<사용자 입력 쿼리 문장>>:  2020년 LCOE 값을 알려줘.\n"
     ]
    },
    {
     "data": {
      "text/html": [
       "<style type=\"text/css\">\n",
       "#T_b2527_row0_col0, #T_b2527_row0_col1, #T_b2527_row0_col2, #T_b2527_row0_col3, #T_b2527_row1_col0, #T_b2527_row1_col1, #T_b2527_row1_col2, #T_b2527_row1_col3, #T_b2527_row2_col0, #T_b2527_row2_col1, #T_b2527_row2_col2, #T_b2527_row2_col3, #T_b2527_row3_col0, #T_b2527_row3_col1, #T_b2527_row3_col2, #T_b2527_row3_col3, #T_b2527_row4_col0, #T_b2527_row4_col1, #T_b2527_row4_col2, #T_b2527_row4_col3 {\n",
       "  text-align: left;\n",
       "}\n",
       "</style>\n",
       "<table id=\"T_b2527\">\n",
       "  <thead>\n",
       "    <tr>\n",
       "      <th class=\"blank level0\" >&nbsp;</th>\n",
       "      <th id=\"T_b2527_level0_col0\" class=\"col_heading level0 col0\" >index_name</th>\n",
       "      <th id=\"T_b2527_level0_col1\" class=\"col_heading level0 col1\" >score</th>\n",
       "      <th id=\"T_b2527_level0_col2\" class=\"col_heading level0 col2\" >type</th>\n",
       "      <th id=\"T_b2527_level0_col3\" class=\"col_heading level0 col3\" >text</th>\n",
       "    </tr>\n",
       "  </thead>\n",
       "  <tbody>\n",
       "    <tr>\n",
       "      <th id=\"T_b2527_level0_row0\" class=\"row_heading level0 row0\" >0</th>\n",
       "      <td id=\"T_b2527_row0_col0\" class=\"data row0 col0\" >ebp-poc-all-index</td>\n",
       "      <td id=\"T_b2527_row0_col1\" class=\"data row0 col1\" >0.004100</td>\n",
       "      <td id=\"T_b2527_row0_col2\" class=\"data row0 col2\" >2021</td>\n",
       "      <td id=\"T_b2527_row0_col3\" class=\"data row0 col3\" >[그림 2-31] 유틸리티급 태양광 LCOE 비용 변화(2010~2020년) 자료: IRENA(2021b), p.83. 비용 하락이 가장 두드러지고 최근 가장 보급이 활발한 태양광의 지난 10년간의 LCOE 변화를 분해해 보면 태양광 모듈비용 하락이 46%를 차지하여 가장 중요한 요인이었다. 태양광 모듈의 가격 하락은 모듈 생산의 전 가치사슬에서 기술적 진보 로 인한 것이다. 그리고 인버터, 구조물, 나머지 BoS 비용이 18%를 차지하였고 개 발 EPC, 그 외 소프트 비용이 26%를 차지하였다. 나머지는 시장이 성숙해짐에 따 라 금융비용 하락, O&M 비용 하락, 태양광 이용률이 높은 곳의 개발이 증가함에 따라 높아진 이용률이 비용하락에 기여하였다.45) 주요 기관마다 LCOE 추정은 조금씩 다르다. BNEF의 태양광과 풍력의 2021년 상반기 기준 추정을 보면,46) 고정식 태양광은 $0.48/kWh, 추적식 태양광 $0.38/kWh, 육상풍력 $0.41/kWh, 해상풍력 $0.82/kWh이다([그림 2-32]). 이는 <표 2-2>의 IRENA 추정보다는 낮다. 여기서 눈여겨볼 것은 전통적으로 추정되던 태양광과 풍 력 등 재생에너지원에 대한 LCOE와 더불어, 태양광과 풍력이 변동성 재생에너지임 에 따라 ESS의 보급도 중요해지면서 ESS의 LCOE도 추정하여 제시한다는 것이다. 2021년 상반기 ESS의 LCOE는 $138/kWh로 최근 비용이 빠르게 하락하는 것을 볼 수 있다([그림 2-32]).47) 45) IRENA(2021b), p.83. 46) BNEF는 반기로 LCOE를 업데이트함. 47) ESS는 유틸리티급 리튬이온 배터리로 충전비용을 포함하여 일일 4시간 활용 가정. 30</td>\n",
       "    </tr>\n",
       "    <tr>\n",
       "      <th id=\"T_b2527_level0_row1\" class=\"row_heading level0 row1\" >1</th>\n",
       "      <td id=\"T_b2527_row1_col0\" class=\"data row1 col0\" >ebp-poc-all-index</td>\n",
       "      <td id=\"T_b2527_row1_col1\" class=\"data row1 col1\" >0.004000</td>\n",
       "      <td id=\"T_b2527_row1_col2\" class=\"data row1 col2\" >2021</td>\n",
       "      <td id=\"T_b2527_row1_col3\" class=\"data row1 col3\" >[그림 2-33] 2021년 LCOE 기준 최저비용 신규 대규모 발전원 자료: BNEF(2021g), p.15. [그림 2-34] 2021년 LCOE 기준 신규 태양광 풍력 VS 기존 화석연료 자료: IBNEF(2021g), p.16. 32</td>\n",
       "    </tr>\n",
       "    <tr>\n",
       "      <th id=\"T_b2527_level0_row2\" class=\"row_heading level0 row2\" >2</th>\n",
       "      <td id=\"T_b2527_row2_col0\" class=\"data row2 col0\" >ebp-poc-all-index</td>\n",
       "      <td id=\"T_b2527_row2_col1\" class=\"data row2 col1\" >0.004000</td>\n",
       "      <td id=\"T_b2527_row2_col2\" class=\"data row2 col2\" >2022</td>\n",
       "      <td id=\"T_b2527_row2_col3\" class=\"data row2 col3\" >BNEF(2022e)에서는 2022년 상반기 LCOE를 분석하였는데, 전력 부문의 비용 인플레이션으로 태양광, 육상풍력, 배터리저장장치의 LCOE가 증가하였음을 제시하 였다. IRENA(2022)에서도 2021년 하반기에서 2022년 상반기 사이에 원자재와 물 류 비용 상승으로 2022년 재생에너지 비용 상승 가능성을 언급한 바 있으나 이러한 비용 상승이 전체적인 추이에 대한 변곡점이 될 것으로 전망하지는 않았다. 한편, 공급망 위기와 가격 상승에도 불구하고 러·우 전쟁으로 화석연료 가격이 급등하면 서 재생에너지 상대가격은 개선되고 있다. 2022년 1분기 기준 태양광과 육상풍력의 발전비용은 신규 석탄 및 가스와 비교하여 1/2 수준이다([그림 2-10]). 2022년 상반기 기준 태양광, 육상풍력, 배터리저장장치의 LCOE는 각각 $45/MWh, $46/MWh, $153/MWh으로, 전년도 동기 대비 13.5%, 6.7%, 8.4% 증가하였다. 해상풍력 LCOE는 $86/MWh로 분석한 재생에너지원 중 유일하게 하 락세(-3.5%)를 보였다([그림 2-10]).14) 2020년 이후 태양광 모듈 비용은 와트당 26~27달러를 유지하였지만, 기타 BOS(Balance of System), 물류비, 인건비가 상 승하여 태양광 LCOE가 증가하였고, 육상풍력은 중국지역에서의 LCOE는 하락하였 으나, 이외 지역에서 철강, 원자재, 인건비, 물류비 등이 상승하면서 글로벌 육상풍 력 LCOE 상승을 이끌었다. 배터리 저장장치의 LCOE 상승은 리튬 중심의 원자재 비용과 충전 비용 상승이 주요 이유였다. 해상풍력 LCOE 하락세는 중국 중심의 보 급(약 85%)이 이루어졌기 때문으로, 중국에서의 보조금 지급이 풍력 부품 가격 하 락을 초래한 것으로 보인다. 다만 중국 이외 지역의 해상풍력 LCOE는 상승한 것으 로 나타났다.15) 14) BNEF(2022d) 엑셀자료를 참고하여 작성. 15) BNEF(2022e), pp.3~4. 14</td>\n",
       "    </tr>\n",
       "    <tr>\n",
       "      <th id=\"T_b2527_level0_row3\" class=\"row_heading level0 row3\" >3</th>\n",
       "      <td id=\"T_b2527_row3_col0\" class=\"data row3 col0\" >ebp-poc-all-index</td>\n",
       "      <td id=\"T_b2527_row3_col1\" class=\"data row3 col1\" >0.004000</td>\n",
       "      <td id=\"T_b2527_row3_col2\" class=\"data row3 col2\" >2021</td>\n",
       "      <td id=\"T_b2527_row3_col3\" class=\"data row3 col3\" >참고문헌 매일경제. EU, 중국산 타워 반덤핑 확정으로 수혜. https://m.mk.co.kr/stockview/?sCode=21&t_uid=5&c_uid=125287 (최종접속일: 2021.2.24). 매일경제. 웅진에너지 결국 상장폐지 결정. https://www.mk.co.kr/news/stock/view/2020/05/500645/ (최종접속일: 2021.11.18). 미국 에너지부. Hydrogen Program. https://www.hydrogen.energy.gov/ (최종접속일: 2021.10.11). 법률신문. 기후변화 대응을 위한 EU 탄소국경조정메커니즘(CBAM, 소위 탄소국경세) 도입. https://m.lawtimes.co.kr/Content/LawFirm-NewsLetter?serial=171944 (최종 검색일: 2021. 12.15). 연합뉴스. 인도 “개발도상국, 화석연료 쓸 자격”...COP26서 ‘석탄 중단’ 뒤집어. https://www.yna.co.kr/view/AKR20211114025700077?input=1179m (최종접속일: 2021.11.14). 오피넷. 평균판매가격. https://www.opinet.co.kr/user/dopospdrg/dopOsPdrgSelect.do (최종접속일: 2021.11.01). 외교통상부. 대한민국과 유럽연합 및 그 회원국 간의 자유무역협정. https://fta.go.kr/webmodule/_PSD_FTA/eu/doc/00_3_Fulltext.PDF (최종접속일: 2021.10.31). 인더스트리 뉴스. EU의 중국 태양광 제품 수입제한 조치 종료. https://www.industrynews.co.kr/news/articleView.html?idxno=26322#:~:text=E U%EB%8A%94%20%EC%A7%80%EB%82%9C%202012%EB%85%84,%EB%8B%AC% EB%9D%BC%EB%8A%94%20%EC%9A%94%EA%B5%AC%EB%A5%BC%20%EB%B0% 9B%EC%95%84%EB%93%A4%EC%97%AC (최종접속일: 2021.12.5). 이투뉴스. [탐방] 한국형 블레이드로 풍력 활성화 '정조준' https://www.e2news.com/news/articleView.html?idxno=236114 (최종접속일: 2021.11.22). 일본 환경성 홈페이지. CO 배출 감축 대책 강화 유도형 기술개발·실증사업. 2 https://www.env.go.jp/earth/ondanka/cpttv_funds/outline/ (최종접속일: 131</td>\n",
       "    </tr>\n",
       "    <tr>\n",
       "      <th id=\"T_b2527_level0_row4\" class=\"row_heading level0 row4\" >4</th>\n",
       "      <td id=\"T_b2527_row4_col0\" class=\"data row4 col0\" >ebp-poc-all-index</td>\n",
       "      <td id=\"T_b2527_row4_col1\" class=\"data row4 col1\" >0.003900</td>\n",
       "      <td id=\"T_b2527_row4_col2\" class=\"data row4 col2\" >2022</td>\n",
       "      <td id=\"T_b2527_row4_col3\" class=\"data row4 col3\" >제2장 국제 재생에너지 시장 동향 높고 건설 기간이 길어 이러한 LCOE 하락을 이끌었을 것으로 보인다. 둘째, 많은 프로젝트에서 예비비가 원자재 상승과 물류비용 상승을 일부 상쇄하였을 것이다. 셋 째, 기술 개발과 효율성 및 규모의 개선이 이루어졌다. 넷째, 재생에너지 시장을 주 도하는 중국 시장의 재생에너지 비용 하락이 이루어졌으며, 다만 제조업체의 이익은 줄어든 것으로 보인다.13) [그림 2-9] 유틸리티급 재생에너지원별 LCOE와 화석연료 가격과의 비교 자료: IRENA(2022), p.32 <표 2-1> 설치비용, 이용률, LCOE 재생에너지원별 변화 (2010년~2021년) 설치비용 이용율 LCOE (2021 USD/kW) (%) (2021 USD/kWh) 2010 2021 변화율 2010 2021 변화율 2010 2021 변화율 바이오 2,714 2,353 -13% 72 68 -6% 0.078 0.067 -14% 지열 2,714 3,991 47% 87 77 -11% 0.05 0.068 34% 수력 1,315 2,135 62% 44 45 2% 0.039 0.048 24% 태양광 4,808 857 -82% 14 17 25% 0.417 0.048 -88% CSP 9,422 9,091 -4% 30 80 167% 0.358 0.114 -68% 육상풍력 2,042 1,325 -35% 27 39 44% 0.102 0.033 -68% 해상풍력 4,876 2,858 -41% 38 39 3% 0.188 0.075 -60% 자료: IRENA(2022), p.15 13) IRENA(2022), pp.17~18. 13</td>\n",
       "    </tr>\n",
       "  </tbody>\n",
       "</table>\n"
      ],
      "text/plain": [
       "<pandas.io.formats.style.Styler at 0x7fa7f7de12a0>"
      ]
     },
     "execution_count": 31,
     "metadata": {},
     "output_type": "execute_result"
    }
   ],
   "source": [
    "print(\"<<사용자 입력 쿼리 문장>>: \", query)\n",
    "\n",
    "response = os_client.search(\n",
    "    body=query_semantic(llm_emb.embed_query(query)),\n",
    "    index=index_name\n",
    ")\n",
    "result_to_dataframe(response)"
   ]
  },
  {
   "cell_type": "markdown",
   "id": "1c2de8af-d84c-40cf-b74f-f6dc5a08688f",
   "metadata": {},
   "source": [
    "이전에 어휘분석으로 검색한 결과는 아래와 같습니다. 위의 표와 비교해보시길 바랍니다."
   ]
  },
  {
   "cell_type": "code",
   "execution_count": 32,
   "id": "06b5c953-edc6-4240-893b-dda5e8b4e4d3",
   "metadata": {
    "tags": []
   },
   "outputs": [
    {
     "name": "stdout",
     "output_type": "stream",
     "text": [
      "<<사용자 입력 쿼리 문장>>:  2020년 LCOE 값을 알려줘.\n"
     ]
    },
    {
     "data": {
      "text/html": [
       "<style type=\"text/css\">\n",
       "#T_efa19_row0_col0, #T_efa19_row0_col1, #T_efa19_row0_col2, #T_efa19_row0_col3, #T_efa19_row1_col0, #T_efa19_row1_col1, #T_efa19_row1_col2, #T_efa19_row1_col3, #T_efa19_row2_col0, #T_efa19_row2_col1, #T_efa19_row2_col2, #T_efa19_row2_col3, #T_efa19_row3_col0, #T_efa19_row3_col1, #T_efa19_row3_col2, #T_efa19_row3_col3, #T_efa19_row4_col0, #T_efa19_row4_col1, #T_efa19_row4_col2, #T_efa19_row4_col3 {\n",
       "  text-align: left;\n",
       "}\n",
       "</style>\n",
       "<table id=\"T_efa19\">\n",
       "  <thead>\n",
       "    <tr>\n",
       "      <th class=\"blank level0\" >&nbsp;</th>\n",
       "      <th id=\"T_efa19_level0_col0\" class=\"col_heading level0 col0\" >index_name</th>\n",
       "      <th id=\"T_efa19_level0_col1\" class=\"col_heading level0 col1\" >score</th>\n",
       "      <th id=\"T_efa19_level0_col2\" class=\"col_heading level0 col2\" >type</th>\n",
       "      <th id=\"T_efa19_level0_col3\" class=\"col_heading level0 col3\" >text</th>\n",
       "    </tr>\n",
       "  </thead>\n",
       "  <tbody>\n",
       "    <tr>\n",
       "      <th id=\"T_efa19_level0_row0\" class=\"row_heading level0 row0\" >0</th>\n",
       "      <td id=\"T_efa19_row0_col0\" class=\"data row0 col0\" >ebp-poc-all-index</td>\n",
       "      <td id=\"T_efa19_row0_col1\" class=\"data row0 col1\" >8.486300</td>\n",
       "      <td id=\"T_efa19_row0_col2\" class=\"data row0 col2\" >2021</td>\n",
       "      <td id=\"T_efa19_row0_col3\" class=\"data row0 col3\" >2. 재생에너지원별 가격 동향 2.1. 원별 균등화발전비용(LCOE)42) 2020년은 코로나19로 인한 전 세계적인 영향을 받았으나 재생에너지 보급 비용 이 하락하는 추세에는 큰 영향을 주지 못하였다. 2020년 균등화발전비용(levelized cost of electricity, 이하 LCOE)를 보면 전년 대비 태양광은 7% 하락하였고, 해상 풍력과 육상풍력은 각각 9%, 13% 하락하였다. 집광형 태양열발전(Concentrated Solar Power, 이하 CSP)은 상대적으로 적은 보급이지만 가장 많은 16%의 가격하 락을 보였다([그림 2-27]). [그림 2-27] 유틸리티급 재생에너지 원별 LCOE 변화(2019~2020년) 주: CSP의 경우 2018~2020년 연평균 변화율임. 자료: IRENA(2021b), p.25. 재생에너지 비용은 태양광과 풍력의 경우 기술의 발전, 규모의 경제, 가치사슬의 경쟁, 개발사의 경험 축적 등으로 지난 10년간 급속히 하락하였다. 가장 비용이 많이 하락한 태양광의 경우 LCOE는 2010년 $0.381/kWh에서 2020년 $0.057/kWh로 85% 하락하였다. 육상풍력과 해상풍력 비용도 빠르게 하락하였는데 육상풍력의 경 우 동기간 $0.089/kWh에서 $0.039/kWh로 56%, 해상풍력은 $0.162 /kWh에서 $0.084/kWh로 48% 하락한 것으로 나타났다. CSP의 경우 보급이 많지 않지만 비 42) LCOE는 발전량 한 단위당 평균 발전비용으로 발전시설 운영 총비용의 현재 값을 총발전량의 현재 값으로 나누어 계산함. 26</td>\n",
       "    </tr>\n",
       "    <tr>\n",
       "      <th id=\"T_efa19_level0_row1\" class=\"row_heading level0 row1\" >1</th>\n",
       "      <td id=\"T_efa19_row1_col0\" class=\"data row1 col0\" >ebp-poc-all-index</td>\n",
       "      <td id=\"T_efa19_row1_col1\" class=\"data row1 col1\" >6.560200</td>\n",
       "      <td id=\"T_efa19_row1_col2\" class=\"data row1 col2\" >2021</td>\n",
       "      <td id=\"T_efa19_row1_col3\" class=\"data row1 col3\" >는 것이다. 동기간 육상풍력의 학습률은 32%, 해상풍력의 학습률은 15%에 이른 다.44) [그림 2-28]은 유틸리티급 재생에너지 원별 LCOE 추세를 연도별로 보여주는 것 이다. 가장 비용이 많이 하락한 태양광의 경우 추세가 안정적으로 매년 하락하였음 이 눈에 띈다. 그림에서 회색밴드는 화석연료 발전비용 범위를 나타내는 것으로 LCOE 범위가 회색밴드에 포함될 경우, 해당 재생에너지원의 발전비용이 화석연료 발전비용 범위 내에 속하게 되는 것으로 화석연료와 비교하여 경쟁력을 갖춘 것으 로 해석할 수 있다. 2020년 현재 모든 재생에너지원의 LCOE가 화석연료 발전비용 범위 내에 들어와서, 재생에너지원은 이미 화석연료 대비 가격 경쟁력을 갖춘 것으 로 볼 수 있다. 특히 육상풍력의 경우 화석연료 발전비용 최저보다 낮은 수준이다. [그림 2-28] 유릴리티급 재생에너지 원별 LCOE 변화(2010~2020년) 자료: IRENA(2021b), p.33. 44) 자료: IRENA(2021b), p.19. 28</td>\n",
       "    </tr>\n",
       "    <tr>\n",
       "      <th id=\"T_efa19_level0_row2\" class=\"row_heading level0 row2\" >2</th>\n",
       "      <td id=\"T_efa19_row2_col0\" class=\"data row2 col0\" >ebp-poc-all-index</td>\n",
       "      <td id=\"T_efa19_row2_col1\" class=\"data row2 col1\" >5.815600</td>\n",
       "      <td id=\"T_efa19_row2_col2\" class=\"data row2 col2\" >2022</td>\n",
       "      <td id=\"T_efa19_row2_col3\" class=\"data row2 col3\" >1.3. 재생에너지원별 균등화발전비용(LCOE)8) IRENA(2022)에 따르면 2021년에는 원자재와 물류비용 상승 등의 이슈가 있었 지만, 태양광, 육상풍력, 해상풍력 등의 비용 하락 추세는 유지되었다. 태양광은 부품 가격이 상승하였지만 균등화발전비용(Levelized Cost of Electricity, 이하 LCOE) 하락 추세에는 큰 영향을 미치지 못하였고, 육상풍력은 전년대비 이용율이 크게 개 선되면서 비용이 하락하였다.9) 2021년 LCOE를 보면 태양광은 전년대비 13% 감소 하였고, 해상풍력은 13%, 육상풍력은 15% 감소하였지만, CSP(Concentrating solar power)는 7% 증가하였다.10) CSP는 전세계적으로 3건의 설비가 가동 개시 되었는데, 이중 칠레의 CSP 설비가 건설 지연으로 비용이 증가하여 2010년~2015년 사이에 개발된 프로젝트와 비용이 비슷한 수준을 보였다.11) 재생에너지 비용은 지난 11년 동안 지열과 수력을 제외하고 모두 감소하면서, 재 생에너지원 모두 화석발전 비용과 비교하여 경쟁력을 갖춘 것으로 나타났다([그림 2-9]). LCOE가 가장 많이 하락한 에너지원은 태양광으로, 2010년 $0.417/kWh에 서 2021년 $0.048/kWh로 88% 하락하였다. 2021년 육상풍력 LCOE는 $0.033/kWh, 해상풍력은 $0.075/kWh로 지난 11년 동안 각각 68%와 60% 하락 한 반면, 지열과 수력의 LCOE는 각각 $0.068/kWh, $0.048/kWh로 지난 11년동 안 34%와 24% 상승하였다. 바이오는 지난 11년 동안 가격 분산이 감소하고 있으 나 상승이나 하락 등의 추세는 관측되지 않았다(<표 2-1>). 여기서 태양광과 육상풍 력의 가격하락은 기술개발의 이유가 가장 크고, 해상풍력은 최근 중국의 해상풍력 발전설비 설치 비중이 2021년 82%까지 증가함에 따라 중국의 상황이 대폭 반영된 특징이 있다.12) 2021년 원자재 가격은 상승하였지만 태양광과 육상풍력 LCOE가 하락할 수 있었 던 이유는 다음과 같다. 첫째, 원자재 가격 상승은 2020년 하반기에서 2021년 상 반기에 이루어졌으며, 2021년 가동개시된 설비는 원자재 가격 상승 이전에 건설되 었을 가능성이 높다. 특히 유럽 외 지역에서 건설된 대규모 프로젝트들은 구매력이 8) LCOE는 발전량 한 단위당 평균 발전비용으로 발전시설 운영 총비용의 현재 값을 총발전량의 현재 값으로 나누어 계산함(공지영· 조일현, 2021, p.26) 9) IRENA(2022), p.16. 10) 전게서, p.16. 11) 다만 해당 설비는 대규모 설비이므로 LCOE는 2건의 중국 CSP 설비에 비해 약간 높은 수준에 그쳤음(IRENA, 2022, p.33) 12) IRENA(2022), pp.30~31. 12</td>\n",
       "    </tr>\n",
       "    <tr>\n",
       "      <th id=\"T_efa19_level0_row3\" class=\"row_heading level0 row3\" >3</th>\n",
       "      <td id=\"T_efa19_row3_col0\" class=\"data row3 col0\" >ebp-poc-all-index</td>\n",
       "      <td id=\"T_efa19_row3_col1\" class=\"data row3 col1\" >5.585500</td>\n",
       "      <td id=\"T_efa19_row3_col2\" class=\"data row3 col2\" >2022</td>\n",
       "      <td id=\"T_efa19_row3_col3\" class=\"data row3 col3\" ><표 4-2> 변수 설명 변수명 설명 출처 전체 발전설비 용량 중 태양광, 풍력, 수력, 재생에너지 비중 Enerdata 조력, 지열, 바이오매스 발전 용량 비중 전체 발전설비 용량 중 태양광, 풍력 발전 변동성 재생에너지 비중 Enerdata 용량 비중 FiT/FiP 제도 시행시 1의 값을 갖는 FiT/FiP REN21, BNEF 더미변수 RPS RPS 제도 시행시 1의 값을 갖는 더미변수 REN21, BNEF 경매 경매제도 시행시 1의 값을 갖는 더미변수 REN21, BNEF 제조업 비중 GDP에서 제조업이 차지하는 비중 World Bank GDP per cap 1인당 GDP(2015년 US dollar) World Bank 금융발전도 GDP 대비 민간신용 비중 World Bank 석탄, 원유, 천연가스, 광물 및 임업제품의 천연자원 지대 비중 World Bank 지대가 GDP에서 차지하는 비중 BP Statistical Review of 전력 순수출량이 0보다 큰 경우 1의 값을 해외 계통연계 World Energy & 갖는 더미변수 Ember156) CO2 per cap 1인당 CO2 배출량 World Bank 국가 면적 국가 면적 World Bank 156) Our World in Data에서 BP Statistical Review of World Energy와 Ember 자료를 가공한 데이터를 활용함. 78</td>\n",
       "    </tr>\n",
       "    <tr>\n",
       "      <th id=\"T_efa19_level0_row4\" class=\"row_heading level0 row4\" >4</th>\n",
       "      <td id=\"T_efa19_row4_col0\" class=\"data row4 col0\" >ebp-poc-all-index</td>\n",
       "      <td id=\"T_efa19_row4_col1\" class=\"data row4 col1\" >5.581000</td>\n",
       "      <td id=\"T_efa19_row4_col2\" class=\"data row4 col2\" >2021</td>\n",
       "      <td id=\"T_efa19_row4_col3\" class=\"data row4 col3\" >제2장 국제 신재생에너지 보급 및 가격 동향 [그림 2-32] BNEF 추정 LCOE 변화(2010~2020년) 자료: BNEF(2021g), p.4. 2.2. 지역별 LCOE 오늘날 전 세계 인구의 2/3가 육상 풍력 또는 대규모 태양광(또는 둘 다)이 가장 저렴한 신규 대규모 전력원인 국가에 거주하고 있다. 하지만 여전히 일본, 한국, 인 도네시아, 말레이시아, 필리핀은 석탄이 가장 저렴한 신규 대규모 발전원이다([그림 2-33]). 기존 화석연료 전원의 한계 비용(기존 설비 운영)을 비교했을 때도 중국, 인 도, 독일, 프랑스, 이탈리아, 스페인, 포르투갈, 그리스의 경우 현재 기존 화석연료 발전소(석탄 및 가스)를 가동하는 것보다 신규 대규모 태양광을 건설하는 것이 더 저렴하고, 스웨덴 영국, 네덜란드, 폴란드, 모로코, 브라질의 경우 육상 풍력 건설이 더 저렴하다([그림 2-34]). 특히 2020년 하반기 이후 유럽 대부분 지역에서 신규 태 양광, 풍력이 기존 화석연료 한계비용보다 더 낮은 LCOE를 달성하였다. 이는 태양 광과 풍력 비용하락뿐 아니라 2021년 석탄 및 가스를 포함한 원자재 가격이 상승하 면서 화석연료 한계비용이 증가한 것도 원인이다.48) 48) BNEF(2021g). p.16. 31</td>\n",
       "    </tr>\n",
       "  </tbody>\n",
       "</table>\n"
      ],
      "text/plain": [
       "<pandas.io.formats.style.Styler at 0x7fa8074a3cd0>"
      ]
     },
     "execution_count": 32,
     "metadata": {},
     "output_type": "execute_result"
    }
   ],
   "source": [
    "print(\"<<사용자 입력 쿼리 문장>>: \", query)\n",
    "result_to_dataframe(response_lexical_only)"
   ]
  },
  {
   "cell_type": "markdown",
   "id": "a91b6cb3-7588-4179-bdae-287f6aac5d0a",
   "metadata": {},
   "source": [
    "## 8. LangChain을 이용한 Question & Answer"
   ]
  },
  {
   "cell_type": "markdown",
   "id": "bd365f81-d6f4-47d6-9fd2-e3452ed900c9",
   "metadata": {},
   "source": [
    "- langchain의 similarity_search_with_score API를 활용하는 방법\n",
    "    - [API: similarity_search_with_score](https://api.python.langchain.com/en/latest/vectorstores/langchain.vectorstores.opensearch_vector_search.OpenSearchVectorSearch.html#langchain.vectorstores.opensearch_vector_search.OpenSearchVectorSearch.similarity_search)\n"
   ]
  },
  {
   "cell_type": "code",
   "execution_count": 33,
   "id": "fe18b33c-8ed6-4023-acfd-abcc612b9b84",
   "metadata": {
    "tags": []
   },
   "outputs": [],
   "source": [
    "from langchain.chains.question_answering import load_qa_chain"
   ]
  },
  {
   "cell_type": "code",
   "execution_count": 34,
   "id": "0b5b7dc7-6ad2-4921-b214-a34412a52eb1",
   "metadata": {
    "tags": []
   },
   "outputs": [],
   "source": [
    "results = vector_db.similarity_search_with_score(\n",
    "    query=query,\n",
    "    k=5,\n",
    "    search_type=\"approximate_search\",\n",
    "    boolean_filter={\n",
    "        \"bool\": {\n",
    "            \"filter\": []\n",
    "        }\n",
    "    }\n",
    ")"
   ]
  },
  {
   "cell_type": "code",
   "execution_count": 35,
   "id": "fafc7e5d-66ad-4c32-a3c6-236b70da9581",
   "metadata": {
    "tags": []
   },
   "outputs": [
    {
     "data": {
      "text/plain": [
       "['[그림 2-31] 유틸리티급 태양광 LCOE 비용 변화(2010~2020년) 자료: IRENA(2021b), p.83. 비용 하락이 가장 두드러지고 최근 가장 보급이 활발한 태양광의 지난 10년간의 LCOE 변화를 분해해 보면 태양광 모듈비용 하락이 46%를 차지하여 가장 중요한 요인이었다. 태양광 모듈의 가격 하락은 모듈 생산의 전 가치사슬에서 기술적 진보 로 인한 것이다. 그리고 인버터, 구조물, 나머지 BoS 비용이 18%를 차지하였고 개 발 EPC, 그 외 소프트 비용이 26%를 차지하였다. 나머지는 시장이 성숙해짐에 따 라 금융비용 하락, O&M 비용 하락, 태양광 이용률이 높은 곳의 개발이 증가함에 따라 높아진 이용률이 비용하락에 기여하였다.45) 주요 기관마다 LCOE 추정은 조금씩 다르다. BNEF의 태양광과 풍력의 2021년 상반기 기준 추정을 보면,46) 고정식 태양광은 $0.48/kWh, 추적식 태양광 $0.38/kWh, 육상풍력 $0.41/kWh, 해상풍력 $0.82/kWh이다([그림 2-32]). 이는 <표 2-2>의 IRENA 추정보다는 낮다. 여기서 눈여겨볼 것은 전통적으로 추정되던 태양광과 풍 력 등 재생에너지원에 대한 LCOE와 더불어, 태양광과 풍력이 변동성 재생에너지임 에 따라 ESS의 보급도 중요해지면서 ESS의 LCOE도 추정하여 제시한다는 것이다. 2021년 상반기 ESS의 LCOE는 $138/kWh로 최근 비용이 빠르게 하락하는 것을 볼 수 있다([그림 2-32]).47) 45) IRENA(2021b), p.83. 46) BNEF는 반기로 LCOE를 업데이트함. 47) ESS는 유틸리티급 리튬이온 배터리로 충전비용을 포함하여 일일 4시간 활용 가정. 30',\n",
       " '[그림 2-33] 2021년 LCOE 기준 최저비용 신규 대규모 발전원 자료: BNEF(2021g), p.15. [그림 2-34] 2021년 LCOE 기준 신규 태양광 풍력 VS 기존 화석연료 자료: IBNEF(2021g), p.16. 32',\n",
       " 'BNEF(2022e)에서는 2022년 상반기 LCOE를 분석하였는데, 전력 부문의 비용 인플레이션으로 태양광, 육상풍력, 배터리저장장치의 LCOE가 증가하였음을 제시하 였다. IRENA(2022)에서도 2021년 하반기에서 2022년 상반기 사이에 원자재와 물 류 비용 상승으로 2022년 재생에너지 비용 상승 가능성을 언급한 바 있으나 이러한 비용 상승이 전체적인 추이에 대한 변곡점이 될 것으로 전망하지는 않았다. 한편, 공급망 위기와 가격 상승에도 불구하고 러·우 전쟁으로 화석연료 가격이 급등하면 서 재생에너지 상대가격은 개선되고 있다. 2022년 1분기 기준 태양광과 육상풍력의 발전비용은 신규 석탄 및 가스와 비교하여 1/2 수준이다([그림 2-10]). 2022년 상반기 기준 태양광, 육상풍력, 배터리저장장치의 LCOE는 각각 $45/MWh, $46/MWh, $153/MWh으로, 전년도 동기 대비 13.5%, 6.7%, 8.4% 증가하였다. 해상풍력 LCOE는 $86/MWh로 분석한 재생에너지원 중 유일하게 하 락세(-3.5%)를 보였다([그림 2-10]).14) 2020년 이후 태양광 모듈 비용은 와트당 26~27달러를 유지하였지만, 기타 BOS(Balance of System), 물류비, 인건비가 상 승하여 태양광 LCOE가 증가하였고, 육상풍력은 중국지역에서의 LCOE는 하락하였 으나, 이외 지역에서 철강, 원자재, 인건비, 물류비 등이 상승하면서 글로벌 육상풍 력 LCOE 상승을 이끌었다. 배터리 저장장치의 LCOE 상승은 리튬 중심의 원자재 비용과 충전 비용 상승이 주요 이유였다. 해상풍력 LCOE 하락세는 중국 중심의 보 급(약 85%)이 이루어졌기 때문으로, 중국에서의 보조금 지급이 풍력 부품 가격 하 락을 초래한 것으로 보인다. 다만 중국 이외 지역의 해상풍력 LCOE는 상승한 것으 로 나타났다.15) 14) BNEF(2022d) 엑셀자료를 참고하여 작성. 15) BNEF(2022e), pp.3~4. 14']"
      ]
     },
     "execution_count": 35,
     "metadata": {},
     "output_type": "execute_result"
    }
   ],
   "source": [
    "[res[0].page_content for res in results[:3]]"
   ]
  },
  {
   "cell_type": "markdown",
   "id": "5b4660f6-90b1-423c-9209-143afe28d6ec",
   "metadata": {},
   "source": [
    "### 사용자 정의 가능한 옵션\n",
    "이제 벡터 저장소가 준비되었으므로 질문을 시작할 수 있습니다.\n",
    "\n",
    "Vector Store를 둘러싸서 LLM 입력을 받는 LangChain에서 제공하는 래퍼를 사용할 수 있습니다.\n",
    "이 래퍼는 뒤에서 다음 단계를 수행합니다.\n",
    "- 질문을 입력합니다.\n",
    "- 질문 임베딩 생성\n",
    "- 관련 문서 가져오기\n",
    "- 프롬프트에 문서와 질문을 채워 넣습니다.\n",
    "- 프롬프트로 모델을 호출하고 사람이 읽을 수 있는 방식으로 답변을 생성합니다.\n",
    "\n",
    "위 시나리오에서는 질문에 대한 상황 인식 답변을 빠르고 쉽게 얻을 수 있는 방법을 탐색했습니다. 이제 문서를 가져오는 방법을 사용자 정의할 수 있는 [RetrievalQA](https://python.langchain.com/en/latest/modules/chains/index_examples/Vector_db_qa.html)의 도움으로 더 사용자 정의 가능한 옵션을 살펴보겠습니다. `chain_type` 매개변수를 사용하여 프롬프트에 추가해야 합니다. 또한 검색해야 하는 관련 문서 수를 제어하려면 아래 셀에서 'k' 매개변수를 변경하여 다른 출력을 확인하세요. 많은 시나리오에서 LLM이 답변을 생성하는 데 사용한 소스 문서가 무엇인지 알고 싶을 수 있습니다. LLM 프롬프트의 컨텍스트에 추가된 문서를 반환하는 `return_source_documents`를 사용하여 출력에서 ​​해당 문서를 가져올 수 있습니다. 'RetrievalQA'를 사용하면 모델에 특정한 사용자 정의 [프롬프트 템플릿](https://python.langchain.com/en/latest/modules/prompts/prompt_templates/getting_started.html)을 제공할 수도 있습니다.\n",
    "\n",
    "참고: 이 예에서는 Amazon Bedrock에서 LLM으로 Anthropic Claude를 사용하고 있습니다. 이 특정 모델은 입력이 'Human:' 아래에 제공되고 모델이 'Assistant:' 다음에 출력을 생성하도록 요청되는 경우 가장 잘 수행됩니다. 아래 셀에는 LLM이 기본 상태를 유지하고 컨텍스트 외부에서 응답하지 않도록 프롬프트를 제어하는 ​​방법의 예가 나와 있습니다.\n",
    "\n",
    "#### [[REF] Using langchain for Question Answering on Own Data](https://medium.com/@onkarmishra/using-langchain-for-question-answering-on-own-data-3af0a82789ed)"
   ]
  },
  {
   "cell_type": "code",
   "execution_count": 36,
   "id": "0af45b12-c497-4496-8b5d-91e28d8a0491",
   "metadata": {
    "tags": []
   },
   "outputs": [],
   "source": [
    "from langchain.schema import BaseRetriever\n",
    "from typing import Any, Dict, List, Optional, List, Tuple\n",
    "from langchain.callbacks.manager import CallbackManagerForRetrieverRun\n",
    "\n",
    "# lexical(keyword) search based (using Amazon OpenSearch)\n",
    "class OpenSearchLexicalSearchRetriever(BaseRetriever):\n",
    "    os_client: Any\n",
    "    index_name: str\n",
    "    k = 3\n",
    "    filter = []\n",
    "\n",
    "    def normalize_search_results(self, search_results):\n",
    "        hits = (search_results[\"hits\"][\"hits\"])\n",
    "        max_score = float(search_results[\"hits\"][\"max_score\"])\n",
    "        for hit in hits:\n",
    "            hit[\"_score\"] = float(hit[\"_score\"]) / max_score\n",
    "        search_results[\"hits\"][\"max_score\"] = hits[0][\"_score\"]\n",
    "        search_results[\"hits\"][\"hits\"] = hits\n",
    "        return search_results\n",
    "\n",
    "    def update_search_params(self, **kwargs):\n",
    "        self.k = kwargs.get(\"k\", 3)\n",
    "        self.filter = kwargs.get(\"filter\", [])\n",
    "        self.index_name = kwargs.get(\"index_name\", self.index_name)\n",
    "\n",
    "    def _reset_search_params(self, ):\n",
    "        self.k = 3\n",
    "        self.filter = []\n",
    "        \n",
    "    def query_lexical(self, query, filter=[], k=5):\n",
    "        QUERY_TEMPLATE = {\n",
    "            \"size\": k,\n",
    "            \"query\": {\n",
    "                \"bool\": {\n",
    "                    \"must\": [\n",
    "                        {\n",
    "                            \"match\": {\n",
    "                                \"text\": {\n",
    "                                    \"query\": query,\n",
    "                                    \"operator\":  \"or\"\n",
    "                                }\n",
    "                            }\n",
    "                        }\n",
    "                    ],\n",
    "                    \"filter\": filter\n",
    "                }\n",
    "            }\n",
    "        }\n",
    "        \n",
    "        if len(filter) > 0:\n",
    "            QUERY_TEMPLATE[\"query\"][\"bool\"][\"filter\"].extend(filter)\n",
    "            \n",
    "        return QUERY_TEMPLATE\n",
    "    \n",
    "\n",
    "    def _get_relevant_documents(\n",
    "        self, query: str, *, run_manager: CallbackManagerForRetrieverRun) -> List[Document]:\n",
    "        \n",
    "        query = self.query_lexical(\n",
    "            query=query,\n",
    "            filter=self.filter,\n",
    "            k=self.k\n",
    "        )\n",
    "\n",
    "        # print (\"lexical search query: \")\n",
    "        # print(query)\n",
    "        \n",
    "        search_results = self.os_client.search(\n",
    "            body=query,\n",
    "            index=self.index_name\n",
    "        )\n",
    "\n",
    "        results = []\n",
    "        if search_results[\"hits\"][\"hits\"]:\n",
    "            search_results = self.normalize_search_results(search_results)\n",
    "            for res in search_results[\"hits\"][\"hits\"]:\n",
    "\n",
    "                metadata = res[\"_source\"][\"metadata\"]\n",
    "                metadata[\"id\"] = res[\"_id\"]\n",
    "\n",
    "                doc = Document(\n",
    "                    page_content=res[\"_source\"][\"text\"],\n",
    "                    metadata=metadata\n",
    "                )\n",
    "                results.append((doc))\n",
    "\n",
    "        self._reset_search_params()\n",
    "\n",
    "        return results[:self.k]\n"
   ]
  },
  {
   "cell_type": "code",
   "execution_count": 37,
   "id": "6a1a82af-e218-4504-8073-91e40a46c5e2",
   "metadata": {
    "tags": []
   },
   "outputs": [],
   "source": [
    "from langchain.chains import RetrievalQA\n",
    "from langchain.prompts import PromptTemplate\n",
    "# from utils.rag import run_RetrievalQA, show_context_used"
   ]
  },
  {
   "cell_type": "code",
   "execution_count": 38,
   "id": "c0cc9871-9693-4fef-9f77-d8a1aa929475",
   "metadata": {
    "tags": []
   },
   "outputs": [],
   "source": [
    "prompt_template = \"\"\"\n",
    "\\n\\nHuman: Use the following pieces of context to provide a concise answer to the question at the end.\n",
    "If you don't know the answer, just say that you don't know, don't try to make up an answer.\n",
    "\n",
    "{context}\n",
    "\n",
    "Question: {question}\n",
    "\n",
    "\\n\\nAssistant:\"\"\"\n",
    "\n",
    "\n",
    "PROMPT = PromptTemplate(\n",
    "    template=prompt_template,\n",
    "    input_variables=[\"context\", \"question\"]\n",
    ")"
   ]
  },
  {
   "cell_type": "code",
   "execution_count": 39,
   "id": "0d0bfe29-176d-4356-982e-2babfa7dd756",
   "metadata": {
    "tags": []
   },
   "outputs": [],
   "source": [
    "chain = load_qa_chain(\n",
    "    llm=llm_text,\n",
    "    chain_type=\"stuff\",\n",
    "    prompt=PROMPT,\n",
    "    verbose=True\n",
    ")"
   ]
  },
  {
   "cell_type": "code",
   "execution_count": 40,
   "id": "e39efd83-a928-4f35-9219-65aa89548fcf",
   "metadata": {
    "tags": []
   },
   "outputs": [],
   "source": [
    "boolean_filter = []\n",
    "boolean_filter = [\n",
    "    {\"term\": {\"metadata.source\": \"국제 신재생에너지 정책변화 및 시장 분석_22-26.pdf\"}},\n",
    "    {\"term\": {\"metadata.type\": \"국제 신재생에너지 정책변화 및 시장 분석\"}},\n",
    "]"
   ]
  },
  {
   "cell_type": "code",
   "execution_count": 41,
   "id": "32ae3ed7-32bd-4247-929d-0179bc119034",
   "metadata": {
    "tags": []
   },
   "outputs": [],
   "source": [
    "opensearch_lexical_retriever = OpenSearchLexicalSearchRetriever(\n",
    "    os_client=os_client,\n",
    "    index_name=index_name,\n",
    "    k=3,\n",
    "    filter=boolean_filter\n",
    ")"
   ]
  },
  {
   "cell_type": "code",
   "execution_count": 42,
   "id": "a12b88ab-90ba-4096-a20d-c89489d5a277",
   "metadata": {
    "tags": []
   },
   "outputs": [
    {
     "name": "stdout",
     "output_type": "stream",
     "text": [
      "\n",
      "\n",
      "\u001b[1m> Entering new StuffDocumentsChain chain...\u001b[0m\n",
      "\n",
      "\n",
      "\u001b[1m> Entering new LLMChain chain...\u001b[0m\n",
      "Prompt after formatting:\n",
      "\u001b[32;1m\u001b[1;3m\n",
      "\n",
      "\n",
      "Human: Use the following pieces of context to provide a concise answer to the question at the end.\n",
      "If you don't know the answer, just say that you don't know, don't try to make up an answer.\n",
      "\n",
      "\n",
      "\n",
      "Question: 2020년 LCOE 값을 알려줘.\n",
      "\n",
      "\n",
      "\n",
      "Assistant:\u001b[0m\n",
      "죄송합니다. 제가 제공받은 정보로는 2020년 LCOE(Levelized Cost of Energy, 균등화발전원가) 값을 알려드릴 수 없습니다. LCOE는 특정 발전원의 전력 생산 비용을 나타내는 지표이지만, 해당 연도의 구체적인 값이 제시되지 않았기 때문입니다. 더 자세한 정보가 필요할 것 같습니다.\n",
      "\u001b[1m> Finished chain.\u001b[0m\n",
      "\n",
      "\u001b[1m> Finished chain.\u001b[0m\n"
     ]
    }
   ],
   "source": [
    "answer = chain.invoke(\n",
    "    {\n",
    "        \"input_documents\": opensearch_lexical_retriever.get_relevant_documents(query), \n",
    "        \"question\": query\n",
    "    }, \n",
    "    # return_only_outputs=True\n",
    ")"
   ]
  },
  {
   "cell_type": "code",
   "execution_count": 43,
   "id": "62d97334-60c6-4a34-b875-a3c25894fabe",
   "metadata": {
    "tags": []
   },
   "outputs": [],
   "source": [
    "opensearch_semantic_retriever = vector_db.as_retriever(\n",
    "    search_type=\"similarity\",\n",
    "    search_kwargs={\n",
    "        \"k\": 5,\n",
    "        \"boolean_filter\": boolean_filter\n",
    "    }\n",
    ")"
   ]
  },
  {
   "cell_type": "code",
   "execution_count": 44,
   "id": "35477b74-5882-4ba9-9d00-76dc38e61ae7",
   "metadata": {
    "tags": []
   },
   "outputs": [
    {
     "name": "stdout",
     "output_type": "stream",
     "text": [
      "\n",
      "\n",
      "\u001b[1m> Entering new StuffDocumentsChain chain...\u001b[0m\n",
      "\n",
      "\n",
      "\u001b[1m> Entering new LLMChain chain...\u001b[0m\n",
      "Prompt after formatting:\n",
      "\u001b[32;1m\u001b[1;3m\n",
      "\n",
      "\n",
      "Human: Use the following pieces of context to provide a concise answer to the question at the end.\n",
      "If you don't know the answer, just say that you don't know, don't try to make up an answer.\n",
      "\n",
      "\n",
      "\n",
      "Question: 2020년 LCOE 값을 알려줘.\n",
      "\n",
      "\n",
      "\n",
      "Assistant:\u001b[0m\n",
      "죄송합니다. 제가 제공받은 정보로는 2020년 LCOE(Levelized Cost of Energy, 균등화발전원가) 값을 알려드릴 수 없습니다. LCOE는 특정 발전원의 전력 생산 비용을 나타내는 지표이지만, 해당 연도의 구체적인 값이 제시되지 않았기 때문입니다. 더 자세한 정보가 필요할 것 같습니다.\n",
      "\u001b[1m> Finished chain.\u001b[0m\n",
      "\n",
      "\u001b[1m> Finished chain.\u001b[0m\n"
     ]
    }
   ],
   "source": [
    "answer = chain.invoke(\n",
    "    {\n",
    "        \"input_documents\": opensearch_semantic_retriever.get_relevant_documents(query), \n",
    "        \"question\": query\n",
    "    }, \n",
    "    # return_only_outputs=True\n",
    ")"
   ]
  },
  {
   "cell_type": "markdown",
   "id": "caf67e77-15d5-4a8f-b0b5-a6d69baab68c",
   "metadata": {},
   "source": [
    "## 9. OpenSearch Hybrid 검색"
   ]
  },
  {
   "cell_type": "markdown",
   "id": "8caa5119-13da-4e6a-a6f2-e6a1cba826ee",
   "metadata": {},
   "source": [
    "OpenSearch Hybrid 는 아래와 같은 방식으로 작동합니다.\n",
    "- (1) \"Vector 서치\" 하여 스코어를 얻은 후에 표준화를 하여 스코어를 구함. \n",
    "    - 전체 결과에서 가장 높은 스코어는 표준화 과정을 통하여 스코어가 1.0 이 됨.\n",
    "- (2) Keyword 서치도 동일하게 함.\n",
    "- (3) Reciprocal Rank Fusion (RRF) 기반 Re-rank\n",
    "    - Paper: https://plg.uwaterloo.ca/~gvcormac/cormacksigir09-rrf.pdf\n",
    "    - Desc: https://medium.com/@sowmiyajaganathan/hybrid-search-with-re-ranking-ff120c8a426d\n",
    "    - **RRF의 경우 score가 아닌 ranking 정보를 활용, 때문에 score normalization이 필요 없음**\n",
    "\n",
    "RRF는 langchain에서 \"Ensemble Retriever\" 이름으로 api를 제공합니다. \n",
    "- https://python.langchain.com/docs/modules/data_connection/retrievers/ensemble\n"
   ]
  },
  {
   "cell_type": "markdown",
   "id": "31f8f74d-ab29-4149-94e6-e85c6671a25e",
   "metadata": {},
   "source": [
    "### Ensemble retriever 정의\n",
    "- https://python.langchain.com/docs/modules/data_connection/retrievers/ensemble\n",
    "- RRF 방식만 지원\n",
    "- Rank constant (param \"c\")\n",
    "    - This value determines how much influence documents in individual result sets per query have over the final ranked result set. A higher value indicates that lower ranked documents have more influence. This value must be greater than or equal to 1. Defaults to 60.\n",
    "    - 숫자 높을 수록 낮은 랭크의 문서가 더 중요시 된다"
   ]
  },
  {
   "cell_type": "code",
   "execution_count": 45,
   "id": "792310d5-8117-49ea-a278-c3066052bee6",
   "metadata": {
    "tags": []
   },
   "outputs": [],
   "source": [
    "from langchain.retrievers import EnsembleRetriever"
   ]
  },
  {
   "cell_type": "code",
   "execution_count": 46,
   "id": "41e710fb-c2dd-4ae2-8f1c-984f01e37363",
   "metadata": {
    "tags": []
   },
   "outputs": [],
   "source": [
    "ensemble_retriever = EnsembleRetriever(\n",
    "    retrievers=[opensearch_lexical_retriever, opensearch_semantic_retriever],\n",
    "    weights=[0.5, 0.5],\n",
    "    c=100,\n",
    "    k=5\n",
    ")"
   ]
  },
  {
   "cell_type": "code",
   "execution_count": 48,
   "id": "71eaba52-d631-4d99-a0d5-b4975932977c",
   "metadata": {
    "tags": []
   },
   "outputs": [],
   "source": [
    "# 쿼리 지정\n",
    "query = \"\"\"\n",
    "You are a data analyst and you are conducting a PESTEL analysis of the solar power industry.\n",
    "\n",
    "Please follow the steps bellow.\n",
    "\n",
    "1. Gather and analyze data related to the political, economic, social, technological, environmental, and legal factors influencing the Solar Photovoltaics industry. Specifically focus on:\n",
    "\n",
    "\n",
    "**Political Factors:**\n",
    "- Analyze government policies and regulations that impact the Solar Photovoltaics sector\n",
    "- Evaluate political stability and its effect on Solar Photovoltaics investments\n",
    "- Examine international agreements and treaties that influence Solar Photovoltaics development\n",
    "\n",
    "**Economic Factors:**\n",
    "- Study the cost competitiveness of Solar Photovoltaics technologies compared to traditional sources\n",
    "- Analyze trends in financing and investment in Solar Photovoltaics projects\n",
    "- Assess economic growth rates and their impact on Solar Photovoltaics demand\n",
    "\n",
    "**Social Factors:**\n",
    "- Investigate public perception and acceptance of Solar Photovoltaics solutions\n",
    "- Examine demographic trends and their influence on Solar Photovoltaics adoption\n",
    "- Evaluate social equity considerations in Solar Photovoltaics access and distribution\n",
    "\n",
    "**Technological Factors:**\n",
    "- Assess advancements in Solar Photovoltaics technologies and their potential for growth\n",
    "- Analyze research and development activities in the Solar Photovoltaics sector\n",
    "- Evaluate technological barriers and opportunities for innovation in Solar Photovoltaics\n",
    "\n",
    "**Environmental Factors:**\n",
    "- Study the environmental impact of Solar Photovoltaics sources compared to fossil fuels\n",
    "- Analyze the role of Solar Photovoltaics in addressing climate change and sustainability\n",
    "- Evaluate environmental regulations and policies affecting the Solar Photovoltaics industry\n",
    "\n",
    "**Legal Factors:**\n",
    "- Examine laws and regulations governing Solar Photovoltaics development and operations\n",
    "- Assess intellectual property rights and legal challenges in the Solar Photovoltaics sector\n",
    "- Analyze international trade agreements and their impact on Solar Photovoltaics markets\n",
    "\n",
    "**Data Analysis Tasks:**\n",
    "- Collect data from reliable sources such as government reports, industry publications, and research studies\n",
    "- Conduct quantitative and qualitative analysis to identify key trends and patterns\n",
    "- Create visualizations to present data insights and findings\n",
    "- Compare data across different regions or countries to understand global trends\n",
    "Provide recommendations based on the data analysis for strategic decision-making in the Solar Photovoltaics sector\n",
    "\n",
    "2. Please translate in Korean.\n",
    "\n",
    "\"\"\""
   ]
  },
  {
   "cell_type": "code",
   "execution_count": 49,
   "id": "b944ed69-e539-4836-b4cf-87d2c8d16cbe",
   "metadata": {
    "tags": []
   },
   "outputs": [
    {
     "name": "stdout",
     "output_type": "stream",
     "text": [
      "\n",
      "\n",
      "\u001b[1m> Entering new StuffDocumentsChain chain...\u001b[0m\n",
      "\n",
      "\n",
      "\u001b[1m> Entering new LLMChain chain...\u001b[0m\n",
      "Prompt after formatting:\n",
      "\u001b[32;1m\u001b[1;3m\n",
      "\n",
      "\n",
      "Human: Use the following pieces of context to provide a concise answer to the question at the end.\n",
      "If you don't know the answer, just say that you don't know, don't try to make up an answer.\n",
      "\n",
      "Lessons from Europe and the US.” Energy Policy 35(1): 144-155. García-Álvarez, M. T., Cabeza-García, L., Soares, I. 2017. “Analysis of the promotion of onshore wind energy in the EU: Feed-in tariff or renewable portfolio standard?” Renewable energy 111: 256-264. Grinlinton, D., Paddock, L. 2010. “The role of feed-in tariffs in supporting the expansion of solar energy production.” The University of Toledo Law Review 41(4): 943-974. IRENA. 2022. “Renewable Power Generation Costs in 2021.” Menanteau, P., Finon, D., Lamy, M. L. 2003. “Prices versus quantities: choosing policies for promoting the development of renewable energy.” Energy policy 31(8): 799-812. Neij, L. 1997. “Use of experience curves to analyse the prospects for diffusion and adoption of renewable energy technology.” Energy policy 25(13): 1099-1107. Nicolini, M., & Tavoni, M. 2017. “Are renewable energy subsidies effective? Evidence from Europe.” Renewable and Sustainable Energy Reviews 74: 412-423. REN21. 2006~2022 각연도. “Renewables Global Status Report.” Sozialdemokratische Partei Deutschlands (SPD)〮Freie Demokratische Partei (FDP)〮 BÜNDNIS 90/DIE GRÜNEN. 2021. “Mehr Fortschritt Wagen-Bündnis für Freiheit Gerechtigkeit und Nachhaltigkeit.” KOALITIONSVERTRAG 2021-2025. UNFCCC. 2020. “Submission by croatia and the European Commission on behalf of the European Union and its member States: Long-term law greenhouse gas emission development strategy of the European Union and its Member States.” Zhao, Y., Tang, K. K., Wang, L. L. 2013. “Do renewable electricity policies promote renewable electricity generation? Evidence from panel data.” Energy policy 62: 887-897. 104\n",
      "\n",
      "BNEF. 2021o. “Solar Manufactures 2020 Production Excel Data.” BNEF. 2021p. “Solar Manufactures 2020 Production.” BNEF. 2021q. “Wind Trade and Manufacturing: A Deep Dive.” Eerdata. 2021a. “China Country Report Excel Data.” Enerdata. 2021b. “South Korea Country Report Excel Data.” European Commission. 2020. “Renewable Energy Progress Report.” European Parliament. 2018. “Palm oil: Economic and environmental impacts.” Fabian Wigand. 2020. “Market-based support schemes for renewable energy and the role of regulators.” ICTSD. 2008. “HS Code and the Renewable Energy Sector.” IEA 외. 2021. “Tracking SDG 7 The Energy Progress Report 2021.” IEA. 2021a. “World Energy Outlook 2021.” IEA. 2021b. “Net Zero by 2050 A Roadmap for the Global Energy Sector.” IRENA. 2021a. “Renewable Energy and Jobs Annual Review 2021.” IRENA. 2021b. “Renewable Power Generation Costs in 2020.” NEDO. 2020. “NEDO의 국제실증사업.” NEDO. 2021. “신에너지 등의 초기 기술(seeds) 발굴·사업화를 위한 기술 연구개발 사업 기본계획.” REN21. 2010. “Renewables 2021 Global Status Report.” REN21. 2011. “Renewables 2021 Global Status Report.” REN21. 2012. “Renewables 2021 Global Status Report.” REN21. 2013. “Renewables 2021 Global Status Report.” REN21. 2014. “Renewables 2021 Global Status Report.” REN21. 2015. “Renewables 2021 Global Status Report.” REN21. 2016. “Renewables 2021 Global Status Report.” 126\n",
      "\n",
      "Climate Action Tracker 홈페이지. https://climateactiontracker.org/countries/germany/net-zero-targets/(최종접속 일: 2022.9.25.). Enerdata Database. https://global-energy-data.enerdata.net/database/(최종접속일: 2022. 11. 20). Enerdata 세계에너지 및 기후 통계 –2022년 연감. https://yearbook.enerdata.co.kr/electricity/electricity-domestic-consumption- data.html(최종접속일: 2022.11.15). Energy and Climate Intelligence Unit(ECIU) 홈페이지. https://zerotracker.net/(최종접속 일: 2022. 10. 04). European Commission. 2018.7.25 작성. Joint U.S.-EU Statement following President Ju ncker's visit to the White House. https://ec.europa.eu/commission/presscorner /detail/en/STATEMENT_18_4687(최종접속일: 2022.8.25.). European Commission. 2019.3.8 작성. EU-U.S. Joint Statement: Liquefied Natural Gas (LNG) imports from the U.S. continue to rise, up by 181%. https://ec.europa.eu/ commission/presscorner/detail/en/IP_19_1531(최종접속일: 2022.8.26.). European Commission. 2022.5.18 작성. REPowerEU: A plan to rapidly reduce dependen ce on Russian fossil fuels and fast forward the green transition. https://ec.europ a.eu/commission/presscorner/detail/en/ip_22_3131(최종접속일: 2022.10.30.). European Commission. Go-to areas for wind and solar. https://joint-research-centre. ec.europa.eu/energy-and-industry-geography-lab/go-areas-wind-and-solar_e n(최종접속일: 2022.9.2.). Federal Ministry for Economic Affairs and Climate Action. 2022.4.6 작성. Overview of t he Easter Package. https://www.bmwk.de/Redaktion/EN/Downloads/Energy/04 06_ueberblickspapier_osterpaket_en.pdf?__blob=publicationFile&v=5(최종접속 일: 2022.9.25.). IEA Data browser. https://www.iea.org/fuels-and-technologies/electricity(최종접속일: 2022. 11. 14). 106\n",
      "\n",
      "Question: \n",
      "You are a data analyst and you are conducting a PESTEL analysis of the solar power industry.\n",
      "\n",
      "Please follow the steps bellow.\n",
      "\n",
      "1. Gather and analyze data related to the political, economic, social, technological, environmental, and legal factors influencing the Solar Photovoltaics industry. Specifically focus on:\n",
      "\n",
      "\n",
      "**Political Factors:**\n",
      "- Analyze government policies and regulations that impact the Solar Photovoltaics sector\n",
      "- Evaluate political stability and its effect on Solar Photovoltaics investments\n",
      "- Examine international agreements and treaties that influence Solar Photovoltaics development\n",
      "\n",
      "**Economic Factors:**\n",
      "- Study the cost competitiveness of Solar Photovoltaics technologies compared to traditional sources\n",
      "- Analyze trends in financing and investment in Solar Photovoltaics projects\n",
      "- Assess economic growth rates and their impact on Solar Photovoltaics demand\n",
      "\n",
      "**Social Factors:**\n",
      "- Investigate public perception and acceptance of Solar Photovoltaics solutions\n",
      "- Examine demographic trends and their influence on Solar Photovoltaics adoption\n",
      "- Evaluate social equity considerations in Solar Photovoltaics access and distribution\n",
      "\n",
      "**Technological Factors:**\n",
      "- Assess advancements in Solar Photovoltaics technologies and their potential for growth\n",
      "- Analyze research and development activities in the Solar Photovoltaics sector\n",
      "- Evaluate technological barriers and opportunities for innovation in Solar Photovoltaics\n",
      "\n",
      "**Environmental Factors:**\n",
      "- Study the environmental impact of Solar Photovoltaics sources compared to fossil fuels\n",
      "- Analyze the role of Solar Photovoltaics in addressing climate change and sustainability\n",
      "- Evaluate environmental regulations and policies affecting the Solar Photovoltaics industry\n",
      "\n",
      "**Legal Factors:**\n",
      "- Examine laws and regulations governing Solar Photovoltaics development and operations\n",
      "- Assess intellectual property rights and legal challenges in the Solar Photovoltaics sector\n",
      "- Analyze international trade agreements and their impact on Solar Photovoltaics markets\n",
      "\n",
      "**Data Analysis Tasks:**\n",
      "- Collect data from reliable sources such as government reports, industry publications, and research studies\n",
      "- Conduct quantitative and qualitative analysis to identify key trends and patterns\n",
      "- Create visualizations to present data insights and findings\n",
      "- Compare data across different regions or countries to understand global trends\n",
      "Provide recommendations based on the data analysis for strategic decision-making in the Solar Photovoltaics sector\n",
      "\n",
      "2. Please translate in Korean.\n",
      "\n",
      "\n",
      "\n",
      "\n",
      "\n",
      "Assistant:\u001b[0m\n",
      "안녕하세요. 태양광 발전 산업에 대한 PESTEL 분석을 수행하기 위해 다음 단계를 따르겠습니다.\n",
      "\n",
      "1. 정치, 경제, 사회, 기술, 환경, 법적 요인과 관련된 데이터를 수집하고 분석하겠습니다.\n",
      "\n",
      "정치적 요인:\n",
      "- 태양광 발전 부문에 영향을 미치는 정부 정책 및 규제 분석\n",
      "- 정치적 안정성이 태양광 투자에 미치는 영향 평가\n",
      "- 태양광 발전 개발에 영향을 주는 국제 협정 및 조약 검토\n",
      "\n",
      "경제적 요인: \n",
      "- 태양광 기술의 전통 에너지원 대비 비용 경쟁력 연구\n",
      "- 태양광 프로젝트에 대한 금융 및 투자 동향 분석  \n",
      "- 경제 성장률이 태양광 수요에 미치는 영향 평가\n",
      "\n",
      "사회적 요인:\n",
      "- 태양광 솔루션에 대한 대중 인식 및 수용도 조사\n",
      "- 인구 통계 추세가 태양광 채택에 미치는 영향 검토\n",
      "- 태양광 접근성 및 분배에 있어 사회 형평성 고려사항 평가\n",
      "\n",
      "기술적 요인:\n",
      "- 태양광 기술의 발전 및 성장 잠재력 평가\n",
      "- 태양광 부문의 연구 개발 활동 분석\n",
      "- 태양광 혁신을 위한 기술적 장벽 및 기회 평가\n",
      "\n",
      "환경적 요인: \n",
      "- 화석 연료 대비 태양광의 환경 영향 연구\n",
      "- 기후 변화 및 지속 가능성 측면에서 태양광의 역할 분석\n",
      "- 태양광 산업에 영향을 미치는 환경 규제 및 정책 평가  \n",
      "\n",
      "법적 요인:\n",
      "- 태양광 개발 및 운영을 규제하는 법률 검토\n",
      "- 태양광 부문의 지적 재산권 및 법적 과제 평가\n",
      "- 태양광 시장에 영향을 미치는 국제 무역 협정 분석\n",
      "\n",
      "데이터 분석 작업:\n",
      "- 정부 보고서, 산업 간행물, 연구 조사 등 신뢰할 수 있는 출처에서 데이터 수집\n",
      "- 주요 동향 및 패턴 식별을 위한 정량 및 정성 분석 수행\n",
      "- 데이터 인사이트 및 발견 사항을 시각화하여 제시\n",
      "- 글로벌 동향 이해를 위해 다양한 지역 또는 국가 간 데이터 비교\n",
      "- 데이터 분석을 기반으로 태양광 발전 부문의 전략적 의사 결정을 위한 권장 사항 제공\n",
      "\n",
      "2. 위 내용을 한국어로 번역하였습니다.\n",
      "\u001b[1m> Finished chain.\u001b[0m\n",
      "\n",
      "\u001b[1m> Finished chain.\u001b[0m\n",
      "##############################\n",
      "query: \n",
      " \n",
      "You are a data analyst and you are conducting a PESTEL analysis of the solar power industry.\n",
      "\n",
      "Please follow the steps bellow.\n",
      "\n",
      "1. Gather and analyze data related to the political, economic, social, technological, environmental, and legal factors influencing the Solar Photovoltaics industry. Specifically focus on:\n",
      "\n",
      "\n",
      "**Political Factors:**\n",
      "- Analyze government policies and regulations that impact the Solar Photovoltaics sector\n",
      "- Evaluate political stability and its effect on Solar Photovoltaics investments\n",
      "- Examine international agreements and treaties that influence Solar Photovoltaics development\n",
      "\n",
      "**Economic Factors:**\n",
      "- Study the cost competitiveness of Solar Photovoltaics technologies compared to traditional sources\n",
      "- Analyze trends in financing and investment in Solar Photovoltaics projects\n",
      "- Assess economic growth rates and their impact on Solar Photovoltaics demand\n",
      "\n",
      "**Social Factors:**\n",
      "- Investigate public perception and acceptance of Solar Photovoltaics solutions\n",
      "- Examine demographic trends and their influence on Solar Photovoltaics adoption\n",
      "- Evaluate social equity considerations in Solar Photovoltaics access and distribution\n",
      "\n",
      "**Technological Factors:**\n",
      "- Assess advancements in Solar Photovoltaics technologies and their potential for growth\n",
      "- Analyze research and development activities in the Solar Photovoltaics sector\n",
      "- Evaluate technological barriers and opportunities for innovation in Solar Photovoltaics\n",
      "\n",
      "**Environmental Factors:**\n",
      "- Study the environmental impact of Solar Photovoltaics sources compared to fossil fuels\n",
      "- Analyze the role of Solar Photovoltaics in addressing climate change and sustainability\n",
      "- Evaluate environmental regulations and policies affecting the Solar Photovoltaics industry\n",
      "\n",
      "**Legal Factors:**\n",
      "- Examine laws and regulations governing Solar Photovoltaics development and operations\n",
      "- Assess intellectual property rights and legal challenges in the Solar Photovoltaics sector\n",
      "- Analyze international trade agreements and their impact on Solar Photovoltaics markets\n",
      "\n",
      "**Data Analysis Tasks:**\n",
      "- Collect data from reliable sources such as government reports, industry publications, and research studies\n",
      "- Conduct quantitative and qualitative analysis to identify key trends and patterns\n",
      "- Create visualizations to present data insights and findings\n",
      "- Compare data across different regions or countries to understand global trends\n",
      "Provide recommendations based on the data analysis for strategic decision-making in the Solar Photovoltaics sector\n",
      "\n",
      "2. Please translate in Korean.\n",
      "\n",
      "\n",
      "answer: \n",
      " {'input_documents': [Document(page_content='Lessons from Europe and the US.” Energy Policy 35(1): 144-155. García-Álvarez, M. T., Cabeza-García, L., Soares, I. 2017. “Analysis of the promotion of onshore wind energy in the EU: Feed-in tariff or renewable portfolio standard?” Renewable energy 111: 256-264. Grinlinton, D., Paddock, L. 2010. “The role of feed-in tariffs in supporting the expansion of solar energy production.” The University of Toledo Law Review 41(4): 943-974. IRENA. 2022. “Renewable Power Generation Costs in 2021.” Menanteau, P., Finon, D., Lamy, M. L. 2003. “Prices versus quantities: choosing policies for promoting the development of renewable energy.” Energy policy 31(8): 799-812. Neij, L. 1997. “Use of experience curves to analyse the prospects for diffusion and adoption of renewable energy technology.” Energy policy 25(13): 1099-1107. Nicolini, M., & Tavoni, M. 2017. “Are renewable energy subsidies effective? Evidence from Europe.” Renewable and Sustainable Energy Reviews 74: 412-423. REN21. 2006~2022 각연도. “Renewables Global Status Report.” Sozialdemokratische Partei Deutschlands (SPD)〮Freie Demokratische Partei (FDP)〮 BÜNDNIS 90/DIE GRÜNEN. 2021. “Mehr Fortschritt Wagen-Bündnis für Freiheit Gerechtigkeit und Nachhaltigkeit.” KOALITIONSVERTRAG 2021-2025. UNFCCC. 2020. “Submission by croatia and the European Commission on behalf of the European Union and its member States: Long-term law greenhouse gas emission development strategy of the European Union and its Member States.” Zhao, Y., Tang, K. K., Wang, L. L. 2013. “Do renewable electricity policies promote renewable electricity generation? Evidence from panel data.” Energy policy 62: 887-897. 104', metadata={'source': '2022_국제_신재생에너지_정책변화_및_시장분석.pdf', 'type': '2022', 'timestamp': '2024-04-15T01:00:46.819041', 'id': '4a1fc283-0225-4e63-a4cf-796274fb887c'}), Document(page_content='BNEF. 2021o. “Solar Manufactures 2020 Production Excel Data.” BNEF. 2021p. “Solar Manufactures 2020 Production.” BNEF. 2021q. “Wind Trade and Manufacturing: A Deep Dive.” Eerdata. 2021a. “China Country Report Excel Data.” Enerdata. 2021b. “South Korea Country Report Excel Data.” European Commission. 2020. “Renewable Energy Progress Report.” European Parliament. 2018. “Palm oil: Economic and environmental impacts.” Fabian Wigand. 2020. “Market-based support schemes for renewable energy and the role of regulators.” ICTSD. 2008. “HS Code and the Renewable Energy Sector.” IEA 외. 2021. “Tracking SDG 7 The Energy Progress Report 2021.” IEA. 2021a. “World Energy Outlook 2021.” IEA. 2021b. “Net Zero by 2050 A Roadmap for the Global Energy Sector.” IRENA. 2021a. “Renewable Energy and Jobs Annual Review 2021.” IRENA. 2021b. “Renewable Power Generation Costs in 2020.” NEDO. 2020. “NEDO의 국제실증사업.” NEDO. 2021. “신에너지 등의 초기 기술(seeds) 발굴·사업화를 위한 기술 연구개발 사업 기본계획.” REN21. 2010. “Renewables 2021 Global Status Report.” REN21. 2011. “Renewables 2021 Global Status Report.” REN21. 2012. “Renewables 2021 Global Status Report.” REN21. 2013. “Renewables 2021 Global Status Report.” REN21. 2014. “Renewables 2021 Global Status Report.” REN21. 2015. “Renewables 2021 Global Status Report.” REN21. 2016. “Renewables 2021 Global Status Report.” 126', metadata={'source': '2021_국제_신재생에너지_정책변화_및_시장분석.pdf', 'type': '2021', 'timestamp': '2024-04-15T01:00:42.429325', 'id': 'f5290030-f21a-401e-b4eb-298b6d4624bb'}), Document(page_content=\"Climate Action Tracker 홈페이지. https://climateactiontracker.org/countries/germany/net-zero-targets/(최종접속 일: 2022.9.25.). Enerdata Database. https://global-energy-data.enerdata.net/database/(최종접속일: 2022. 11. 20). Enerdata 세계에너지 및 기후 통계 –2022년 연감. https://yearbook.enerdata.co.kr/electricity/electricity-domestic-consumption- data.html(최종접속일: 2022.11.15). Energy and Climate Intelligence Unit(ECIU) 홈페이지. https://zerotracker.net/(최종접속 일: 2022. 10. 04). European Commission. 2018.7.25 작성. Joint U.S.-EU Statement following President Ju ncker's visit to the White House. https://ec.europa.eu/commission/presscorner /detail/en/STATEMENT_18_4687(최종접속일: 2022.8.25.). European Commission. 2019.3.8 작성. EU-U.S. Joint Statement: Liquefied Natural Gas (LNG) imports from the U.S. continue to rise, up by 181%. https://ec.europa.eu/ commission/presscorner/detail/en/IP_19_1531(최종접속일: 2022.8.26.). European Commission. 2022.5.18 작성. REPowerEU: A plan to rapidly reduce dependen ce on Russian fossil fuels and fast forward the green transition. https://ec.europ a.eu/commission/presscorner/detail/en/ip_22_3131(최종접속일: 2022.10.30.). European Commission. Go-to areas for wind and solar. https://joint-research-centre. ec.europa.eu/energy-and-industry-geography-lab/go-areas-wind-and-solar_e n(최종접속일: 2022.9.2.). Federal Ministry for Economic Affairs and Climate Action. 2022.4.6 작성. Overview of t he Easter Package. https://www.bmwk.de/Redaktion/EN/Downloads/Energy/04 06_ueberblickspapier_osterpaket_en.pdf?__blob=publicationFile&v=5(최종접속 일: 2022.9.25.). IEA Data browser. https://www.iea.org/fuels-and-technologies/electricity(최종접속일: 2022. 11. 14). 106\", metadata={'source': '2022_국제_신재생에너지_정책변화_및_시장분석.pdf', 'type': '2022', 'timestamp': '2024-04-15T01:00:47.137473', 'id': 'f90e01fc-96f9-4112-a6d4-cfb40dfb2ed4'})], 'question': '\\nYou are a data analyst and you are conducting a PESTEL analysis of the solar power industry.\\n\\nPlease follow the steps bellow.\\n\\n1. Gather and analyze data related to the political, economic, social, technological, environmental, and legal factors influencing the Solar Photovoltaics industry. Specifically focus on:\\n\\n\\n**Political Factors:**\\n- Analyze government policies and regulations that impact the Solar Photovoltaics sector\\n- Evaluate political stability and its effect on Solar Photovoltaics investments\\n- Examine international agreements and treaties that influence Solar Photovoltaics development\\n\\n**Economic Factors:**\\n- Study the cost competitiveness of Solar Photovoltaics technologies compared to traditional sources\\n- Analyze trends in financing and investment in Solar Photovoltaics projects\\n- Assess economic growth rates and their impact on Solar Photovoltaics demand\\n\\n**Social Factors:**\\n- Investigate public perception and acceptance of Solar Photovoltaics solutions\\n- Examine demographic trends and their influence on Solar Photovoltaics adoption\\n- Evaluate social equity considerations in Solar Photovoltaics access and distribution\\n\\n**Technological Factors:**\\n- Assess advancements in Solar Photovoltaics technologies and their potential for growth\\n- Analyze research and development activities in the Solar Photovoltaics sector\\n- Evaluate technological barriers and opportunities for innovation in Solar Photovoltaics\\n\\n**Environmental Factors:**\\n- Study the environmental impact of Solar Photovoltaics sources compared to fossil fuels\\n- Analyze the role of Solar Photovoltaics in addressing climate change and sustainability\\n- Evaluate environmental regulations and policies affecting the Solar Photovoltaics industry\\n\\n**Legal Factors:**\\n- Examine laws and regulations governing Solar Photovoltaics development and operations\\n- Assess intellectual property rights and legal challenges in the Solar Photovoltaics sector\\n- Analyze international trade agreements and their impact on Solar Photovoltaics markets\\n\\n**Data Analysis Tasks:**\\n- Collect data from reliable sources such as government reports, industry publications, and research studies\\n- Conduct quantitative and qualitative analysis to identify key trends and patterns\\n- Create visualizations to present data insights and findings\\n- Compare data across different regions or countries to understand global trends\\nProvide recommendations based on the data analysis for strategic decision-making in the Solar Photovoltaics sector\\n\\n2. Please translate in Korean.\\n\\n', 'output_text': '안녕하세요. 태양광 발전 산업에 대한 PESTEL 분석을 수행하기 위해 다음 단계를 따르겠습니다.\\n\\n1. 정치, 경제, 사회, 기술, 환경, 법적 요인과 관련된 데이터를 수집하고 분석하겠습니다.\\n\\n정치적 요인:\\n- 태양광 발전 부문에 영향을 미치는 정부 정책 및 규제 분석\\n- 정치적 안정성이 태양광 투자에 미치는 영향 평가\\n- 태양광 발전 개발에 영향을 주는 국제 협정 및 조약 검토\\n\\n경제적 요인: \\n- 태양광 기술의 전통 에너지원 대비 비용 경쟁력 연구\\n- 태양광 프로젝트에 대한 금융 및 투자 동향 분석  \\n- 경제 성장률이 태양광 수요에 미치는 영향 평가\\n\\n사회적 요인:\\n- 태양광 솔루션에 대한 대중 인식 및 수용도 조사\\n- 인구 통계 추세가 태양광 채택에 미치는 영향 검토\\n- 태양광 접근성 및 분배에 있어 사회 형평성 고려사항 평가\\n\\n기술적 요인:\\n- 태양광 기술의 발전 및 성장 잠재력 평가\\n- 태양광 부문의 연구 개발 활동 분석\\n- 태양광 혁신을 위한 기술적 장벽 및 기회 평가\\n\\n환경적 요인: \\n- 화석 연료 대비 태양광의 환경 영향 연구\\n- 기후 변화 및 지속 가능성 측면에서 태양광의 역할 분석\\n- 태양광 산업에 영향을 미치는 환경 규제 및 정책 평가  \\n\\n법적 요인:\\n- 태양광 개발 및 운영을 규제하는 법률 검토\\n- 태양광 부문의 지적 재산권 및 법적 과제 평가\\n- 태양광 시장에 영향을 미치는 국제 무역 협정 분석\\n\\n데이터 분석 작업:\\n- 정부 보고서, 산업 간행물, 연구 조사 등 신뢰할 수 있는 출처에서 데이터 수집\\n- 주요 동향 및 패턴 식별을 위한 정량 및 정성 분석 수행\\n- 데이터 인사이트 및 발견 사항을 시각화하여 제시\\n- 글로벌 동향 이해를 위해 다양한 지역 또는 국가 간 데이터 비교\\n- 데이터 분석을 기반으로 태양광 발전 부문의 전략적 의사 결정을 위한 권장 사항 제공\\n\\n2. 위 내용을 한국어로 번역하였습니다.'}\n",
      "CPU times: user 643 ms, sys: 130 ms, total: 774 ms\n",
      "Wall time: 15.9 s\n"
     ]
    }
   ],
   "source": [
    "%%time\n",
    "answer = chain.invoke(\n",
    "    {\n",
    "        \"input_documents\": ensemble_retriever.get_relevant_documents(query), \n",
    "        \"question\": query\n",
    "    }\n",
    ")\n",
    "\n",
    "print(\"##############################\")\n",
    "print(\"query: \\n\", query)\n",
    "print(\"answer: \\n\", answer)"
   ]
  },
  {
   "cell_type": "code",
   "execution_count": null,
   "id": "766ae463-9a33-47d3-8e07-b1ffe9b5b6ee",
   "metadata": {},
   "outputs": [],
   "source": []
  }
 ],
 "metadata": {
  "availableInstances": [
   {
    "_defaultOrder": 0,
    "_isFastLaunch": true,
    "category": "General purpose",
    "gpuNum": 0,
    "hideHardwareSpecs": false,
    "memoryGiB": 4,
    "name": "ml.t3.medium",
    "vcpuNum": 2
   },
   {
    "_defaultOrder": 1,
    "_isFastLaunch": false,
    "category": "General purpose",
    "gpuNum": 0,
    "hideHardwareSpecs": false,
    "memoryGiB": 8,
    "name": "ml.t3.large",
    "vcpuNum": 2
   },
   {
    "_defaultOrder": 2,
    "_isFastLaunch": false,
    "category": "General purpose",
    "gpuNum": 0,
    "hideHardwareSpecs": false,
    "memoryGiB": 16,
    "name": "ml.t3.xlarge",
    "vcpuNum": 4
   },
   {
    "_defaultOrder": 3,
    "_isFastLaunch": false,
    "category": "General purpose",
    "gpuNum": 0,
    "hideHardwareSpecs": false,
    "memoryGiB": 32,
    "name": "ml.t3.2xlarge",
    "vcpuNum": 8
   },
   {
    "_defaultOrder": 4,
    "_isFastLaunch": true,
    "category": "General purpose",
    "gpuNum": 0,
    "hideHardwareSpecs": false,
    "memoryGiB": 8,
    "name": "ml.m5.large",
    "vcpuNum": 2
   },
   {
    "_defaultOrder": 5,
    "_isFastLaunch": false,
    "category": "General purpose",
    "gpuNum": 0,
    "hideHardwareSpecs": false,
    "memoryGiB": 16,
    "name": "ml.m5.xlarge",
    "vcpuNum": 4
   },
   {
    "_defaultOrder": 6,
    "_isFastLaunch": false,
    "category": "General purpose",
    "gpuNum": 0,
    "hideHardwareSpecs": false,
    "memoryGiB": 32,
    "name": "ml.m5.2xlarge",
    "vcpuNum": 8
   },
   {
    "_defaultOrder": 7,
    "_isFastLaunch": false,
    "category": "General purpose",
    "gpuNum": 0,
    "hideHardwareSpecs": false,
    "memoryGiB": 64,
    "name": "ml.m5.4xlarge",
    "vcpuNum": 16
   },
   {
    "_defaultOrder": 8,
    "_isFastLaunch": false,
    "category": "General purpose",
    "gpuNum": 0,
    "hideHardwareSpecs": false,
    "memoryGiB": 128,
    "name": "ml.m5.8xlarge",
    "vcpuNum": 32
   },
   {
    "_defaultOrder": 9,
    "_isFastLaunch": false,
    "category": "General purpose",
    "gpuNum": 0,
    "hideHardwareSpecs": false,
    "memoryGiB": 192,
    "name": "ml.m5.12xlarge",
    "vcpuNum": 48
   },
   {
    "_defaultOrder": 10,
    "_isFastLaunch": false,
    "category": "General purpose",
    "gpuNum": 0,
    "hideHardwareSpecs": false,
    "memoryGiB": 256,
    "name": "ml.m5.16xlarge",
    "vcpuNum": 64
   },
   {
    "_defaultOrder": 11,
    "_isFastLaunch": false,
    "category": "General purpose",
    "gpuNum": 0,
    "hideHardwareSpecs": false,
    "memoryGiB": 384,
    "name": "ml.m5.24xlarge",
    "vcpuNum": 96
   },
   {
    "_defaultOrder": 12,
    "_isFastLaunch": false,
    "category": "General purpose",
    "gpuNum": 0,
    "hideHardwareSpecs": false,
    "memoryGiB": 8,
    "name": "ml.m5d.large",
    "vcpuNum": 2
   },
   {
    "_defaultOrder": 13,
    "_isFastLaunch": false,
    "category": "General purpose",
    "gpuNum": 0,
    "hideHardwareSpecs": false,
    "memoryGiB": 16,
    "name": "ml.m5d.xlarge",
    "vcpuNum": 4
   },
   {
    "_defaultOrder": 14,
    "_isFastLaunch": false,
    "category": "General purpose",
    "gpuNum": 0,
    "hideHardwareSpecs": false,
    "memoryGiB": 32,
    "name": "ml.m5d.2xlarge",
    "vcpuNum": 8
   },
   {
    "_defaultOrder": 15,
    "_isFastLaunch": false,
    "category": "General purpose",
    "gpuNum": 0,
    "hideHardwareSpecs": false,
    "memoryGiB": 64,
    "name": "ml.m5d.4xlarge",
    "vcpuNum": 16
   },
   {
    "_defaultOrder": 16,
    "_isFastLaunch": false,
    "category": "General purpose",
    "gpuNum": 0,
    "hideHardwareSpecs": false,
    "memoryGiB": 128,
    "name": "ml.m5d.8xlarge",
    "vcpuNum": 32
   },
   {
    "_defaultOrder": 17,
    "_isFastLaunch": false,
    "category": "General purpose",
    "gpuNum": 0,
    "hideHardwareSpecs": false,
    "memoryGiB": 192,
    "name": "ml.m5d.12xlarge",
    "vcpuNum": 48
   },
   {
    "_defaultOrder": 18,
    "_isFastLaunch": false,
    "category": "General purpose",
    "gpuNum": 0,
    "hideHardwareSpecs": false,
    "memoryGiB": 256,
    "name": "ml.m5d.16xlarge",
    "vcpuNum": 64
   },
   {
    "_defaultOrder": 19,
    "_isFastLaunch": false,
    "category": "General purpose",
    "gpuNum": 0,
    "hideHardwareSpecs": false,
    "memoryGiB": 384,
    "name": "ml.m5d.24xlarge",
    "vcpuNum": 96
   },
   {
    "_defaultOrder": 20,
    "_isFastLaunch": false,
    "category": "General purpose",
    "gpuNum": 0,
    "hideHardwareSpecs": true,
    "memoryGiB": 0,
    "name": "ml.geospatial.interactive",
    "supportedImageNames": [
     "sagemaker-geospatial-v1-0"
    ],
    "vcpuNum": 0
   },
   {
    "_defaultOrder": 21,
    "_isFastLaunch": true,
    "category": "Compute optimized",
    "gpuNum": 0,
    "hideHardwareSpecs": false,
    "memoryGiB": 4,
    "name": "ml.c5.large",
    "vcpuNum": 2
   },
   {
    "_defaultOrder": 22,
    "_isFastLaunch": false,
    "category": "Compute optimized",
    "gpuNum": 0,
    "hideHardwareSpecs": false,
    "memoryGiB": 8,
    "name": "ml.c5.xlarge",
    "vcpuNum": 4
   },
   {
    "_defaultOrder": 23,
    "_isFastLaunch": false,
    "category": "Compute optimized",
    "gpuNum": 0,
    "hideHardwareSpecs": false,
    "memoryGiB": 16,
    "name": "ml.c5.2xlarge",
    "vcpuNum": 8
   },
   {
    "_defaultOrder": 24,
    "_isFastLaunch": false,
    "category": "Compute optimized",
    "gpuNum": 0,
    "hideHardwareSpecs": false,
    "memoryGiB": 32,
    "name": "ml.c5.4xlarge",
    "vcpuNum": 16
   },
   {
    "_defaultOrder": 25,
    "_isFastLaunch": false,
    "category": "Compute optimized",
    "gpuNum": 0,
    "hideHardwareSpecs": false,
    "memoryGiB": 72,
    "name": "ml.c5.9xlarge",
    "vcpuNum": 36
   },
   {
    "_defaultOrder": 26,
    "_isFastLaunch": false,
    "category": "Compute optimized",
    "gpuNum": 0,
    "hideHardwareSpecs": false,
    "memoryGiB": 96,
    "name": "ml.c5.12xlarge",
    "vcpuNum": 48
   },
   {
    "_defaultOrder": 27,
    "_isFastLaunch": false,
    "category": "Compute optimized",
    "gpuNum": 0,
    "hideHardwareSpecs": false,
    "memoryGiB": 144,
    "name": "ml.c5.18xlarge",
    "vcpuNum": 72
   },
   {
    "_defaultOrder": 28,
    "_isFastLaunch": false,
    "category": "Compute optimized",
    "gpuNum": 0,
    "hideHardwareSpecs": false,
    "memoryGiB": 192,
    "name": "ml.c5.24xlarge",
    "vcpuNum": 96
   },
   {
    "_defaultOrder": 29,
    "_isFastLaunch": true,
    "category": "Accelerated computing",
    "gpuNum": 1,
    "hideHardwareSpecs": false,
    "memoryGiB": 16,
    "name": "ml.g4dn.xlarge",
    "vcpuNum": 4
   },
   {
    "_defaultOrder": 30,
    "_isFastLaunch": false,
    "category": "Accelerated computing",
    "gpuNum": 1,
    "hideHardwareSpecs": false,
    "memoryGiB": 32,
    "name": "ml.g4dn.2xlarge",
    "vcpuNum": 8
   },
   {
    "_defaultOrder": 31,
    "_isFastLaunch": false,
    "category": "Accelerated computing",
    "gpuNum": 1,
    "hideHardwareSpecs": false,
    "memoryGiB": 64,
    "name": "ml.g4dn.4xlarge",
    "vcpuNum": 16
   },
   {
    "_defaultOrder": 32,
    "_isFastLaunch": false,
    "category": "Accelerated computing",
    "gpuNum": 1,
    "hideHardwareSpecs": false,
    "memoryGiB": 128,
    "name": "ml.g4dn.8xlarge",
    "vcpuNum": 32
   },
   {
    "_defaultOrder": 33,
    "_isFastLaunch": false,
    "category": "Accelerated computing",
    "gpuNum": 4,
    "hideHardwareSpecs": false,
    "memoryGiB": 192,
    "name": "ml.g4dn.12xlarge",
    "vcpuNum": 48
   },
   {
    "_defaultOrder": 34,
    "_isFastLaunch": false,
    "category": "Accelerated computing",
    "gpuNum": 1,
    "hideHardwareSpecs": false,
    "memoryGiB": 256,
    "name": "ml.g4dn.16xlarge",
    "vcpuNum": 64
   },
   {
    "_defaultOrder": 35,
    "_isFastLaunch": false,
    "category": "Accelerated computing",
    "gpuNum": 1,
    "hideHardwareSpecs": false,
    "memoryGiB": 61,
    "name": "ml.p3.2xlarge",
    "vcpuNum": 8
   },
   {
    "_defaultOrder": 36,
    "_isFastLaunch": false,
    "category": "Accelerated computing",
    "gpuNum": 4,
    "hideHardwareSpecs": false,
    "memoryGiB": 244,
    "name": "ml.p3.8xlarge",
    "vcpuNum": 32
   },
   {
    "_defaultOrder": 37,
    "_isFastLaunch": false,
    "category": "Accelerated computing",
    "gpuNum": 8,
    "hideHardwareSpecs": false,
    "memoryGiB": 488,
    "name": "ml.p3.16xlarge",
    "vcpuNum": 64
   },
   {
    "_defaultOrder": 38,
    "_isFastLaunch": false,
    "category": "Accelerated computing",
    "gpuNum": 8,
    "hideHardwareSpecs": false,
    "memoryGiB": 768,
    "name": "ml.p3dn.24xlarge",
    "vcpuNum": 96
   },
   {
    "_defaultOrder": 39,
    "_isFastLaunch": false,
    "category": "Memory Optimized",
    "gpuNum": 0,
    "hideHardwareSpecs": false,
    "memoryGiB": 16,
    "name": "ml.r5.large",
    "vcpuNum": 2
   },
   {
    "_defaultOrder": 40,
    "_isFastLaunch": false,
    "category": "Memory Optimized",
    "gpuNum": 0,
    "hideHardwareSpecs": false,
    "memoryGiB": 32,
    "name": "ml.r5.xlarge",
    "vcpuNum": 4
   },
   {
    "_defaultOrder": 41,
    "_isFastLaunch": false,
    "category": "Memory Optimized",
    "gpuNum": 0,
    "hideHardwareSpecs": false,
    "memoryGiB": 64,
    "name": "ml.r5.2xlarge",
    "vcpuNum": 8
   },
   {
    "_defaultOrder": 42,
    "_isFastLaunch": false,
    "category": "Memory Optimized",
    "gpuNum": 0,
    "hideHardwareSpecs": false,
    "memoryGiB": 128,
    "name": "ml.r5.4xlarge",
    "vcpuNum": 16
   },
   {
    "_defaultOrder": 43,
    "_isFastLaunch": false,
    "category": "Memory Optimized",
    "gpuNum": 0,
    "hideHardwareSpecs": false,
    "memoryGiB": 256,
    "name": "ml.r5.8xlarge",
    "vcpuNum": 32
   },
   {
    "_defaultOrder": 44,
    "_isFastLaunch": false,
    "category": "Memory Optimized",
    "gpuNum": 0,
    "hideHardwareSpecs": false,
    "memoryGiB": 384,
    "name": "ml.r5.12xlarge",
    "vcpuNum": 48
   },
   {
    "_defaultOrder": 45,
    "_isFastLaunch": false,
    "category": "Memory Optimized",
    "gpuNum": 0,
    "hideHardwareSpecs": false,
    "memoryGiB": 512,
    "name": "ml.r5.16xlarge",
    "vcpuNum": 64
   },
   {
    "_defaultOrder": 46,
    "_isFastLaunch": false,
    "category": "Memory Optimized",
    "gpuNum": 0,
    "hideHardwareSpecs": false,
    "memoryGiB": 768,
    "name": "ml.r5.24xlarge",
    "vcpuNum": 96
   },
   {
    "_defaultOrder": 47,
    "_isFastLaunch": false,
    "category": "Accelerated computing",
    "gpuNum": 1,
    "hideHardwareSpecs": false,
    "memoryGiB": 16,
    "name": "ml.g5.xlarge",
    "vcpuNum": 4
   },
   {
    "_defaultOrder": 48,
    "_isFastLaunch": false,
    "category": "Accelerated computing",
    "gpuNum": 1,
    "hideHardwareSpecs": false,
    "memoryGiB": 32,
    "name": "ml.g5.2xlarge",
    "vcpuNum": 8
   },
   {
    "_defaultOrder": 49,
    "_isFastLaunch": false,
    "category": "Accelerated computing",
    "gpuNum": 1,
    "hideHardwareSpecs": false,
    "memoryGiB": 64,
    "name": "ml.g5.4xlarge",
    "vcpuNum": 16
   },
   {
    "_defaultOrder": 50,
    "_isFastLaunch": false,
    "category": "Accelerated computing",
    "gpuNum": 1,
    "hideHardwareSpecs": false,
    "memoryGiB": 128,
    "name": "ml.g5.8xlarge",
    "vcpuNum": 32
   },
   {
    "_defaultOrder": 51,
    "_isFastLaunch": false,
    "category": "Accelerated computing",
    "gpuNum": 1,
    "hideHardwareSpecs": false,
    "memoryGiB": 256,
    "name": "ml.g5.16xlarge",
    "vcpuNum": 64
   },
   {
    "_defaultOrder": 52,
    "_isFastLaunch": false,
    "category": "Accelerated computing",
    "gpuNum": 4,
    "hideHardwareSpecs": false,
    "memoryGiB": 192,
    "name": "ml.g5.12xlarge",
    "vcpuNum": 48
   },
   {
    "_defaultOrder": 53,
    "_isFastLaunch": false,
    "category": "Accelerated computing",
    "gpuNum": 4,
    "hideHardwareSpecs": false,
    "memoryGiB": 384,
    "name": "ml.g5.24xlarge",
    "vcpuNum": 96
   },
   {
    "_defaultOrder": 54,
    "_isFastLaunch": false,
    "category": "Accelerated computing",
    "gpuNum": 8,
    "hideHardwareSpecs": false,
    "memoryGiB": 768,
    "name": "ml.g5.48xlarge",
    "vcpuNum": 192
   },
   {
    "_defaultOrder": 55,
    "_isFastLaunch": false,
    "category": "Accelerated computing",
    "gpuNum": 8,
    "hideHardwareSpecs": false,
    "memoryGiB": 1152,
    "name": "ml.p4d.24xlarge",
    "vcpuNum": 96
   },
   {
    "_defaultOrder": 56,
    "_isFastLaunch": false,
    "category": "Accelerated computing",
    "gpuNum": 8,
    "hideHardwareSpecs": false,
    "memoryGiB": 1152,
    "name": "ml.p4de.24xlarge",
    "vcpuNum": 96
   }
  ],
  "instance_type": "ml.m5.2xlarge",
  "kernelspec": {
   "display_name": "conda_python3",
   "language": "python",
   "name": "conda_python3"
  },
  "language_info": {
   "codemirror_mode": {
    "name": "ipython",
    "version": 3
   },
   "file_extension": ".py",
   "mimetype": "text/x-python",
   "name": "python",
   "nbconvert_exporter": "python",
   "pygments_lexer": "ipython3",
   "version": "3.10.13"
  },
  "vscode": {
   "interpreter": {
    "hash": "4b8e647a79df62bf31906a725b05de775d285962ac600487339d38c51a5c07b1"
   }
  }
 },
 "nbformat": 4,
 "nbformat_minor": 5
}
