{
 "cells": [
  {
   "cell_type": "markdown",
   "id": "de2fc0d3",
   "metadata": {},
   "source": [
    "# 1. 저장할 파일을 불러와서 청크로 나눕니다. "
   ]
  },
  {
   "cell_type": "code",
   "execution_count": 1,
   "id": "fb0565da",
   "metadata": {},
   "outputs": [],
   "source": [
    "# 1. 파일을 먼저 불러오고 Text 를 모두 추출합니다.\n",
    "# 2. 불러온 텍스트를 Langchain 에서 제공하는 함수를 사용해서 나눕니다.\n",
    "#    - https://js.langchain.com/docs/modules/data_connection/document_transformers/\n",
    "\n",
    "# 아래 파일에도 해당 내용이 있으니 참고 부탁드립니다.\n",
    "# https://github.com/hijigoo/RAG-based-ai-chatbot/blob/main/app/helpers/document_helper.py"
   ]
  },
  {
   "cell_type": "markdown",
   "id": "1351ab0e",
   "metadata": {},
   "source": [
    "# 2. 베드락 임베딩 모델 객체를 생성합니다."
   ]
  },
  {
   "cell_type": "code",
   "execution_count": 2,
   "id": "fa37fc3e",
   "metadata": {},
   "outputs": [],
   "source": [
    "# 1. 아래 파일에서 'Embedding 모델 선택' 을 참고해서 임베딩 모델을 불러옵니다.\n",
    "#    - https://github.com/jesamkim/2024-ebp/blob/main/03_RAG_OpenSearch.ipynb\n",
    "\n",
    "# 아래 파일에도 해당 내용이 있으니 참고 부탁드립니다.\n",
    "# https://github.com/hijigoo/RAG-based-ai-chatbot/blob/main/app/services/bedrock_service.py"
   ]
  },
  {
   "cell_type": "markdown",
   "id": "82d3f4f4",
   "metadata": {},
   "source": [
    "# 3. OpenSearch 에 청크와 임베딩을 저장합니다."
   ]
  },
  {
   "cell_type": "code",
   "execution_count": 3,
   "id": "6b4099eb",
   "metadata": {},
   "outputs": [],
   "source": [
    "# Chunk 를 Embedding 으로 먼저 변환하고, 둘을 함께 OpenSearch에 저장하는 것이 진행 순서입니다.\n",
    "# OpenSearch 에서 객체를 생성할 때 임베딩 객체를 함께 넣어주면, OpenSearch에 데이터를 임베딩 변환과 저장이 동시에 진행됩니다.\n",
    "\n",
    "# 1. OpenSearch 객체를 생성합니다. 객체를 생성할 때 위에서 생성한 임베딩 객체를 넣습니다.\n",
    "# 2. OpenSearch 에 Chunk 와 Embedding 을 저장합니다.\n",
    "# 3. 아래 파일에서 '3. OpenSearch 벡터 Index 생성' 과 '4. 데이터 준비' 를 참고합니다.\n",
    "#    - https://github.com/jesamkim/2024-ebp/blob/main/03_RAG_OpenSearch.ipynb\n",
    "\n",
    "# 아래 파일에도 해당 내용이 있으니 참고 부탁드립니다.\n",
    "# https://github.com/hijigoo/RAG-based-ai-chatbot/blob/main/app/services/opensearch_service.py\n",
    "# https://github.com/hijigoo/RAG-based-ai-chatbot/blob/main/app/uploader.py"
   ]
  },
  {
   "cell_type": "markdown",
   "id": "fcc17adf",
   "metadata": {},
   "source": [
    "# 4. 질문에 대한 가장 가까운 Chunk 를 찾습니다."
   ]
  },
  {
   "cell_type": "code",
   "execution_count": 4,
   "id": "31560897",
   "metadata": {},
   "outputs": [],
   "source": [
    "# 1. 샘플 질문을 이용해서 OpenSearch 에서 가장 벡터 유사도가 높은 Chunk 를 찾습니다.\n",
    "# 2. 아래 파일에서 '8. LangChain을 이용한 Question & Answer' 를 참고합니다.\n",
    "#    - https://github.com/jesamkim/2024-ebp/blob/main/03_RAG_OpenSearch.ipynb\n",
    "\n",
    "# 아래 파일에도 해당 내용이 있으니 참고 부탁드립니다.\n",
    "# https://github.com/hijigoo/RAG-based-ai-chatbot/blob/main/app/services/opensearch_service.py\n",
    "# https://github.com/hijigoo/RAG-based-ai-chatbot/blob/main/app/retriever.py"
   ]
  },
  {
   "cell_type": "markdown",
   "id": "d38e3910",
   "metadata": {},
   "source": [
    "# 5. 질문과 찾은 Chunk 를 이용해서 응답을 생성합니다."
   ]
  },
  {
   "cell_type": "code",
   "execution_count": 5,
   "id": "e11dcaaa",
   "metadata": {},
   "outputs": [],
   "source": [
    "# 1. 베드락을 호출해서 최종 응답을 생성합니다.\n",
    "\n",
    "# 아래 파일에도 해당 내용이 있으니 참고 부탁드립니다.\n",
    "# https://github.com/hijigoo/RAG-based-ai-chatbot/blob/main/app/services/bedrock_service.py\n",
    "# https://github.com/hijigoo/RAG-based-ai-chatbot/blob/main/app/generator.py"
   ]
  },
  {
   "cell_type": "code",
   "execution_count": null,
   "id": "cc18761a",
   "metadata": {},
   "outputs": [],
   "source": []
  }
 ],
 "metadata": {
  "kernelspec": {
   "display_name": "conda_python3",
   "language": "python",
   "name": "conda_python3"
  },
  "language_info": {
   "codemirror_mode": {
    "name": "ipython",
    "version": 3
   },
   "file_extension": ".py",
   "mimetype": "text/x-python",
   "name": "python",
   "nbconvert_exporter": "python",
   "pygments_lexer": "ipython3",
   "version": "3.10.13"
  }
 },
 "nbformat": 4,
 "nbformat_minor": 5
}
