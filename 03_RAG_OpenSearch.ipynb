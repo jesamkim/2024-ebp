{
 "cells": [
  {
   "cell_type": "markdown",
   "id": "fb017ab4-a16a-4c67-b875-a29eed6aa5bd",
   "metadata": {
    "tags": []
   },
   "source": [
    "# OpenSearch 한글 형태소 분석기 통한 키워드 검색 \n",
    ">이 노트북은,\n",
    "> - SageMaker Studio* **`Data Science 3.0`** kernel 및 ml.m5.large 인스턴스에서 테스트 되었습니다.\n",
    "> - SageMaker Notebook **`conda_python3`** 에서 테스트 되었습니다.\n",
    "\n",
    "\n",
    "여기서는 OpenSearch 가 설치된 것을 가정하고, 한글 형태소 분석기의 사용하는 법을 알려 드립니다.\n",
    "\n",
    "---\n",
    "\n",
    "### [중요]\n",
    "- 이 노트북은 Bedrock Titan Embedding Model 을 기본으로 사용합니다. \n",
    "- 오픈 서치 서비스가 액티브 된 상태를 가정 합니다.\n",
    "- 앞서 02_OpenSearch_setup 노트북의 clean-up 이전 부분까지 모두 완료가 되어 있어야 합니다.\n",
    "\n",
    "\n",
    "---\n",
    "## Ref: \n",
    "- [Amazon OpenSearch Service로 검색 구현하기](https://catalog.us-east-1.prod.workshops.aws/workshops/de4e38cb-a0d9-4ffe-a777-bf00d498fa49/ko-KR/indexing/blog-reindex)\n",
    "- [OpenSearch Python Client](https://opensearch.org/docs/1.3/clients/python-high-level/)\n",
    "- [OpenSearch Match, Multi-Match, and Match Phrase Queries](https://opster.com/guides/opensearch/opensearch-search-apis/opensearch-match-multi-match-and-match-phrase-queries/)\n",
    "- OpenSearch Query 에서 Filter, Must, Should, Not Mush 에 대한 설명 입니다.\n",
    "    - [OpenSearch Boolean Queries](https://opster.com/guides/opensearch/opensearch-search-apis/opensearch-boolean-queries/#:~:text=Boolean%20queries%20are%20used%20to,as%20terms%2C%20match%20and%20query_string.)\n",
    "- [OpenSearch Query Description (한글)](https://esbook.kimjmin.net/05-search)\n"
   ]
  },
  {
   "cell_type": "code",
   "execution_count": null,
   "id": "47f2e524",
   "metadata": {},
   "outputs": [],
   "source": []
  },
  {
   "cell_type": "markdown",
   "id": "8a2f9c19-c43c-435c-944d-77984b54a6d8",
   "metadata": {},
   "source": [
    "## 1. 환경 세팅"
   ]
  },
  {
   "cell_type": "code",
   "execution_count": 1,
   "id": "6a20ae24-5c42-4e67-b2cb-8db675e180bc",
   "metadata": {
    "tags": []
   },
   "outputs": [
    {
     "name": "stdout",
     "output_type": "stream",
     "text": [
      "no stored variable or alias opensearch_user_id\n",
      "no stored variable or alias opensearch_user_password\n",
      "no stored variable or alias domain_name\n",
      "no stored variable or alias opensearch_domain_endpoint\n",
      "++++++++++++++++++++++++++++++++++++++++++++++++++++++++++++++++++++++++++++\n",
      "[ERROR] Run 00_setup notebook first or Create Your Own OpenSearch Domain\n",
      "++++++++++++++++++++++++++++++++++++++++++++++++++++++++++++++++++++++++++++\n"
     ]
    }
   ],
   "source": [
    "import boto3\n",
    "region = boto3.Session().region_name\n",
    "opensearch = boto3.client('opensearch', region)\n",
    "\n",
    "%store -r opensearch_user_id opensearch_user_password domain_name opensearch_domain_endpoint\n",
    "\n",
    "try:\n",
    "    opensearch_user_id\n",
    "    opensearch_user_password\n",
    "    domain_name\n",
    "    opensearch_domain_endpoint\n",
    "   \n",
    "except NameError:\n",
    "    print(\"++++++++++++++++++++++++++++++++++++++++++++++++++++++++++++++++++++++++++++\")\n",
    "    print(\"[ERROR] Run 00_setup notebook first or Create Your Own OpenSearch Domain\")\n",
    "    print(\"++++++++++++++++++++++++++++++++++++++++++++++++++++++++++++++++++++++++++++\")"
   ]
  },
  {
   "cell_type": "code",
   "execution_count": 2,
   "id": "787df0f0-7fd9-47ca-a0c3-91b3037d6a10",
   "metadata": {
    "tags": []
   },
   "outputs": [],
   "source": [
    "%load_ext autoreload\n",
    "%autoreload 2"
   ]
  },
  {
   "cell_type": "code",
   "execution_count": 3,
   "id": "01b1dbc1-a314-4a58-8851-6fac17e5ce00",
   "metadata": {},
   "outputs": [],
   "source": [
    "# OpenSearch 접속 정보 지정\n",
    "\n",
    "# [필수] 아래 OpenSearch 정보는 각자 환경에 맞게 수정 합니다.\n",
    "\n",
    "opensearch_user_id = 'raguser'\n",
    "opensearch_user_password = 'Passw0rd1!'\n",
    "\n",
    "domain_name = 'jesamkim-opensearch-rag'\n",
    "opensearch_domain_endpoint = 'https://search-jesamkim-opensearch-rag-5wbkv7qjrlci47h5ka63cw5fxy.us-west-2.es.amazonaws.com'"
   ]
  },
  {
   "cell_type": "markdown",
   "id": "950cf3b9-26a3-4096-a6e4-4b9a39d2e82f",
   "metadata": {
    "tags": []
   },
   "source": [
    "### Bedrock Client 생성"
   ]
  },
  {
   "cell_type": "code",
   "execution_count": 4,
   "id": "e7e9a4a1-ba92-422a-96b3-c52e0b826b47",
   "metadata": {
    "tags": []
   },
   "outputs": [
    {
     "name": "stdout",
     "output_type": "stream",
     "text": [
      "[('Titan Text Large', 'amazon.titan-tg1-large'),\n",
      " ('Titan Text Embeddings v2', 'amazon.titan-embed-g1-text-02'),\n",
      " ('Titan Text G1 - Lite', 'amazon.titan-text-lite-v1'),\n",
      " ('Titan Text G1 - Express', 'amazon.titan-text-express-v1'),\n",
      " ('Titan Embeddings G1 - Text', 'amazon.titan-embed-text-v1'),\n",
      " ('Titan Multimodal Embeddings G1', 'amazon.titan-embed-image-v1'),\n",
      " ('Titan Image Generator G1', 'amazon.titan-image-generator-v1'),\n",
      " ('SDXL 0.8', 'stability.stable-diffusion-xl'),\n",
      " ('SDXL 0.8', 'stability.stable-diffusion-xl-v0'),\n",
      " ('SDXL 1.0', 'stability.stable-diffusion-xl-v1'),\n",
      " ('J2 Grande Instruct', 'ai21.j2-grande-instruct'),\n",
      " ('J2 Jumbo Instruct', 'ai21.j2-jumbo-instruct'),\n",
      " ('Jurassic-2 Mid', 'ai21.j2-mid'),\n",
      " ('Jurassic-2 Mid', 'ai21.j2-mid-v1'),\n",
      " ('Jurassic-2 Ultra', 'ai21.j2-ultra'),\n",
      " ('Jurassic-2 Ultra', 'ai21.j2-ultra-v1'),\n",
      " ('Claude Instant', 'anthropic.claude-instant-v1'),\n",
      " ('Claude', 'anthropic.claude-v2:1'),\n",
      " ('Claude', 'anthropic.claude-v2'),\n",
      " ('Claude 3 Sonnet', 'anthropic.claude-3-sonnet-20240229-v1:0'),\n",
      " ('Claude 3 Haiku', 'anthropic.claude-3-haiku-20240307-v1:0'),\n",
      " ('Claude 3 Opus', 'anthropic.claude-3-opus-20240229-v1:0'),\n",
      " ('Command', 'cohere.command-text-v14'),\n",
      " ('Command Light', 'cohere.command-light-text-v14'),\n",
      " ('Embed English', 'cohere.embed-english-v3'),\n",
      " ('Embed Multilingual', 'cohere.embed-multilingual-v3'),\n",
      " ('Llama 2 Chat 13B', 'meta.llama2-13b-chat-v1'),\n",
      " ('Llama 2 Chat 70B', 'meta.llama2-70b-chat-v1'),\n",
      " ('Mistral 7B Instruct', 'mistral.mistral-7b-instruct-v0:2'),\n",
      " ('Mixtral 8x7B Instruct', 'mistral.mixtral-8x7b-instruct-v0:1'),\n",
      " ('Mistral Large', 'mistral.mistral-large-2402-v1:0')]\n"
     ]
    }
   ],
   "source": [
    "import boto3\n",
    "import os\n",
    "import json\n",
    "from botocore.config import Config\n",
    "import botocore \n",
    "from pprint import pprint\n",
    "from termcolor import colored\n",
    "\n",
    "session = boto3.Session()\n",
    "\n",
    "retry_config = Config(\n",
    "    region_name=os.environ.get(\"AWS_DEFAULT_REGION\", None),\n",
    "    retries={\n",
    "        \"max_attempts\": 10,\n",
    "        \"mode\": \"standard\",\n",
    "    },\n",
    ")\n",
    "\n",
    "# modelId = \"anthropic.claude-instant-v1\"  # (Change this to try different model versions)\n",
    "modelId = \"anthropic.claude-3-sonnet-20240229-v1:0\"\n",
    "accept = \"application/json\"\n",
    "contentType = \"application/json\"\n",
    "\n",
    "bedrock = boto3.client(service_name='bedrock')\n",
    "boto3_bedrock = boto3.client(service_name='bedrock-runtime',config=retry_config)\n",
    "\n",
    "model_list = bedrock.list_foundation_models()\n",
    "result = [(fm_list[\"modelName\"], fm_list[\"modelId\"]) for fm_list in model_list[\"modelSummaries\"] if fm_list['inferenceTypesSupported'] == ['ON_DEMAND']]\n",
    "pprint(result)"
   ]
  },
  {
   "cell_type": "markdown",
   "id": "7ec7b1ce-4407-4164-b28e-84cfde5f32f7",
   "metadata": {
    "tags": []
   },
   "source": [
    "## 2. Titan Embedding 및 LLM 인 Claude-3 sonnet 모델 로딩"
   ]
  },
  {
   "cell_type": "markdown",
   "id": "f4292e3a-e33e-469d-b73d-3904919ab08b",
   "metadata": {},
   "source": [
    "### LLM 로딩 (Claude-v3 sonnet)"
   ]
  },
  {
   "cell_type": "code",
   "execution_count": 5,
   "id": "bc5d7ac7-f528-4ed3-a855-cdd519ddc17b",
   "metadata": {
    "tags": []
   },
   "outputs": [],
   "source": [
    "from langchain_community.chat_models import BedrockChat\n",
    "from langchain_core.messages import HumanMessage\n",
    "from langchain.callbacks.streaming_stdout import StreamingStdOutCallbackHandler"
   ]
  },
  {
   "cell_type": "code",
   "execution_count": 6,
   "id": "97b6ae65-4225-431f-a2c7-52fb22e814ed",
   "metadata": {
    "tags": []
   },
   "outputs": [
    {
     "name": "stderr",
     "output_type": "stream",
     "text": [
      "/home/ec2-user/anaconda3/envs/python3/lib/python3.10/site-packages/langchain_core/_api/deprecation.py:119: LangChainDeprecationWarning: The class `BedrockChat` was deprecated in LangChain 0.0.34 and will be removed in 0.3. An updated version of the class exists in the langchain-aws package and should be used instead. To use it run `pip install -U langchain-aws` and import as `from langchain_aws import ChatBedrock`.\n",
      "  warn_deprecated(\n"
     ]
    },
    {
     "data": {
      "text/plain": [
       "BedrockChat(client=<botocore.client.BedrockRuntime object at 0x7fbb9984b970>, region_name='us-west-2', model_id='anthropic.claude-3-sonnet-20240229-v1:0', model_kwargs={'anthropic_version': 'bedrock-2023-05-31', 'max_tokens': 4096, 'temperature': 0, 'top_k': 0, 'top_p': 0.0}, streaming=True, callbacks=[<langchain_core.callbacks.streaming_stdout.StreamingStdOutCallbackHandler object at 0x7fbb9a788430>])"
      ]
     },
     "execution_count": 6,
     "metadata": {},
     "output_type": "execute_result"
    }
   ],
   "source": [
    "llm_text = BedrockChat(\n",
    "    model_id=modelId,\n",
    "    streaming=True,\n",
    "    callbacks=[StreamingStdOutCallbackHandler()],\n",
    "    model_kwargs={\n",
    "        \"anthropic_version\": \"bedrock-2023-05-31\",\n",
    "        \"max_tokens\": 4096,\n",
    "        \"temperature\" : 0,\n",
    "        \"top_k\": 0,\n",
    "        \"top_p\": 0.0\n",
    "    }\n",
    ")\n",
    "llm_text"
   ]
  },
  {
   "cell_type": "code",
   "execution_count": 7,
   "id": "0687e49d-2e95-4c17-acc8-b3d7949e0676",
   "metadata": {
    "tags": []
   },
   "outputs": [
    {
     "name": "stdout",
     "output_type": "stream",
     "text": [
      "생명보험과 손해보험은 보험의 주요 유형으로 다음과 같은 차이점이 있습니다.\n",
      "\n",
      "1. 보장 대상\n",
      "- 생명보험은 사람의 생명과 관련된 위험을 보장합니다. 예를 들어 사망, 상해, 질병 등을 대상으로 합니다.\n",
      "- 손해보험은 재산상의 손해나 배상책임을 보장합니다. 예를 들어 화재, 자동차사고, 배상책임 등을 대상으로 합니다.\n",
      "\n",
      "2. 보험금 지급 사유\n",
      "- 생명보험은 피보험자의 사망, 상해, 질병 등 인적 위험이 발생했을 때 보험금을 지급합니다.\n",
      "- 손해보험은 재물의 손해나 제3자에 대한 배상책임이 발생했을 때 실제 입은 손해를 보상합니다.\n",
      "\n",
      "3. 보험기간\n",
      "- 생명보험은 일반적으로 장기계약이며, 종신보험의 경우 피보험자 종신까지 보장됩니다.\n",
      "- 손해보험은 단기계약이 일반적이며, 1년 만기로 갱신하는 경우가 많습니다.\n",
      "\n",
      "4. 보험료 산정 기준\n",
      "- 생명보험료는 피보험자의 나이, 건강상태, 가입금액 등에 따라 결정됩니다.\n",
      "- 손해보험료는 보험목적물의 가액, 위험률, 보상한도 등에 따라 결정됩니다.\n",
      "\n",
      "요약하면 생명보험은 개인의 생명과 관련된 위험을 장기적으로 보장하고, 손해보험은 재산상 손해나 배상책임을 단기적으로 보상하는 차이가 있습니다."
     ]
    }
   ],
   "source": [
    "prompt1 = \"나는 인공지능 AI 보험 서비스입니다. 생명과 손해 보험의 차이에 대해 설명해 주세요.\"\n",
    "messages = [\n",
    "    HumanMessage(content=prompt1)\n",
    "]\n",
    "\n",
    "# messages = [\n",
    "#     {\"role\": \"user\", \"content\": [{\"type\": \"text\", \"text\": prompt1}]},\n",
    "# ]\n",
    "\n",
    "response1 = llm_text.invoke(messages)"
   ]
  },
  {
   "cell_type": "markdown",
   "id": "16b9ad47-56b6-427d-84a6-4e792bf4f6f9",
   "metadata": {},
   "source": [
    "### Embedding 모델 선택"
   ]
  },
  {
   "cell_type": "code",
   "execution_count": 8,
   "id": "65afde2a-097b-4a00-82e4-e7bab6e2a4d1",
   "metadata": {
    "tags": []
   },
   "outputs": [],
   "source": [
    "from langchain_community.embeddings import BedrockEmbeddings\n",
    "\n",
    "llm_emb = BedrockEmbeddings(\n",
    "    client=boto3_bedrock,\n",
    "    # model_id=\"cohere.embed-multilingual-v3\"\n",
    "    model_id=\"amazon.titan-embed-g1-text-02\"\n",
    ")"
   ]
  },
  {
   "cell_type": "markdown",
   "id": "160f25b2-8b20-4b57-bc66-bf2b6004cc1c",
   "metadata": {
    "tags": []
   },
   "source": [
    "-------------------"
   ]
  },
  {
   "cell_type": "markdown",
   "id": "a8b8090d-f864-4419-bf20-8135914c0876",
   "metadata": {
    "tags": []
   },
   "source": [
    "## 3. OpenSearch 벡터 Index 생성\n",
    "### 선수 조건\n",
    "- 랭체인 오프서처 참고 자료\n",
    "    - [Langchain Opensearch](https://python.langchain.com/docs/integrations/vectorstores/opensearch)"
   ]
  },
  {
   "cell_type": "markdown",
   "id": "3a6c5796-a418-4505-ba28-0ca33c3fa9f8",
   "metadata": {},
   "source": [
    "### 오픈 서치 인덱스 유무에 따라 삭제\n",
    "오픈 서치에 해당 인덱스가 존재하면, 삭제 합니다. "
   ]
  },
  {
   "cell_type": "code",
   "execution_count": 9,
   "id": "b441a96e-6a2b-42d2-8b27-db78d5dd97d1",
   "metadata": {
    "tags": []
   },
   "outputs": [],
   "source": [
    "from opensearchpy import OpenSearch, RequestsHttpConnection\n",
    "http_auth = (opensearch_user_id, opensearch_user_password)\n",
    "os_client = OpenSearch(\n",
    "            hosts=[\n",
    "                {'host': opensearch_domain_endpoint.replace(\"https://\", \"\"),\n",
    "                 'port': 443\n",
    "                }\n",
    "            ],\n",
    "            http_auth=http_auth, # Master username, Master password,\n",
    "            use_ssl=True,\n",
    "            verify_certs=True,\n",
    "            connection_class=RequestsHttpConnection\n",
    "        )"
   ]
  },
  {
   "cell_type": "markdown",
   "id": "56ac0292-f3fc-4ef7-a00d-becee90f0dec",
   "metadata": {
    "tags": []
   },
   "source": [
    "### index 생성"
   ]
  },
  {
   "cell_type": "code",
   "execution_count": 10,
   "id": "818bec59-9f17-4250-b133-a82767d79657",
   "metadata": {
    "scrolled": true,
    "tags": []
   },
   "outputs": [
    {
     "name": "stdout",
     "output_type": "stream",
     "text": [
      "Index is deleted\n"
     ]
    }
   ],
   "source": [
    "index_name = \"index-03\"\n",
    "exists = os_client.indices.exists(index_name)\n",
    "\n",
    "if exists:\n",
    "    os_client.indices.delete(index=index_name)\n",
    "    print(\"Index is deleted\")\n",
    "else:\n",
    "    print(\"Index does not exist\")"
   ]
  },
  {
   "cell_type": "code",
   "execution_count": 11,
   "id": "25ad62cb-22ff-4031-b301-0baec1e5608d",
   "metadata": {
    "tags": []
   },
   "outputs": [
    {
     "name": "stdout",
     "output_type": "stream",
     "text": [
      "{\n",
      "  \"settings\": {\n",
      "    \"index.knn\": true,\n",
      "    \"index.knn.algo_param.ef_search\": 512\n",
      "  },\n",
      "  \"mappings\": {\n",
      "    \"properties\": {\n",
      "      \"metadata\": {\n",
      "        \"properties\": {\n",
      "          \"source\": {\n",
      "            \"type\": \"keyword\"\n",
      "          },\n",
      "          \"type\": {\n",
      "            \"type\": \"keyword\"\n",
      "          },\n",
      "          \"timestamp\": {\n",
      "            \"type\": \"date\"\n",
      "          }\n",
      "        }\n",
      "      },\n",
      "      \"vector_field\": {\n",
      "        \"type\": \"knn_vector\",\n",
      "        \"dimension\": 1536,\n",
      "        \"method\": {\n",
      "          \"engine\": \"faiss\",\n",
      "          \"name\": \"hnsw\",\n",
      "          \"parameters\": {\n",
      "            \"ef_construction\": 512,\n",
      "            \"m\": 16\n",
      "          },\n",
      "          \"space_type\": \"l2\"\n",
      "        }\n",
      "      }\n",
      "    }\n",
      "  }\n",
      "}\n"
     ]
    }
   ],
   "source": [
    "## metadata, text, vector_field 의 네이밍은 langchain에서 지정된 이름\n",
    "### model에 따라 dimension 사이즈 변경 필요 (Titan : 1536, Cohere : 1024)\n",
    "import json\n",
    "\n",
    "with open('index_body_simple.json', 'r') as f:\n",
    "    index_body = json.load(f)\n",
    "\n",
    "print(json.dumps(index_body, indent=2))\n"
   ]
  },
  {
   "cell_type": "code",
   "execution_count": 12,
   "id": "66746526-4e79-4e41-a985-79697b5bb8ec",
   "metadata": {
    "tags": []
   },
   "outputs": [
    {
     "data": {
      "text/plain": [
       "{'acknowledged': True, 'shards_acknowledged': True, 'index': 'index-03'}"
      ]
     },
     "execution_count": 12,
     "metadata": {},
     "output_type": "execute_result"
    }
   ],
   "source": [
    "os_client.indices.create(index_name, body=index_body)"
   ]
  },
  {
   "cell_type": "code",
   "execution_count": 13,
   "id": "bb4971b6-777d-48a1-82dd-668a38e48587",
   "metadata": {
    "tags": []
   },
   "outputs": [
    {
     "name": "stdout",
     "output_type": "stream",
     "text": [
      "CPU times: user 7.16 ms, sys: 0 ns, total: 7.16 ms\n",
      "Wall time: 6.83 ms\n"
     ]
    }
   ],
   "source": [
    "%%time\n",
    "from langchain_community.vectorstores import OpenSearchVectorSearch\n",
    "\n",
    "vector_db = OpenSearchVectorSearch(\n",
    "    index_name=index_name,\n",
    "    opensearch_url=opensearch_domain_endpoint,\n",
    "    embedding_function=llm_emb,\n",
    "    http_auth=http_auth, # http_auth\n",
    ")"
   ]
  },
  {
   "cell_type": "markdown",
   "id": "8c7070c1-8640-40cb-969d-1bc1a413d3f2",
   "metadata": {
    "tags": []
   },
   "source": [
    "## 4. 데이터 준비\n"
   ]
  },
  {
   "cell_type": "code",
   "execution_count": 14,
   "id": "4a1407db-0f63-4a57-aa15-0c430b9bae13",
   "metadata": {
    "tags": []
   },
   "outputs": [],
   "source": [
    "import time\n",
    "from langchain_community.document_loaders import PDFPlumberLoader\n",
    "from langchain_community.document_loaders import PyMuPDFLoader\n",
    "from langchain_community.document_loaders import PyPDFium2Loader\n",
    "\n",
    "\n",
    "from langchain_core.documents import Document\n",
    "\n",
    "# from llmsherpa.readers import LayoutPDFReader"
   ]
  },
  {
   "cell_type": "code",
   "execution_count": 15,
   "id": "919c614e-aa36-499b-90e3-e29ad81c853e",
   "metadata": {
    "tags": []
   },
   "outputs": [
    {
     "data": {
      "text/plain": [
       "['./data/03/국제 신재생에너지 정책변화 및 시장 분석_22-26.pdf']"
      ]
     },
     "execution_count": 15,
     "metadata": {},
     "output_type": "execute_result"
    }
   ],
   "source": [
    "import glob\n",
    "\n",
    "# 오픈서치 인덱스에 저장되는 데이터 pdf 파일 경로\n",
    "data_path = './data/03/*'\n",
    "\n",
    "pdf_list = glob.glob(data_path)\n",
    "pdf_list"
   ]
  },
  {
   "cell_type": "code",
   "execution_count": 16,
   "id": "7552675a-8803-40b4-a637-30a9b498ecfd",
   "metadata": {
    "tags": []
   },
   "outputs": [],
   "source": [
    "from multiprocessing.pool import ThreadPool\n",
    "from multiprocessing import  Manager\n",
    "\n",
    "import pdfplumber"
   ]
  },
  {
   "cell_type": "code",
   "execution_count": 17,
   "id": "a85823bc-5171-49fb-a06c-d10ad5672f25",
   "metadata": {
    "tags": []
   },
   "outputs": [],
   "source": [
    "import re\n",
    "\n",
    "def prune_text(text, current_pdf_file):\n",
    "\n",
    "    def replace_cid(match):\n",
    "        print(f\"Please check PDF file {current_pdf_file} : {match}\")\n",
    "        ascii_num = int(match.group(1))\n",
    "        try:\n",
    "            return chr(ascii_num)\n",
    "        except:\n",
    "            return ''  # In case of conversion failure, return empty string\n",
    "\n",
    "    # Regular expression to find all (cid:x) patterns\n",
    "    cid_pattern = re.compile(r'\\(cid:(\\d+)\\)')\n",
    "    pruned_text = re.sub(cid_pattern, replace_cid, text)\n",
    "    return pruned_text"
   ]
  },
  {
   "cell_type": "code",
   "execution_count": 18,
   "id": "5887b6a5-4c82-4123-b152-3e990357fb3a",
   "metadata": {
    "tags": []
   },
   "outputs": [],
   "source": [
    "from datetime import datetime\n",
    "\n",
    "def read_pdf(param):\n",
    "    vector_db = param[0]\n",
    "    current_pdf_file = param[1]\n",
    "    print(f\"current_pdf_file : {current_pdf_file}\")\n",
    "    docs = []\n",
    "    source_name = current_pdf_file.split('/')[-1]\n",
    "    type_name = source_name.split('_')[0]\n",
    "    \n",
    "    with pdfplumber.open(current_pdf_file) as pdf:\n",
    "        for page_number, page in enumerate(pdf.pages, start=1):\n",
    "            page_text = page.extract_text()\n",
    "            if page_text:\n",
    "                pruned_text = prune_text(page_text, current_pdf_file)\n",
    "            else:\n",
    "                pruned_text = \"\"\n",
    "            if len(pruned_text) >= 20:  ## 임의로 20 이상인 sentence만 뽑도록 함\n",
    "                chunk = Document(\n",
    "                    page_content=pruned_text.replace('\\n',' '),\n",
    "                    metadata={\n",
    "                        \"source\" : source_name,\n",
    "                        \"type\": type_name,\n",
    "                        \"timestamp\": datetime.now()\n",
    "                    }\n",
    "                )\n",
    "                #print(f\"chunk : {chunk}\")\n",
    "                docs.append(chunk)\n",
    "    if len(docs) > 0 :\n",
    "        vector_db.add_documents(docs)"
   ]
  },
  {
   "cell_type": "code",
   "execution_count": 19,
   "id": "ef3f90ea-85b1-4066-8260-42bf3df14cb0",
   "metadata": {
    "tags": []
   },
   "outputs": [
    {
     "name": "stdout",
     "output_type": "stream",
     "text": [
      "num of process : 1\n",
      "current_pdf_file : ./data/03/국제 신재생에너지 정책변화 및 시장 분석_22-26.pdf\n"
     ]
    }
   ],
   "source": [
    "manager = Manager()\n",
    "result_dict = manager.dict()\n",
    "\n",
    "# ml.m5.xlarge에서 multiprocessing으로 동작 확인\n",
    "param = [(vector_db, current_pdf_file)for current_pdf_file in pdf_list]\n",
    "\n",
    "num_processes = len(pdf_list)%os.cpu_count()\n",
    "\n",
    "if num_processes == 0 :\n",
    "    num_processes = os.cpu_count() - 1\n",
    "\n",
    "print(f\"num of process : {num_processes}\")\n",
    "\n",
    "with ThreadPool(processes=num_processes) as pool:\n",
    "    pool.map(read_pdf, param)\n",
    "    pool.close()\n",
    "    pool.join()"
   ]
  },
  {
   "cell_type": "markdown",
   "id": "fae62975-2e46-44e7-97e4-c14c2bfa632f",
   "metadata": {},
   "source": [
    "### OpenSearch에 생성된 인덱스의 구성 확인"
   ]
  },
  {
   "cell_type": "code",
   "execution_count": 20,
   "id": "14827f89-c54b-440d-ab7f-5bb22eefc313",
   "metadata": {
    "tags": []
   },
   "outputs": [
    {
     "name": "stdout",
     "output_type": "stream",
     "text": [
      "{\n",
      "  \"index-03\": {\n",
      "    \"aliases\": {},\n",
      "    \"mappings\": {\n",
      "      \"properties\": {\n",
      "        \"metadata\": {\n",
      "          \"properties\": {\n",
      "            \"source\": {\n",
      "              \"type\": \"keyword\"\n",
      "            },\n",
      "            \"timestamp\": {\n",
      "              \"type\": \"date\"\n",
      "            },\n",
      "            \"type\": {\n",
      "              \"type\": \"keyword\"\n",
      "            }\n",
      "          }\n",
      "        },\n",
      "        \"text\": {\n",
      "          \"type\": \"text\",\n",
      "          \"fields\": {\n",
      "            \"keyword\": {\n",
      "              \"type\": \"keyword\",\n",
      "              \"ignore_above\": 256\n",
      "            }\n",
      "          }\n",
      "        },\n",
      "        \"vector_field\": {\n",
      "          \"type\": \"knn_vector\",\n",
      "          \"dimension\": 1536,\n",
      "          \"method\": {\n",
      "            \"engine\": \"faiss\",\n",
      "            \"space_type\": \"l2\",\n",
      "            \"name\": \"hnsw\",\n",
      "            \"parameters\": {\n",
      "              \"ef_construction\": 512,\n",
      "              \"m\": 16\n",
      "            }\n",
      "          }\n",
      "        }\n",
      "      }\n",
      "    },\n",
      "    \"settings\": {\n",
      "      \"index\": {\n",
      "        \"replication\": {\n",
      "          \"type\": \"DOCUMENT\"\n",
      "        },\n",
      "        \"number_of_shards\": \"5\",\n",
      "        \"knn.algo_param\": {\n",
      "          \"ef_search\": \"512\"\n",
      "        },\n",
      "        \"provided_name\": \"index-03\",\n",
      "        \"knn\": \"true\",\n",
      "        \"creation_date\": \"1713779805740\",\n",
      "        \"number_of_replicas\": \"1\",\n",
      "        \"uuid\": \"2wAlWqpwRNWUQCQ9unm1jg\",\n",
      "        \"version\": {\n",
      "          \"created\": \"136327827\"\n",
      "        }\n",
      "      }\n",
      "    }\n",
      "  }\n",
      "}\n"
     ]
    }
   ],
   "source": [
    "index_info = os_client.indices.get(index=index_name)\n",
    "print(json.dumps(index_info, indent=2))"
   ]
  },
  {
   "cell_type": "markdown",
   "id": "ed402bb8-497d-4da6-8a1b-02de77133251",
   "metadata": {},
   "source": [
    "## 5. 어휘를 기반으로 한 전문(full-text) 검색 - Lexical Search\n",
    "\n",
    "> query의 문장은 Nori 형태소 분석기에 의해 형태소로 분리됨\n",
    "> OpenSearch에 입력된 (PDF에서 추출한) 문장(청크)들과 BM25 알고리즘을 기반으로 가장 유사한(score가 높은) 값부터 상위 (k=5)개의 결과가 나타남  "
   ]
  },
  {
   "cell_type": "code",
   "execution_count": 21,
   "id": "2305c9b8-4c14-4e81-b741-91f59506d7c3",
   "metadata": {
    "tags": []
   },
   "outputs": [],
   "source": [
    "from opensearch_dsl import Search"
   ]
  },
  {
   "cell_type": "code",
   "execution_count": 22,
   "id": "32fcdd61-8910-4509-bebc-1e3ab0484fb2",
   "metadata": {
    "tags": []
   },
   "outputs": [],
   "source": [
    "def result_to_dataframe(response):\n",
    "    import pandas as pd\n",
    "\n",
    "    pd.set_option('display.max_columns', 150)\n",
    "    pd.set_option('display.max_colwidth', None)\n",
    "\n",
    "    result = []\n",
    "    for res in response['hits']['hits']:\n",
    "        # print(res.keys())\n",
    "        result.append([res['_index'], round(res['_score'], 4), res['_source']['metadata']['type'], res['_source']['text']])\n",
    "    df = pd.DataFrame(result, columns=['index_name', 'score', 'type', 'text'])\n",
    "    return df.style.set_properties(**{'text-align': 'left'})"
   ]
  },
  {
   "cell_type": "code",
   "execution_count": 23,
   "id": "585b3c8c-ed62-418a-b178-1a9ef450c421",
   "metadata": {
    "tags": []
   },
   "outputs": [],
   "source": [
    "def query_lexical(query, filter=[], k=5):\n",
    "    QUERY_TEMPLATE = {\n",
    "        \"size\": k,\n",
    "        \"query\": {\n",
    "            \"bool\": {\n",
    "                \"must\": [\n",
    "                    {\n",
    "                        \"match\": {\n",
    "                            \"text\": query\n",
    "                        }\n",
    "                    }\n",
    "                ],\n",
    "                \"filter\": filter\n",
    "            }\n",
    "        }\n",
    "    }\n",
    "    if len(filter) > 0:\n",
    "        QUERY_TEMPLATE[\"query\"][\"bool\"][\"filter\"].extend(filter)\n",
    "    return QUERY_TEMPLATE"
   ]
  },
  {
   "cell_type": "code",
   "execution_count": 24,
   "id": "cc6ef235-38d2-46f6-9731-e497afe694ae",
   "metadata": {
    "tags": []
   },
   "outputs": [
    {
     "name": "stdout",
     "output_type": "stream",
     "text": [
      "검색에 걸린 시간:  5 ms\n",
      "<<사용자 입력 쿼리 문장>>:  2020년 전세계 에너지 공급량은 얼마인가요?\n"
     ]
    },
    {
     "data": {
      "text/html": [
       "<style type=\"text/css\">\n",
       "#T_5240a_row0_col0, #T_5240a_row0_col1, #T_5240a_row0_col2, #T_5240a_row0_col3, #T_5240a_row1_col0, #T_5240a_row1_col1, #T_5240a_row1_col2, #T_5240a_row1_col3, #T_5240a_row2_col0, #T_5240a_row2_col1, #T_5240a_row2_col2, #T_5240a_row2_col3, #T_5240a_row3_col0, #T_5240a_row3_col1, #T_5240a_row3_col2, #T_5240a_row3_col3, #T_5240a_row4_col0, #T_5240a_row4_col1, #T_5240a_row4_col2, #T_5240a_row4_col3 {\n",
       "  text-align: left;\n",
       "}\n",
       "</style>\n",
       "<table id=\"T_5240a\">\n",
       "  <thead>\n",
       "    <tr>\n",
       "      <th class=\"blank level0\" >&nbsp;</th>\n",
       "      <th id=\"T_5240a_level0_col0\" class=\"col_heading level0 col0\" >index_name</th>\n",
       "      <th id=\"T_5240a_level0_col1\" class=\"col_heading level0 col1\" >score</th>\n",
       "      <th id=\"T_5240a_level0_col2\" class=\"col_heading level0 col2\" >type</th>\n",
       "      <th id=\"T_5240a_level0_col3\" class=\"col_heading level0 col3\" >text</th>\n",
       "    </tr>\n",
       "  </thead>\n",
       "  <tbody>\n",
       "    <tr>\n",
       "      <th id=\"T_5240a_level0_row0\" class=\"row_heading level0 row0\" >0</th>\n",
       "      <td id=\"T_5240a_row0_col0\" class=\"data row0 col0\" >index-03</td>\n",
       "      <td id=\"T_5240a_row0_col1\" class=\"data row0 col1\" >11.883800</td>\n",
       "      <td id=\"T_5240a_row0_col2\" class=\"data row0 col2\" >국제 신재생에너지 정책변화 및 시장 분석</td>\n",
       "      <td id=\"T_5240a_row0_col3\" class=\"data row0 col3\" >제2장 국제 재생에너지 시장 동향 제2장 국제 재생에너지 시장 동향 본 연구의 주요 목적 중 하나는 매년 변화하는 재생에너지 시장 동향을 살펴보는 것으로, 자체적으로 수행한 데이터 분석 결과와 IEA, REN21, Enerdtata, BNEF, IRENA 등 주요 국제기구에서 발간하는 자료를 토대로 재생에너지 시장 변화를 살 펴보고자 한다. 먼저 1절에서는 전세계 관점에서 재생에너지 보급, 산업, 가격, 전망 에 대해 다루고, 2절에서는 국가별 재생에너지 보급 및 가격 현황을 살펴보았다. 1. 재생에너지 보급 동향 1.1. 1차에너지1) 2020년 전세계 에너지 공급량은 14,177Mtoe로 이 중 재생에너지 공급량은 14.6%에 해당하는 2,077Mtoe였다. 비중이 가장 높은 에너지원은 석유로 30.0%를 차지하였고, 다음으로 석탄(26.9%), 천연가스(23.5%), 순이다. 2010년과 비교하여 재생에너지 공급량은 508Mtoe 증가하였으며, 1차에너지에서 재생에너지 비중은 1) 여기서는 Enerdata(최종접속일: 2022.11.20)에서 제공하는 자료를 활용하여 작성하였음. 5</td>\n",
       "    </tr>\n",
       "    <tr>\n",
       "      <th id=\"T_5240a_level0_row1\" class=\"row_heading level0 row1\" >1</th>\n",
       "      <td id=\"T_5240a_row1_col0\" class=\"data row1 col0\" >index-03</td>\n",
       "      <td id=\"T_5240a_row1_col1\" class=\"data row1 col1\" >5.876000</td>\n",
       "      <td id=\"T_5240a_row1_col2\" class=\"data row1 col2\" >국제 신재생에너지 정책변화 및 시장 분석</td>\n",
       "      <td id=\"T_5240a_row1_col3\" class=\"data row1 col3\" >2.7%p 증가하였다([그림 2-1]). 재생에너지 원별로 나누어보면 2020년 기준 바이 오매스 비중이 65.1%로 가장 높고, 다음으로 수력(17.9%), 풍력(6.7%), 지열(5.3%) 태양광(3.4%), 태양열(1.6%) 순이다. 바이오매스 비중이 높은 이유는 개발도상국에 서 난방과 취사용으로 주로 활용하기 때문이다.2) 2010년과 비교하여 공급량은 바 이오매스가 191Mtoe로 가장 많이 증가하였고, 다음으로 풍력(109Mtoe), 수력 (76Mtoe), 태양광(67Mtoe) 순이다. 하지만 비중은 풍력이 4.8%p로 가장 많이 증 가하였고, 다음으로 태양광(3.2%), 지열(1.2%) 순이며, 바이오매스와 수력은 각각 8.9%p와 1.0%p 감소하였다([그림 2-2]). [그림 2-1] 에너지원별 1차에너지 공급(TPES) 비중 <2020년> <2010년> 자료: Enerdata(최종접속일: 2022.11.20)의 자료를 활용하여 저자 작성 [그림 2-2] 재생에너지 원별 1차에너지 공급(TPES) 비중 <2010년> <2020년> 자료: Enerdata(최종접속일: 2022.11.20)의 자료를 활용하여 저자 작성 2) 공지영·조일현(2021), p.4. 6</td>\n",
       "    </tr>\n",
       "    <tr>\n",
       "      <th id=\"T_5240a_level0_row2\" class=\"row_heading level0 row2\" >2</th>\n",
       "      <td id=\"T_5240a_row2_col0\" class=\"data row2 col0\" >index-03</td>\n",
       "      <td id=\"T_5240a_row2_col1\" class=\"data row2 col1\" >5.587500</td>\n",
       "      <td id=\"T_5240a_row2_col2\" class=\"data row2 col2\" >국제 신재생에너지 정책변화 및 시장 분석</td>\n",
       "      <td id=\"T_5240a_row2_col3\" class=\"data row2 col3\" >제2장 국제 재생에너지 시장 동향 2. 국가별 재생에너지 현황 비교 2.1. 국가별 재생에너지 보급 현황 [그림 2-17]은 OECD 국가별 재생에너지 발전 비중을 나타낸다. 2020년 우리나 라 재생에너지 발전 비중은 4.7% 수준으로 37위이며, OECD 평균(27.3%)과 전세계 평균(26.1%)보다 낮게 나타났다.25) 전세계 평균(26.1%)에 도달하지 못한 OECD 국 가는 우리나라를 포함하여 모두 13개국이다. OECD 중에서 재생에너지 발전 비중이 가장 높은 나라는 코스타리카(99.2%), 아이슬란드(99.1%), 노르웨이(96.1%) 순이다. 상위 10개 국가 중 덴마크를 제외한 나머지 국가는 주 에너지원이 수력이라는 특징 이 있으며, 덴마크의 주 에너지원은 풍력이다. 10위인 스웨덴의 수력 비중은 44.2%, 원자력 비중은 30.1%로 원자력 비중도 상당히 높은 것이 특징이다. 세계 각국은 자원 및 경제 상황에 따라 에너지원을 다양하게 사용하는 가운데, 영 국, 독일, 호주, 미국, 일본 등은 탄소중립 달성을 위해 에너지전환 정책을 적극적으 로 추진 중이다. 영국은 석탄 감축 정책을 펼치면서 재생에너지 보급을 빠르게 증가 시킨 나라 중 하나로, 원별로는 천연가스 비중이 36.5% 가장 높고, 다음으로 풍력 (24.2%), 원자력(16.1%), 바이오연료(11.2%) 등의 비중이 높다. 영국의 2020년 석 탄 발전 비중은 2.0% 수준으로 2015년 22.7%와 비교하여 대폭 감소하였다. 독일 은 탈원전·탈석탄을 추진 중인 국가이지만 그 결과는 미진한데, 원별 비중을 보면 석탄이 25.5%로 가장 높고, 다음으로 풍력(22.5%), 천연가스(17.1%), 원자력 (11.1%), 태양광(8.7%) 순이다. 호주는 주요 석탄 생산국으로, 원별 비중을 보면 석 탄이 54.9%로 가장 높고, 다음으로 천연가스(20.8%), 태양광(7.9%), 풍력(7.7%), 수력(5.7%) 순이다. 미국은 바이든 정부 이후 친환경 정책을 강조하는 국가로, 원별 비중을 보면 천연가스 비중이 39.3%로 가장 높고, 다음으로 석탄(20.0%), 원자력 (19.4%), 풍력(8.0%), 수력(7.4%), 태양광(2.7%) 순이다. 일본은 후쿠시마 사건 이 후 원자력 발전이 줄어들면서 대체에너지로 재생에너지 보급 추진 중인 국가로, 원 별 비중을 보면 천연가스가 37.7%로 가장 높고, 다음으로 석탄(30.4%), 수력 (8.6%), 태양광(7.6%) 순이다. 특히 일본은 에너지 섬이면서 화석연료 수입 비중이 25)OECD iLibrary홈페이지(최종접속일: 2022.9.8) 데이터 참고함. 23</td>\n",
       "    </tr>\n",
       "    <tr>\n",
       "      <th id=\"T_5240a_level0_row3\" class=\"row_heading level0 row3\" >3</th>\n",
       "      <td id=\"T_5240a_row3_col0\" class=\"data row3 col0\" >index-03</td>\n",
       "      <td id=\"T_5240a_row3_col1\" class=\"data row3 col1\" >5.250500</td>\n",
       "      <td id=\"T_5240a_row3_col2\" class=\"data row3 col2\" >국제 신재생에너지 정책변화 및 시장 분석</td>\n",
       "      <td id=\"T_5240a_row3_col3\" class=\"data row3 col3\" >높다는 점에서 우리나라와 에너지 환경은 비슷하지만, 재생에너지 비중은 우리나보 다 4배 가까이 높다. IEA 기준 우리나라의 원별 비중을 보면 석탄이 38.7%로 가장 높고, 다음으로 원자력(27.3%), 천연가스(25.8%), 태양광(3.1%), 바이오연료(1.4%) 순이다.26) [그림 2-17] OECD 국가별 재생에너지 발전 비중(2020년) 자료: OECD iLibrary홈페이지(최종접속일: 2022.9.8) 자료 활용하여 저자 작성 본고에서는 추가로 Enerdata 자료를 활용하여 전세계 186개국을 대상으로 재생에 너지 보급 수준을 비교하였다. 이를 위해 2020년 발전량 자료를 활용하였고, 사분위 수를 도출하여 국가들을 그룹화하였다. 발전량에 따른 국가들의 지리적 분포도는 [그 림 2-18]~[그림 2-21]에 제시하였다. 개별 국가가 포함된 그룹 순위에 따라 다른 색 으로 지도에 표시되어 있으며 보급 수준이 가장 높은 상위 25% 그룹(Q4)이 가장 짙 은 색으로, 보급 수준이 낮은 하위 50% 그룹(Q2, Q1)이 가장 흐린 색으로 표시되어 총 3개의 그룹을 보여준다. 26)OECD iLibrary홈페이지(최종접속일: 2022.9.8) 데이터를 참고함. 24</td>\n",
       "    </tr>\n",
       "    <tr>\n",
       "      <th id=\"T_5240a_level0_row4\" class=\"row_heading level0 row4\" >4</th>\n",
       "      <td id=\"T_5240a_row4_col0\" class=\"data row4 col0\" >index-03</td>\n",
       "      <td id=\"T_5240a_row4_col1\" class=\"data row4 col1\" >4.405900</td>\n",
       "      <td id=\"T_5240a_row4_col2\" class=\"data row4 col2\" >국제 신재생에너지 정책변화 및 시장 분석</td>\n",
       "      <td id=\"T_5240a_row4_col3\" class=\"data row4 col3\" >은 원자재 수출을 차단하고, 러시아 화폐인 루블화 결제를 강제하면서 오히려 유럽 의 심각한 에너지 수급난을 불러일으켰다.38)39) 결과적으로는 전세계 원유, 천연가 스 가격을 상승시켰을 뿐만 아니라 대체제인 석탄 가격의 수요 증가와 EU의 러시아 산 석탄수입 금지 제재안이 통과되면서 화석연료 가격이 폭등하였다.40) [그림 3-2] 국제 화석연료 가격 추이 자료: 에너지경제연구원(2022b), p.6. 러·우 전쟁이 전세계 에너지 부문에 경종을 울렸다는 사실은 부인할 수 없다. 현 재의 위기는 각국의 러시아 가스에 대한 의존이 과도함을 상기시키며 타국에 대한 높은 에너지공급 의존도는 국제 정세에 따라 에너지 안보에 약점이 될 수 있음을 여 실히 보여준다. 또한, 러·우 전쟁을 통해 화석 연료에 기반한 에너지 시스템이 국제 위기의 영향에 매우 취약하다는 것을 확인할 수 있다. 이와 달리 재생에너지원을 기 반으로 하는 시스템은 상대적으로 외부 환경에 대해 독립적이며, 지속가능하고 탄력 적이며, 안정적이다. 그렇기에 유럽을 비롯한 여러 국가에서 재생가능한 에너지원으 로 전환함으로써 에너지 안보 확립과 더불어 전세계 기후 위기 대처라는 더 크고 장 기적인 목표를 함께 달성하고자 한다. EU는 2022년 4월 7일부로 러시아산 석탄에 대하여 8월 이후 신규계약을 금지하는 완전한 금수를 결정하였고, 천연가스와 석유의 러시아 의존도를 2022년 연말까지 38) GS칼텍스 미디어허브(2022.7.20 작성)(최종접속일: 2022.8.28)． 39) 이용성(2022.8.11. 작성)(최종접속일: 2022.9.22). 40) 2022년 9월 기준 석탄, 원유, 천연가스는 전년 동월 대비 2.4배, 1.3배, 2.4배 증가함. (에너지경제연구원(2022b), p.6.) 38</td>\n",
       "    </tr>\n",
       "  </tbody>\n",
       "</table>\n"
      ],
      "text/plain": [
       "<pandas.io.formats.style.Styler at 0x7fbb5ff574f0>"
      ]
     },
     "execution_count": 24,
     "metadata": {},
     "output_type": "execute_result"
    }
   ],
   "source": [
    "query = \"2020년 전세계 에너지 공급량은 얼마인가요?\"\n",
    "\n",
    "response_lexical_only = os_client.search(\n",
    "    body=query_lexical(query),\n",
    "    index=index_name\n",
    ")\n",
    "\n",
    "time_took_lexical_only = response_lexical_only['took']\n",
    "print('검색에 걸린 시간: ', time_took_lexical_only, 'ms')\n",
    "\n",
    "print(\"<<사용자 입력 쿼리 문장>>: \", query)\n",
    "\n",
    "result_to_dataframe(response_lexical_only)"
   ]
  },
  {
   "cell_type": "markdown",
   "id": "d99ac1ed-abe4-40f1-b9c8-048e7b379217",
   "metadata": {},
   "source": [
    "### 결과값에 매칭되는 Term 확인"
   ]
  },
  {
   "cell_type": "markdown",
   "id": "eb698a69-2cb4-4db6-a01d-9b88a3814c00",
   "metadata": {},
   "source": [
    "BM25 알고리즘에 의해 스코어링이 되고, PDF에서 추출된 문장(chunk)에서 어떤 term들과 매칭되었는지를 확인하려면 아래의 코드를 실행합니다. 아래 쿼리는 결과값에 매칭되는 term을 강조할 수 있도록 html 태그를 추가합니다."
   ]
  },
  {
   "cell_type": "code",
   "execution_count": 25,
   "id": "ded7a543-d108-4710-9902-04920bf9fdab",
   "metadata": {
    "tags": []
   },
   "outputs": [],
   "source": [
    "def query_lexical_with_highlight(query, filter=[], k=5):\n",
    "    QUERY_TEMPLATE = {\n",
    "        \"size\": k,\n",
    "        \"query\": {\n",
    "            \"bool\": {\n",
    "                \"must\": [\n",
    "                    {\n",
    "                        \"match\": {\n",
    "                            \"text\": query\n",
    "                        }\n",
    "                    }\n",
    "                ],\n",
    "                \"filter\": filter\n",
    "            }\n",
    "        },\n",
    "        \"highlight\": {\n",
    "            \"pre_tags\": [\n",
    "                \"<span style='color:red'>\"\n",
    "            ],\n",
    "            \"post_tags\": [\n",
    "                \"</span>\"\n",
    "            ],\n",
    "            \"fields\": {\n",
    "                \"text\": {}\n",
    "            }\n",
    "        }\n",
    "    }\n",
    "    if len(filter) > 0:\n",
    "        QUERY_TEMPLATE[\"query\"][\"bool\"][\"filter\"].extend(filter)\n",
    "    return QUERY_TEMPLATE\n",
    "\n",
    "response_lexical_with_highlight = os_client.search(\n",
    "    body=query_lexical_with_highlight(query),\n",
    "    index=index_name\n",
    ")\n"
   ]
  },
  {
   "cell_type": "code",
   "execution_count": 26,
   "id": "02e75f3c-3b74-432f-abfb-6d7ff048cfbf",
   "metadata": {
    "tags": []
   },
   "outputs": [
    {
     "name": "stdout",
     "output_type": "stream",
     "text": [
      "<<사용자 입력 쿼리 문장>>:  2020년 전세계 에너지 공급량은 얼마인가요?\n"
     ]
    },
    {
     "data": {
      "text/html": [
       "<table border=\"1\" class=\"dataframe\">\n",
       "  <thead>\n",
       "    <tr style=\"text-align: right;\">\n",
       "      <th></th>\n",
       "      <th>score</th>\n",
       "      <th>각 문서(chuck) 내에서 매칭된 부분</th>\n",
       "    </tr>\n",
       "  </thead>\n",
       "  <tbody>\n",
       "    <tr>\n",
       "      <th>0</th>\n",
       "      <td>11.883775</td>\n",
       "      <td>[먼저 1절에서는 <span style='color:red'>전세계</span> 관점에서 재생에너지 보급, 산업, 가격, 전망 에 대해 다루고, 2절에서는 국가별 재생에너지 보급 및 가격 현황을 살펴보았다. 1., 재생에너지 보급 동향 1.1. 1차에너지1) <span style='color:red'>2020년</span> <span style='color:red'>전세계</span> <span style='color:red'>에너지</span> <span style='color:red'>공급량은</span> 14,177Mtoe로 이 중 재생에너지 <span style='color:red'>공급량은</span> 14.6%에 해당하는 2,077Mtoe였다., 비중이 가장 높은 에너지원은 석유로 30.0%를 차지하였고, 다음으로 석탄(26.9%), 천연가스(23.5%), 순이다. 2010년과 비교하여 재생에너지 <span style='color:red'>공급량은</span> 508Mtoe 증가하였으며]</td>\n",
       "    </tr>\n",
       "    <tr>\n",
       "      <th>1</th>\n",
       "      <td>5.875968</td>\n",
       "      <td>[재생에너지 원별로 나누어보면 <span style='color:red'>2020년</span> 기준 바이 오매스 비중이 65.1%로 가장 높고, 다음으로 수력(17.9%), 풍력(6.7%), 지열(5.3%) 태양광(3.4%), 태양열(1.6%, 바이오매스 비중이 높은 이유는 개발도상국에 서 난방과 취사용으로 주로 활용하기 때문이다.2) 2010년과 비교하여 <span style='color:red'>공급량은</span> 바 이오매스가 191Mtoe로 가장 많이 증가하였고, 다음으로, [그림 2-1] 에너지원별 1차에너지 공급(TPES) 비중 <<span style='color:red'>2020년</span>> <2010년> 자료: Enerdata(최종접속일: 2022.11.20)의 자료를 활용하여 저자 작성 [그림, 2-2] 재생에너지 원별 1차에너지 공급(TPES) 비중 <2010년> <<span style='color:red'>2020년</span>> 자료: Enerdata(최종접속일: 2022.11.20)의 자료를 활용하여 저자 작성 2) 공지영]</td>\n",
       "    </tr>\n",
       "    <tr>\n",
       "      <th>2</th>\n",
       "      <td>5.587486</td>\n",
       "      <td>[국가별 재생에너지 보급 현황 [그림 2-17]은 OECD 국가별 재생에너지 발전 비중을 나타낸다. <span style='color:red'>2020년</span> 우리나 라 재생에너지 발전 비중은 4.7% 수준으로 37위이며, OECD, 평균(27.3%)과 <span style='color:red'>전세계</span> 평균(26.1%)보다 낮게 나타났다.25) <span style='color:red'>전세계</span> 평균(26.1%)에 도달하지 못한 OECD 국 가는 우리나라를 포함하여 모두 13개국이다., 영국의 <span style='color:red'>2020년</span> 석 탄 발전 비중은 2.0% 수준으로 2015년 22.7%와 비교하여 대폭 감소하였다., 특히 일본은 <span style='color:red'>에너지</span> 섬이면서 화석연료 수입 비중이 25)OECD iLibrary홈페이지(최종접속일: 2022.9.8) 데이터 참고함. 23]</td>\n",
       "    </tr>\n",
       "    <tr>\n",
       "      <th>3</th>\n",
       "      <td>5.250500</td>\n",
       "      <td>[높다는 점에서 우리나라와 <span style='color:red'>에너지</span> 환경은 비슷하지만, 재생에너지 비중은 우리나보 다 4배 가까이 높다., 가장 높고, 다음으로 원자력(27.3%), 천연가스(25.8%), 태양광(3.1%), 바이오연료(1.4%) 순이다.26) [그림 2-17] OECD 국가별 재생에너지 발전 비중(<span style='color:red'>2020년</span>, ) 자료: OECD iLibrary홈페이지(최종접속일: 2022.9.8) 자료 활용하여 저자 작성 본고에서는 추가로 Enerdata 자료를 활용하여 <span style='color:red'>전세계</span> 186개국을 대상으로 재생에, 이를 위해 <span style='color:red'>2020년</span> 발전량 자료를 활용하였고, 사분위 수를 도출하여 국가들을 그룹화하였다.]</td>\n",
       "    </tr>\n",
       "    <tr>\n",
       "      <th>4</th>\n",
       "      <td>4.405927</td>\n",
       "      <td>[은 원자재 수출을 차단하고, 러시아 화폐인 루블화 결제를 강제하면서 오히려 유럽 의 심각한 <span style='color:red'>에너지</span> 수급난을 불러일으켰다.38)39) 결과적으로는 <span style='color:red'>전세계</span> 원유, 천연가 스 가격을 상승시켰을, 러·우 전쟁이 <span style='color:red'>전세계</span> <span style='color:red'>에너지</span> 부문에 경종을 울렸다는 사실은 부인할 수 없다., 현 재의 위기는 각국의 러시아 가스에 대한 의존이 과도함을 상기시키며 타국에 대한 높은 에너지공급 의존도는 국제 정세에 따라 <span style='color:red'>에너지</span> 안보에 약점이 될 수 있음을 여 실히 보여준다., 또한, 러·우 전쟁을 통해 화석 연료에 기반한 <span style='color:red'>에너지</span> 시스템이 국제 위기의 영향에 매우 취약하다는 것을 확인할 수 있다., 그렇기에 유럽을 비롯한 여러 국가에서 재생가능한 에너지원으 로 전환함으로써 <span style='color:red'>에너지</span> 안보 확립과 더불어 <span style='color:red'>전세계</span> 기후 위기 대처라는 더 크고 장 기적인 목표를 함께 달성하고자 한다.]</td>\n",
       "    </tr>\n",
       "  </tbody>\n",
       "</table>"
      ],
      "text/plain": [
       "<IPython.core.display.HTML object>"
      ]
     },
     "execution_count": 26,
     "metadata": {},
     "output_type": "execute_result"
    }
   ],
   "source": [
    "from IPython.display import HTML\n",
    "\n",
    "import pandas as pd\n",
    "temp_arr = []\n",
    "\n",
    "for res in response_lexical_with_highlight['hits']['hits']:\n",
    "            # result.append([res['_index'], round(res['_score'], 4), res['_source']['metadata']['type'], res['_source']['text']])\n",
    "\n",
    "    temp_arr.append([res['_score'], res['highlight']['text']])\n",
    "\n",
    "# print(\"---------- html 태그가 포함된 결과 ------------\")\n",
    "# print(temp_arr)\n",
    "# print(\"-------------------------------------------\")\n",
    "    \n",
    "#df = pd.DataFrame(temp_arr)\n",
    "df = pd.DataFrame(temp_arr, columns=['score', '각 문서(chuck) 내에서 매칭된 부분'])\n",
    "\n",
    "print(\"<<사용자 입력 쿼리 문장>>: \", query)\n",
    "\n",
    "HTML(df.to_html(escape=False))\n"
   ]
  },
  {
   "cell_type": "markdown",
   "id": "830d6e77-32f0-4a59-9f36-b8f45fce14bc",
   "metadata": {},
   "source": [
    "참고> hightlight 요청은 모든 결과를 return하지 않고, 매칭되는 부분만 중점적으로 보여줍니다. 위의 코드에서는 검색에 매칭되는 term의 앞 뒤로 \\<span style='color:red'>과 \\</span>태그로 눈에 들어오도록 표기했습니다."
   ]
  },
  {
   "cell_type": "markdown",
   "id": "ef366161-656e-4a4a-a800-c7b4a32bdb9e",
   "metadata": {
    "tags": []
   },
   "source": [
    "## 6. Filter 활용\n",
    "- document내 metadata를 활용하여 search space를 줄일 수 있다.\n",
    "- 특히 filter의 경우 search 전에 수행되기 때문에, 검색 속도 향상을 기대할 수 있다\n",
    "- syntax\n",
    "    - filter=[{\"term\"**[고정]**: {\"metadata.source\"**[메타데이터 이름, 혹은 메타데이터 아니여도 상관없음]**: \"신한은행\"**[조건명]**}},]\n",
    "    - list 형식으로 복수개 filter 설정 가능"
   ]
  },
  {
   "cell_type": "code",
   "execution_count": 27,
   "id": "23e178cf-014c-49e2-89e2-9f2191583f17",
   "metadata": {
    "tags": []
   },
   "outputs": [
    {
     "data": {
      "text/html": [
       "<style type=\"text/css\">\n",
       "#T_086bd_row0_col0, #T_086bd_row0_col1, #T_086bd_row0_col2, #T_086bd_row0_col3, #T_086bd_row1_col0, #T_086bd_row1_col1, #T_086bd_row1_col2, #T_086bd_row1_col3, #T_086bd_row2_col0, #T_086bd_row2_col1, #T_086bd_row2_col2, #T_086bd_row2_col3, #T_086bd_row3_col0, #T_086bd_row3_col1, #T_086bd_row3_col2, #T_086bd_row3_col3, #T_086bd_row4_col0, #T_086bd_row4_col1, #T_086bd_row4_col2, #T_086bd_row4_col3 {\n",
       "  text-align: left;\n",
       "}\n",
       "</style>\n",
       "<table id=\"T_086bd\">\n",
       "  <thead>\n",
       "    <tr>\n",
       "      <th class=\"blank level0\" >&nbsp;</th>\n",
       "      <th id=\"T_086bd_level0_col0\" class=\"col_heading level0 col0\" >index_name</th>\n",
       "      <th id=\"T_086bd_level0_col1\" class=\"col_heading level0 col1\" >score</th>\n",
       "      <th id=\"T_086bd_level0_col2\" class=\"col_heading level0 col2\" >type</th>\n",
       "      <th id=\"T_086bd_level0_col3\" class=\"col_heading level0 col3\" >text</th>\n",
       "    </tr>\n",
       "  </thead>\n",
       "  <tbody>\n",
       "    <tr>\n",
       "      <th id=\"T_086bd_level0_row0\" class=\"row_heading level0 row0\" >0</th>\n",
       "      <td id=\"T_086bd_row0_col0\" class=\"data row0 col0\" >index-03</td>\n",
       "      <td id=\"T_086bd_row0_col1\" class=\"data row0 col1\" >11.883800</td>\n",
       "      <td id=\"T_086bd_row0_col2\" class=\"data row0 col2\" >국제 신재생에너지 정책변화 및 시장 분석</td>\n",
       "      <td id=\"T_086bd_row0_col3\" class=\"data row0 col3\" >제2장 국제 재생에너지 시장 동향 제2장 국제 재생에너지 시장 동향 본 연구의 주요 목적 중 하나는 매년 변화하는 재생에너지 시장 동향을 살펴보는 것으로, 자체적으로 수행한 데이터 분석 결과와 IEA, REN21, Enerdtata, BNEF, IRENA 등 주요 국제기구에서 발간하는 자료를 토대로 재생에너지 시장 변화를 살 펴보고자 한다. 먼저 1절에서는 전세계 관점에서 재생에너지 보급, 산업, 가격, 전망 에 대해 다루고, 2절에서는 국가별 재생에너지 보급 및 가격 현황을 살펴보았다. 1. 재생에너지 보급 동향 1.1. 1차에너지1) 2020년 전세계 에너지 공급량은 14,177Mtoe로 이 중 재생에너지 공급량은 14.6%에 해당하는 2,077Mtoe였다. 비중이 가장 높은 에너지원은 석유로 30.0%를 차지하였고, 다음으로 석탄(26.9%), 천연가스(23.5%), 순이다. 2010년과 비교하여 재생에너지 공급량은 508Mtoe 증가하였으며, 1차에너지에서 재생에너지 비중은 1) 여기서는 Enerdata(최종접속일: 2022.11.20)에서 제공하는 자료를 활용하여 작성하였음. 5</td>\n",
       "    </tr>\n",
       "    <tr>\n",
       "      <th id=\"T_086bd_level0_row1\" class=\"row_heading level0 row1\" >1</th>\n",
       "      <td id=\"T_086bd_row1_col0\" class=\"data row1 col0\" >index-03</td>\n",
       "      <td id=\"T_086bd_row1_col1\" class=\"data row1 col1\" >5.876000</td>\n",
       "      <td id=\"T_086bd_row1_col2\" class=\"data row1 col2\" >국제 신재생에너지 정책변화 및 시장 분석</td>\n",
       "      <td id=\"T_086bd_row1_col3\" class=\"data row1 col3\" >2.7%p 증가하였다([그림 2-1]). 재생에너지 원별로 나누어보면 2020년 기준 바이 오매스 비중이 65.1%로 가장 높고, 다음으로 수력(17.9%), 풍력(6.7%), 지열(5.3%) 태양광(3.4%), 태양열(1.6%) 순이다. 바이오매스 비중이 높은 이유는 개발도상국에 서 난방과 취사용으로 주로 활용하기 때문이다.2) 2010년과 비교하여 공급량은 바 이오매스가 191Mtoe로 가장 많이 증가하였고, 다음으로 풍력(109Mtoe), 수력 (76Mtoe), 태양광(67Mtoe) 순이다. 하지만 비중은 풍력이 4.8%p로 가장 많이 증 가하였고, 다음으로 태양광(3.2%), 지열(1.2%) 순이며, 바이오매스와 수력은 각각 8.9%p와 1.0%p 감소하였다([그림 2-2]). [그림 2-1] 에너지원별 1차에너지 공급(TPES) 비중 <2020년> <2010년> 자료: Enerdata(최종접속일: 2022.11.20)의 자료를 활용하여 저자 작성 [그림 2-2] 재생에너지 원별 1차에너지 공급(TPES) 비중 <2010년> <2020년> 자료: Enerdata(최종접속일: 2022.11.20)의 자료를 활용하여 저자 작성 2) 공지영·조일현(2021), p.4. 6</td>\n",
       "    </tr>\n",
       "    <tr>\n",
       "      <th id=\"T_086bd_level0_row2\" class=\"row_heading level0 row2\" >2</th>\n",
       "      <td id=\"T_086bd_row2_col0\" class=\"data row2 col0\" >index-03</td>\n",
       "      <td id=\"T_086bd_row2_col1\" class=\"data row2 col1\" >5.587500</td>\n",
       "      <td id=\"T_086bd_row2_col2\" class=\"data row2 col2\" >국제 신재생에너지 정책변화 및 시장 분석</td>\n",
       "      <td id=\"T_086bd_row2_col3\" class=\"data row2 col3\" >제2장 국제 재생에너지 시장 동향 2. 국가별 재생에너지 현황 비교 2.1. 국가별 재생에너지 보급 현황 [그림 2-17]은 OECD 국가별 재생에너지 발전 비중을 나타낸다. 2020년 우리나 라 재생에너지 발전 비중은 4.7% 수준으로 37위이며, OECD 평균(27.3%)과 전세계 평균(26.1%)보다 낮게 나타났다.25) 전세계 평균(26.1%)에 도달하지 못한 OECD 국 가는 우리나라를 포함하여 모두 13개국이다. OECD 중에서 재생에너지 발전 비중이 가장 높은 나라는 코스타리카(99.2%), 아이슬란드(99.1%), 노르웨이(96.1%) 순이다. 상위 10개 국가 중 덴마크를 제외한 나머지 국가는 주 에너지원이 수력이라는 특징 이 있으며, 덴마크의 주 에너지원은 풍력이다. 10위인 스웨덴의 수력 비중은 44.2%, 원자력 비중은 30.1%로 원자력 비중도 상당히 높은 것이 특징이다. 세계 각국은 자원 및 경제 상황에 따라 에너지원을 다양하게 사용하는 가운데, 영 국, 독일, 호주, 미국, 일본 등은 탄소중립 달성을 위해 에너지전환 정책을 적극적으 로 추진 중이다. 영국은 석탄 감축 정책을 펼치면서 재생에너지 보급을 빠르게 증가 시킨 나라 중 하나로, 원별로는 천연가스 비중이 36.5% 가장 높고, 다음으로 풍력 (24.2%), 원자력(16.1%), 바이오연료(11.2%) 등의 비중이 높다. 영국의 2020년 석 탄 발전 비중은 2.0% 수준으로 2015년 22.7%와 비교하여 대폭 감소하였다. 독일 은 탈원전·탈석탄을 추진 중인 국가이지만 그 결과는 미진한데, 원별 비중을 보면 석탄이 25.5%로 가장 높고, 다음으로 풍력(22.5%), 천연가스(17.1%), 원자력 (11.1%), 태양광(8.7%) 순이다. 호주는 주요 석탄 생산국으로, 원별 비중을 보면 석 탄이 54.9%로 가장 높고, 다음으로 천연가스(20.8%), 태양광(7.9%), 풍력(7.7%), 수력(5.7%) 순이다. 미국은 바이든 정부 이후 친환경 정책을 강조하는 국가로, 원별 비중을 보면 천연가스 비중이 39.3%로 가장 높고, 다음으로 석탄(20.0%), 원자력 (19.4%), 풍력(8.0%), 수력(7.4%), 태양광(2.7%) 순이다. 일본은 후쿠시마 사건 이 후 원자력 발전이 줄어들면서 대체에너지로 재생에너지 보급 추진 중인 국가로, 원 별 비중을 보면 천연가스가 37.7%로 가장 높고, 다음으로 석탄(30.4%), 수력 (8.6%), 태양광(7.6%) 순이다. 특히 일본은 에너지 섬이면서 화석연료 수입 비중이 25)OECD iLibrary홈페이지(최종접속일: 2022.9.8) 데이터 참고함. 23</td>\n",
       "    </tr>\n",
       "    <tr>\n",
       "      <th id=\"T_086bd_level0_row3\" class=\"row_heading level0 row3\" >3</th>\n",
       "      <td id=\"T_086bd_row3_col0\" class=\"data row3 col0\" >index-03</td>\n",
       "      <td id=\"T_086bd_row3_col1\" class=\"data row3 col1\" >5.250500</td>\n",
       "      <td id=\"T_086bd_row3_col2\" class=\"data row3 col2\" >국제 신재생에너지 정책변화 및 시장 분석</td>\n",
       "      <td id=\"T_086bd_row3_col3\" class=\"data row3 col3\" >높다는 점에서 우리나라와 에너지 환경은 비슷하지만, 재생에너지 비중은 우리나보 다 4배 가까이 높다. IEA 기준 우리나라의 원별 비중을 보면 석탄이 38.7%로 가장 높고, 다음으로 원자력(27.3%), 천연가스(25.8%), 태양광(3.1%), 바이오연료(1.4%) 순이다.26) [그림 2-17] OECD 국가별 재생에너지 발전 비중(2020년) 자료: OECD iLibrary홈페이지(최종접속일: 2022.9.8) 자료 활용하여 저자 작성 본고에서는 추가로 Enerdata 자료를 활용하여 전세계 186개국을 대상으로 재생에 너지 보급 수준을 비교하였다. 이를 위해 2020년 발전량 자료를 활용하였고, 사분위 수를 도출하여 국가들을 그룹화하였다. 발전량에 따른 국가들의 지리적 분포도는 [그 림 2-18]~[그림 2-21]에 제시하였다. 개별 국가가 포함된 그룹 순위에 따라 다른 색 으로 지도에 표시되어 있으며 보급 수준이 가장 높은 상위 25% 그룹(Q4)이 가장 짙 은 색으로, 보급 수준이 낮은 하위 50% 그룹(Q2, Q1)이 가장 흐린 색으로 표시되어 총 3개의 그룹을 보여준다. 26)OECD iLibrary홈페이지(최종접속일: 2022.9.8) 데이터를 참고함. 24</td>\n",
       "    </tr>\n",
       "    <tr>\n",
       "      <th id=\"T_086bd_level0_row4\" class=\"row_heading level0 row4\" >4</th>\n",
       "      <td id=\"T_086bd_row4_col0\" class=\"data row4 col0\" >index-03</td>\n",
       "      <td id=\"T_086bd_row4_col1\" class=\"data row4 col1\" >4.405900</td>\n",
       "      <td id=\"T_086bd_row4_col2\" class=\"data row4 col2\" >국제 신재생에너지 정책변화 및 시장 분석</td>\n",
       "      <td id=\"T_086bd_row4_col3\" class=\"data row4 col3\" >은 원자재 수출을 차단하고, 러시아 화폐인 루블화 결제를 강제하면서 오히려 유럽 의 심각한 에너지 수급난을 불러일으켰다.38)39) 결과적으로는 전세계 원유, 천연가 스 가격을 상승시켰을 뿐만 아니라 대체제인 석탄 가격의 수요 증가와 EU의 러시아 산 석탄수입 금지 제재안이 통과되면서 화석연료 가격이 폭등하였다.40) [그림 3-2] 국제 화석연료 가격 추이 자료: 에너지경제연구원(2022b), p.6. 러·우 전쟁이 전세계 에너지 부문에 경종을 울렸다는 사실은 부인할 수 없다. 현 재의 위기는 각국의 러시아 가스에 대한 의존이 과도함을 상기시키며 타국에 대한 높은 에너지공급 의존도는 국제 정세에 따라 에너지 안보에 약점이 될 수 있음을 여 실히 보여준다. 또한, 러·우 전쟁을 통해 화석 연료에 기반한 에너지 시스템이 국제 위기의 영향에 매우 취약하다는 것을 확인할 수 있다. 이와 달리 재생에너지원을 기 반으로 하는 시스템은 상대적으로 외부 환경에 대해 독립적이며, 지속가능하고 탄력 적이며, 안정적이다. 그렇기에 유럽을 비롯한 여러 국가에서 재생가능한 에너지원으 로 전환함으로써 에너지 안보 확립과 더불어 전세계 기후 위기 대처라는 더 크고 장 기적인 목표를 함께 달성하고자 한다. EU는 2022년 4월 7일부로 러시아산 석탄에 대하여 8월 이후 신규계약을 금지하는 완전한 금수를 결정하였고, 천연가스와 석유의 러시아 의존도를 2022년 연말까지 38) GS칼텍스 미디어허브(2022.7.20 작성)(최종접속일: 2022.8.28)． 39) 이용성(2022.8.11. 작성)(최종접속일: 2022.9.22). 40) 2022년 9월 기준 석탄, 원유, 천연가스는 전년 동월 대비 2.4배, 1.3배, 2.4배 증가함. (에너지경제연구원(2022b), p.6.) 38</td>\n",
       "    </tr>\n",
       "  </tbody>\n",
       "</table>\n"
      ],
      "text/plain": [
       "<pandas.io.formats.style.Styler at 0x7fbb729f83a0>"
      ]
     },
     "execution_count": 27,
     "metadata": {},
     "output_type": "execute_result"
    }
   ],
   "source": [
    "filter = [\n",
    "    {\"term\": {\"metadata.source\": \"국제 신재생에너지 정책변화 및 시장 분석_22-26.pdf\"}}\n",
    "]\n",
    "\n",
    "response = os_client.search(\n",
    "    body=query_lexical(query, filter),\n",
    "    index=index_name\n",
    ")\n",
    "result_to_dataframe(response)"
   ]
  },
  {
   "cell_type": "code",
   "execution_count": 28,
   "id": "f5dae705-0377-4629-9261-fdd50b4b1f9b",
   "metadata": {
    "tags": []
   },
   "outputs": [
    {
     "name": "stdout",
     "output_type": "stream",
     "text": [
      "이전에 필터를 넣치 않고 검색에 걸린 시간:  5 ms\n",
      "지금 필터를 넣고 검색에 걸린 시간:  10 ms\n",
      "<<사용자 입력 쿼리 문장>>:  2020년 전세계 에너지 공급량은 얼마인가요?\n"
     ]
    },
    {
     "data": {
      "text/html": [
       "<style type=\"text/css\">\n",
       "#T_eb307_row0_col0, #T_eb307_row0_col1, #T_eb307_row0_col2, #T_eb307_row0_col3, #T_eb307_row1_col0, #T_eb307_row1_col1, #T_eb307_row1_col2, #T_eb307_row1_col3, #T_eb307_row2_col0, #T_eb307_row2_col1, #T_eb307_row2_col2, #T_eb307_row2_col3, #T_eb307_row3_col0, #T_eb307_row3_col1, #T_eb307_row3_col2, #T_eb307_row3_col3, #T_eb307_row4_col0, #T_eb307_row4_col1, #T_eb307_row4_col2, #T_eb307_row4_col3 {\n",
       "  text-align: left;\n",
       "}\n",
       "</style>\n",
       "<table id=\"T_eb307\">\n",
       "  <thead>\n",
       "    <tr>\n",
       "      <th class=\"blank level0\" >&nbsp;</th>\n",
       "      <th id=\"T_eb307_level0_col0\" class=\"col_heading level0 col0\" >index_name</th>\n",
       "      <th id=\"T_eb307_level0_col1\" class=\"col_heading level0 col1\" >score</th>\n",
       "      <th id=\"T_eb307_level0_col2\" class=\"col_heading level0 col2\" >type</th>\n",
       "      <th id=\"T_eb307_level0_col3\" class=\"col_heading level0 col3\" >text</th>\n",
       "    </tr>\n",
       "  </thead>\n",
       "  <tbody>\n",
       "    <tr>\n",
       "      <th id=\"T_eb307_level0_row0\" class=\"row_heading level0 row0\" >0</th>\n",
       "      <td id=\"T_eb307_row0_col0\" class=\"data row0 col0\" >index-03</td>\n",
       "      <td id=\"T_eb307_row0_col1\" class=\"data row0 col1\" >11.883800</td>\n",
       "      <td id=\"T_eb307_row0_col2\" class=\"data row0 col2\" >국제 신재생에너지 정책변화 및 시장 분석</td>\n",
       "      <td id=\"T_eb307_row0_col3\" class=\"data row0 col3\" >제2장 국제 재생에너지 시장 동향 제2장 국제 재생에너지 시장 동향 본 연구의 주요 목적 중 하나는 매년 변화하는 재생에너지 시장 동향을 살펴보는 것으로, 자체적으로 수행한 데이터 분석 결과와 IEA, REN21, Enerdtata, BNEF, IRENA 등 주요 국제기구에서 발간하는 자료를 토대로 재생에너지 시장 변화를 살 펴보고자 한다. 먼저 1절에서는 전세계 관점에서 재생에너지 보급, 산업, 가격, 전망 에 대해 다루고, 2절에서는 국가별 재생에너지 보급 및 가격 현황을 살펴보았다. 1. 재생에너지 보급 동향 1.1. 1차에너지1) 2020년 전세계 에너지 공급량은 14,177Mtoe로 이 중 재생에너지 공급량은 14.6%에 해당하는 2,077Mtoe였다. 비중이 가장 높은 에너지원은 석유로 30.0%를 차지하였고, 다음으로 석탄(26.9%), 천연가스(23.5%), 순이다. 2010년과 비교하여 재생에너지 공급량은 508Mtoe 증가하였으며, 1차에너지에서 재생에너지 비중은 1) 여기서는 Enerdata(최종접속일: 2022.11.20)에서 제공하는 자료를 활용하여 작성하였음. 5</td>\n",
       "    </tr>\n",
       "    <tr>\n",
       "      <th id=\"T_eb307_level0_row1\" class=\"row_heading level0 row1\" >1</th>\n",
       "      <td id=\"T_eb307_row1_col0\" class=\"data row1 col0\" >index-03</td>\n",
       "      <td id=\"T_eb307_row1_col1\" class=\"data row1 col1\" >5.876000</td>\n",
       "      <td id=\"T_eb307_row1_col2\" class=\"data row1 col2\" >국제 신재생에너지 정책변화 및 시장 분석</td>\n",
       "      <td id=\"T_eb307_row1_col3\" class=\"data row1 col3\" >2.7%p 증가하였다([그림 2-1]). 재생에너지 원별로 나누어보면 2020년 기준 바이 오매스 비중이 65.1%로 가장 높고, 다음으로 수력(17.9%), 풍력(6.7%), 지열(5.3%) 태양광(3.4%), 태양열(1.6%) 순이다. 바이오매스 비중이 높은 이유는 개발도상국에 서 난방과 취사용으로 주로 활용하기 때문이다.2) 2010년과 비교하여 공급량은 바 이오매스가 191Mtoe로 가장 많이 증가하였고, 다음으로 풍력(109Mtoe), 수력 (76Mtoe), 태양광(67Mtoe) 순이다. 하지만 비중은 풍력이 4.8%p로 가장 많이 증 가하였고, 다음으로 태양광(3.2%), 지열(1.2%) 순이며, 바이오매스와 수력은 각각 8.9%p와 1.0%p 감소하였다([그림 2-2]). [그림 2-1] 에너지원별 1차에너지 공급(TPES) 비중 <2020년> <2010년> 자료: Enerdata(최종접속일: 2022.11.20)의 자료를 활용하여 저자 작성 [그림 2-2] 재생에너지 원별 1차에너지 공급(TPES) 비중 <2010년> <2020년> 자료: Enerdata(최종접속일: 2022.11.20)의 자료를 활용하여 저자 작성 2) 공지영·조일현(2021), p.4. 6</td>\n",
       "    </tr>\n",
       "    <tr>\n",
       "      <th id=\"T_eb307_level0_row2\" class=\"row_heading level0 row2\" >2</th>\n",
       "      <td id=\"T_eb307_row2_col0\" class=\"data row2 col0\" >index-03</td>\n",
       "      <td id=\"T_eb307_row2_col1\" class=\"data row2 col1\" >5.587500</td>\n",
       "      <td id=\"T_eb307_row2_col2\" class=\"data row2 col2\" >국제 신재생에너지 정책변화 및 시장 분석</td>\n",
       "      <td id=\"T_eb307_row2_col3\" class=\"data row2 col3\" >제2장 국제 재생에너지 시장 동향 2. 국가별 재생에너지 현황 비교 2.1. 국가별 재생에너지 보급 현황 [그림 2-17]은 OECD 국가별 재생에너지 발전 비중을 나타낸다. 2020년 우리나 라 재생에너지 발전 비중은 4.7% 수준으로 37위이며, OECD 평균(27.3%)과 전세계 평균(26.1%)보다 낮게 나타났다.25) 전세계 평균(26.1%)에 도달하지 못한 OECD 국 가는 우리나라를 포함하여 모두 13개국이다. OECD 중에서 재생에너지 발전 비중이 가장 높은 나라는 코스타리카(99.2%), 아이슬란드(99.1%), 노르웨이(96.1%) 순이다. 상위 10개 국가 중 덴마크를 제외한 나머지 국가는 주 에너지원이 수력이라는 특징 이 있으며, 덴마크의 주 에너지원은 풍력이다. 10위인 스웨덴의 수력 비중은 44.2%, 원자력 비중은 30.1%로 원자력 비중도 상당히 높은 것이 특징이다. 세계 각국은 자원 및 경제 상황에 따라 에너지원을 다양하게 사용하는 가운데, 영 국, 독일, 호주, 미국, 일본 등은 탄소중립 달성을 위해 에너지전환 정책을 적극적으 로 추진 중이다. 영국은 석탄 감축 정책을 펼치면서 재생에너지 보급을 빠르게 증가 시킨 나라 중 하나로, 원별로는 천연가스 비중이 36.5% 가장 높고, 다음으로 풍력 (24.2%), 원자력(16.1%), 바이오연료(11.2%) 등의 비중이 높다. 영국의 2020년 석 탄 발전 비중은 2.0% 수준으로 2015년 22.7%와 비교하여 대폭 감소하였다. 독일 은 탈원전·탈석탄을 추진 중인 국가이지만 그 결과는 미진한데, 원별 비중을 보면 석탄이 25.5%로 가장 높고, 다음으로 풍력(22.5%), 천연가스(17.1%), 원자력 (11.1%), 태양광(8.7%) 순이다. 호주는 주요 석탄 생산국으로, 원별 비중을 보면 석 탄이 54.9%로 가장 높고, 다음으로 천연가스(20.8%), 태양광(7.9%), 풍력(7.7%), 수력(5.7%) 순이다. 미국은 바이든 정부 이후 친환경 정책을 강조하는 국가로, 원별 비중을 보면 천연가스 비중이 39.3%로 가장 높고, 다음으로 석탄(20.0%), 원자력 (19.4%), 풍력(8.0%), 수력(7.4%), 태양광(2.7%) 순이다. 일본은 후쿠시마 사건 이 후 원자력 발전이 줄어들면서 대체에너지로 재생에너지 보급 추진 중인 국가로, 원 별 비중을 보면 천연가스가 37.7%로 가장 높고, 다음으로 석탄(30.4%), 수력 (8.6%), 태양광(7.6%) 순이다. 특히 일본은 에너지 섬이면서 화석연료 수입 비중이 25)OECD iLibrary홈페이지(최종접속일: 2022.9.8) 데이터 참고함. 23</td>\n",
       "    </tr>\n",
       "    <tr>\n",
       "      <th id=\"T_eb307_level0_row3\" class=\"row_heading level0 row3\" >3</th>\n",
       "      <td id=\"T_eb307_row3_col0\" class=\"data row3 col0\" >index-03</td>\n",
       "      <td id=\"T_eb307_row3_col1\" class=\"data row3 col1\" >5.250500</td>\n",
       "      <td id=\"T_eb307_row3_col2\" class=\"data row3 col2\" >국제 신재생에너지 정책변화 및 시장 분석</td>\n",
       "      <td id=\"T_eb307_row3_col3\" class=\"data row3 col3\" >높다는 점에서 우리나라와 에너지 환경은 비슷하지만, 재생에너지 비중은 우리나보 다 4배 가까이 높다. IEA 기준 우리나라의 원별 비중을 보면 석탄이 38.7%로 가장 높고, 다음으로 원자력(27.3%), 천연가스(25.8%), 태양광(3.1%), 바이오연료(1.4%) 순이다.26) [그림 2-17] OECD 국가별 재생에너지 발전 비중(2020년) 자료: OECD iLibrary홈페이지(최종접속일: 2022.9.8) 자료 활용하여 저자 작성 본고에서는 추가로 Enerdata 자료를 활용하여 전세계 186개국을 대상으로 재생에 너지 보급 수준을 비교하였다. 이를 위해 2020년 발전량 자료를 활용하였고, 사분위 수를 도출하여 국가들을 그룹화하였다. 발전량에 따른 국가들의 지리적 분포도는 [그 림 2-18]~[그림 2-21]에 제시하였다. 개별 국가가 포함된 그룹 순위에 따라 다른 색 으로 지도에 표시되어 있으며 보급 수준이 가장 높은 상위 25% 그룹(Q4)이 가장 짙 은 색으로, 보급 수준이 낮은 하위 50% 그룹(Q2, Q1)이 가장 흐린 색으로 표시되어 총 3개의 그룹을 보여준다. 26)OECD iLibrary홈페이지(최종접속일: 2022.9.8) 데이터를 참고함. 24</td>\n",
       "    </tr>\n",
       "    <tr>\n",
       "      <th id=\"T_eb307_level0_row4\" class=\"row_heading level0 row4\" >4</th>\n",
       "      <td id=\"T_eb307_row4_col0\" class=\"data row4 col0\" >index-03</td>\n",
       "      <td id=\"T_eb307_row4_col1\" class=\"data row4 col1\" >4.405900</td>\n",
       "      <td id=\"T_eb307_row4_col2\" class=\"data row4 col2\" >국제 신재생에너지 정책변화 및 시장 분석</td>\n",
       "      <td id=\"T_eb307_row4_col3\" class=\"data row4 col3\" >은 원자재 수출을 차단하고, 러시아 화폐인 루블화 결제를 강제하면서 오히려 유럽 의 심각한 에너지 수급난을 불러일으켰다.38)39) 결과적으로는 전세계 원유, 천연가 스 가격을 상승시켰을 뿐만 아니라 대체제인 석탄 가격의 수요 증가와 EU의 러시아 산 석탄수입 금지 제재안이 통과되면서 화석연료 가격이 폭등하였다.40) [그림 3-2] 국제 화석연료 가격 추이 자료: 에너지경제연구원(2022b), p.6. 러·우 전쟁이 전세계 에너지 부문에 경종을 울렸다는 사실은 부인할 수 없다. 현 재의 위기는 각국의 러시아 가스에 대한 의존이 과도함을 상기시키며 타국에 대한 높은 에너지공급 의존도는 국제 정세에 따라 에너지 안보에 약점이 될 수 있음을 여 실히 보여준다. 또한, 러·우 전쟁을 통해 화석 연료에 기반한 에너지 시스템이 국제 위기의 영향에 매우 취약하다는 것을 확인할 수 있다. 이와 달리 재생에너지원을 기 반으로 하는 시스템은 상대적으로 외부 환경에 대해 독립적이며, 지속가능하고 탄력 적이며, 안정적이다. 그렇기에 유럽을 비롯한 여러 국가에서 재생가능한 에너지원으 로 전환함으로써 에너지 안보 확립과 더불어 전세계 기후 위기 대처라는 더 크고 장 기적인 목표를 함께 달성하고자 한다. EU는 2022년 4월 7일부로 러시아산 석탄에 대하여 8월 이후 신규계약을 금지하는 완전한 금수를 결정하였고, 천연가스와 석유의 러시아 의존도를 2022년 연말까지 38) GS칼텍스 미디어허브(2022.7.20 작성)(최종접속일: 2022.8.28)． 39) 이용성(2022.8.11. 작성)(최종접속일: 2022.9.22). 40) 2022년 9월 기준 석탄, 원유, 천연가스는 전년 동월 대비 2.4배, 1.3배, 2.4배 증가함. (에너지경제연구원(2022b), p.6.) 38</td>\n",
       "    </tr>\n",
       "  </tbody>\n",
       "</table>\n"
      ],
      "text/plain": [
       "<pandas.io.formats.style.Styler at 0x7fbb729f9f60>"
      ]
     },
     "execution_count": 28,
     "metadata": {},
     "output_type": "execute_result"
    }
   ],
   "source": [
    "filter = [\n",
    "    {\"term\": {\"metadata.source\": \"국제 신재생에너지 정책변화 및 시장 분석_22-26.pdf\"}},\n",
    "    {\"term\": {\"metadata.type\": \"국제 신재생에너지 정책변화 및 시장 분석\"}},\n",
    "]\n",
    "\n",
    "response = os_client.search(\n",
    "    body=query_lexical(query, filter),\n",
    "    index=index_name\n",
    ")\n",
    "print('이전에 필터를 넣치 않고 검색에 걸린 시간: ', time_took_lexical_only, 'ms')\n",
    "print('지금 필터를 넣고 검색에 걸린 시간: ', response['took'], 'ms')\n",
    "\n",
    "print(\"<<사용자 입력 쿼리 문장>>: \", query)\n",
    "\n",
    "result_to_dataframe(response)"
   ]
  },
  {
   "cell_type": "markdown",
   "id": "61bb0cb8-6f3f-4464-a728-a5d3657d6a8e",
   "metadata": {},
   "source": [
    "## 7. 벡터 검색 (knn 검색)을 활용한 검색 - Semantic Search\n",
    "\n",
    "- query 를 제공해서 실제로 유사한 내용이 검색이 되는지를 확인 합니다."
   ]
  },
  {
   "cell_type": "code",
   "execution_count": 29,
   "id": "e0551b04-d50a-4c10-b9cd-062c37b24b76",
   "metadata": {
    "tags": []
   },
   "outputs": [],
   "source": [
    "def query_semantic(vector, filter=[], k=5):\n",
    "    QUERY_TEMPLATE = {\n",
    "        \"size\": k,\n",
    "        \"query\": {                    \n",
    "            \"knn\": {\n",
    "                \"vector_field\": {\n",
    "                    \"vector\": vector,\n",
    "                    \"k\": k \n",
    "                }\n",
    "            }           \n",
    "        }\n",
    "    }\n",
    "    return QUERY_TEMPLATE"
   ]
  },
  {
   "cell_type": "code",
   "execution_count": 30,
   "id": "70a92d0b-e0df-4cf5-ab26-44e1886061db",
   "metadata": {
    "tags": []
   },
   "outputs": [
    {
     "name": "stdout",
     "output_type": "stream",
     "text": [
      "<<사용자 입력 쿼리 문장>>:  2020년 전세계 에너지 공급량은 얼마인가요?\n"
     ]
    },
    {
     "data": {
      "text/html": [
       "<style type=\"text/css\">\n",
       "#T_ee6d9_row0_col0, #T_ee6d9_row0_col1, #T_ee6d9_row0_col2, #T_ee6d9_row0_col3, #T_ee6d9_row1_col0, #T_ee6d9_row1_col1, #T_ee6d9_row1_col2, #T_ee6d9_row1_col3, #T_ee6d9_row2_col0, #T_ee6d9_row2_col1, #T_ee6d9_row2_col2, #T_ee6d9_row2_col3, #T_ee6d9_row3_col0, #T_ee6d9_row3_col1, #T_ee6d9_row3_col2, #T_ee6d9_row3_col3, #T_ee6d9_row4_col0, #T_ee6d9_row4_col1, #T_ee6d9_row4_col2, #T_ee6d9_row4_col3 {\n",
       "  text-align: left;\n",
       "}\n",
       "</style>\n",
       "<table id=\"T_ee6d9\">\n",
       "  <thead>\n",
       "    <tr>\n",
       "      <th class=\"blank level0\" >&nbsp;</th>\n",
       "      <th id=\"T_ee6d9_level0_col0\" class=\"col_heading level0 col0\" >index_name</th>\n",
       "      <th id=\"T_ee6d9_level0_col1\" class=\"col_heading level0 col1\" >score</th>\n",
       "      <th id=\"T_ee6d9_level0_col2\" class=\"col_heading level0 col2\" >type</th>\n",
       "      <th id=\"T_ee6d9_level0_col3\" class=\"col_heading level0 col3\" >text</th>\n",
       "    </tr>\n",
       "  </thead>\n",
       "  <tbody>\n",
       "    <tr>\n",
       "      <th id=\"T_ee6d9_level0_row0\" class=\"row_heading level0 row0\" >0</th>\n",
       "      <td id=\"T_ee6d9_row0_col0\" class=\"data row0 col0\" >index-03</td>\n",
       "      <td id=\"T_ee6d9_row0_col1\" class=\"data row0 col1\" >0.005200</td>\n",
       "      <td id=\"T_ee6d9_row0_col2\" class=\"data row0 col2\" >국제 신재생에너지 정책변화 및 시장 분석</td>\n",
       "      <td id=\"T_ee6d9_row0_col3\" class=\"data row0 col3\" >참고문헌 <웹사이트> GS칼텍스 미디어허브. 2022. 러시아·우크라이나 전쟁, 에너지 안보의 무서움을 일깨우다!. https://gscaltexmediahub.com/energy/energy-column/energy_security/(최종접 속일: 2022.8.28.). 국가법령정보센터 홈페이지-파리협정. https://www.law.go.kr/trtyMInfoP.do?trtySeq=12440#:~:text=1.%20%EB%8B%B9 %EC%82%AC%EC%9E%90%EB%8A%94%20%EC%A7%80%EC%86%8D%EA%B0%80 %EB%8A%A5%ED%95%9C,%EC%A0%81%EC%9D%91%EB%AA%A9%ED%91%9C%E B%A5%BC%20%EC%88%98%EB%A6%BD%ED%95%9C%EB%8B%A4.(최종접속일: 2022.8.20). 이용성. 2022.8.11. 작성. 유럽연합, 10일부터 러시아産 석탄 수입 금지 발효. 조선비즈. https://biz.chosun.com/international/international_economy/2022/08/11/GC XBBKG5YFF7ZPFDSODV4SBQLM/(최종접속일: 2022.9.22). 정귀희. 2017.6.9. 작성. 미국 태양광 PV 산업 규모 및 태양광 발전 정책 분석. 헬로T. https://www.hellot.net/news/article.html?no=34870(최종접속일: 2022.11.20). BNEF 홈페이지. https://www.bnef.com/(최종접속일: 2022.10.20.). BNEF 홈페이지. https://www.bnef.com/interactive-datasets/2d5d59acd9000016?data-hub=13( 최종접속일: 2022.11.19.). BNEF 홈페이지. https://www.bnef.com/interactive-datasets/2d5d59acd9000047(최종접 속일: 2022.6.29.). BP Statistical Review of World Energy & Ember. https://ourworldindata.org/grapher/net-electricity-imports?country=USA~GBR ~FRA~SWE~CAN(최종접속일: 2022.11.15.). Clean Energy Wire. 2022.1.12 작성. Germany to launch emergency programme for “huge, gigantic” 2030 emissions target task. https://www.cleanenergywire.org/news/germany-launch-emergency-program me-huge-gigantic-2030-emissions-target-task(최종접속일: 2022.9.25.). 105</td>\n",
       "    </tr>\n",
       "    <tr>\n",
       "      <th id=\"T_ee6d9_level0_row1\" class=\"row_heading level0 row1\" >1</th>\n",
       "      <td id=\"T_ee6d9_row1_col0\" class=\"data row1 col0\" >index-03</td>\n",
       "      <td id=\"T_ee6d9_row1_col1\" class=\"data row1 col1\" >0.004600</td>\n",
       "      <td id=\"T_ee6d9_row1_col2\" class=\"data row1 col2\" >국제 신재생에너지 정책변화 및 시장 분석</td>\n",
       "      <td id=\"T_ee6d9_row1_col3\" class=\"data row1 col3\" >제2장 국제 재생에너지 시장 동향 2. 국가별 재생에너지 현황 비교 2.1. 국가별 재생에너지 보급 현황 [그림 2-17]은 OECD 국가별 재생에너지 발전 비중을 나타낸다. 2020년 우리나 라 재생에너지 발전 비중은 4.7% 수준으로 37위이며, OECD 평균(27.3%)과 전세계 평균(26.1%)보다 낮게 나타났다.25) 전세계 평균(26.1%)에 도달하지 못한 OECD 국 가는 우리나라를 포함하여 모두 13개국이다. OECD 중에서 재생에너지 발전 비중이 가장 높은 나라는 코스타리카(99.2%), 아이슬란드(99.1%), 노르웨이(96.1%) 순이다. 상위 10개 국가 중 덴마크를 제외한 나머지 국가는 주 에너지원이 수력이라는 특징 이 있으며, 덴마크의 주 에너지원은 풍력이다. 10위인 스웨덴의 수력 비중은 44.2%, 원자력 비중은 30.1%로 원자력 비중도 상당히 높은 것이 특징이다. 세계 각국은 자원 및 경제 상황에 따라 에너지원을 다양하게 사용하는 가운데, 영 국, 독일, 호주, 미국, 일본 등은 탄소중립 달성을 위해 에너지전환 정책을 적극적으 로 추진 중이다. 영국은 석탄 감축 정책을 펼치면서 재생에너지 보급을 빠르게 증가 시킨 나라 중 하나로, 원별로는 천연가스 비중이 36.5% 가장 높고, 다음으로 풍력 (24.2%), 원자력(16.1%), 바이오연료(11.2%) 등의 비중이 높다. 영국의 2020년 석 탄 발전 비중은 2.0% 수준으로 2015년 22.7%와 비교하여 대폭 감소하였다. 독일 은 탈원전·탈석탄을 추진 중인 국가이지만 그 결과는 미진한데, 원별 비중을 보면 석탄이 25.5%로 가장 높고, 다음으로 풍력(22.5%), 천연가스(17.1%), 원자력 (11.1%), 태양광(8.7%) 순이다. 호주는 주요 석탄 생산국으로, 원별 비중을 보면 석 탄이 54.9%로 가장 높고, 다음으로 천연가스(20.8%), 태양광(7.9%), 풍력(7.7%), 수력(5.7%) 순이다. 미국은 바이든 정부 이후 친환경 정책을 강조하는 국가로, 원별 비중을 보면 천연가스 비중이 39.3%로 가장 높고, 다음으로 석탄(20.0%), 원자력 (19.4%), 풍력(8.0%), 수력(7.4%), 태양광(2.7%) 순이다. 일본은 후쿠시마 사건 이 후 원자력 발전이 줄어들면서 대체에너지로 재생에너지 보급 추진 중인 국가로, 원 별 비중을 보면 천연가스가 37.7%로 가장 높고, 다음으로 석탄(30.4%), 수력 (8.6%), 태양광(7.6%) 순이다. 특히 일본은 에너지 섬이면서 화석연료 수입 비중이 25)OECD iLibrary홈페이지(최종접속일: 2022.9.8) 데이터 참고함. 23</td>\n",
       "    </tr>\n",
       "    <tr>\n",
       "      <th id=\"T_ee6d9_level0_row2\" class=\"row_heading level0 row2\" >2</th>\n",
       "      <td id=\"T_ee6d9_row2_col0\" class=\"data row2 col0\" >index-03</td>\n",
       "      <td id=\"T_ee6d9_row2_col1\" class=\"data row2 col1\" >0.004500</td>\n",
       "      <td id=\"T_ee6d9_row2_col2\" class=\"data row2 col2\" >국제 신재생에너지 정책변화 및 시장 분석</td>\n",
       "      <td id=\"T_ee6d9_row2_col3\" class=\"data row2 col3\" >Climate Action Tracker 홈페이지. https://climateactiontracker.org/countries/germany/net-zero-targets/(최종접속 일: 2022.9.25.). Enerdata Database. https://global-energy-data.enerdata.net/database/(최종접속일: 2022. 11. 20). Enerdata 세계에너지 및 기후 통계 –2022년 연감. https://yearbook.enerdata.co.kr/electricity/electricity-domestic-consumption- data.html(최종접속일: 2022.11.15). Energy and Climate Intelligence Unit(ECIU) 홈페이지. https://zerotracker.net/(최종접속 일: 2022. 10. 04). European Commission. 2018.7.25 작성. Joint U.S.-EU Statement following President Ju ncker's visit to the White House. https://ec.europa.eu/commission/presscorner /detail/en/STATEMENT_18_4687(최종접속일: 2022.8.25.). European Commission. 2019.3.8 작성. EU-U.S. Joint Statement: Liquefied Natural Gas (LNG) imports from the U.S. continue to rise, up by 181%. https://ec.europa.eu/ commission/presscorner/detail/en/IP_19_1531(최종접속일: 2022.8.26.). European Commission. 2022.5.18 작성. REPowerEU: A plan to rapidly reduce dependen ce on Russian fossil fuels and fast forward the green transition. https://ec.europ a.eu/commission/presscorner/detail/en/ip_22_3131(최종접속일: 2022.10.30.). European Commission. Go-to areas for wind and solar. https://joint-research-centre. ec.europa.eu/energy-and-industry-geography-lab/go-areas-wind-and-solar_e n(최종접속일: 2022.9.2.). Federal Ministry for Economic Affairs and Climate Action. 2022.4.6 작성. Overview of t he Easter Package. https://www.bmwk.de/Redaktion/EN/Downloads/Energy/04 06_ueberblickspapier_osterpaket_en.pdf?__blob=publicationFile&v=5(최종접속 일: 2022.9.25.). IEA Data browser. https://www.iea.org/fuels-and-technologies/electricity(최종접속일: 2022. 11. 14). 106</td>\n",
       "    </tr>\n",
       "    <tr>\n",
       "      <th id=\"T_ee6d9_level0_row3\" class=\"row_heading level0 row3\" >3</th>\n",
       "      <td id=\"T_ee6d9_row3_col0\" class=\"data row3 col0\" >index-03</td>\n",
       "      <td id=\"T_ee6d9_row3_col1\" class=\"data row3 col1\" >0.004500</td>\n",
       "      <td id=\"T_ee6d9_row3_col2\" class=\"data row3 col2\" >국제 신재생에너지 정책변화 및 시장 분석</td>\n",
       "      <td id=\"T_ee6d9_row3_col3\" class=\"data row3 col3\" ><표 4-2> 변수 설명 변수명 설명 출처 전체 발전설비 용량 중 태양광, 풍력, 수력, 재생에너지 비중 Enerdata 조력, 지열, 바이오매스 발전 용량 비중 전체 발전설비 용량 중 태양광, 풍력 발전 변동성 재생에너지 비중 Enerdata 용량 비중 FiT/FiP 제도 시행시 1의 값을 갖는 FiT/FiP REN21, BNEF 더미변수 RPS RPS 제도 시행시 1의 값을 갖는 더미변수 REN21, BNEF 경매 경매제도 시행시 1의 값을 갖는 더미변수 REN21, BNEF 제조업 비중 GDP에서 제조업이 차지하는 비중 World Bank GDP per cap 1인당 GDP(2015년 US dollar) World Bank 금융발전도 GDP 대비 민간신용 비중 World Bank 석탄, 원유, 천연가스, 광물 및 임업제품의 천연자원 지대 비중 World Bank 지대가 GDP에서 차지하는 비중 BP Statistical Review of 전력 순수출량이 0보다 큰 경우 1의 값을 해외 계통연계 World Energy & 갖는 더미변수 Ember156) CO2 per cap 1인당 CO2 배출량 World Bank 국가 면적 국가 면적 World Bank 156) Our World in Data에서 BP Statistical Review of World Energy와 Ember 자료를 가공한 데이터를 활용함. 78</td>\n",
       "    </tr>\n",
       "    <tr>\n",
       "      <th id=\"T_ee6d9_level0_row4\" class=\"row_heading level0 row4\" >4</th>\n",
       "      <td id=\"T_ee6d9_row4_col0\" class=\"data row4 col0\" >index-03</td>\n",
       "      <td id=\"T_ee6d9_row4_col1\" class=\"data row4 col1\" >0.004500</td>\n",
       "      <td id=\"T_ee6d9_row4_col2\" class=\"data row4 col2\" >국제 신재생에너지 정책변화 및 시장 분석</td>\n",
       "      <td id=\"T_ee6d9_row4_col3\" class=\"data row4 col3\" >제2장 국제 재생에너지 시장 동향 [그림 2-13] 태양광 가치사슬별 가격 추이 (a) 폴리실리콘 (b) 웨이퍼 (c) 태양전지와 모듈 자료: BNEF 홈페이지(최종접속일: 2022.11.19) 자료 활용하여 저자 작성 19</td>\n",
       "    </tr>\n",
       "  </tbody>\n",
       "</table>\n"
      ],
      "text/plain": [
       "<pandas.io.formats.style.Styler at 0x7fbb729fa170>"
      ]
     },
     "execution_count": 30,
     "metadata": {},
     "output_type": "execute_result"
    }
   ],
   "source": [
    "print(\"<<사용자 입력 쿼리 문장>>: \", query)\n",
    "\n",
    "response = os_client.search(\n",
    "    body=query_semantic(llm_emb.embed_query(query)),\n",
    "    index=index_name\n",
    ")\n",
    "result_to_dataframe(response)"
   ]
  },
  {
   "cell_type": "markdown",
   "id": "1c2de8af-d84c-40cf-b74f-f6dc5a08688f",
   "metadata": {},
   "source": [
    "이전에 어휘분석으로 검색한 결과는 아래와 같습니다. 위의 표와 비교해보시길 바랍니다."
   ]
  },
  {
   "cell_type": "code",
   "execution_count": 31,
   "id": "06b5c953-edc6-4240-893b-dda5e8b4e4d3",
   "metadata": {
    "tags": []
   },
   "outputs": [
    {
     "name": "stdout",
     "output_type": "stream",
     "text": [
      "<<사용자 입력 쿼리 문장>>:  2020년 전세계 에너지 공급량은 얼마인가요?\n"
     ]
    },
    {
     "data": {
      "text/html": [
       "<style type=\"text/css\">\n",
       "#T_31ec4_row0_col0, #T_31ec4_row0_col1, #T_31ec4_row0_col2, #T_31ec4_row0_col3, #T_31ec4_row1_col0, #T_31ec4_row1_col1, #T_31ec4_row1_col2, #T_31ec4_row1_col3, #T_31ec4_row2_col0, #T_31ec4_row2_col1, #T_31ec4_row2_col2, #T_31ec4_row2_col3, #T_31ec4_row3_col0, #T_31ec4_row3_col1, #T_31ec4_row3_col2, #T_31ec4_row3_col3, #T_31ec4_row4_col0, #T_31ec4_row4_col1, #T_31ec4_row4_col2, #T_31ec4_row4_col3 {\n",
       "  text-align: left;\n",
       "}\n",
       "</style>\n",
       "<table id=\"T_31ec4\">\n",
       "  <thead>\n",
       "    <tr>\n",
       "      <th class=\"blank level0\" >&nbsp;</th>\n",
       "      <th id=\"T_31ec4_level0_col0\" class=\"col_heading level0 col0\" >index_name</th>\n",
       "      <th id=\"T_31ec4_level0_col1\" class=\"col_heading level0 col1\" >score</th>\n",
       "      <th id=\"T_31ec4_level0_col2\" class=\"col_heading level0 col2\" >type</th>\n",
       "      <th id=\"T_31ec4_level0_col3\" class=\"col_heading level0 col3\" >text</th>\n",
       "    </tr>\n",
       "  </thead>\n",
       "  <tbody>\n",
       "    <tr>\n",
       "      <th id=\"T_31ec4_level0_row0\" class=\"row_heading level0 row0\" >0</th>\n",
       "      <td id=\"T_31ec4_row0_col0\" class=\"data row0 col0\" >index-03</td>\n",
       "      <td id=\"T_31ec4_row0_col1\" class=\"data row0 col1\" >11.883800</td>\n",
       "      <td id=\"T_31ec4_row0_col2\" class=\"data row0 col2\" >국제 신재생에너지 정책변화 및 시장 분석</td>\n",
       "      <td id=\"T_31ec4_row0_col3\" class=\"data row0 col3\" >제2장 국제 재생에너지 시장 동향 제2장 국제 재생에너지 시장 동향 본 연구의 주요 목적 중 하나는 매년 변화하는 재생에너지 시장 동향을 살펴보는 것으로, 자체적으로 수행한 데이터 분석 결과와 IEA, REN21, Enerdtata, BNEF, IRENA 등 주요 국제기구에서 발간하는 자료를 토대로 재생에너지 시장 변화를 살 펴보고자 한다. 먼저 1절에서는 전세계 관점에서 재생에너지 보급, 산업, 가격, 전망 에 대해 다루고, 2절에서는 국가별 재생에너지 보급 및 가격 현황을 살펴보았다. 1. 재생에너지 보급 동향 1.1. 1차에너지1) 2020년 전세계 에너지 공급량은 14,177Mtoe로 이 중 재생에너지 공급량은 14.6%에 해당하는 2,077Mtoe였다. 비중이 가장 높은 에너지원은 석유로 30.0%를 차지하였고, 다음으로 석탄(26.9%), 천연가스(23.5%), 순이다. 2010년과 비교하여 재생에너지 공급량은 508Mtoe 증가하였으며, 1차에너지에서 재생에너지 비중은 1) 여기서는 Enerdata(최종접속일: 2022.11.20)에서 제공하는 자료를 활용하여 작성하였음. 5</td>\n",
       "    </tr>\n",
       "    <tr>\n",
       "      <th id=\"T_31ec4_level0_row1\" class=\"row_heading level0 row1\" >1</th>\n",
       "      <td id=\"T_31ec4_row1_col0\" class=\"data row1 col0\" >index-03</td>\n",
       "      <td id=\"T_31ec4_row1_col1\" class=\"data row1 col1\" >5.876000</td>\n",
       "      <td id=\"T_31ec4_row1_col2\" class=\"data row1 col2\" >국제 신재생에너지 정책변화 및 시장 분석</td>\n",
       "      <td id=\"T_31ec4_row1_col3\" class=\"data row1 col3\" >2.7%p 증가하였다([그림 2-1]). 재생에너지 원별로 나누어보면 2020년 기준 바이 오매스 비중이 65.1%로 가장 높고, 다음으로 수력(17.9%), 풍력(6.7%), 지열(5.3%) 태양광(3.4%), 태양열(1.6%) 순이다. 바이오매스 비중이 높은 이유는 개발도상국에 서 난방과 취사용으로 주로 활용하기 때문이다.2) 2010년과 비교하여 공급량은 바 이오매스가 191Mtoe로 가장 많이 증가하였고, 다음으로 풍력(109Mtoe), 수력 (76Mtoe), 태양광(67Mtoe) 순이다. 하지만 비중은 풍력이 4.8%p로 가장 많이 증 가하였고, 다음으로 태양광(3.2%), 지열(1.2%) 순이며, 바이오매스와 수력은 각각 8.9%p와 1.0%p 감소하였다([그림 2-2]). [그림 2-1] 에너지원별 1차에너지 공급(TPES) 비중 <2020년> <2010년> 자료: Enerdata(최종접속일: 2022.11.20)의 자료를 활용하여 저자 작성 [그림 2-2] 재생에너지 원별 1차에너지 공급(TPES) 비중 <2010년> <2020년> 자료: Enerdata(최종접속일: 2022.11.20)의 자료를 활용하여 저자 작성 2) 공지영·조일현(2021), p.4. 6</td>\n",
       "    </tr>\n",
       "    <tr>\n",
       "      <th id=\"T_31ec4_level0_row2\" class=\"row_heading level0 row2\" >2</th>\n",
       "      <td id=\"T_31ec4_row2_col0\" class=\"data row2 col0\" >index-03</td>\n",
       "      <td id=\"T_31ec4_row2_col1\" class=\"data row2 col1\" >5.587500</td>\n",
       "      <td id=\"T_31ec4_row2_col2\" class=\"data row2 col2\" >국제 신재생에너지 정책변화 및 시장 분석</td>\n",
       "      <td id=\"T_31ec4_row2_col3\" class=\"data row2 col3\" >제2장 국제 재생에너지 시장 동향 2. 국가별 재생에너지 현황 비교 2.1. 국가별 재생에너지 보급 현황 [그림 2-17]은 OECD 국가별 재생에너지 발전 비중을 나타낸다. 2020년 우리나 라 재생에너지 발전 비중은 4.7% 수준으로 37위이며, OECD 평균(27.3%)과 전세계 평균(26.1%)보다 낮게 나타났다.25) 전세계 평균(26.1%)에 도달하지 못한 OECD 국 가는 우리나라를 포함하여 모두 13개국이다. OECD 중에서 재생에너지 발전 비중이 가장 높은 나라는 코스타리카(99.2%), 아이슬란드(99.1%), 노르웨이(96.1%) 순이다. 상위 10개 국가 중 덴마크를 제외한 나머지 국가는 주 에너지원이 수력이라는 특징 이 있으며, 덴마크의 주 에너지원은 풍력이다. 10위인 스웨덴의 수력 비중은 44.2%, 원자력 비중은 30.1%로 원자력 비중도 상당히 높은 것이 특징이다. 세계 각국은 자원 및 경제 상황에 따라 에너지원을 다양하게 사용하는 가운데, 영 국, 독일, 호주, 미국, 일본 등은 탄소중립 달성을 위해 에너지전환 정책을 적극적으 로 추진 중이다. 영국은 석탄 감축 정책을 펼치면서 재생에너지 보급을 빠르게 증가 시킨 나라 중 하나로, 원별로는 천연가스 비중이 36.5% 가장 높고, 다음으로 풍력 (24.2%), 원자력(16.1%), 바이오연료(11.2%) 등의 비중이 높다. 영국의 2020년 석 탄 발전 비중은 2.0% 수준으로 2015년 22.7%와 비교하여 대폭 감소하였다. 독일 은 탈원전·탈석탄을 추진 중인 국가이지만 그 결과는 미진한데, 원별 비중을 보면 석탄이 25.5%로 가장 높고, 다음으로 풍력(22.5%), 천연가스(17.1%), 원자력 (11.1%), 태양광(8.7%) 순이다. 호주는 주요 석탄 생산국으로, 원별 비중을 보면 석 탄이 54.9%로 가장 높고, 다음으로 천연가스(20.8%), 태양광(7.9%), 풍력(7.7%), 수력(5.7%) 순이다. 미국은 바이든 정부 이후 친환경 정책을 강조하는 국가로, 원별 비중을 보면 천연가스 비중이 39.3%로 가장 높고, 다음으로 석탄(20.0%), 원자력 (19.4%), 풍력(8.0%), 수력(7.4%), 태양광(2.7%) 순이다. 일본은 후쿠시마 사건 이 후 원자력 발전이 줄어들면서 대체에너지로 재생에너지 보급 추진 중인 국가로, 원 별 비중을 보면 천연가스가 37.7%로 가장 높고, 다음으로 석탄(30.4%), 수력 (8.6%), 태양광(7.6%) 순이다. 특히 일본은 에너지 섬이면서 화석연료 수입 비중이 25)OECD iLibrary홈페이지(최종접속일: 2022.9.8) 데이터 참고함. 23</td>\n",
       "    </tr>\n",
       "    <tr>\n",
       "      <th id=\"T_31ec4_level0_row3\" class=\"row_heading level0 row3\" >3</th>\n",
       "      <td id=\"T_31ec4_row3_col0\" class=\"data row3 col0\" >index-03</td>\n",
       "      <td id=\"T_31ec4_row3_col1\" class=\"data row3 col1\" >5.250500</td>\n",
       "      <td id=\"T_31ec4_row3_col2\" class=\"data row3 col2\" >국제 신재생에너지 정책변화 및 시장 분석</td>\n",
       "      <td id=\"T_31ec4_row3_col3\" class=\"data row3 col3\" >높다는 점에서 우리나라와 에너지 환경은 비슷하지만, 재생에너지 비중은 우리나보 다 4배 가까이 높다. IEA 기준 우리나라의 원별 비중을 보면 석탄이 38.7%로 가장 높고, 다음으로 원자력(27.3%), 천연가스(25.8%), 태양광(3.1%), 바이오연료(1.4%) 순이다.26) [그림 2-17] OECD 국가별 재생에너지 발전 비중(2020년) 자료: OECD iLibrary홈페이지(최종접속일: 2022.9.8) 자료 활용하여 저자 작성 본고에서는 추가로 Enerdata 자료를 활용하여 전세계 186개국을 대상으로 재생에 너지 보급 수준을 비교하였다. 이를 위해 2020년 발전량 자료를 활용하였고, 사분위 수를 도출하여 국가들을 그룹화하였다. 발전량에 따른 국가들의 지리적 분포도는 [그 림 2-18]~[그림 2-21]에 제시하였다. 개별 국가가 포함된 그룹 순위에 따라 다른 색 으로 지도에 표시되어 있으며 보급 수준이 가장 높은 상위 25% 그룹(Q4)이 가장 짙 은 색으로, 보급 수준이 낮은 하위 50% 그룹(Q2, Q1)이 가장 흐린 색으로 표시되어 총 3개의 그룹을 보여준다. 26)OECD iLibrary홈페이지(최종접속일: 2022.9.8) 데이터를 참고함. 24</td>\n",
       "    </tr>\n",
       "    <tr>\n",
       "      <th id=\"T_31ec4_level0_row4\" class=\"row_heading level0 row4\" >4</th>\n",
       "      <td id=\"T_31ec4_row4_col0\" class=\"data row4 col0\" >index-03</td>\n",
       "      <td id=\"T_31ec4_row4_col1\" class=\"data row4 col1\" >4.405900</td>\n",
       "      <td id=\"T_31ec4_row4_col2\" class=\"data row4 col2\" >국제 신재생에너지 정책변화 및 시장 분석</td>\n",
       "      <td id=\"T_31ec4_row4_col3\" class=\"data row4 col3\" >은 원자재 수출을 차단하고, 러시아 화폐인 루블화 결제를 강제하면서 오히려 유럽 의 심각한 에너지 수급난을 불러일으켰다.38)39) 결과적으로는 전세계 원유, 천연가 스 가격을 상승시켰을 뿐만 아니라 대체제인 석탄 가격의 수요 증가와 EU의 러시아 산 석탄수입 금지 제재안이 통과되면서 화석연료 가격이 폭등하였다.40) [그림 3-2] 국제 화석연료 가격 추이 자료: 에너지경제연구원(2022b), p.6. 러·우 전쟁이 전세계 에너지 부문에 경종을 울렸다는 사실은 부인할 수 없다. 현 재의 위기는 각국의 러시아 가스에 대한 의존이 과도함을 상기시키며 타국에 대한 높은 에너지공급 의존도는 국제 정세에 따라 에너지 안보에 약점이 될 수 있음을 여 실히 보여준다. 또한, 러·우 전쟁을 통해 화석 연료에 기반한 에너지 시스템이 국제 위기의 영향에 매우 취약하다는 것을 확인할 수 있다. 이와 달리 재생에너지원을 기 반으로 하는 시스템은 상대적으로 외부 환경에 대해 독립적이며, 지속가능하고 탄력 적이며, 안정적이다. 그렇기에 유럽을 비롯한 여러 국가에서 재생가능한 에너지원으 로 전환함으로써 에너지 안보 확립과 더불어 전세계 기후 위기 대처라는 더 크고 장 기적인 목표를 함께 달성하고자 한다. EU는 2022년 4월 7일부로 러시아산 석탄에 대하여 8월 이후 신규계약을 금지하는 완전한 금수를 결정하였고, 천연가스와 석유의 러시아 의존도를 2022년 연말까지 38) GS칼텍스 미디어허브(2022.7.20 작성)(최종접속일: 2022.8.28)． 39) 이용성(2022.8.11. 작성)(최종접속일: 2022.9.22). 40) 2022년 9월 기준 석탄, 원유, 천연가스는 전년 동월 대비 2.4배, 1.3배, 2.4배 증가함. (에너지경제연구원(2022b), p.6.) 38</td>\n",
       "    </tr>\n",
       "  </tbody>\n",
       "</table>\n"
      ],
      "text/plain": [
       "<pandas.io.formats.style.Styler at 0x7fbb729f9090>"
      ]
     },
     "execution_count": 31,
     "metadata": {},
     "output_type": "execute_result"
    }
   ],
   "source": [
    "print(\"<<사용자 입력 쿼리 문장>>: \", query)\n",
    "result_to_dataframe(response_lexical_only)"
   ]
  },
  {
   "cell_type": "markdown",
   "id": "a91b6cb3-7588-4179-bdae-287f6aac5d0a",
   "metadata": {},
   "source": [
    "## 8. LangChain을 이용한 Question & Answer"
   ]
  },
  {
   "cell_type": "markdown",
   "id": "bd365f81-d6f4-47d6-9fd2-e3452ed900c9",
   "metadata": {},
   "source": [
    "- langchain의 similarity_search_with_score API를 활용하는 방법\n",
    "    - [API: similarity_search_with_score](https://api.python.langchain.com/en/latest/vectorstores/langchain.vectorstores.opensearch_vector_search.OpenSearchVectorSearch.html#langchain.vectorstores.opensearch_vector_search.OpenSearchVectorSearch.similarity_search)\n"
   ]
  },
  {
   "cell_type": "code",
   "execution_count": 32,
   "id": "fe18b33c-8ed6-4023-acfd-abcc612b9b84",
   "metadata": {
    "tags": []
   },
   "outputs": [],
   "source": [
    "from langchain.chains.question_answering import load_qa_chain"
   ]
  },
  {
   "cell_type": "code",
   "execution_count": 33,
   "id": "0b5b7dc7-6ad2-4921-b214-a34412a52eb1",
   "metadata": {
    "tags": []
   },
   "outputs": [],
   "source": [
    "results = vector_db.similarity_search_with_score(\n",
    "    query=query,\n",
    "    k=5,\n",
    "    search_type=\"approximate_search\",\n",
    "    boolean_filter={\n",
    "        \"bool\": {\n",
    "            \"filter\": []\n",
    "        }\n",
    "    }\n",
    ")"
   ]
  },
  {
   "cell_type": "code",
   "execution_count": 34,
   "id": "fafc7e5d-66ad-4c32-a3c6-236b70da9581",
   "metadata": {
    "tags": []
   },
   "outputs": [
    {
     "data": {
      "text/plain": [
       "['참고문헌 <웹사이트> GS칼텍스 미디어허브. 2022. 러시아·우크라이나 전쟁, 에너지 안보의 무서움을 일깨우다!. https://gscaltexmediahub.com/energy/energy-column/energy_security/(최종접 속일: 2022.8.28.). 국가법령정보센터 홈페이지-파리협정. https://www.law.go.kr/trtyMInfoP.do?trtySeq=12440#:~:text=1.%20%EB%8B%B9 %EC%82%AC%EC%9E%90%EB%8A%94%20%EC%A7%80%EC%86%8D%EA%B0%80 %EB%8A%A5%ED%95%9C,%EC%A0%81%EC%9D%91%EB%AA%A9%ED%91%9C%E B%A5%BC%20%EC%88%98%EB%A6%BD%ED%95%9C%EB%8B%A4.(최종접속일: 2022.8.20). 이용성. 2022.8.11. 작성. 유럽연합, 10일부터 러시아産 석탄 수입 금지 발효. 조선비즈. https://biz.chosun.com/international/international_economy/2022/08/11/GC XBBKG5YFF7ZPFDSODV4SBQLM/(최종접속일: 2022.9.22). 정귀희. 2017.6.9. 작성. 미국 태양광 PV 산업 규모 및 태양광 발전 정책 분석. 헬로T. https://www.hellot.net/news/article.html?no=34870(최종접속일: 2022.11.20). BNEF 홈페이지. https://www.bnef.com/(최종접속일: 2022.10.20.). BNEF 홈페이지. https://www.bnef.com/interactive-datasets/2d5d59acd9000016?data-hub=13( 최종접속일: 2022.11.19.). BNEF 홈페이지. https://www.bnef.com/interactive-datasets/2d5d59acd9000047(최종접 속일: 2022.6.29.). BP Statistical Review of World Energy & Ember. https://ourworldindata.org/grapher/net-electricity-imports?country=USA~GBR ~FRA~SWE~CAN(최종접속일: 2022.11.15.). Clean Energy Wire. 2022.1.12 작성. Germany to launch emergency programme for “huge, gigantic” 2030 emissions target task. https://www.cleanenergywire.org/news/germany-launch-emergency-program me-huge-gigantic-2030-emissions-target-task(최종접속일: 2022.9.25.). 105',\n",
       " '제2장 국제 재생에너지 시장 동향 2. 국가별 재생에너지 현황 비교 2.1. 국가별 재생에너지 보급 현황 [그림 2-17]은 OECD 국가별 재생에너지 발전 비중을 나타낸다. 2020년 우리나 라 재생에너지 발전 비중은 4.7% 수준으로 37위이며, OECD 평균(27.3%)과 전세계 평균(26.1%)보다 낮게 나타났다.25) 전세계 평균(26.1%)에 도달하지 못한 OECD 국 가는 우리나라를 포함하여 모두 13개국이다. OECD 중에서 재생에너지 발전 비중이 가장 높은 나라는 코스타리카(99.2%), 아이슬란드(99.1%), 노르웨이(96.1%) 순이다. 상위 10개 국가 중 덴마크를 제외한 나머지 국가는 주 에너지원이 수력이라는 특징 이 있으며, 덴마크의 주 에너지원은 풍력이다. 10위인 스웨덴의 수력 비중은 44.2%, 원자력 비중은 30.1%로 원자력 비중도 상당히 높은 것이 특징이다. 세계 각국은 자원 및 경제 상황에 따라 에너지원을 다양하게 사용하는 가운데, 영 국, 독일, 호주, 미국, 일본 등은 탄소중립 달성을 위해 에너지전환 정책을 적극적으 로 추진 중이다. 영국은 석탄 감축 정책을 펼치면서 재생에너지 보급을 빠르게 증가 시킨 나라 중 하나로, 원별로는 천연가스 비중이 36.5% 가장 높고, 다음으로 풍력 (24.2%), 원자력(16.1%), 바이오연료(11.2%) 등의 비중이 높다. 영국의 2020년 석 탄 발전 비중은 2.0% 수준으로 2015년 22.7%와 비교하여 대폭 감소하였다. 독일 은 탈원전·탈석탄을 추진 중인 국가이지만 그 결과는 미진한데, 원별 비중을 보면 석탄이 25.5%로 가장 높고, 다음으로 풍력(22.5%), 천연가스(17.1%), 원자력 (11.1%), 태양광(8.7%) 순이다. 호주는 주요 석탄 생산국으로, 원별 비중을 보면 석 탄이 54.9%로 가장 높고, 다음으로 천연가스(20.8%), 태양광(7.9%), 풍력(7.7%), 수력(5.7%) 순이다. 미국은 바이든 정부 이후 친환경 정책을 강조하는 국가로, 원별 비중을 보면 천연가스 비중이 39.3%로 가장 높고, 다음으로 석탄(20.0%), 원자력 (19.4%), 풍력(8.0%), 수력(7.4%), 태양광(2.7%) 순이다. 일본은 후쿠시마 사건 이 후 원자력 발전이 줄어들면서 대체에너지로 재생에너지 보급 추진 중인 국가로, 원 별 비중을 보면 천연가스가 37.7%로 가장 높고, 다음으로 석탄(30.4%), 수력 (8.6%), 태양광(7.6%) 순이다. 특히 일본은 에너지 섬이면서 화석연료 수입 비중이 25)OECD iLibrary홈페이지(최종접속일: 2022.9.8) 데이터 참고함. 23',\n",
       " \"Climate Action Tracker 홈페이지. https://climateactiontracker.org/countries/germany/net-zero-targets/(최종접속 일: 2022.9.25.). Enerdata Database. https://global-energy-data.enerdata.net/database/(최종접속일: 2022. 11. 20). Enerdata 세계에너지 및 기후 통계 –2022년 연감. https://yearbook.enerdata.co.kr/electricity/electricity-domestic-consumption- data.html(최종접속일: 2022.11.15). Energy and Climate Intelligence Unit(ECIU) 홈페이지. https://zerotracker.net/(최종접속 일: 2022. 10. 04). European Commission. 2018.7.25 작성. Joint U.S.-EU Statement following President Ju ncker's visit to the White House. https://ec.europa.eu/commission/presscorner /detail/en/STATEMENT_18_4687(최종접속일: 2022.8.25.). European Commission. 2019.3.8 작성. EU-U.S. Joint Statement: Liquefied Natural Gas (LNG) imports from the U.S. continue to rise, up by 181%. https://ec.europa.eu/ commission/presscorner/detail/en/IP_19_1531(최종접속일: 2022.8.26.). European Commission. 2022.5.18 작성. REPowerEU: A plan to rapidly reduce dependen ce on Russian fossil fuels and fast forward the green transition. https://ec.europ a.eu/commission/presscorner/detail/en/ip_22_3131(최종접속일: 2022.10.30.). European Commission. Go-to areas for wind and solar. https://joint-research-centre. ec.europa.eu/energy-and-industry-geography-lab/go-areas-wind-and-solar_e n(최종접속일: 2022.9.2.). Federal Ministry for Economic Affairs and Climate Action. 2022.4.6 작성. Overview of t he Easter Package. https://www.bmwk.de/Redaktion/EN/Downloads/Energy/04 06_ueberblickspapier_osterpaket_en.pdf?__blob=publicationFile&v=5(최종접속 일: 2022.9.25.). IEA Data browser. https://www.iea.org/fuels-and-technologies/electricity(최종접속일: 2022. 11. 14). 106\"]"
      ]
     },
     "execution_count": 34,
     "metadata": {},
     "output_type": "execute_result"
    }
   ],
   "source": [
    "[res[0].page_content for res in results[:3]]"
   ]
  },
  {
   "cell_type": "markdown",
   "id": "5b4660f6-90b1-423c-9209-143afe28d6ec",
   "metadata": {},
   "source": [
    "### 사용자 정의 가능한 옵션\n",
    "이제 벡터 저장소가 준비되었으므로 질문을 시작할 수 있습니다.\n",
    "\n",
    "Vector Store를 둘러싸서 LLM 입력을 받는 LangChain에서 제공하는 래퍼를 사용할 수 있습니다.\n",
    "이 래퍼는 뒤에서 다음 단계를 수행합니다.\n",
    "- 질문을 입력합니다.\n",
    "- 질문 임베딩 생성\n",
    "- 관련 문서 가져오기\n",
    "- 프롬프트에 문서와 질문을 채워 넣습니다.\n",
    "- 프롬프트로 모델을 호출하고 사람이 읽을 수 있는 방식으로 답변을 생성합니다.\n",
    "\n",
    "위 시나리오에서는 질문에 대한 상황 인식 답변을 빠르고 쉽게 얻을 수 있는 방법을 탐색했습니다. 이제 문서를 가져오는 방법을 사용자 정의할 수 있는 [RetrievalQA](https://python.langchain.com/en/latest/modules/chains/index_examples/Vector_db_qa.html)의 도움으로 더 사용자 정의 가능한 옵션을 살펴보겠습니다. `chain_type` 매개변수를 사용하여 프롬프트에 추가해야 합니다. 또한 검색해야 하는 관련 문서 수를 제어하려면 아래 셀에서 'k' 매개변수를 변경하여 다른 출력을 확인하세요. 많은 시나리오에서 LLM이 답변을 생성하는 데 사용한 소스 문서가 무엇인지 알고 싶을 수 있습니다. LLM 프롬프트의 컨텍스트에 추가된 문서를 반환하는 `return_source_documents`를 사용하여 출력에서 ​​해당 문서를 가져올 수 있습니다. 'RetrievalQA'를 사용하면 모델에 특정한 사용자 정의 [프롬프트 템플릿](https://python.langchain.com/en/latest/modules/prompts/prompt_templates/getting_started.html)을 제공할 수도 있습니다.\n",
    "\n",
    "참고: 이 예에서는 Amazon Bedrock에서 LLM으로 Anthropic Claude를 사용하고 있습니다. 이 특정 모델은 입력이 'Human:' 아래에 제공되고 모델이 'Assistant:' 다음에 출력을 생성하도록 요청되는 경우 가장 잘 수행됩니다. 아래 셀에는 LLM이 기본 상태를 유지하고 컨텍스트 외부에서 응답하지 않도록 프롬프트를 제어하는 ​​방법의 예가 나와 있습니다.\n",
    "\n",
    "#### [[REF] Using langchain for Question Answering on Own Data](https://medium.com/@onkarmishra/using-langchain-for-question-answering-on-own-data-3af0a82789ed)"
   ]
  },
  {
   "cell_type": "code",
   "execution_count": 35,
   "id": "0af45b12-c497-4496-8b5d-91e28d8a0491",
   "metadata": {
    "tags": []
   },
   "outputs": [],
   "source": [
    "from langchain.schema import BaseRetriever\n",
    "from typing import Any, Dict, List, Optional, List, Tuple\n",
    "from langchain.callbacks.manager import CallbackManagerForRetrieverRun\n",
    "\n",
    "# lexical(keyword) search based (using Amazon OpenSearch)\n",
    "class OpenSearchLexicalSearchRetriever(BaseRetriever):\n",
    "    os_client: Any\n",
    "    index_name: str\n",
    "    k = 3\n",
    "    filter = []\n",
    "\n",
    "    def normalize_search_results(self, search_results):\n",
    "        hits = (search_results[\"hits\"][\"hits\"])\n",
    "        max_score = float(search_results[\"hits\"][\"max_score\"])\n",
    "        for hit in hits:\n",
    "            hit[\"_score\"] = float(hit[\"_score\"]) / max_score\n",
    "        search_results[\"hits\"][\"max_score\"] = hits[0][\"_score\"]\n",
    "        search_results[\"hits\"][\"hits\"] = hits\n",
    "        return search_results\n",
    "\n",
    "    def update_search_params(self, **kwargs):\n",
    "        self.k = kwargs.get(\"k\", 3)\n",
    "        self.filter = kwargs.get(\"filter\", [])\n",
    "        self.index_name = kwargs.get(\"index_name\", self.index_name)\n",
    "\n",
    "    def _reset_search_params(self, ):\n",
    "        self.k = 3\n",
    "        self.filter = []\n",
    "        \n",
    "    def query_lexical(self, query, filter=[], k=5):\n",
    "        QUERY_TEMPLATE = {\n",
    "            \"size\": k,\n",
    "            \"query\": {\n",
    "                \"bool\": {\n",
    "                    \"must\": [\n",
    "                        {\n",
    "                            \"match\": {\n",
    "                                \"text\": {\n",
    "                                    \"query\": query,\n",
    "                                    \"operator\":  \"or\"\n",
    "                                }\n",
    "                            }\n",
    "                        }\n",
    "                    ],\n",
    "                    \"filter\": filter\n",
    "                }\n",
    "            }\n",
    "        }\n",
    "        \n",
    "        if len(filter) > 0:\n",
    "            QUERY_TEMPLATE[\"query\"][\"bool\"][\"filter\"].extend(filter)\n",
    "            \n",
    "        return QUERY_TEMPLATE\n",
    "    \n",
    "\n",
    "    def _get_relevant_documents(\n",
    "        self, query: str, *, run_manager: CallbackManagerForRetrieverRun) -> List[Document]:\n",
    "        \n",
    "        query = self.query_lexical(\n",
    "            query=query,\n",
    "            filter=self.filter,\n",
    "            k=self.k\n",
    "        )\n",
    "\n",
    "        # print (\"lexical search query: \")\n",
    "        # print(query)\n",
    "        \n",
    "        search_results = self.os_client.search(\n",
    "            body=query,\n",
    "            index=self.index_name\n",
    "        )\n",
    "\n",
    "        results = []\n",
    "        if search_results[\"hits\"][\"hits\"]:\n",
    "            search_results = self.normalize_search_results(search_results)\n",
    "            for res in search_results[\"hits\"][\"hits\"]:\n",
    "\n",
    "                metadata = res[\"_source\"][\"metadata\"]\n",
    "                metadata[\"id\"] = res[\"_id\"]\n",
    "\n",
    "                doc = Document(\n",
    "                    page_content=res[\"_source\"][\"text\"],\n",
    "                    metadata=metadata\n",
    "                )\n",
    "                results.append((doc))\n",
    "\n",
    "        self._reset_search_params()\n",
    "\n",
    "        return results[:self.k]\n"
   ]
  },
  {
   "cell_type": "code",
   "execution_count": 36,
   "id": "6a1a82af-e218-4504-8073-91e40a46c5e2",
   "metadata": {
    "tags": []
   },
   "outputs": [],
   "source": [
    "from langchain.chains import RetrievalQA\n",
    "from langchain.prompts import PromptTemplate\n",
    "# from utils.rag import run_RetrievalQA, show_context_used"
   ]
  },
  {
   "cell_type": "code",
   "execution_count": 37,
   "id": "c0cc9871-9693-4fef-9f77-d8a1aa929475",
   "metadata": {
    "tags": []
   },
   "outputs": [],
   "source": [
    "prompt_template = \"\"\"\n",
    "\\n\\nHuman: Use the following pieces of context to provide a concise answer to the question at the end.\n",
    "If you don't know the answer, just say that you don't know, don't try to make up an answer.\n",
    "\n",
    "{context}\n",
    "\n",
    "Question: {question}\n",
    "\n",
    "\\n\\nAssistant:\"\"\"\n",
    "\n",
    "\n",
    "PROMPT = PromptTemplate(\n",
    "    template=prompt_template,\n",
    "    input_variables=[\"context\", \"question\"]\n",
    ")"
   ]
  },
  {
   "cell_type": "code",
   "execution_count": 38,
   "id": "0d0bfe29-176d-4356-982e-2babfa7dd756",
   "metadata": {
    "tags": []
   },
   "outputs": [],
   "source": [
    "chain = load_qa_chain(\n",
    "    llm=llm_text,\n",
    "    chain_type=\"stuff\",\n",
    "    prompt=PROMPT,\n",
    "    verbose=True\n",
    ")"
   ]
  },
  {
   "cell_type": "code",
   "execution_count": 39,
   "id": "e39efd83-a928-4f35-9219-65aa89548fcf",
   "metadata": {
    "tags": []
   },
   "outputs": [],
   "source": [
    "boolean_filter = []\n",
    "boolean_filter = [\n",
    "    {\"term\": {\"metadata.source\": \"국제 신재생에너지 정책변화 및 시장 분석_22-26.pdf\"}},\n",
    "    {\"term\": {\"metadata.type\": \"국제 신재생에너지 정책변화 및 시장 분석\"}},\n",
    "]"
   ]
  },
  {
   "cell_type": "code",
   "execution_count": 40,
   "id": "32ae3ed7-32bd-4247-929d-0179bc119034",
   "metadata": {
    "tags": []
   },
   "outputs": [],
   "source": [
    "opensearch_lexical_retriever = OpenSearchLexicalSearchRetriever(\n",
    "    os_client=os_client,\n",
    "    index_name=index_name,\n",
    "    k=3,\n",
    "    filter=boolean_filter\n",
    ")"
   ]
  },
  {
   "cell_type": "code",
   "execution_count": 41,
   "id": "a12b88ab-90ba-4096-a20d-c89489d5a277",
   "metadata": {
    "tags": []
   },
   "outputs": [
    {
     "name": "stdout",
     "output_type": "stream",
     "text": [
      "\n",
      "\n",
      "\u001b[1m> Entering new StuffDocumentsChain chain...\u001b[0m\n",
      "\n",
      "\n",
      "\u001b[1m> Entering new LLMChain chain...\u001b[0m\n",
      "Prompt after formatting:\n",
      "\u001b[32;1m\u001b[1;3m\n",
      "\n",
      "\n",
      "Human: Use the following pieces of context to provide a concise answer to the question at the end.\n",
      "If you don't know the answer, just say that you don't know, don't try to make up an answer.\n",
      "\n",
      "제2장 국제 재생에너지 시장 동향 제2장 국제 재생에너지 시장 동향 본 연구의 주요 목적 중 하나는 매년 변화하는 재생에너지 시장 동향을 살펴보는 것으로, 자체적으로 수행한 데이터 분석 결과와 IEA, REN21, Enerdtata, BNEF, IRENA 등 주요 국제기구에서 발간하는 자료를 토대로 재생에너지 시장 변화를 살 펴보고자 한다. 먼저 1절에서는 전세계 관점에서 재생에너지 보급, 산업, 가격, 전망 에 대해 다루고, 2절에서는 국가별 재생에너지 보급 및 가격 현황을 살펴보았다. 1. 재생에너지 보급 동향 1.1. 1차에너지1) 2020년 전세계 에너지 공급량은 14,177Mtoe로 이 중 재생에너지 공급량은 14.6%에 해당하는 2,077Mtoe였다. 비중이 가장 높은 에너지원은 석유로 30.0%를 차지하였고, 다음으로 석탄(26.9%), 천연가스(23.5%), 순이다. 2010년과 비교하여 재생에너지 공급량은 508Mtoe 증가하였으며, 1차에너지에서 재생에너지 비중은 1) 여기서는 Enerdata(최종접속일: 2022.11.20)에서 제공하는 자료를 활용하여 작성하였음. 5\n",
      "\n",
      "2.7%p 증가하였다([그림 2-1]). 재생에너지 원별로 나누어보면 2020년 기준 바이 오매스 비중이 65.1%로 가장 높고, 다음으로 수력(17.9%), 풍력(6.7%), 지열(5.3%) 태양광(3.4%), 태양열(1.6%) 순이다. 바이오매스 비중이 높은 이유는 개발도상국에 서 난방과 취사용으로 주로 활용하기 때문이다.2) 2010년과 비교하여 공급량은 바 이오매스가 191Mtoe로 가장 많이 증가하였고, 다음으로 풍력(109Mtoe), 수력 (76Mtoe), 태양광(67Mtoe) 순이다. 하지만 비중은 풍력이 4.8%p로 가장 많이 증 가하였고, 다음으로 태양광(3.2%), 지열(1.2%) 순이며, 바이오매스와 수력은 각각 8.9%p와 1.0%p 감소하였다([그림 2-2]). [그림 2-1] 에너지원별 1차에너지 공급(TPES) 비중 <2020년> <2010년> 자료: Enerdata(최종접속일: 2022.11.20)의 자료를 활용하여 저자 작성 [그림 2-2] 재생에너지 원별 1차에너지 공급(TPES) 비중 <2010년> <2020년> 자료: Enerdata(최종접속일: 2022.11.20)의 자료를 활용하여 저자 작성 2) 공지영·조일현(2021), p.4. 6\n",
      "\n",
      "제2장 국제 재생에너지 시장 동향 2. 국가별 재생에너지 현황 비교 2.1. 국가별 재생에너지 보급 현황 [그림 2-17]은 OECD 국가별 재생에너지 발전 비중을 나타낸다. 2020년 우리나 라 재생에너지 발전 비중은 4.7% 수준으로 37위이며, OECD 평균(27.3%)과 전세계 평균(26.1%)보다 낮게 나타났다.25) 전세계 평균(26.1%)에 도달하지 못한 OECD 국 가는 우리나라를 포함하여 모두 13개국이다. OECD 중에서 재생에너지 발전 비중이 가장 높은 나라는 코스타리카(99.2%), 아이슬란드(99.1%), 노르웨이(96.1%) 순이다. 상위 10개 국가 중 덴마크를 제외한 나머지 국가는 주 에너지원이 수력이라는 특징 이 있으며, 덴마크의 주 에너지원은 풍력이다. 10위인 스웨덴의 수력 비중은 44.2%, 원자력 비중은 30.1%로 원자력 비중도 상당히 높은 것이 특징이다. 세계 각국은 자원 및 경제 상황에 따라 에너지원을 다양하게 사용하는 가운데, 영 국, 독일, 호주, 미국, 일본 등은 탄소중립 달성을 위해 에너지전환 정책을 적극적으 로 추진 중이다. 영국은 석탄 감축 정책을 펼치면서 재생에너지 보급을 빠르게 증가 시킨 나라 중 하나로, 원별로는 천연가스 비중이 36.5% 가장 높고, 다음으로 풍력 (24.2%), 원자력(16.1%), 바이오연료(11.2%) 등의 비중이 높다. 영국의 2020년 석 탄 발전 비중은 2.0% 수준으로 2015년 22.7%와 비교하여 대폭 감소하였다. 독일 은 탈원전·탈석탄을 추진 중인 국가이지만 그 결과는 미진한데, 원별 비중을 보면 석탄이 25.5%로 가장 높고, 다음으로 풍력(22.5%), 천연가스(17.1%), 원자력 (11.1%), 태양광(8.7%) 순이다. 호주는 주요 석탄 생산국으로, 원별 비중을 보면 석 탄이 54.9%로 가장 높고, 다음으로 천연가스(20.8%), 태양광(7.9%), 풍력(7.7%), 수력(5.7%) 순이다. 미국은 바이든 정부 이후 친환경 정책을 강조하는 국가로, 원별 비중을 보면 천연가스 비중이 39.3%로 가장 높고, 다음으로 석탄(20.0%), 원자력 (19.4%), 풍력(8.0%), 수력(7.4%), 태양광(2.7%) 순이다. 일본은 후쿠시마 사건 이 후 원자력 발전이 줄어들면서 대체에너지로 재생에너지 보급 추진 중인 국가로, 원 별 비중을 보면 천연가스가 37.7%로 가장 높고, 다음으로 석탄(30.4%), 수력 (8.6%), 태양광(7.6%) 순이다. 특히 일본은 에너지 섬이면서 화석연료 수입 비중이 25)OECD iLibrary홈페이지(최종접속일: 2022.9.8) 데이터 참고함. 23\n",
      "\n",
      "Question: 2020년 전세계 에너지 공급량은 얼마인가요?\n",
      "\n",
      "\n",
      "\n",
      "Assistant:\u001b[0m\n",
      "제시된 내용에 따르면, 2020년 전세계 에너지 공급량은 14,177Mtoe였습니다.\n",
      "\u001b[1m> Finished chain.\u001b[0m\n",
      "\n",
      "\u001b[1m> Finished chain.\u001b[0m\n"
     ]
    }
   ],
   "source": [
    "answer = chain.invoke(\n",
    "    {\n",
    "        \"input_documents\": opensearch_lexical_retriever.get_relevant_documents(query), \n",
    "        \"question\": query\n",
    "    }, \n",
    "    # return_only_outputs=True\n",
    ")"
   ]
  },
  {
   "cell_type": "code",
   "execution_count": 42,
   "id": "62d97334-60c6-4a34-b875-a3c25894fabe",
   "metadata": {
    "tags": []
   },
   "outputs": [],
   "source": [
    "opensearch_semantic_retriever = vector_db.as_retriever(\n",
    "    search_type=\"similarity\",\n",
    "    search_kwargs={\n",
    "        \"k\": 5,\n",
    "        \"boolean_filter\": boolean_filter\n",
    "    }\n",
    ")"
   ]
  },
  {
   "cell_type": "code",
   "execution_count": 43,
   "id": "35477b74-5882-4ba9-9d00-76dc38e61ae7",
   "metadata": {
    "tags": []
   },
   "outputs": [
    {
     "name": "stdout",
     "output_type": "stream",
     "text": [
      "\n",
      "\n",
      "\u001b[1m> Entering new StuffDocumentsChain chain...\u001b[0m\n",
      "\n",
      "\n",
      "\u001b[1m> Entering new LLMChain chain...\u001b[0m\n",
      "Prompt after formatting:\n",
      "\u001b[32;1m\u001b[1;3m\n",
      "\n",
      "\n",
      "Human: Use the following pieces of context to provide a concise answer to the question at the end.\n",
      "If you don't know the answer, just say that you don't know, don't try to make up an answer.\n",
      "\n",
      "참고문헌 <웹사이트> GS칼텍스 미디어허브. 2022. 러시아·우크라이나 전쟁, 에너지 안보의 무서움을 일깨우다!. https://gscaltexmediahub.com/energy/energy-column/energy_security/(최종접 속일: 2022.8.28.). 국가법령정보센터 홈페이지-파리협정. https://www.law.go.kr/trtyMInfoP.do?trtySeq=12440#:~:text=1.%20%EB%8B%B9 %EC%82%AC%EC%9E%90%EB%8A%94%20%EC%A7%80%EC%86%8D%EA%B0%80 %EB%8A%A5%ED%95%9C,%EC%A0%81%EC%9D%91%EB%AA%A9%ED%91%9C%E B%A5%BC%20%EC%88%98%EB%A6%BD%ED%95%9C%EB%8B%A4.(최종접속일: 2022.8.20). 이용성. 2022.8.11. 작성. 유럽연합, 10일부터 러시아産 석탄 수입 금지 발효. 조선비즈. https://biz.chosun.com/international/international_economy/2022/08/11/GC XBBKG5YFF7ZPFDSODV4SBQLM/(최종접속일: 2022.9.22). 정귀희. 2017.6.9. 작성. 미국 태양광 PV 산업 규모 및 태양광 발전 정책 분석. 헬로T. https://www.hellot.net/news/article.html?no=34870(최종접속일: 2022.11.20). BNEF 홈페이지. https://www.bnef.com/(최종접속일: 2022.10.20.). BNEF 홈페이지. https://www.bnef.com/interactive-datasets/2d5d59acd9000016?data-hub=13( 최종접속일: 2022.11.19.). BNEF 홈페이지. https://www.bnef.com/interactive-datasets/2d5d59acd9000047(최종접 속일: 2022.6.29.). BP Statistical Review of World Energy & Ember. https://ourworldindata.org/grapher/net-electricity-imports?country=USA~GBR ~FRA~SWE~CAN(최종접속일: 2022.11.15.). Clean Energy Wire. 2022.1.12 작성. Germany to launch emergency programme for “huge, gigantic” 2030 emissions target task. https://www.cleanenergywire.org/news/germany-launch-emergency-program me-huge-gigantic-2030-emissions-target-task(최종접속일: 2022.9.25.). 105\n",
      "\n",
      "제2장 국제 재생에너지 시장 동향 2. 국가별 재생에너지 현황 비교 2.1. 국가별 재생에너지 보급 현황 [그림 2-17]은 OECD 국가별 재생에너지 발전 비중을 나타낸다. 2020년 우리나 라 재생에너지 발전 비중은 4.7% 수준으로 37위이며, OECD 평균(27.3%)과 전세계 평균(26.1%)보다 낮게 나타났다.25) 전세계 평균(26.1%)에 도달하지 못한 OECD 국 가는 우리나라를 포함하여 모두 13개국이다. OECD 중에서 재생에너지 발전 비중이 가장 높은 나라는 코스타리카(99.2%), 아이슬란드(99.1%), 노르웨이(96.1%) 순이다. 상위 10개 국가 중 덴마크를 제외한 나머지 국가는 주 에너지원이 수력이라는 특징 이 있으며, 덴마크의 주 에너지원은 풍력이다. 10위인 스웨덴의 수력 비중은 44.2%, 원자력 비중은 30.1%로 원자력 비중도 상당히 높은 것이 특징이다. 세계 각국은 자원 및 경제 상황에 따라 에너지원을 다양하게 사용하는 가운데, 영 국, 독일, 호주, 미국, 일본 등은 탄소중립 달성을 위해 에너지전환 정책을 적극적으 로 추진 중이다. 영국은 석탄 감축 정책을 펼치면서 재생에너지 보급을 빠르게 증가 시킨 나라 중 하나로, 원별로는 천연가스 비중이 36.5% 가장 높고, 다음으로 풍력 (24.2%), 원자력(16.1%), 바이오연료(11.2%) 등의 비중이 높다. 영국의 2020년 석 탄 발전 비중은 2.0% 수준으로 2015년 22.7%와 비교하여 대폭 감소하였다. 독일 은 탈원전·탈석탄을 추진 중인 국가이지만 그 결과는 미진한데, 원별 비중을 보면 석탄이 25.5%로 가장 높고, 다음으로 풍력(22.5%), 천연가스(17.1%), 원자력 (11.1%), 태양광(8.7%) 순이다. 호주는 주요 석탄 생산국으로, 원별 비중을 보면 석 탄이 54.9%로 가장 높고, 다음으로 천연가스(20.8%), 태양광(7.9%), 풍력(7.7%), 수력(5.7%) 순이다. 미국은 바이든 정부 이후 친환경 정책을 강조하는 국가로, 원별 비중을 보면 천연가스 비중이 39.3%로 가장 높고, 다음으로 석탄(20.0%), 원자력 (19.4%), 풍력(8.0%), 수력(7.4%), 태양광(2.7%) 순이다. 일본은 후쿠시마 사건 이 후 원자력 발전이 줄어들면서 대체에너지로 재생에너지 보급 추진 중인 국가로, 원 별 비중을 보면 천연가스가 37.7%로 가장 높고, 다음으로 석탄(30.4%), 수력 (8.6%), 태양광(7.6%) 순이다. 특히 일본은 에너지 섬이면서 화석연료 수입 비중이 25)OECD iLibrary홈페이지(최종접속일: 2022.9.8) 데이터 참고함. 23\n",
      "\n",
      "Climate Action Tracker 홈페이지. https://climateactiontracker.org/countries/germany/net-zero-targets/(최종접속 일: 2022.9.25.). Enerdata Database. https://global-energy-data.enerdata.net/database/(최종접속일: 2022. 11. 20). Enerdata 세계에너지 및 기후 통계 –2022년 연감. https://yearbook.enerdata.co.kr/electricity/electricity-domestic-consumption- data.html(최종접속일: 2022.11.15). Energy and Climate Intelligence Unit(ECIU) 홈페이지. https://zerotracker.net/(최종접속 일: 2022. 10. 04). European Commission. 2018.7.25 작성. Joint U.S.-EU Statement following President Ju ncker's visit to the White House. https://ec.europa.eu/commission/presscorner /detail/en/STATEMENT_18_4687(최종접속일: 2022.8.25.). European Commission. 2019.3.8 작성. EU-U.S. Joint Statement: Liquefied Natural Gas (LNG) imports from the U.S. continue to rise, up by 181%. https://ec.europa.eu/ commission/presscorner/detail/en/IP_19_1531(최종접속일: 2022.8.26.). European Commission. 2022.5.18 작성. REPowerEU: A plan to rapidly reduce dependen ce on Russian fossil fuels and fast forward the green transition. https://ec.europ a.eu/commission/presscorner/detail/en/ip_22_3131(최종접속일: 2022.10.30.). European Commission. Go-to areas for wind and solar. https://joint-research-centre. ec.europa.eu/energy-and-industry-geography-lab/go-areas-wind-and-solar_e n(최종접속일: 2022.9.2.). Federal Ministry for Economic Affairs and Climate Action. 2022.4.6 작성. Overview of t he Easter Package. https://www.bmwk.de/Redaktion/EN/Downloads/Energy/04 06_ueberblickspapier_osterpaket_en.pdf?__blob=publicationFile&v=5(최종접속 일: 2022.9.25.). IEA Data browser. https://www.iea.org/fuels-and-technologies/electricity(최종접속일: 2022. 11. 14). 106\n",
      "\n",
      "<표 4-2> 변수 설명 변수명 설명 출처 전체 발전설비 용량 중 태양광, 풍력, 수력, 재생에너지 비중 Enerdata 조력, 지열, 바이오매스 발전 용량 비중 전체 발전설비 용량 중 태양광, 풍력 발전 변동성 재생에너지 비중 Enerdata 용량 비중 FiT/FiP 제도 시행시 1의 값을 갖는 FiT/FiP REN21, BNEF 더미변수 RPS RPS 제도 시행시 1의 값을 갖는 더미변수 REN21, BNEF 경매 경매제도 시행시 1의 값을 갖는 더미변수 REN21, BNEF 제조업 비중 GDP에서 제조업이 차지하는 비중 World Bank GDP per cap 1인당 GDP(2015년 US dollar) World Bank 금융발전도 GDP 대비 민간신용 비중 World Bank 석탄, 원유, 천연가스, 광물 및 임업제품의 천연자원 지대 비중 World Bank 지대가 GDP에서 차지하는 비중 BP Statistical Review of 전력 순수출량이 0보다 큰 경우 1의 값을 해외 계통연계 World Energy & 갖는 더미변수 Ember156) CO2 per cap 1인당 CO2 배출량 World Bank 국가 면적 국가 면적 World Bank 156) Our World in Data에서 BP Statistical Review of World Energy와 Ember 자료를 가공한 데이터를 활용함. 78\n",
      "\n",
      "제2장 국제 재생에너지 시장 동향 [그림 2-13] 태양광 가치사슬별 가격 추이 (a) 폴리실리콘 (b) 웨이퍼 (c) 태양전지와 모듈 자료: BNEF 홈페이지(최종접속일: 2022.11.19) 자료 활용하여 저자 작성 19\n",
      "\n",
      "Question: 2020년 전세계 에너지 공급량은 얼마인가요?\n",
      "\n",
      "\n",
      "\n",
      "Assistant:\u001b[0m\n",
      "제공된 문맥 정보에는 2020년 전세계 에너지 공급량에 대한 구체적인 수치가 명시되어 있지 않습니다. 문맥에는 주로 국가별 재생에너지 발전 비중, 에너지원별 발전 비중 등에 대한 정보가 있지만 전세계 총 에너지 공급량 수치는 확인할 수 없습니다. 따라서 2020년 전세계 에너지 공급량에 대해서는 정확한 답변을 드릴 수 없습니다.\n",
      "\u001b[1m> Finished chain.\u001b[0m\n",
      "\n",
      "\u001b[1m> Finished chain.\u001b[0m\n"
     ]
    }
   ],
   "source": [
    "answer = chain.invoke(\n",
    "    {\n",
    "        \"input_documents\": opensearch_semantic_retriever.get_relevant_documents(query), \n",
    "        \"question\": query\n",
    "    }, \n",
    "    # return_only_outputs=True\n",
    ")"
   ]
  },
  {
   "cell_type": "markdown",
   "id": "caf67e77-15d5-4a8f-b0b5-a6d69baab68c",
   "metadata": {},
   "source": [
    "## 9. OpenSearch Hybrid 검색"
   ]
  },
  {
   "cell_type": "markdown",
   "id": "8caa5119-13da-4e6a-a6f2-e6a1cba826ee",
   "metadata": {},
   "source": [
    "OpenSearch Hybrid 는 아래와 같은 방식으로 작동합니다.\n",
    "- (1) \"Vector 서치\" 하여 스코어를 얻은 후에 표준화를 하여 스코어를 구함. \n",
    "    - 전체 결과에서 가장 높은 스코어는 표준화 과정을 통하여 스코어가 1.0 이 됨.\n",
    "- (2) Keyword 서치도 동일하게 함.\n",
    "- (3) Reciprocal Rank Fusion (RRF) 기반 Re-rank\n",
    "    - Paper: https://plg.uwaterloo.ca/~gvcormac/cormacksigir09-rrf.pdf\n",
    "    - Desc: https://medium.com/@sowmiyajaganathan/hybrid-search-with-re-ranking-ff120c8a426d\n",
    "    - **RRF의 경우 score가 아닌 ranking 정보를 활용, 때문에 score normalization이 필요 없음**\n",
    "\n",
    "RRF는 langchain에서 \"Ensemble Retriever\" 이름으로 api를 제공합니다. \n",
    "- https://python.langchain.com/docs/modules/data_connection/retrievers/ensemble\n"
   ]
  },
  {
   "cell_type": "markdown",
   "id": "31f8f74d-ab29-4149-94e6-e85c6671a25e",
   "metadata": {},
   "source": [
    "### Ensemble retriever 정의\n",
    "- https://python.langchain.com/docs/modules/data_connection/retrievers/ensemble\n",
    "- RRF 방식만 지원\n",
    "- Rank constant (param \"c\")\n",
    "    - This value determines how much influence documents in individual result sets per query have over the final ranked result set. A higher value indicates that lower ranked documents have more influence. This value must be greater than or equal to 1. Defaults to 60.\n",
    "    - 숫자 높을 수록 낮은 랭크의 문서가 더 중요시 된다"
   ]
  },
  {
   "cell_type": "code",
   "execution_count": 44,
   "id": "792310d5-8117-49ea-a278-c3066052bee6",
   "metadata": {
    "tags": []
   },
   "outputs": [],
   "source": [
    "from langchain.retrievers import EnsembleRetriever"
   ]
  },
  {
   "cell_type": "code",
   "execution_count": 45,
   "id": "41e710fb-c2dd-4ae2-8f1c-984f01e37363",
   "metadata": {
    "tags": []
   },
   "outputs": [],
   "source": [
    "ensemble_retriever = EnsembleRetriever(\n",
    "    retrievers=[opensearch_lexical_retriever, opensearch_semantic_retriever],\n",
    "    weights=[0.5, 0.5],\n",
    "    c=100,\n",
    "    k=5\n",
    ")"
   ]
  },
  {
   "cell_type": "code",
   "execution_count": 46,
   "id": "b944ed69-e539-4836-b4cf-87d2c8d16cbe",
   "metadata": {
    "tags": []
   },
   "outputs": [
    {
     "name": "stdout",
     "output_type": "stream",
     "text": [
      "\n",
      "\n",
      "\u001b[1m> Entering new StuffDocumentsChain chain...\u001b[0m\n",
      "\n",
      "\n",
      "\u001b[1m> Entering new LLMChain chain...\u001b[0m\n",
      "Prompt after formatting:\n",
      "\u001b[32;1m\u001b[1;3m\n",
      "\n",
      "\n",
      "Human: Use the following pieces of context to provide a concise answer to the question at the end.\n",
      "If you don't know the answer, just say that you don't know, don't try to make up an answer.\n",
      "\n",
      "제2장 국제 재생에너지 시장 동향 2. 국가별 재생에너지 현황 비교 2.1. 국가별 재생에너지 보급 현황 [그림 2-17]은 OECD 국가별 재생에너지 발전 비중을 나타낸다. 2020년 우리나 라 재생에너지 발전 비중은 4.7% 수준으로 37위이며, OECD 평균(27.3%)과 전세계 평균(26.1%)보다 낮게 나타났다.25) 전세계 평균(26.1%)에 도달하지 못한 OECD 국 가는 우리나라를 포함하여 모두 13개국이다. OECD 중에서 재생에너지 발전 비중이 가장 높은 나라는 코스타리카(99.2%), 아이슬란드(99.1%), 노르웨이(96.1%) 순이다. 상위 10개 국가 중 덴마크를 제외한 나머지 국가는 주 에너지원이 수력이라는 특징 이 있으며, 덴마크의 주 에너지원은 풍력이다. 10위인 스웨덴의 수력 비중은 44.2%, 원자력 비중은 30.1%로 원자력 비중도 상당히 높은 것이 특징이다. 세계 각국은 자원 및 경제 상황에 따라 에너지원을 다양하게 사용하는 가운데, 영 국, 독일, 호주, 미국, 일본 등은 탄소중립 달성을 위해 에너지전환 정책을 적극적으 로 추진 중이다. 영국은 석탄 감축 정책을 펼치면서 재생에너지 보급을 빠르게 증가 시킨 나라 중 하나로, 원별로는 천연가스 비중이 36.5% 가장 높고, 다음으로 풍력 (24.2%), 원자력(16.1%), 바이오연료(11.2%) 등의 비중이 높다. 영국의 2020년 석 탄 발전 비중은 2.0% 수준으로 2015년 22.7%와 비교하여 대폭 감소하였다. 독일 은 탈원전·탈석탄을 추진 중인 국가이지만 그 결과는 미진한데, 원별 비중을 보면 석탄이 25.5%로 가장 높고, 다음으로 풍력(22.5%), 천연가스(17.1%), 원자력 (11.1%), 태양광(8.7%) 순이다. 호주는 주요 석탄 생산국으로, 원별 비중을 보면 석 탄이 54.9%로 가장 높고, 다음으로 천연가스(20.8%), 태양광(7.9%), 풍력(7.7%), 수력(5.7%) 순이다. 미국은 바이든 정부 이후 친환경 정책을 강조하는 국가로, 원별 비중을 보면 천연가스 비중이 39.3%로 가장 높고, 다음으로 석탄(20.0%), 원자력 (19.4%), 풍력(8.0%), 수력(7.4%), 태양광(2.7%) 순이다. 일본은 후쿠시마 사건 이 후 원자력 발전이 줄어들면서 대체에너지로 재생에너지 보급 추진 중인 국가로, 원 별 비중을 보면 천연가스가 37.7%로 가장 높고, 다음으로 석탄(30.4%), 수력 (8.6%), 태양광(7.6%) 순이다. 특히 일본은 에너지 섬이면서 화석연료 수입 비중이 25)OECD iLibrary홈페이지(최종접속일: 2022.9.8) 데이터 참고함. 23\n",
      "\n",
      "제2장 국제 재생에너지 시장 동향 제2장 국제 재생에너지 시장 동향 본 연구의 주요 목적 중 하나는 매년 변화하는 재생에너지 시장 동향을 살펴보는 것으로, 자체적으로 수행한 데이터 분석 결과와 IEA, REN21, Enerdtata, BNEF, IRENA 등 주요 국제기구에서 발간하는 자료를 토대로 재생에너지 시장 변화를 살 펴보고자 한다. 먼저 1절에서는 전세계 관점에서 재생에너지 보급, 산업, 가격, 전망 에 대해 다루고, 2절에서는 국가별 재생에너지 보급 및 가격 현황을 살펴보았다. 1. 재생에너지 보급 동향 1.1. 1차에너지1) 2020년 전세계 에너지 공급량은 14,177Mtoe로 이 중 재생에너지 공급량은 14.6%에 해당하는 2,077Mtoe였다. 비중이 가장 높은 에너지원은 석유로 30.0%를 차지하였고, 다음으로 석탄(26.9%), 천연가스(23.5%), 순이다. 2010년과 비교하여 재생에너지 공급량은 508Mtoe 증가하였으며, 1차에너지에서 재생에너지 비중은 1) 여기서는 Enerdata(최종접속일: 2022.11.20)에서 제공하는 자료를 활용하여 작성하였음. 5\n",
      "\n",
      "참고문헌 <웹사이트> GS칼텍스 미디어허브. 2022. 러시아·우크라이나 전쟁, 에너지 안보의 무서움을 일깨우다!. https://gscaltexmediahub.com/energy/energy-column/energy_security/(최종접 속일: 2022.8.28.). 국가법령정보센터 홈페이지-파리협정. https://www.law.go.kr/trtyMInfoP.do?trtySeq=12440#:~:text=1.%20%EB%8B%B9 %EC%82%AC%EC%9E%90%EB%8A%94%20%EC%A7%80%EC%86%8D%EA%B0%80 %EB%8A%A5%ED%95%9C,%EC%A0%81%EC%9D%91%EB%AA%A9%ED%91%9C%E B%A5%BC%20%EC%88%98%EB%A6%BD%ED%95%9C%EB%8B%A4.(최종접속일: 2022.8.20). 이용성. 2022.8.11. 작성. 유럽연합, 10일부터 러시아産 석탄 수입 금지 발효. 조선비즈. https://biz.chosun.com/international/international_economy/2022/08/11/GC XBBKG5YFF7ZPFDSODV4SBQLM/(최종접속일: 2022.9.22). 정귀희. 2017.6.9. 작성. 미국 태양광 PV 산업 규모 및 태양광 발전 정책 분석. 헬로T. https://www.hellot.net/news/article.html?no=34870(최종접속일: 2022.11.20). BNEF 홈페이지. https://www.bnef.com/(최종접속일: 2022.10.20.). BNEF 홈페이지. https://www.bnef.com/interactive-datasets/2d5d59acd9000016?data-hub=13( 최종접속일: 2022.11.19.). BNEF 홈페이지. https://www.bnef.com/interactive-datasets/2d5d59acd9000047(최종접 속일: 2022.6.29.). BP Statistical Review of World Energy & Ember. https://ourworldindata.org/grapher/net-electricity-imports?country=USA~GBR ~FRA~SWE~CAN(최종접속일: 2022.11.15.). Clean Energy Wire. 2022.1.12 작성. Germany to launch emergency programme for “huge, gigantic” 2030 emissions target task. https://www.cleanenergywire.org/news/germany-launch-emergency-program me-huge-gigantic-2030-emissions-target-task(최종접속일: 2022.9.25.). 105\n",
      "\n",
      "2.7%p 증가하였다([그림 2-1]). 재생에너지 원별로 나누어보면 2020년 기준 바이 오매스 비중이 65.1%로 가장 높고, 다음으로 수력(17.9%), 풍력(6.7%), 지열(5.3%) 태양광(3.4%), 태양열(1.6%) 순이다. 바이오매스 비중이 높은 이유는 개발도상국에 서 난방과 취사용으로 주로 활용하기 때문이다.2) 2010년과 비교하여 공급량은 바 이오매스가 191Mtoe로 가장 많이 증가하였고, 다음으로 풍력(109Mtoe), 수력 (76Mtoe), 태양광(67Mtoe) 순이다. 하지만 비중은 풍력이 4.8%p로 가장 많이 증 가하였고, 다음으로 태양광(3.2%), 지열(1.2%) 순이며, 바이오매스와 수력은 각각 8.9%p와 1.0%p 감소하였다([그림 2-2]). [그림 2-1] 에너지원별 1차에너지 공급(TPES) 비중 <2020년> <2010년> 자료: Enerdata(최종접속일: 2022.11.20)의 자료를 활용하여 저자 작성 [그림 2-2] 재생에너지 원별 1차에너지 공급(TPES) 비중 <2010년> <2020년> 자료: Enerdata(최종접속일: 2022.11.20)의 자료를 활용하여 저자 작성 2) 공지영·조일현(2021), p.4. 6\n",
      "\n",
      "Climate Action Tracker 홈페이지. https://climateactiontracker.org/countries/germany/net-zero-targets/(최종접속 일: 2022.9.25.). Enerdata Database. https://global-energy-data.enerdata.net/database/(최종접속일: 2022. 11. 20). Enerdata 세계에너지 및 기후 통계 –2022년 연감. https://yearbook.enerdata.co.kr/electricity/electricity-domestic-consumption- data.html(최종접속일: 2022.11.15). Energy and Climate Intelligence Unit(ECIU) 홈페이지. https://zerotracker.net/(최종접속 일: 2022. 10. 04). European Commission. 2018.7.25 작성. Joint U.S.-EU Statement following President Ju ncker's visit to the White House. https://ec.europa.eu/commission/presscorner /detail/en/STATEMENT_18_4687(최종접속일: 2022.8.25.). European Commission. 2019.3.8 작성. EU-U.S. Joint Statement: Liquefied Natural Gas (LNG) imports from the U.S. continue to rise, up by 181%. https://ec.europa.eu/ commission/presscorner/detail/en/IP_19_1531(최종접속일: 2022.8.26.). European Commission. 2022.5.18 작성. REPowerEU: A plan to rapidly reduce dependen ce on Russian fossil fuels and fast forward the green transition. https://ec.europ a.eu/commission/presscorner/detail/en/ip_22_3131(최종접속일: 2022.10.30.). European Commission. Go-to areas for wind and solar. https://joint-research-centre. ec.europa.eu/energy-and-industry-geography-lab/go-areas-wind-and-solar_e n(최종접속일: 2022.9.2.). Federal Ministry for Economic Affairs and Climate Action. 2022.4.6 작성. Overview of t he Easter Package. https://www.bmwk.de/Redaktion/EN/Downloads/Energy/04 06_ueberblickspapier_osterpaket_en.pdf?__blob=publicationFile&v=5(최종접속 일: 2022.9.25.). IEA Data browser. https://www.iea.org/fuels-and-technologies/electricity(최종접속일: 2022. 11. 14). 106\n",
      "\n",
      "<표 4-2> 변수 설명 변수명 설명 출처 전체 발전설비 용량 중 태양광, 풍력, 수력, 재생에너지 비중 Enerdata 조력, 지열, 바이오매스 발전 용량 비중 전체 발전설비 용량 중 태양광, 풍력 발전 변동성 재생에너지 비중 Enerdata 용량 비중 FiT/FiP 제도 시행시 1의 값을 갖는 FiT/FiP REN21, BNEF 더미변수 RPS RPS 제도 시행시 1의 값을 갖는 더미변수 REN21, BNEF 경매 경매제도 시행시 1의 값을 갖는 더미변수 REN21, BNEF 제조업 비중 GDP에서 제조업이 차지하는 비중 World Bank GDP per cap 1인당 GDP(2015년 US dollar) World Bank 금융발전도 GDP 대비 민간신용 비중 World Bank 석탄, 원유, 천연가스, 광물 및 임업제품의 천연자원 지대 비중 World Bank 지대가 GDP에서 차지하는 비중 BP Statistical Review of 전력 순수출량이 0보다 큰 경우 1의 값을 해외 계통연계 World Energy & 갖는 더미변수 Ember156) CO2 per cap 1인당 CO2 배출량 World Bank 국가 면적 국가 면적 World Bank 156) Our World in Data에서 BP Statistical Review of World Energy와 Ember 자료를 가공한 데이터를 활용함. 78\n",
      "\n",
      "제2장 국제 재생에너지 시장 동향 [그림 2-13] 태양광 가치사슬별 가격 추이 (a) 폴리실리콘 (b) 웨이퍼 (c) 태양전지와 모듈 자료: BNEF 홈페이지(최종접속일: 2022.11.19) 자료 활용하여 저자 작성 19\n",
      "\n",
      "Question: 2020년 전세계 에너지 공급량은 얼마인가요?\n",
      "\n",
      "\n",
      "\n",
      "Assistant:\u001b[0m\n",
      "제시된 문맥에 따르면, 2020년 전세계 에너지 공급량은 14,177Mtoe(메가톤 석유환산톤)였습니다.\n",
      "\u001b[1m> Finished chain.\u001b[0m\n",
      "\n",
      "\u001b[1m> Finished chain.\u001b[0m\n",
      "##############################\n",
      "query: \n",
      " 2020년 전세계 에너지 공급량은 얼마인가요?\n",
      "answer: \n",
      " {'input_documents': [Document(page_content='제2장 국제 재생에너지 시장 동향 2. 국가별 재생에너지 현황 비교 2.1. 국가별 재생에너지 보급 현황 [그림 2-17]은 OECD 국가별 재생에너지 발전 비중을 나타낸다. 2020년 우리나 라 재생에너지 발전 비중은 4.7% 수준으로 37위이며, OECD 평균(27.3%)과 전세계 평균(26.1%)보다 낮게 나타났다.25) 전세계 평균(26.1%)에 도달하지 못한 OECD 국 가는 우리나라를 포함하여 모두 13개국이다. OECD 중에서 재생에너지 발전 비중이 가장 높은 나라는 코스타리카(99.2%), 아이슬란드(99.1%), 노르웨이(96.1%) 순이다. 상위 10개 국가 중 덴마크를 제외한 나머지 국가는 주 에너지원이 수력이라는 특징 이 있으며, 덴마크의 주 에너지원은 풍력이다. 10위인 스웨덴의 수력 비중은 44.2%, 원자력 비중은 30.1%로 원자력 비중도 상당히 높은 것이 특징이다. 세계 각국은 자원 및 경제 상황에 따라 에너지원을 다양하게 사용하는 가운데, 영 국, 독일, 호주, 미국, 일본 등은 탄소중립 달성을 위해 에너지전환 정책을 적극적으 로 추진 중이다. 영국은 석탄 감축 정책을 펼치면서 재생에너지 보급을 빠르게 증가 시킨 나라 중 하나로, 원별로는 천연가스 비중이 36.5% 가장 높고, 다음으로 풍력 (24.2%), 원자력(16.1%), 바이오연료(11.2%) 등의 비중이 높다. 영국의 2020년 석 탄 발전 비중은 2.0% 수준으로 2015년 22.7%와 비교하여 대폭 감소하였다. 독일 은 탈원전·탈석탄을 추진 중인 국가이지만 그 결과는 미진한데, 원별 비중을 보면 석탄이 25.5%로 가장 높고, 다음으로 풍력(22.5%), 천연가스(17.1%), 원자력 (11.1%), 태양광(8.7%) 순이다. 호주는 주요 석탄 생산국으로, 원별 비중을 보면 석 탄이 54.9%로 가장 높고, 다음으로 천연가스(20.8%), 태양광(7.9%), 풍력(7.7%), 수력(5.7%) 순이다. 미국은 바이든 정부 이후 친환경 정책을 강조하는 국가로, 원별 비중을 보면 천연가스 비중이 39.3%로 가장 높고, 다음으로 석탄(20.0%), 원자력 (19.4%), 풍력(8.0%), 수력(7.4%), 태양광(2.7%) 순이다. 일본은 후쿠시마 사건 이 후 원자력 발전이 줄어들면서 대체에너지로 재생에너지 보급 추진 중인 국가로, 원 별 비중을 보면 천연가스가 37.7%로 가장 높고, 다음으로 석탄(30.4%), 수력 (8.6%), 태양광(7.6%) 순이다. 특히 일본은 에너지 섬이면서 화석연료 수입 비중이 25)OECD iLibrary홈페이지(최종접속일: 2022.9.8) 데이터 참고함. 23', metadata={'source': '국제 신재생에너지 정책변화 및 시장 분석_22-26.pdf', 'type': '국제 신재생에너지 정책변화 및 시장 분석', 'timestamp': '2024-04-22T09:56:48.191831', 'id': '119efae8-c01c-4ed7-8d57-5eae1c125839'}), Document(page_content='제2장 국제 재생에너지 시장 동향 제2장 국제 재생에너지 시장 동향 본 연구의 주요 목적 중 하나는 매년 변화하는 재생에너지 시장 동향을 살펴보는 것으로, 자체적으로 수행한 데이터 분석 결과와 IEA, REN21, Enerdtata, BNEF, IRENA 등 주요 국제기구에서 발간하는 자료를 토대로 재생에너지 시장 변화를 살 펴보고자 한다. 먼저 1절에서는 전세계 관점에서 재생에너지 보급, 산업, 가격, 전망 에 대해 다루고, 2절에서는 국가별 재생에너지 보급 및 가격 현황을 살펴보았다. 1. 재생에너지 보급 동향 1.1. 1차에너지1) 2020년 전세계 에너지 공급량은 14,177Mtoe로 이 중 재생에너지 공급량은 14.6%에 해당하는 2,077Mtoe였다. 비중이 가장 높은 에너지원은 석유로 30.0%를 차지하였고, 다음으로 석탄(26.9%), 천연가스(23.5%), 순이다. 2010년과 비교하여 재생에너지 공급량은 508Mtoe 증가하였으며, 1차에너지에서 재생에너지 비중은 1) 여기서는 Enerdata(최종접속일: 2022.11.20)에서 제공하는 자료를 활용하여 작성하였음. 5', metadata={'source': '국제 신재생에너지 정책변화 및 시장 분석_22-26.pdf', 'type': '국제 신재생에너지 정책변화 및 시장 분석', 'timestamp': '2024-04-22T09:56:47.462636', 'id': '818f19ab-7a19-4944-afa9-92e6fff9ec41'}), Document(page_content='참고문헌 <웹사이트> GS칼텍스 미디어허브. 2022. 러시아·우크라이나 전쟁, 에너지 안보의 무서움을 일깨우다!. https://gscaltexmediahub.com/energy/energy-column/energy_security/(최종접 속일: 2022.8.28.). 국가법령정보센터 홈페이지-파리협정. https://www.law.go.kr/trtyMInfoP.do?trtySeq=12440#:~:text=1.%20%EB%8B%B9 %EC%82%AC%EC%9E%90%EB%8A%94%20%EC%A7%80%EC%86%8D%EA%B0%80 %EB%8A%A5%ED%95%9C,%EC%A0%81%EC%9D%91%EB%AA%A9%ED%91%9C%E B%A5%BC%20%EC%88%98%EB%A6%BD%ED%95%9C%EB%8B%A4.(최종접속일: 2022.8.20). 이용성. 2022.8.11. 작성. 유럽연합, 10일부터 러시아産 석탄 수입 금지 발효. 조선비즈. https://biz.chosun.com/international/international_economy/2022/08/11/GC XBBKG5YFF7ZPFDSODV4SBQLM/(최종접속일: 2022.9.22). 정귀희. 2017.6.9. 작성. 미국 태양광 PV 산업 규모 및 태양광 발전 정책 분석. 헬로T. https://www.hellot.net/news/article.html?no=34870(최종접속일: 2022.11.20). BNEF 홈페이지. https://www.bnef.com/(최종접속일: 2022.10.20.). BNEF 홈페이지. https://www.bnef.com/interactive-datasets/2d5d59acd9000016?data-hub=13( 최종접속일: 2022.11.19.). BNEF 홈페이지. https://www.bnef.com/interactive-datasets/2d5d59acd9000047(최종접 속일: 2022.6.29.). BP Statistical Review of World Energy & Ember. https://ourworldindata.org/grapher/net-electricity-imports?country=USA~GBR ~FRA~SWE~CAN(최종접속일: 2022.11.15.). Clean Energy Wire. 2022.1.12 작성. Germany to launch emergency programme for “huge, gigantic” 2030 emissions target task. https://www.cleanenergywire.org/news/germany-launch-emergency-program me-huge-gigantic-2030-emissions-target-task(최종접속일: 2022.9.25.). 105', metadata={'source': '국제 신재생에너지 정책변화 및 시장 분석_22-26.pdf', 'type': '국제 신재생에너지 정책변화 및 시장 분석', 'timestamp': '2024-04-22T09:56:52.604293'}), Document(page_content='2.7%p 증가하였다([그림 2-1]). 재생에너지 원별로 나누어보면 2020년 기준 바이 오매스 비중이 65.1%로 가장 높고, 다음으로 수력(17.9%), 풍력(6.7%), 지열(5.3%) 태양광(3.4%), 태양열(1.6%) 순이다. 바이오매스 비중이 높은 이유는 개발도상국에 서 난방과 취사용으로 주로 활용하기 때문이다.2) 2010년과 비교하여 공급량은 바 이오매스가 191Mtoe로 가장 많이 증가하였고, 다음으로 풍력(109Mtoe), 수력 (76Mtoe), 태양광(67Mtoe) 순이다. 하지만 비중은 풍력이 4.8%p로 가장 많이 증 가하였고, 다음으로 태양광(3.2%), 지열(1.2%) 순이며, 바이오매스와 수력은 각각 8.9%p와 1.0%p 감소하였다([그림 2-2]). [그림 2-1] 에너지원별 1차에너지 공급(TPES) 비중 <2020년> <2010년> 자료: Enerdata(최종접속일: 2022.11.20)의 자료를 활용하여 저자 작성 [그림 2-2] 재생에너지 원별 1차에너지 공급(TPES) 비중 <2010년> <2020년> 자료: Enerdata(최종접속일: 2022.11.20)의 자료를 활용하여 저자 작성 2) 공지영·조일현(2021), p.4. 6', metadata={'source': '국제 신재생에너지 정책변화 및 시장 분석_22-26.pdf', 'type': '국제 신재생에너지 정책변화 및 시장 분석', 'timestamp': '2024-04-22T09:56:47.495357', 'id': '5be8908d-d40d-4cef-8506-01327483c47c'}), Document(page_content=\"Climate Action Tracker 홈페이지. https://climateactiontracker.org/countries/germany/net-zero-targets/(최종접속 일: 2022.9.25.). Enerdata Database. https://global-energy-data.enerdata.net/database/(최종접속일: 2022. 11. 20). Enerdata 세계에너지 및 기후 통계 –2022년 연감. https://yearbook.enerdata.co.kr/electricity/electricity-domestic-consumption- data.html(최종접속일: 2022.11.15). Energy and Climate Intelligence Unit(ECIU) 홈페이지. https://zerotracker.net/(최종접속 일: 2022. 10. 04). European Commission. 2018.7.25 작성. Joint U.S.-EU Statement following President Ju ncker's visit to the White House. https://ec.europa.eu/commission/presscorner /detail/en/STATEMENT_18_4687(최종접속일: 2022.8.25.). European Commission. 2019.3.8 작성. EU-U.S. Joint Statement: Liquefied Natural Gas (LNG) imports from the U.S. continue to rise, up by 181%. https://ec.europa.eu/ commission/presscorner/detail/en/IP_19_1531(최종접속일: 2022.8.26.). European Commission. 2022.5.18 작성. REPowerEU: A plan to rapidly reduce dependen ce on Russian fossil fuels and fast forward the green transition. https://ec.europ a.eu/commission/presscorner/detail/en/ip_22_3131(최종접속일: 2022.10.30.). European Commission. Go-to areas for wind and solar. https://joint-research-centre. ec.europa.eu/energy-and-industry-geography-lab/go-areas-wind-and-solar_e n(최종접속일: 2022.9.2.). Federal Ministry for Economic Affairs and Climate Action. 2022.4.6 작성. Overview of t he Easter Package. https://www.bmwk.de/Redaktion/EN/Downloads/Energy/04 06_ueberblickspapier_osterpaket_en.pdf?__blob=publicationFile&v=5(최종접속 일: 2022.9.25.). IEA Data browser. https://www.iea.org/fuels-and-technologies/electricity(최종접속일: 2022. 11. 14). 106\", metadata={'source': '국제 신재생에너지 정책변화 및 시장 분석_22-26.pdf', 'type': '국제 신재생에너지 정책변화 및 시장 분석', 'timestamp': '2024-04-22T09:56:52.677547'}), Document(page_content='<표 4-2> 변수 설명 변수명 설명 출처 전체 발전설비 용량 중 태양광, 풍력, 수력, 재생에너지 비중 Enerdata 조력, 지열, 바이오매스 발전 용량 비중 전체 발전설비 용량 중 태양광, 풍력 발전 변동성 재생에너지 비중 Enerdata 용량 비중 FiT/FiP 제도 시행시 1의 값을 갖는 FiT/FiP REN21, BNEF 더미변수 RPS RPS 제도 시행시 1의 값을 갖는 더미변수 REN21, BNEF 경매 경매제도 시행시 1의 값을 갖는 더미변수 REN21, BNEF 제조업 비중 GDP에서 제조업이 차지하는 비중 World Bank GDP per cap 1인당 GDP(2015년 US dollar) World Bank 금융발전도 GDP 대비 민간신용 비중 World Bank 석탄, 원유, 천연가스, 광물 및 임업제품의 천연자원 지대 비중 World Bank 지대가 GDP에서 차지하는 비중 BP Statistical Review of 전력 순수출량이 0보다 큰 경우 1의 값을 해외 계통연계 World Energy & 갖는 더미변수 Ember156) CO2 per cap 1인당 CO2 배출량 World Bank 국가 면적 국가 면적 World Bank 156) Our World in Data에서 BP Statistical Review of World Energy와 Ember 자료를 가공한 데이터를 활용함. 78', metadata={'source': '국제 신재생에너지 정책변화 및 시장 분석_22-26.pdf', 'type': '국제 신재생에너지 정책변화 및 시장 분석', 'timestamp': '2024-04-22T09:56:51.221282'}), Document(page_content='제2장 국제 재생에너지 시장 동향 [그림 2-13] 태양광 가치사슬별 가격 추이 (a) 폴리실리콘 (b) 웨이퍼 (c) 태양전지와 모듈 자료: BNEF 홈페이지(최종접속일: 2022.11.19) 자료 활용하여 저자 작성 19', metadata={'source': '국제 신재생에너지 정책변화 및 시장 분석_22-26.pdf', 'type': '국제 신재생에너지 정책변화 및 시장 분석', 'timestamp': '2024-04-22T09:56:48.036790'})], 'question': '2020년 전세계 에너지 공급량은 얼마인가요?', 'output_text': '제시된 문맥에 따르면, 2020년 전세계 에너지 공급량은 14,177Mtoe(메가톤 석유환산톤)였습니다.'}\n",
      "CPU times: user 63.1 ms, sys: 7.98 ms, total: 71.1 ms\n",
      "Wall time: 3.8 s\n"
     ]
    }
   ],
   "source": [
    "%%time\n",
    "answer = chain.invoke(\n",
    "    {\n",
    "        \"input_documents\": ensemble_retriever.get_relevant_documents(query), \n",
    "        \"question\": query\n",
    "    }\n",
    ")\n",
    "\n",
    "print(\"##############################\")\n",
    "print(\"query: \\n\", query)\n",
    "print(\"answer: \\n\", answer)"
   ]
  },
  {
   "cell_type": "code",
   "execution_count": null,
   "id": "766ae463-9a33-47d3-8e07-b1ffe9b5b6ee",
   "metadata": {},
   "outputs": [],
   "source": []
  }
 ],
 "metadata": {
  "availableInstances": [
   {
    "_defaultOrder": 0,
    "_isFastLaunch": true,
    "category": "General purpose",
    "gpuNum": 0,
    "hideHardwareSpecs": false,
    "memoryGiB": 4,
    "name": "ml.t3.medium",
    "vcpuNum": 2
   },
   {
    "_defaultOrder": 1,
    "_isFastLaunch": false,
    "category": "General purpose",
    "gpuNum": 0,
    "hideHardwareSpecs": false,
    "memoryGiB": 8,
    "name": "ml.t3.large",
    "vcpuNum": 2
   },
   {
    "_defaultOrder": 2,
    "_isFastLaunch": false,
    "category": "General purpose",
    "gpuNum": 0,
    "hideHardwareSpecs": false,
    "memoryGiB": 16,
    "name": "ml.t3.xlarge",
    "vcpuNum": 4
   },
   {
    "_defaultOrder": 3,
    "_isFastLaunch": false,
    "category": "General purpose",
    "gpuNum": 0,
    "hideHardwareSpecs": false,
    "memoryGiB": 32,
    "name": "ml.t3.2xlarge",
    "vcpuNum": 8
   },
   {
    "_defaultOrder": 4,
    "_isFastLaunch": true,
    "category": "General purpose",
    "gpuNum": 0,
    "hideHardwareSpecs": false,
    "memoryGiB": 8,
    "name": "ml.m5.large",
    "vcpuNum": 2
   },
   {
    "_defaultOrder": 5,
    "_isFastLaunch": false,
    "category": "General purpose",
    "gpuNum": 0,
    "hideHardwareSpecs": false,
    "memoryGiB": 16,
    "name": "ml.m5.xlarge",
    "vcpuNum": 4
   },
   {
    "_defaultOrder": 6,
    "_isFastLaunch": false,
    "category": "General purpose",
    "gpuNum": 0,
    "hideHardwareSpecs": false,
    "memoryGiB": 32,
    "name": "ml.m5.2xlarge",
    "vcpuNum": 8
   },
   {
    "_defaultOrder": 7,
    "_isFastLaunch": false,
    "category": "General purpose",
    "gpuNum": 0,
    "hideHardwareSpecs": false,
    "memoryGiB": 64,
    "name": "ml.m5.4xlarge",
    "vcpuNum": 16
   },
   {
    "_defaultOrder": 8,
    "_isFastLaunch": false,
    "category": "General purpose",
    "gpuNum": 0,
    "hideHardwareSpecs": false,
    "memoryGiB": 128,
    "name": "ml.m5.8xlarge",
    "vcpuNum": 32
   },
   {
    "_defaultOrder": 9,
    "_isFastLaunch": false,
    "category": "General purpose",
    "gpuNum": 0,
    "hideHardwareSpecs": false,
    "memoryGiB": 192,
    "name": "ml.m5.12xlarge",
    "vcpuNum": 48
   },
   {
    "_defaultOrder": 10,
    "_isFastLaunch": false,
    "category": "General purpose",
    "gpuNum": 0,
    "hideHardwareSpecs": false,
    "memoryGiB": 256,
    "name": "ml.m5.16xlarge",
    "vcpuNum": 64
   },
   {
    "_defaultOrder": 11,
    "_isFastLaunch": false,
    "category": "General purpose",
    "gpuNum": 0,
    "hideHardwareSpecs": false,
    "memoryGiB": 384,
    "name": "ml.m5.24xlarge",
    "vcpuNum": 96
   },
   {
    "_defaultOrder": 12,
    "_isFastLaunch": false,
    "category": "General purpose",
    "gpuNum": 0,
    "hideHardwareSpecs": false,
    "memoryGiB": 8,
    "name": "ml.m5d.large",
    "vcpuNum": 2
   },
   {
    "_defaultOrder": 13,
    "_isFastLaunch": false,
    "category": "General purpose",
    "gpuNum": 0,
    "hideHardwareSpecs": false,
    "memoryGiB": 16,
    "name": "ml.m5d.xlarge",
    "vcpuNum": 4
   },
   {
    "_defaultOrder": 14,
    "_isFastLaunch": false,
    "category": "General purpose",
    "gpuNum": 0,
    "hideHardwareSpecs": false,
    "memoryGiB": 32,
    "name": "ml.m5d.2xlarge",
    "vcpuNum": 8
   },
   {
    "_defaultOrder": 15,
    "_isFastLaunch": false,
    "category": "General purpose",
    "gpuNum": 0,
    "hideHardwareSpecs": false,
    "memoryGiB": 64,
    "name": "ml.m5d.4xlarge",
    "vcpuNum": 16
   },
   {
    "_defaultOrder": 16,
    "_isFastLaunch": false,
    "category": "General purpose",
    "gpuNum": 0,
    "hideHardwareSpecs": false,
    "memoryGiB": 128,
    "name": "ml.m5d.8xlarge",
    "vcpuNum": 32
   },
   {
    "_defaultOrder": 17,
    "_isFastLaunch": false,
    "category": "General purpose",
    "gpuNum": 0,
    "hideHardwareSpecs": false,
    "memoryGiB": 192,
    "name": "ml.m5d.12xlarge",
    "vcpuNum": 48
   },
   {
    "_defaultOrder": 18,
    "_isFastLaunch": false,
    "category": "General purpose",
    "gpuNum": 0,
    "hideHardwareSpecs": false,
    "memoryGiB": 256,
    "name": "ml.m5d.16xlarge",
    "vcpuNum": 64
   },
   {
    "_defaultOrder": 19,
    "_isFastLaunch": false,
    "category": "General purpose",
    "gpuNum": 0,
    "hideHardwareSpecs": false,
    "memoryGiB": 384,
    "name": "ml.m5d.24xlarge",
    "vcpuNum": 96
   },
   {
    "_defaultOrder": 20,
    "_isFastLaunch": false,
    "category": "General purpose",
    "gpuNum": 0,
    "hideHardwareSpecs": true,
    "memoryGiB": 0,
    "name": "ml.geospatial.interactive",
    "supportedImageNames": [
     "sagemaker-geospatial-v1-0"
    ],
    "vcpuNum": 0
   },
   {
    "_defaultOrder": 21,
    "_isFastLaunch": true,
    "category": "Compute optimized",
    "gpuNum": 0,
    "hideHardwareSpecs": false,
    "memoryGiB": 4,
    "name": "ml.c5.large",
    "vcpuNum": 2
   },
   {
    "_defaultOrder": 22,
    "_isFastLaunch": false,
    "category": "Compute optimized",
    "gpuNum": 0,
    "hideHardwareSpecs": false,
    "memoryGiB": 8,
    "name": "ml.c5.xlarge",
    "vcpuNum": 4
   },
   {
    "_defaultOrder": 23,
    "_isFastLaunch": false,
    "category": "Compute optimized",
    "gpuNum": 0,
    "hideHardwareSpecs": false,
    "memoryGiB": 16,
    "name": "ml.c5.2xlarge",
    "vcpuNum": 8
   },
   {
    "_defaultOrder": 24,
    "_isFastLaunch": false,
    "category": "Compute optimized",
    "gpuNum": 0,
    "hideHardwareSpecs": false,
    "memoryGiB": 32,
    "name": "ml.c5.4xlarge",
    "vcpuNum": 16
   },
   {
    "_defaultOrder": 25,
    "_isFastLaunch": false,
    "category": "Compute optimized",
    "gpuNum": 0,
    "hideHardwareSpecs": false,
    "memoryGiB": 72,
    "name": "ml.c5.9xlarge",
    "vcpuNum": 36
   },
   {
    "_defaultOrder": 26,
    "_isFastLaunch": false,
    "category": "Compute optimized",
    "gpuNum": 0,
    "hideHardwareSpecs": false,
    "memoryGiB": 96,
    "name": "ml.c5.12xlarge",
    "vcpuNum": 48
   },
   {
    "_defaultOrder": 27,
    "_isFastLaunch": false,
    "category": "Compute optimized",
    "gpuNum": 0,
    "hideHardwareSpecs": false,
    "memoryGiB": 144,
    "name": "ml.c5.18xlarge",
    "vcpuNum": 72
   },
   {
    "_defaultOrder": 28,
    "_isFastLaunch": false,
    "category": "Compute optimized",
    "gpuNum": 0,
    "hideHardwareSpecs": false,
    "memoryGiB": 192,
    "name": "ml.c5.24xlarge",
    "vcpuNum": 96
   },
   {
    "_defaultOrder": 29,
    "_isFastLaunch": true,
    "category": "Accelerated computing",
    "gpuNum": 1,
    "hideHardwareSpecs": false,
    "memoryGiB": 16,
    "name": "ml.g4dn.xlarge",
    "vcpuNum": 4
   },
   {
    "_defaultOrder": 30,
    "_isFastLaunch": false,
    "category": "Accelerated computing",
    "gpuNum": 1,
    "hideHardwareSpecs": false,
    "memoryGiB": 32,
    "name": "ml.g4dn.2xlarge",
    "vcpuNum": 8
   },
   {
    "_defaultOrder": 31,
    "_isFastLaunch": false,
    "category": "Accelerated computing",
    "gpuNum": 1,
    "hideHardwareSpecs": false,
    "memoryGiB": 64,
    "name": "ml.g4dn.4xlarge",
    "vcpuNum": 16
   },
   {
    "_defaultOrder": 32,
    "_isFastLaunch": false,
    "category": "Accelerated computing",
    "gpuNum": 1,
    "hideHardwareSpecs": false,
    "memoryGiB": 128,
    "name": "ml.g4dn.8xlarge",
    "vcpuNum": 32
   },
   {
    "_defaultOrder": 33,
    "_isFastLaunch": false,
    "category": "Accelerated computing",
    "gpuNum": 4,
    "hideHardwareSpecs": false,
    "memoryGiB": 192,
    "name": "ml.g4dn.12xlarge",
    "vcpuNum": 48
   },
   {
    "_defaultOrder": 34,
    "_isFastLaunch": false,
    "category": "Accelerated computing",
    "gpuNum": 1,
    "hideHardwareSpecs": false,
    "memoryGiB": 256,
    "name": "ml.g4dn.16xlarge",
    "vcpuNum": 64
   },
   {
    "_defaultOrder": 35,
    "_isFastLaunch": false,
    "category": "Accelerated computing",
    "gpuNum": 1,
    "hideHardwareSpecs": false,
    "memoryGiB": 61,
    "name": "ml.p3.2xlarge",
    "vcpuNum": 8
   },
   {
    "_defaultOrder": 36,
    "_isFastLaunch": false,
    "category": "Accelerated computing",
    "gpuNum": 4,
    "hideHardwareSpecs": false,
    "memoryGiB": 244,
    "name": "ml.p3.8xlarge",
    "vcpuNum": 32
   },
   {
    "_defaultOrder": 37,
    "_isFastLaunch": false,
    "category": "Accelerated computing",
    "gpuNum": 8,
    "hideHardwareSpecs": false,
    "memoryGiB": 488,
    "name": "ml.p3.16xlarge",
    "vcpuNum": 64
   },
   {
    "_defaultOrder": 38,
    "_isFastLaunch": false,
    "category": "Accelerated computing",
    "gpuNum": 8,
    "hideHardwareSpecs": false,
    "memoryGiB": 768,
    "name": "ml.p3dn.24xlarge",
    "vcpuNum": 96
   },
   {
    "_defaultOrder": 39,
    "_isFastLaunch": false,
    "category": "Memory Optimized",
    "gpuNum": 0,
    "hideHardwareSpecs": false,
    "memoryGiB": 16,
    "name": "ml.r5.large",
    "vcpuNum": 2
   },
   {
    "_defaultOrder": 40,
    "_isFastLaunch": false,
    "category": "Memory Optimized",
    "gpuNum": 0,
    "hideHardwareSpecs": false,
    "memoryGiB": 32,
    "name": "ml.r5.xlarge",
    "vcpuNum": 4
   },
   {
    "_defaultOrder": 41,
    "_isFastLaunch": false,
    "category": "Memory Optimized",
    "gpuNum": 0,
    "hideHardwareSpecs": false,
    "memoryGiB": 64,
    "name": "ml.r5.2xlarge",
    "vcpuNum": 8
   },
   {
    "_defaultOrder": 42,
    "_isFastLaunch": false,
    "category": "Memory Optimized",
    "gpuNum": 0,
    "hideHardwareSpecs": false,
    "memoryGiB": 128,
    "name": "ml.r5.4xlarge",
    "vcpuNum": 16
   },
   {
    "_defaultOrder": 43,
    "_isFastLaunch": false,
    "category": "Memory Optimized",
    "gpuNum": 0,
    "hideHardwareSpecs": false,
    "memoryGiB": 256,
    "name": "ml.r5.8xlarge",
    "vcpuNum": 32
   },
   {
    "_defaultOrder": 44,
    "_isFastLaunch": false,
    "category": "Memory Optimized",
    "gpuNum": 0,
    "hideHardwareSpecs": false,
    "memoryGiB": 384,
    "name": "ml.r5.12xlarge",
    "vcpuNum": 48
   },
   {
    "_defaultOrder": 45,
    "_isFastLaunch": false,
    "category": "Memory Optimized",
    "gpuNum": 0,
    "hideHardwareSpecs": false,
    "memoryGiB": 512,
    "name": "ml.r5.16xlarge",
    "vcpuNum": 64
   },
   {
    "_defaultOrder": 46,
    "_isFastLaunch": false,
    "category": "Memory Optimized",
    "gpuNum": 0,
    "hideHardwareSpecs": false,
    "memoryGiB": 768,
    "name": "ml.r5.24xlarge",
    "vcpuNum": 96
   },
   {
    "_defaultOrder": 47,
    "_isFastLaunch": false,
    "category": "Accelerated computing",
    "gpuNum": 1,
    "hideHardwareSpecs": false,
    "memoryGiB": 16,
    "name": "ml.g5.xlarge",
    "vcpuNum": 4
   },
   {
    "_defaultOrder": 48,
    "_isFastLaunch": false,
    "category": "Accelerated computing",
    "gpuNum": 1,
    "hideHardwareSpecs": false,
    "memoryGiB": 32,
    "name": "ml.g5.2xlarge",
    "vcpuNum": 8
   },
   {
    "_defaultOrder": 49,
    "_isFastLaunch": false,
    "category": "Accelerated computing",
    "gpuNum": 1,
    "hideHardwareSpecs": false,
    "memoryGiB": 64,
    "name": "ml.g5.4xlarge",
    "vcpuNum": 16
   },
   {
    "_defaultOrder": 50,
    "_isFastLaunch": false,
    "category": "Accelerated computing",
    "gpuNum": 1,
    "hideHardwareSpecs": false,
    "memoryGiB": 128,
    "name": "ml.g5.8xlarge",
    "vcpuNum": 32
   },
   {
    "_defaultOrder": 51,
    "_isFastLaunch": false,
    "category": "Accelerated computing",
    "gpuNum": 1,
    "hideHardwareSpecs": false,
    "memoryGiB": 256,
    "name": "ml.g5.16xlarge",
    "vcpuNum": 64
   },
   {
    "_defaultOrder": 52,
    "_isFastLaunch": false,
    "category": "Accelerated computing",
    "gpuNum": 4,
    "hideHardwareSpecs": false,
    "memoryGiB": 192,
    "name": "ml.g5.12xlarge",
    "vcpuNum": 48
   },
   {
    "_defaultOrder": 53,
    "_isFastLaunch": false,
    "category": "Accelerated computing",
    "gpuNum": 4,
    "hideHardwareSpecs": false,
    "memoryGiB": 384,
    "name": "ml.g5.24xlarge",
    "vcpuNum": 96
   },
   {
    "_defaultOrder": 54,
    "_isFastLaunch": false,
    "category": "Accelerated computing",
    "gpuNum": 8,
    "hideHardwareSpecs": false,
    "memoryGiB": 768,
    "name": "ml.g5.48xlarge",
    "vcpuNum": 192
   },
   {
    "_defaultOrder": 55,
    "_isFastLaunch": false,
    "category": "Accelerated computing",
    "gpuNum": 8,
    "hideHardwareSpecs": false,
    "memoryGiB": 1152,
    "name": "ml.p4d.24xlarge",
    "vcpuNum": 96
   },
   {
    "_defaultOrder": 56,
    "_isFastLaunch": false,
    "category": "Accelerated computing",
    "gpuNum": 8,
    "hideHardwareSpecs": false,
    "memoryGiB": 1152,
    "name": "ml.p4de.24xlarge",
    "vcpuNum": 96
   }
  ],
  "instance_type": "ml.m5.2xlarge",
  "kernelspec": {
   "display_name": "conda_python3",
   "language": "python",
   "name": "conda_python3"
  },
  "language_info": {
   "codemirror_mode": {
    "name": "ipython",
    "version": 3
   },
   "file_extension": ".py",
   "mimetype": "text/x-python",
   "name": "python",
   "nbconvert_exporter": "python",
   "pygments_lexer": "ipython3",
   "version": "3.10.13"
  },
  "vscode": {
   "interpreter": {
    "hash": "4b8e647a79df62bf31906a725b05de775d285962ac600487339d38c51a5c07b1"
   }
  }
 },
 "nbformat": 4,
 "nbformat_minor": 5
}
