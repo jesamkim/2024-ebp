{
 "cells": [
  {
   "cell_type": "code",
   "execution_count": 1,
   "id": "c21a0d86-1161-48da-ac49-bf3d02c6ad2a",
   "metadata": {
    "tags": []
   },
   "outputs": [
    {
     "name": "stdout",
     "output_type": "stream",
     "text": [
      "Collecting trafilatura\n",
      "  Downloading trafilatura-1.8.1-py3-none-any.whl.metadata (14 kB)\n",
      "Requirement already satisfied: certifi in /home/ec2-user/anaconda3/envs/python3/lib/python3.10/site-packages (from trafilatura) (2024.2.2)\n",
      "Collecting courlan>=1.0.0 (from trafilatura)\n",
      "  Downloading courlan-1.0.0-py3-none-any.whl.metadata (18 kB)\n",
      "Collecting htmldate>=1.8.0 (from trafilatura)\n",
      "  Downloading htmldate-1.8.1-py3-none-any.whl.metadata (10 kB)\n",
      "Collecting justext>=3.0.0 (from trafilatura)\n",
      "  Downloading jusText-3.0.0-py2.py3-none-any.whl.metadata (6.8 kB)\n",
      "Collecting lxml<5.2.0,>=4.9.4 (from trafilatura)\n",
      "  Downloading lxml-5.1.1-cp310-cp310-manylinux_2_17_x86_64.manylinux2014_x86_64.whl.metadata (3.5 kB)\n",
      "Requirement already satisfied: charset-normalizer>=3.2.0 in /home/ec2-user/anaconda3/envs/python3/lib/python3.10/site-packages (from trafilatura) (3.3.2)\n",
      "Requirement already satisfied: urllib3<3,>=1.26 in /home/ec2-user/anaconda3/envs/python3/lib/python3.10/site-packages (from trafilatura) (1.26.18)\n",
      "Collecting langcodes>=3.3.0 (from courlan>=1.0.0->trafilatura)\n",
      "  Downloading langcodes-3.3.0-py3-none-any.whl.metadata (29 kB)\n",
      "Collecting tld>=0.13 (from courlan>=1.0.0->trafilatura)\n",
      "  Downloading tld-0.13-py2.py3-none-any.whl.metadata (9.4 kB)\n",
      "Collecting dateparser>=1.1.2 (from htmldate>=1.8.0->trafilatura)\n",
      "  Downloading dateparser-1.2.0-py2.py3-none-any.whl.metadata (28 kB)\n",
      "Requirement already satisfied: python-dateutil>=2.8.2 in /home/ec2-user/anaconda3/envs/python3/lib/python3.10/site-packages (from htmldate>=1.8.0->trafilatura) (2.8.2)\n",
      "Requirement already satisfied: pytz in /home/ec2-user/anaconda3/envs/python3/lib/python3.10/site-packages (from dateparser>=1.1.2->htmldate>=1.8.0->trafilatura) (2024.1)\n",
      "Requirement already satisfied: regex!=2019.02.19,!=2021.8.27 in /home/ec2-user/anaconda3/envs/python3/lib/python3.10/site-packages (from dateparser>=1.1.2->htmldate>=1.8.0->trafilatura) (2023.12.25)\n",
      "Collecting tzlocal (from dateparser>=1.1.2->htmldate>=1.8.0->trafilatura)\n",
      "  Downloading tzlocal-5.2-py3-none-any.whl.metadata (7.8 kB)\n",
      "Requirement already satisfied: six>=1.5 in /home/ec2-user/anaconda3/envs/python3/lib/python3.10/site-packages (from python-dateutil>=2.8.2->htmldate>=1.8.0->trafilatura) (1.16.0)\n",
      "Downloading trafilatura-1.8.1-py3-none-any.whl (1.0 MB)\n",
      "\u001b[2K   \u001b[90m━━━━━━━━━━━━━━━━━━━━━━━━━━━━━━━━━━━━━━━━\u001b[0m \u001b[32m1.0/1.0 MB\u001b[0m \u001b[31m26.9 MB/s\u001b[0m eta \u001b[36m0:00:00\u001b[0m00:01\u001b[0m\n",
      "\u001b[?25hDownloading courlan-1.0.0-py3-none-any.whl (35 kB)\n",
      "Downloading htmldate-1.8.1-py3-none-any.whl (31 kB)\n",
      "Downloading jusText-3.0.0-py2.py3-none-any.whl (837 kB)\n",
      "\u001b[2K   \u001b[90m━━━━━━━━━━━━━━━━━━━━━━━━━━━━━━━━━━━━━━━━\u001b[0m \u001b[32m837.8/837.8 kB\u001b[0m \u001b[31m92.0 MB/s\u001b[0m eta \u001b[36m0:00:00\u001b[0m\n",
      "\u001b[?25hDownloading lxml-5.1.1-cp310-cp310-manylinux_2_17_x86_64.manylinux2014_x86_64.whl (5.1 MB)\n",
      "\u001b[2K   \u001b[90m━━━━━━━━━━━━━━━━━━━━━━━━━━━━━━━━━━━━━━━━\u001b[0m \u001b[32m5.1/5.1 MB\u001b[0m \u001b[31m40.9 MB/s\u001b[0m eta \u001b[36m0:00:00\u001b[0ma \u001b[36m0:00:01\u001b[0mm\n",
      "\u001b[?25hDownloading dateparser-1.2.0-py2.py3-none-any.whl (294 kB)\n",
      "\u001b[2K   \u001b[90m━━━━━━━━━━━━━━━━━━━━━━━━━━━━━━━━━━━━━━━━\u001b[0m \u001b[32m295.0/295.0 kB\u001b[0m \u001b[31m49.6 MB/s\u001b[0m eta \u001b[36m0:00:00\u001b[0m\n",
      "\u001b[?25hDownloading langcodes-3.3.0-py3-none-any.whl (181 kB)\n",
      "\u001b[2K   \u001b[90m━━━━━━━━━━━━━━━━━━━━━━━━━━━━━━━━━━━━━━━━\u001b[0m \u001b[32m181.6/181.6 kB\u001b[0m \u001b[31m38.5 MB/s\u001b[0m eta \u001b[36m0:00:00\u001b[0m\n",
      "\u001b[?25hDownloading tld-0.13-py2.py3-none-any.whl (263 kB)\n",
      "\u001b[2K   \u001b[90m━━━━━━━━━━━━━━━━━━━━━━━━━━━━━━━━━━━━━━━━\u001b[0m \u001b[32m263.8/263.8 kB\u001b[0m \u001b[31m44.1 MB/s\u001b[0m eta \u001b[36m0:00:00\u001b[0m\n",
      "\u001b[?25hDownloading tzlocal-5.2-py3-none-any.whl (17 kB)\n",
      "Installing collected packages: tzlocal, tld, lxml, langcodes, justext, dateparser, courlan, htmldate, trafilatura\n",
      "  Attempting uninstall: lxml\n",
      "    Found existing installation: lxml 5.2.1\n",
      "    Uninstalling lxml-5.2.1:\n",
      "      Successfully uninstalled lxml-5.2.1\n",
      "Successfully installed courlan-1.0.0 dateparser-1.2.0 htmldate-1.8.1 justext-3.0.0 langcodes-3.3.0 lxml-5.1.1 tld-0.13 trafilatura-1.8.1 tzlocal-5.2\n"
     ]
    }
   ],
   "source": [
    "!pip install trafilatura"
   ]
  },
  {
   "cell_type": "code",
   "execution_count": 3,
   "id": "fee4878b-ae8a-46bd-8948-57e1bca8eade",
   "metadata": {
    "tags": []
   },
   "outputs": [
    {
     "name": "stdout",
     "output_type": "stream",
     "text": [
      "Continued growth in rooftop solar and “record-breaking” investment into utility-scale energy storage led renewable energy to fulfil almost 40% of Australia’s electricity supply in 2023, according to a new report from the Clean Energy Council (CEC).\n",
      "Its Clean Energy Australia 2024 report shows that renewables accounted for 39.4% of the country’s electricity supply last year, representing a 9.7% increase. This rise was facilitated by 5.9GW of new clean energy capacity which came online, spearheaded by rooftop solar.\n",
      "Unlock unlimited access for 12 whole months of distinctive global analysis\n",
      "Photovoltaics International is now included.\n",
      "Regular insight and analysis of the industry’s biggest developments\n",
      "-\n",
      "In-depth interviews with the industry’s leading figures\n",
      "-\n",
      "Unlimited digital access to the PV Tech Power journal catalogue\n",
      "-\n",
      "Unlimited digital access to the Photovoltaics International journal catalogue\n",
      "-\n",
      "Access to more than 1,000 technical papers\n",
      "-\n",
      "Discounts on Solar Media’s portfolio of events, in-person and virtual\n",
      "-\n",
      "Or continue reading this article for free\n",
      "Last year, Australia added 3.1GW of rooftop solar PV capacity, equivalent to 337,498 households and small businesses, the CEC said. The country has long been the world’s leading market for rooftop solar – according to a March 2023 report from the CEC, distributed rooftop solar fulfilled 14% of Australia’s electricity consumption in Summer 2022/23.\n",
      "Another March report, from solar industry consultancy SunWiz, found that total rooftop solar capacity in Australia had surpassed 20GW.\n",
      "Kane Thornton, CEO of the CEC, said: “Rooftop solar accounted for 28.5% of all renewable generation nationally over the past year. This is a testament to its success in driving additional value and lowering energy bills for over one in three Australian households and small businesses.”\n",
      "Energy storage\n",
      "2023 also saw “record-breaking” financial commitments into new utility-scale energy storage projects.\n",
      "“27 battery projects are under construction, up from 19 at the end of 2022,” Thornton said. This represents 5GW / 11GWh of storage capacity, the report said – up from 1.4GW / 2GWh of capacity in 2022. These speak to a general increase in the average duration of storage projects in Australia, as well as their prevalence.\n",
      "The largest project currently under construction is the 850MW / 1,680MWh Waratah Super Battery in New South Wales, in which the government-backed Clean Energy Finance Corporation (CEFC) invested AU$100 million in June 2023. This project is expected online in 2025.\n",
      "2023 also saw AU$4.9 billion (US$3.2 billion) in new financial commitments for utility-scale energy storage and hybrid projects with storage, an increase from AU$1.9 billion (US$1.2 billion) in 2022. Q2 2023 alone saw storage investment break the billion-dollar mark, a large portion of which is attributable to the Waratah project.\n",
      "The year ended with impressive figures despite a significant downturn in financial commitments in Q3.\n",
      "Over 56,000 household battery systems were also installed in 2023, according to figures from SunWiz, up from around 43,000 in 2022.\n",
      "Utility-scale pipeline\n",
      "Whilst energy storage and rooftop solar are going from strength to strength, the outlook for Australia’s utility-scale generation market is less positive.\n",
      "2.8GW of large-scale capacity was added in 2023, a 500MW increase from the previous year, spread across 22 projects. 1.9GW of this capacity was solar PV, led by two 400MW projects: the Western Downs solar project brought online by Neoen Australia and ACEN Australia’s New England Solar Farm Stage 1.\n",
      "There is now 8.2GW of cumulative large-scale solar capacity online in Australia, though its share in the electricity mix fell from 15.9% in 2022 to 6.3% in 2023.\n",
      "Financial commitments to new large-scale generation projects were lacking in 2023 – no backing was announced for new wind capacity, and just seven new solar projects with a combined 912MW capacity were announced. 2022 saw ten new solar projects receive backing, with a combined 1.5GW capacity.\n",
      "In Q2 2023, the CEC called the slow investment in future projects “concerning”, and the trend continued into Q3. Today’s report said that new financial commitments are “usually a good signifier of how the sector will perform in the years to come”.\n",
      "However, there is cause for some optimism following the Federal Government’s announcement in November of investment support for up to 32GW of large-scale renewables and energy storage. The support would underwrite investments through an expansion of Australia’s Capacity Investment Scheme (CIS). The CEC said: “hopefully the Federal Government’s move to attempt to incentivise new financial commitments to large-scale renewables projects… will help reverse the current slowdown.”\n",
      "PV Tech Premium published an examination of the reasons behind the drop-off in new investment for Australian solar earlier this year, which first appeared in our downstream journal, PV Tech Power.\n",
      "PV Tech’s publisher Solar Media will host the 1st Energy Storage Summit Australia, on 21-22 May 2024 in Sydney, NSW. Featuring a packed programme of panels, presentations and fireside chats from industry leaders focusing on accelerating the market for energy storage across the country. For more information, go to the website.\n"
     ]
    }
   ],
   "source": [
    "import trafilatura\n",
    "\n",
    "web= trafilatura.fetch_url('https://www.pv-tech.org/rooftop-pv-and-energy-storage-lead-2023-australian-renewables')\n",
    "\n",
    "result = trafilatura.extract(web)\n",
    "\n",
    "print(result)"
   ]
  },
  {
   "cell_type": "code",
   "execution_count": null,
   "id": "43dc664c-b37e-4b9f-be11-bdcd4a5a075c",
   "metadata": {},
   "outputs": [],
   "source": []
  }
 ],
 "metadata": {
  "kernelspec": {
   "display_name": "conda_python3",
   "language": "python",
   "name": "conda_python3"
  },
  "language_info": {
   "codemirror_mode": {
    "name": "ipython",
    "version": 3
   },
   "file_extension": ".py",
   "mimetype": "text/x-python",
   "name": "python",
   "nbconvert_exporter": "python",
   "pygments_lexer": "ipython3",
   "version": "3.10.13"
  }
 },
 "nbformat": 4,
 "nbformat_minor": 5
}
