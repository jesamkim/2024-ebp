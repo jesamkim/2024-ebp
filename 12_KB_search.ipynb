{
 "cells": [
  {
   "cell_type": "markdown",
   "id": "73d381a2-3787-46cc-8aaf-ab0b9d9fd042",
   "metadata": {},
   "source": [
    "# Step 2. KB(Knowledge Base) 쿼리"
   ]
  },
  {
   "cell_type": "markdown",
   "id": "b3fe7756-c1c8-4630-a35a-0971b64b0fb0",
   "metadata": {},
   "source": [
    "### Setup"
   ]
  },
  {
   "cell_type": "code",
   "execution_count": null,
   "id": "5c798255-1f83-47e6-b668-be528e2fd83b",
   "metadata": {
    "tags": []
   },
   "outputs": [],
   "source": [
    "# 패키지 설치 후 Kernel Restart 를 수행하시고 다음 쉘로 진행하세요.\n",
    "\n",
    "%pip install --upgrade pip\n",
    "%pip install boto3 --force-reinstall --quiet\n",
    "%pip install botocore --force-reinstall --quiet\n",
    "%pip install sqlalchemy==2.0.0 --quiet\n",
    "%pip install langchain --force-reinstall --quiet"
   ]
  },
  {
   "cell_type": "markdown",
   "id": "a989ee22-215a-4ffd-872f-d6facb39cf37",
   "metadata": {},
   "source": [
    "### 사전에 생성한 KB 목록 확인\n",
    "\n",
    "* 사용하려는 KB의 ID 를 확인합니다."
   ]
  },
  {
   "cell_type": "code",
   "execution_count": 1,
   "id": "e8b63d17-7dff-4ab9-8e58-6d0bfe1fdeb1",
   "metadata": {
    "tags": []
   },
   "outputs": [
    {
     "name": "stdout",
     "output_type": "stream",
     "text": [
      "Found Knowledge Bases:\n",
      "- Name: ITB-Civil_Eng\n",
      "  ID: RYYEVXXULD\n",
      "  Description: N/A\n",
      "  Status: ACTIVE\n",
      "  Last Updated: 2024-07-19 02:34:45.555184+00:00\n",
      "---\n",
      "- Name: 240718-test\n",
      "  ID: LEX6UDHS1Q\n",
      "  Description: N/A\n",
      "  Status: ACTIVE\n",
      "  Last Updated: 2024-07-18 04:14:32.625010+00:00\n",
      "---\n",
      "- Name: knowledge-base-quick-start-aafi3\n",
      "  ID: KRQKUHNJIV\n",
      "  Description: N/A\n",
      "  Status: ACTIVE\n",
      "  Last Updated: 2024-02-26 08:27:55.881890+00:00\n",
      "---\n",
      "- Name: ITB-ES_Contracts\n",
      "  ID: JXGUVQQIK6\n",
      "  Description: N/A\n",
      "  Status: ACTIVE\n",
      "  Last Updated: 2024-07-19 00:42:45.537844+00:00\n",
      "---\n",
      "- Name: knowledge-base-quick-start-en\n",
      "  ID: DJLWVWNGBT\n",
      "  Description: N/A\n",
      "  Status: ACTIVE\n",
      "  Last Updated: 2024-02-26 12:26:22.625358+00:00\n",
      "---\n"
     ]
    }
   ],
   "source": [
    "import boto3\n",
    "\n",
    "def list_knowledge_bases():\n",
    "    # Bedrock 클라이언트 생성\n",
    "    bedrock_agent = boto3.client('bedrock-agent')\n",
    "\n",
    "    # Knowledge Base 목록 가져오기\n",
    "    response = bedrock_agent.list_knowledge_bases(\n",
    "        maxResults=100  # 한 번에 가져올 최대 결과 수\n",
    "    )\n",
    "\n",
    "    # 결과 출력\n",
    "    if 'knowledgeBaseSummaries' in response:\n",
    "        print(\"Found Knowledge Bases:\")\n",
    "        for kb in response['knowledgeBaseSummaries']:\n",
    "            print(f\"- Name: {kb['name']}\")\n",
    "            print(f\"  ID: {kb['knowledgeBaseId']}\")\n",
    "            print(f\"  Description: {kb.get('description', 'N/A')}\")\n",
    "            print(f\"  Status: {kb['status']}\")\n",
    "            print(f\"  Last Updated: {kb['updatedAt']}\")\n",
    "            print(\"---\")\n",
    "    else:\n",
    "        print(\"No Knowledge Bases found.\")\n",
    "\n",
    "    # 페이지네이션 처리\n",
    "    while 'nextToken' in response:\n",
    "        response = bedrock_agent.list_knowledge_bases(\n",
    "            maxResults=100,\n",
    "            nextToken=response['nextToken']\n",
    "        )\n",
    "        \n",
    "        for kb in response['knowledgeBaseSummaries']:\n",
    "            print(f\"- Name: {kb['name']}\")\n",
    "            print(f\"  ID: {kb['knowledgeBaseId']}\")\n",
    "            print(f\"  Description: {kb.get('description', 'N/A')}\")\n",
    "            print(f\"  Status: {kb['status']}\")\n",
    "            print(f\"  Last Updated: {kb['updatedAt']}\")\n",
    "            print(\"---\")\n",
    "\n",
    "if __name__ == \"__main__\":\n",
    "    list_knowledge_bases()"
   ]
  },
  {
   "cell_type": "markdown",
   "id": "28f32e37-bd46-40cb-8ee3-d7b37d1614d3",
   "metadata": {},
   "source": [
    "### Bedrock Client 초기화"
   ]
  },
  {
   "cell_type": "code",
   "execution_count": 2,
   "id": "ada3127a-74df-474b-a472-106dbd961af3",
   "metadata": {
    "tags": []
   },
   "outputs": [
    {
     "name": "stdout",
     "output_type": "stream",
     "text": [
      "us-east-1\n"
     ]
    }
   ],
   "source": [
    "import boto3\n",
    "import pprint\n",
    "from botocore.client import Config\n",
    "import json\n",
    "\n",
    "pp = pprint.PrettyPrinter(indent=2)\n",
    "session = boto3.session.Session()\n",
    "region = session.region_name\n",
    "bedrock_config = Config(connect_timeout=120, read_timeout=120, retries={'max_attempts': 0})\n",
    "bedrock_client = boto3.client('bedrock-runtime', region_name = region)\n",
    "bedrock_agent_client = boto3.client(\"bedrock-agent-runtime\",\n",
    "                              config=bedrock_config, region_name = region)\n",
    "print(region)"
   ]
  },
  {
   "cell_type": "code",
   "execution_count": 4,
   "id": "671f9472-cf13-4984-ab4f-8b15d9954024",
   "metadata": {
    "tags": []
   },
   "outputs": [],
   "source": [
    "# 사용자 쿼리\n",
    "\n",
    "query = \"\"\"\n",
    "Reference Site condition\n",
    "\"\"\""
   ]
  },
  {
   "cell_type": "markdown",
   "id": "32905e71-393e-4f77-a975-f528c72b87d0",
   "metadata": {},
   "source": [
    "### KB 리트리버 설정 (Hybrid Search)\n",
    "* 위에서 사용할 KB ID 를 확인하고 kb_id 에 수정하세요."
   ]
  },
  {
   "cell_type": "code",
   "execution_count": 5,
   "id": "9c81125a-07e3-4ec9-b840-c4b123c8e214",
   "metadata": {
    "tags": []
   },
   "outputs": [],
   "source": [
    "# 위에서 KB ID를 확인하고 수정합니다.\n",
    "kb_id = \"JXGUVQQIK6\"\n",
    "\n",
    "# numberOfResults 는 RAG 검색에서 가져올 청크 갯수 입니다.\n",
    "def retrieve(query, kbId, numberOfResults=10):\n",
    "    return bedrock_agent_client.retrieve(\n",
    "        retrievalQuery= {\n",
    "            'text': query\n",
    "        },\n",
    "        knowledgeBaseId=kbId,\n",
    "        retrievalConfiguration= {\n",
    "            'vectorSearchConfiguration': {\n",
    "                'numberOfResults': numberOfResults,\n",
    "                'overrideSearchType': \"HYBRID\", # optional\n",
    "            }\n",
    "        }\n",
    "    )\n",
    "\n",
    "# fetch context from the response\n",
    "def get_contexts(retrievalResults):\n",
    "    contexts = []\n",
    "    for retrievedResult in retrievalResults: \n",
    "        contexts.append(retrievedResult['content']['text'])\n",
    "    return contexts\n",
    "\n",
    "response = retrieve(query, kb_id, 10)\n",
    "retrievalResults = response['retrievalResults']\n",
    "contexts = get_contexts(retrievalResults)\n",
    "\n",
    "#pp.pprint(contexts)"
   ]
  },
  {
   "cell_type": "code",
   "execution_count": 6,
   "id": "112d2595-bd86-4f9f-9fc5-57c931dfe001",
   "metadata": {
    "tags": []
   },
   "outputs": [],
   "source": [
    "# 프롬프트 템플릿\n",
    "\n",
    "prompt = f\"\"\"\n",
    "Human: You are a ITB advisor AI system, and provides answers to questions by using fact based when possible. \n",
    "Use the following pieces of information to provide a detail answer to the question enclosed in <question> tags. \n",
    "If you don't know the answer, just say that you don't know, don't try to make up an answer.\n",
    "<context>\n",
    "{contexts}\n",
    "</context>\n",
    "\n",
    "<question>\n",
    "{query}\n",
    "</question>\n",
    "\n",
    "The response should be specific and use statistics or numbers when possible.\n",
    "\n",
    "Assistant:\"\"\""
   ]
  },
  {
   "cell_type": "markdown",
   "id": "a38e12d9-8bba-4477-8579-4a15baa98541",
   "metadata": {},
   "source": [
    "### Amazon Bedrock에서 Claude 3 모델 호출"
   ]
  },
  {
   "cell_type": "code",
   "execution_count": 7,
   "id": "a736981b-6f71-42c7-88cc-6354ec084b07",
   "metadata": {
    "tags": []
   },
   "outputs": [
    {
     "name": "stdout",
     "output_type": "stream",
     "text": [
      "According to the provided context, the Reference Site Conditions (RSC) for the plant are:\n",
      "\n",
      "- Ambient air temperature (dry bulb): 50°C\n",
      "- Relative humidity: 35%\n",
      "- Atmospheric pressure: 1013 mbar\n",
      "- Seawater temperature: 35°C\n",
      "- Seawater Total Dissolved Solids (TDS): 45900 mg/l\n"
     ]
    }
   ],
   "source": [
    "# payload with model paramters\n",
    "messages=[{ \"role\":'user', \"content\":[{'type':'text','text': prompt.format(contexts, query)}]}]\n",
    "sonnet_payload = json.dumps({\n",
    "    \"anthropic_version\": \"bedrock-2023-05-31\",\n",
    "    \"max_tokens\": 4096,\n",
    "    \"messages\": messages,\n",
    "    \"temperature\": 0.0,\n",
    "    \"top_p\": 0\n",
    "        }  )\n",
    "\n",
    "modelId = 'anthropic.claude-3-sonnet-20240229-v1:0' # change this to use a different version from the model provider\n",
    "accept = 'application/json'\n",
    "contentType = 'application/json'\n",
    "response = bedrock_client.invoke_model(body=sonnet_payload, modelId=modelId, accept=accept, contentType=contentType)\n",
    "response_body = json.loads(response.get('body').read())\n",
    "response_text = response_body.get('content')[0]['text']\n",
    "\n",
    "#pp.pprint(response_text)\n",
    "\n",
    "print(response_text)"
   ]
  },
  {
   "cell_type": "markdown",
   "id": "ed9c34df-fa57-4bac-b03c-76871a8664ae",
   "metadata": {},
   "source": [
    "---"
   ]
  },
  {
   "cell_type": "markdown",
   "id": "6142f6f5-bab5-4b73-9202-41fcd27d7ed1",
   "metadata": {},
   "source": [
    "---"
   ]
  },
  {
   "cell_type": "markdown",
   "id": "43ba0249-b2dd-4a2d-a920-d7aefa44e7a7",
   "metadata": {},
   "source": [
    "## LangChain 으로 구현"
   ]
  },
  {
   "cell_type": "code",
   "execution_count": 12,
   "id": "08c4d1e4-20e9-4008-91a0-3f1c1b10833e",
   "metadata": {
    "collapsed": true,
    "jupyter": {
     "outputs_hidden": true
    },
    "tags": []
   },
   "outputs": [
    {
     "name": "stdout",
     "output_type": "stream",
     "text": [
      "Requirement already satisfied: langchain_aws in /home/ec2-user/anaconda3/envs/pytorch_p310/lib/python3.10/site-packages (0.1.11)\n",
      "Collecting langchain-community\n",
      "  Downloading langchain_community-0.2.7-py3-none-any.whl.metadata (2.5 kB)\n",
      "Requirement already satisfied: boto3<1.35.0,>=1.34.131 in /home/ec2-user/anaconda3/envs/pytorch_p310/lib/python3.10/site-packages (from langchain_aws) (1.34.145)\n",
      "Requirement already satisfied: langchain-core<0.3,>=0.2.17 in /home/ec2-user/anaconda3/envs/pytorch_p310/lib/python3.10/site-packages (from langchain_aws) (0.2.21)\n",
      "Requirement already satisfied: numpy<2,>=1 in /home/ec2-user/anaconda3/envs/pytorch_p310/lib/python3.10/site-packages (from langchain_aws) (1.26.4)\n",
      "Requirement already satisfied: PyYAML>=5.3 in /home/ec2-user/anaconda3/envs/pytorch_p310/lib/python3.10/site-packages (from langchain-community) (6.0.1)\n",
      "Requirement already satisfied: SQLAlchemy<3,>=1.4 in /home/ec2-user/anaconda3/envs/pytorch_p310/lib/python3.10/site-packages (from langchain-community) (2.0.31)\n",
      "Requirement already satisfied: aiohttp<4.0.0,>=3.8.3 in /home/ec2-user/anaconda3/envs/pytorch_p310/lib/python3.10/site-packages (from langchain-community) (3.9.5)\n",
      "Collecting dataclasses-json<0.7,>=0.5.7 (from langchain-community)\n",
      "  Downloading dataclasses_json-0.6.7-py3-none-any.whl.metadata (25 kB)\n",
      "Requirement already satisfied: langchain<0.3.0,>=0.2.7 in /home/ec2-user/anaconda3/envs/pytorch_p310/lib/python3.10/site-packages (from langchain-community) (0.2.9)\n",
      "Requirement already satisfied: langsmith<0.2.0,>=0.1.0 in /home/ec2-user/anaconda3/envs/pytorch_p310/lib/python3.10/site-packages (from langchain-community) (0.1.92)\n",
      "Requirement already satisfied: requests<3,>=2 in /home/ec2-user/anaconda3/envs/pytorch_p310/lib/python3.10/site-packages (from langchain-community) (2.32.3)\n",
      "Requirement already satisfied: tenacity!=8.4.0,<9.0.0,>=8.1.0 in /home/ec2-user/anaconda3/envs/pytorch_p310/lib/python3.10/site-packages (from langchain-community) (8.5.0)\n",
      "Requirement already satisfied: aiosignal>=1.1.2 in /home/ec2-user/anaconda3/envs/pytorch_p310/lib/python3.10/site-packages (from aiohttp<4.0.0,>=3.8.3->langchain-community) (1.3.1)\n",
      "Requirement already satisfied: attrs>=17.3.0 in /home/ec2-user/anaconda3/envs/pytorch_p310/lib/python3.10/site-packages (from aiohttp<4.0.0,>=3.8.3->langchain-community) (23.2.0)\n",
      "Requirement already satisfied: frozenlist>=1.1.1 in /home/ec2-user/anaconda3/envs/pytorch_p310/lib/python3.10/site-packages (from aiohttp<4.0.0,>=3.8.3->langchain-community) (1.4.1)\n",
      "Requirement already satisfied: multidict<7.0,>=4.5 in /home/ec2-user/anaconda3/envs/pytorch_p310/lib/python3.10/site-packages (from aiohttp<4.0.0,>=3.8.3->langchain-community) (6.0.5)\n",
      "Requirement already satisfied: yarl<2.0,>=1.0 in /home/ec2-user/anaconda3/envs/pytorch_p310/lib/python3.10/site-packages (from aiohttp<4.0.0,>=3.8.3->langchain-community) (1.9.4)\n",
      "Requirement already satisfied: async-timeout<5.0,>=4.0 in /home/ec2-user/anaconda3/envs/pytorch_p310/lib/python3.10/site-packages (from aiohttp<4.0.0,>=3.8.3->langchain-community) (4.0.3)\n",
      "Requirement already satisfied: botocore<1.35.0,>=1.34.145 in /home/ec2-user/anaconda3/envs/pytorch_p310/lib/python3.10/site-packages (from boto3<1.35.0,>=1.34.131->langchain_aws) (1.34.145)\n",
      "Requirement already satisfied: jmespath<2.0.0,>=0.7.1 in /home/ec2-user/anaconda3/envs/pytorch_p310/lib/python3.10/site-packages (from boto3<1.35.0,>=1.34.131->langchain_aws) (1.0.1)\n",
      "Requirement already satisfied: s3transfer<0.11.0,>=0.10.0 in /home/ec2-user/anaconda3/envs/pytorch_p310/lib/python3.10/site-packages (from boto3<1.35.0,>=1.34.131->langchain_aws) (0.10.2)\n",
      "Collecting marshmallow<4.0.0,>=3.18.0 (from dataclasses-json<0.7,>=0.5.7->langchain-community)\n",
      "  Downloading marshmallow-3.21.3-py3-none-any.whl.metadata (7.1 kB)\n",
      "Collecting typing-inspect<1,>=0.4.0 (from dataclasses-json<0.7,>=0.5.7->langchain-community)\n",
      "  Downloading typing_inspect-0.9.0-py3-none-any.whl.metadata (1.5 kB)\n",
      "Requirement already satisfied: langchain-text-splitters<0.3.0,>=0.2.0 in /home/ec2-user/anaconda3/envs/pytorch_p310/lib/python3.10/site-packages (from langchain<0.3.0,>=0.2.7->langchain-community) (0.2.2)\n",
      "Requirement already satisfied: pydantic<3,>=1 in /home/ec2-user/anaconda3/envs/pytorch_p310/lib/python3.10/site-packages (from langchain<0.3.0,>=0.2.7->langchain-community) (2.8.2)\n",
      "Requirement already satisfied: jsonpatch<2.0,>=1.33 in /home/ec2-user/anaconda3/envs/pytorch_p310/lib/python3.10/site-packages (from langchain-core<0.3,>=0.2.17->langchain_aws) (1.33)\n",
      "Requirement already satisfied: packaging<25,>=23.2 in /home/ec2-user/anaconda3/envs/pytorch_p310/lib/python3.10/site-packages (from langchain-core<0.3,>=0.2.17->langchain_aws) (24.1)\n",
      "Requirement already satisfied: orjson<4.0.0,>=3.9.14 in /home/ec2-user/anaconda3/envs/pytorch_p310/lib/python3.10/site-packages (from langsmith<0.2.0,>=0.1.0->langchain-community) (3.10.6)\n",
      "Requirement already satisfied: charset-normalizer<4,>=2 in /home/ec2-user/anaconda3/envs/pytorch_p310/lib/python3.10/site-packages (from requests<3,>=2->langchain-community) (3.3.2)\n",
      "Requirement already satisfied: idna<4,>=2.5 in /home/ec2-user/anaconda3/envs/pytorch_p310/lib/python3.10/site-packages (from requests<3,>=2->langchain-community) (3.7)\n",
      "Requirement already satisfied: urllib3<3,>=1.21.1 in /home/ec2-user/anaconda3/envs/pytorch_p310/lib/python3.10/site-packages (from requests<3,>=2->langchain-community) (2.2.2)\n",
      "Requirement already satisfied: certifi>=2017.4.17 in /home/ec2-user/anaconda3/envs/pytorch_p310/lib/python3.10/site-packages (from requests<3,>=2->langchain-community) (2024.7.4)\n",
      "Requirement already satisfied: typing-extensions>=4.6.0 in /home/ec2-user/anaconda3/envs/pytorch_p310/lib/python3.10/site-packages (from SQLAlchemy<3,>=1.4->langchain-community) (4.12.2)\n",
      "Requirement already satisfied: greenlet!=0.4.17 in /home/ec2-user/anaconda3/envs/pytorch_p310/lib/python3.10/site-packages (from SQLAlchemy<3,>=1.4->langchain-community) (3.0.3)\n",
      "Requirement already satisfied: python-dateutil<3.0.0,>=2.1 in /home/ec2-user/anaconda3/envs/pytorch_p310/lib/python3.10/site-packages (from botocore<1.35.0,>=1.34.145->boto3<1.35.0,>=1.34.131->langchain_aws) (2.9.0.post0)\n",
      "Requirement already satisfied: jsonpointer>=1.9 in /home/ec2-user/anaconda3/envs/pytorch_p310/lib/python3.10/site-packages (from jsonpatch<2.0,>=1.33->langchain-core<0.3,>=0.2.17->langchain_aws) (3.0.0)\n",
      "Requirement already satisfied: annotated-types>=0.4.0 in /home/ec2-user/anaconda3/envs/pytorch_p310/lib/python3.10/site-packages (from pydantic<3,>=1->langchain<0.3.0,>=0.2.7->langchain-community) (0.7.0)\n",
      "Requirement already satisfied: pydantic-core==2.20.1 in /home/ec2-user/anaconda3/envs/pytorch_p310/lib/python3.10/site-packages (from pydantic<3,>=1->langchain<0.3.0,>=0.2.7->langchain-community) (2.20.1)\n",
      "Collecting mypy-extensions>=0.3.0 (from typing-inspect<1,>=0.4.0->dataclasses-json<0.7,>=0.5.7->langchain-community)\n",
      "  Downloading mypy_extensions-1.0.0-py3-none-any.whl.metadata (1.1 kB)\n",
      "Requirement already satisfied: six>=1.5 in /home/ec2-user/anaconda3/envs/pytorch_p310/lib/python3.10/site-packages (from python-dateutil<3.0.0,>=2.1->botocore<1.35.0,>=1.34.145->boto3<1.35.0,>=1.34.131->langchain_aws) (1.16.0)\n",
      "Downloading langchain_community-0.2.7-py3-none-any.whl (2.2 MB)\n",
      "\u001b[2K   \u001b[90m━━━━━━━━━━━━━━━━━━━━━━━━━━━━━━━━━━━━━━━━\u001b[0m \u001b[32m2.2/2.2 MB\u001b[0m \u001b[31m100.4 MB/s\u001b[0m eta \u001b[36m0:00:00\u001b[0m\n",
      "\u001b[?25hDownloading dataclasses_json-0.6.7-py3-none-any.whl (28 kB)\n",
      "Downloading marshmallow-3.21.3-py3-none-any.whl (49 kB)\n",
      "\u001b[2K   \u001b[90m━━━━━━━━━━━━━━━━━━━━━━━━━━━━━━━━━━━━━━━━\u001b[0m \u001b[32m49.2/49.2 kB\u001b[0m \u001b[31m10.1 MB/s\u001b[0m eta \u001b[36m0:00:00\u001b[0m\n",
      "\u001b[?25hDownloading typing_inspect-0.9.0-py3-none-any.whl (8.8 kB)\n",
      "Downloading mypy_extensions-1.0.0-py3-none-any.whl (4.7 kB)\n",
      "Installing collected packages: mypy-extensions, marshmallow, typing-inspect, dataclasses-json, langchain-community\n",
      "Successfully installed dataclasses-json-0.6.7 langchain-community-0.2.7 marshmallow-3.21.3 mypy-extensions-1.0.0 typing-inspect-0.9.0\n"
     ]
    }
   ],
   "source": [
    "!pip install langchain_aws langchain-community -U"
   ]
  },
  {
   "cell_type": "code",
   "execution_count": 14,
   "id": "3829fa68-d9fc-4f03-b995-2ec47b685dbe",
   "metadata": {
    "tags": []
   },
   "outputs": [],
   "source": [
    "# from langchain.llms.bedrock import Bedrock\n",
    "import langchain\n",
    "from langchain_aws import ChatBedrock\n",
    "from langchain.retrievers.bedrock import AmazonKnowledgeBasesRetriever\n",
    "\n",
    "llm = ChatBedrock(model_id=modelId, \n",
    "                  client=bedrock_client)"
   ]
  },
  {
   "cell_type": "code",
   "execution_count": 16,
   "id": "9e403934-79f3-4992-a0b4-4019566c5b08",
   "metadata": {
    "tags": []
   },
   "outputs": [],
   "source": [
    "# 사용자 쿼리\n",
    "query = \"\"\"\n",
    "Reference Site condition 에 대해서 알려주세요.\n",
    "\"\"\"\n",
    "\n",
    "# KB에서 관련 내용 검색\n",
    "retriever = AmazonKnowledgeBasesRetriever(\n",
    "        knowledge_base_id=kb_id,\n",
    "        retrieval_config={\"vectorSearchConfiguration\": \n",
    "                          {\"numberOfResults\": 10,\n",
    "                           'overrideSearchType': \"HYBRID\", # optional\n",
    "                           }\n",
    "                          },\n",
    "        # endpoint_url=endpoint_url,\n",
    "        # region_name=region,\n",
    "        # credentials_profile_name=\"<profile_name>\",\n",
    "    )\n",
    "docs = retriever.get_relevant_documents(\n",
    "        query=query\n",
    "    )\n",
    "\n",
    "#pp.pprint(docs)"
   ]
  },
  {
   "cell_type": "code",
   "execution_count": 17,
   "id": "22c8072a-08d5-4076-a88f-9eee7559e877",
   "metadata": {
    "tags": []
   },
   "outputs": [],
   "source": [
    "from langchain.prompts import PromptTemplate\n",
    "\n",
    "# 프롬프트 템플릿\n",
    "PROMPT_TEMPLATE = \"\"\"\n",
    "Human: You are a ITB advisor AI system, and provides answers to questions by using fact based when possible. \n",
    "Use the following pieces of information to provide a detail answer to the question enclosed in <question> tags. \n",
    "If you don't know the answer, just say that you don't know, don't try to make up an answer.\n",
    "<context>\n",
    "{context}\n",
    "</context>\n",
    "\n",
    "<question>\n",
    "{question}\n",
    "</question>\n",
    "\n",
    "The response should be specific and use statistics or numbers when possible.\n",
    "\n",
    "Assistant:\"\"\"\n",
    "claude_prompt = PromptTemplate(template=PROMPT_TEMPLATE, \n",
    "                               input_variables=[\"context\",\"question\"])"
   ]
  },
  {
   "cell_type": "code",
   "execution_count": 20,
   "id": "ac9239f1-1e08-4ef1-ac46-384b621439c1",
   "metadata": {
    "tags": []
   },
   "outputs": [
    {
     "name": "stdout",
     "output_type": "stream",
     "text": [
      "답변:\n",
      "문서에서 제시된 Reference Site Condition (RSC)은 다음과 같습니다:\n",
      "\n",
      "- 대기 압력: 1013 mbar\n",
      "- 주위 공기 온도 (건구 온도): 50°C  \n",
      "- 주위 공기 온도 (습구 온도): 34°C\n",
      "- 상대 습도: 35%\n",
      "- 해수 온도: 35°C  \n",
      "- 해수 총 용존 고형분 (TDS): 45,900 mg/l\n",
      "\n",
      "또한 연료 데이터로는 다음이 제공되었습니다:\n",
      "\n",
      "- 연료 종류: 천연가스\n",
      "- 저위 발열량 (LHV): 46,244 kJ/Nm3\n",
      "- 카타르 석유에 공급되는 압력 범위: 33 - 42 bar (a)\n",
      "\n",
      "이것이 본 프로젝트의 설계 기준이 되는 현장 조건(Reference Site Condition)입니다.\n",
      "\n",
      "출처:\n",
      "1. s3://240719-jesamkim-bucket/ES_Contracts/2_UHP/Schedules_Execution Version/Execution Version_Schedule 22A_Technical Limits/Schedule 22A - Annex 3 - Section 3.2_Design and Performance Data.pdf\n",
      "2. s3://240719-jesamkim-bucket/ES_Contracts/1_UHP/Schedules_Execution Version/Execution Version_Schedule 16A_Part 3 EPC Contractor Proposal/Section 3/Section 3.2 Design and Peroformance Data/Section 3.2_Design and Performance Data.pdf\n",
      "3. s3://240719-jesamkim-bucket/ES_Contracts/2_UHP/Schedules_Execution Version/Execution Version_Schedule 16A_Part 1_MFS/Part 1 Appendix C/Sch 16A Part 1 App C - Annex 6 Section 3.2_Design and Performance Data.pdf\n",
      "4. s3://240719-jesamkim-bucket/ES_Contracts/UAE_F3/UAE F3 IPP - EPC Contract 20200215_SCT.docx\n",
      "5. s3://240719-jesamkim-bucket/ES_Contracts/UAE_F3/EPC/Fujairah F3 IPP - EPC Contract 20200215_SCT.docx\n",
      "6. s3://240719-jesamkim-bucket/ES_Contracts/UAE_F3/EPC/Fujairah F3 IPP - EPC Contract - Appendix C (Final).DOC\n",
      "7. s3://240719-jesamkim-bucket/ES_Contracts/UAE_F3/UAE F3 EPC Contract - Execution Version.pdf\n",
      "8. s3://240719-jesamkim-bucket/ES_Contracts/UAE_F3/EPC/F3 EPC Contract - Execution Version.pdf\n",
      "9. s3://240719-jesamkim-bucket/ES_Contracts/2_UHP/Schedules_Execution Version/Execution Version_Schedule 24A_Interface Connections/Schedule 24A - Annex 4 - Interlocking Scheme.pdf\n",
      "10. s3://240719-jesamkim-bucket/ES_Contracts/2_UHP/UHP_EPC Contract Main Body_Native Files.docx\n"
     ]
    }
   ],
   "source": [
    "from langchain.chains import RetrievalQA\n",
    "\n",
    "qa = RetrievalQA.from_chain_type(\n",
    "    llm=llm,\n",
    "    chain_type=\"stuff\",\n",
    "    retriever=retriever,\n",
    "    return_source_documents=True,\n",
    "    chain_type_kwargs={\"prompt\": claude_prompt}\n",
    ")\n",
    "\n",
    "answer = qa.invoke(query)\n",
    "\n",
    "# 답변 출력\n",
    "print(\"답변:\")\n",
    "print(answer['result'])\n",
    "\n",
    "# 출처 문서 정보 출력\n",
    "print(\"\\n출처:\")\n",
    "for i, doc in enumerate(answer['source_documents'], 1):\n",
    "    print(f\"{i}. {doc.metadata['location']['s3Location']['uri']}\")"
   ]
  },
  {
   "cell_type": "code",
   "execution_count": null,
   "id": "d1cc7cb8-a4a2-4ddc-bb00-d86bd5dbc7e7",
   "metadata": {},
   "outputs": [],
   "source": []
  }
 ],
 "metadata": {
  "kernelspec": {
   "display_name": "conda_pytorch_p310",
   "language": "python",
   "name": "conda_pytorch_p310"
  },
  "language_info": {
   "codemirror_mode": {
    "name": "ipython",
    "version": 3
   },
   "file_extension": ".py",
   "mimetype": "text/x-python",
   "name": "python",
   "nbconvert_exporter": "python",
   "pygments_lexer": "ipython3",
   "version": "3.10.14"
  }
 },
 "nbformat": 4,
 "nbformat_minor": 5
}
