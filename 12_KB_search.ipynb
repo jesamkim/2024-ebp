{
 "cells": [
  {
   "cell_type": "markdown",
   "id": "73d381a2-3787-46cc-8aaf-ab0b9d9fd042",
   "metadata": {},
   "source": [
    "# Step 2. KB(Knowledge Base) 검색"
   ]
  },
  {
   "cell_type": "markdown",
   "id": "b3fe7756-c1c8-4630-a35a-0971b64b0fb0",
   "metadata": {},
   "source": [
    "### Setup"
   ]
  },
  {
   "cell_type": "code",
   "execution_count": null,
   "id": "5c798255-1f83-47e6-b668-be528e2fd83b",
   "metadata": {
    "tags": []
   },
   "outputs": [],
   "source": [
    "# 패키지 설치 후 Kernel Restart 를 수행하시고 다음 쉘로 진행하세요.\n",
    "\n",
    "%pip install --upgrade pip\n",
    "%pip install boto3 --force-reinstall --quiet\n",
    "%pip install botocore --force-reinstall --quiet\n",
    "%pip install sqlalchemy==2.0.0 --quiet\n",
    "%pip install langchain --force-reinstall --quiet"
   ]
  },
  {
   "cell_type": "markdown",
   "id": "a989ee22-215a-4ffd-872f-d6facb39cf37",
   "metadata": {},
   "source": [
    "### 사전에 생성한 KB 목록 확인\n",
    "\n",
    "* 사용하려는 KB의 ID 를 확인합니다."
   ]
  },
  {
   "cell_type": "code",
   "execution_count": 1,
   "id": "e8b63d17-7dff-4ab9-8e58-6d0bfe1fdeb1",
   "metadata": {
    "tags": []
   },
   "outputs": [
    {
     "name": "stdout",
     "output_type": "stream",
     "text": [
      "Found Knowledge Bases:\n",
      "- Name: 2-civil-eng-01\n",
      "  ID: VIIQSV2GCL\n",
      "  Description: N/A\n",
      "  Status: ACTIVE\n",
      "  Last Updated: 2024-07-23 03:06:15.586610+00:00\n",
      "---\n",
      "- Name: 240722-test-kb\n",
      "  ID: PIWYW746HW\n",
      "  Description: N/A\n",
      "  Status: ACTIVE\n",
      "  Last Updated: 2024-07-22 04:51:26.268276+00:00\n",
      "---\n",
      "- Name: 2-civil-eng-02\n",
      "  ID: LO9DRKGBTX\n",
      "  Description: N/A\n",
      "  Status: ACTIVE\n",
      "  Last Updated: 2024-07-23 03:08:42.294328+00:00\n",
      "---\n",
      "- Name: knowledge-base-quick-start-aafi3\n",
      "  ID: KRQKUHNJIV\n",
      "  Description: N/A\n",
      "  Status: ACTIVE\n",
      "  Last Updated: 2024-02-26 08:27:55.881890+00:00\n",
      "---\n",
      "- Name: knowledge-base-quick-start-en\n",
      "  ID: DJLWVWNGBT\n",
      "  Description: N/A\n",
      "  Status: ACTIVE\n",
      "  Last Updated: 2024-02-26 12:26:22.625358+00:00\n",
      "---\n",
      "- Name: 1-es-eng\n",
      "  ID: 2S7W5D8WOO\n",
      "  Description: N/A\n",
      "  Status: ACTIVE\n",
      "  Last Updated: 2024-07-23 02:55:14.020228+00:00\n",
      "---\n"
     ]
    }
   ],
   "source": [
    "import boto3\n",
    "\n",
    "def list_knowledge_bases():\n",
    "    # Bedrock 클라이언트 생성\n",
    "    bedrock_agent = boto3.client('bedrock-agent')\n",
    "\n",
    "    # Knowledge Base 목록 가져오기\n",
    "    response = bedrock_agent.list_knowledge_bases(\n",
    "        maxResults=100  # 한 번에 가져올 최대 결과 수\n",
    "    )\n",
    "\n",
    "    # 결과 출력\n",
    "    if 'knowledgeBaseSummaries' in response:\n",
    "        print(\"Found Knowledge Bases:\")\n",
    "        for kb in response['knowledgeBaseSummaries']:\n",
    "            print(f\"- Name: {kb['name']}\")\n",
    "            print(f\"  ID: {kb['knowledgeBaseId']}\")\n",
    "            print(f\"  Description: {kb.get('description', 'N/A')}\")\n",
    "            print(f\"  Status: {kb['status']}\")\n",
    "            print(f\"  Last Updated: {kb['updatedAt']}\")\n",
    "            print(\"---\")\n",
    "    else:\n",
    "        print(\"No Knowledge Bases found.\")\n",
    "\n",
    "    # 페이지네이션 처리\n",
    "    while 'nextToken' in response:\n",
    "        response = bedrock_agent.list_knowledge_bases(\n",
    "            maxResults=100,\n",
    "            nextToken=response['nextToken']\n",
    "        )\n",
    "        \n",
    "        for kb in response['knowledgeBaseSummaries']:\n",
    "            print(f\"- Name: {kb['name']}\")\n",
    "            print(f\"  ID: {kb['knowledgeBaseId']}\")\n",
    "            print(f\"  Description: {kb.get('description', 'N/A')}\")\n",
    "            print(f\"  Status: {kb['status']}\")\n",
    "            print(f\"  Last Updated: {kb['updatedAt']}\")\n",
    "            print(\"---\")\n",
    "\n",
    "if __name__ == \"__main__\":\n",
    "    list_knowledge_bases()"
   ]
  },
  {
   "cell_type": "markdown",
   "id": "28f32e37-bd46-40cb-8ee3-d7b37d1614d3",
   "metadata": {},
   "source": [
    "## 방법1: boto3 SDK 로 구현"
   ]
  },
  {
   "cell_type": "code",
   "execution_count": 2,
   "id": "ada3127a-74df-474b-a472-106dbd961af3",
   "metadata": {
    "tags": []
   },
   "outputs": [
    {
     "name": "stdout",
     "output_type": "stream",
     "text": [
      "us-east-1\n"
     ]
    }
   ],
   "source": [
    "# Bedrock Client 초기화\n",
    "\n",
    "import boto3\n",
    "import pprint\n",
    "from botocore.client import Config\n",
    "import json\n",
    "import time\n",
    "\n",
    "pp = pprint.PrettyPrinter(indent=2)\n",
    "session = boto3.session.Session()\n",
    "region = session.region_name\n",
    "bedrock_config = Config(connect_timeout=120, read_timeout=120, retries={'max_attempts': 0})\n",
    "bedrock_client = boto3.client('bedrock-runtime', region_name = region)\n",
    "bedrock_agent_client = boto3.client(\"bedrock-agent-runtime\",\n",
    "                              config=bedrock_config, region_name = region)\n",
    "print(region)"
   ]
  },
  {
   "cell_type": "code",
   "execution_count": 3,
   "id": "671f9472-cf13-4984-ab4f-8b15d9954024",
   "metadata": {
    "tags": []
   },
   "outputs": [],
   "source": [
    "# 사용자 쿼리\n",
    "\n",
    "query = \"\"\"\n",
    "Reference Site condition\n",
    "\"\"\""
   ]
  },
  {
   "cell_type": "markdown",
   "id": "32905e71-393e-4f77-a975-f528c72b87d0",
   "metadata": {},
   "source": [
    "### KB 리트리버 설정 (Hybrid Search)\n",
    "* 위에서 사용할 KB ID 를 확인하고 kb_id 에 수정하세요."
   ]
  },
  {
   "cell_type": "code",
   "execution_count": 4,
   "id": "9c81125a-07e3-4ec9-b840-c4b123c8e214",
   "metadata": {
    "tags": []
   },
   "outputs": [],
   "source": [
    "# 위에서 KB ID를 확인하고 수정합니다.\n",
    "kb_id = \"2S7W5D8WOO\"  ## KB name : 1-es-eng\n",
    "\n",
    "# numberOfResults 는 RAG 검색에서 가져올 청크 갯수 입니다.\n",
    "def retrieve(query, kbId, numberOfResults=10):\n",
    "    return bedrock_agent_client.retrieve(\n",
    "        retrievalQuery= {\n",
    "            'text': query\n",
    "        },\n",
    "        knowledgeBaseId=kbId,\n",
    "        retrievalConfiguration= {\n",
    "            'vectorSearchConfiguration': {\n",
    "                'numberOfResults': numberOfResults,\n",
    "                'overrideSearchType': \"HYBRID\", # optional\n",
    "            }\n",
    "        }\n",
    "    )\n",
    "\n",
    "# fetch context from the response\n",
    "def get_contexts(retrievalResults):\n",
    "    contexts = []\n",
    "    for retrievedResult in retrievalResults: \n",
    "        contexts.append(retrievedResult['content']['text'])\n",
    "    return contexts\n",
    "\n",
    "response = retrieve(query, kb_id, 20) # Chunk 20개 요청\n",
    "retrievalResults = response['retrievalResults']\n",
    "contexts = get_contexts(retrievalResults)\n",
    "\n",
    "#pp.pprint(contexts)"
   ]
  },
  {
   "cell_type": "code",
   "execution_count": 5,
   "id": "112d2595-bd86-4f9f-9fc5-57c931dfe001",
   "metadata": {
    "tags": []
   },
   "outputs": [],
   "source": [
    "# 프롬프트 템플릿\n",
    "\n",
    "prompt = f\"\"\"\n",
    "Human: You are an ITB(Invitation To Bid) advisor AI system, and provides answers to questions by using fact based. \n",
    "Use the following pieces of information to provide a detail answer to the question enclosed in <question> tags. \n",
    "If you don't know the answer, just say that you don't know, don't try to make up an answer.\n",
    "\n",
    "<context>\n",
    "{contexts}\n",
    "</context>\n",
    "\n",
    "<question>\n",
    "{query}\n",
    "</question>\n",
    "\n",
    "The response should be specific and use statistics or numbers.\n",
    "\n",
    "Assistant:\"\"\""
   ]
  },
  {
   "cell_type": "markdown",
   "id": "a38e12d9-8bba-4477-8579-4a15baa98541",
   "metadata": {},
   "source": [
    "### Amazon Bedrock에서 Claude 3 모델 호출"
   ]
  },
  {
   "cell_type": "code",
   "execution_count": 6,
   "id": "a736981b-6f71-42c7-88cc-6354ec084b07",
   "metadata": {
    "tags": []
   },
   "outputs": [
    {
     "name": "stdout",
     "output_type": "stream",
     "text": [
      "According to the provided context, the Reference Site Conditions (RSC) are defined as:\n",
      "\n",
      "- Ambient air temperature of 46°C\n",
      "- Ambient relative air humidity of 40% \n",
      "- Ambient air pressure of 1,013 mbar\n",
      "- Seawater temperature of 33°C\n",
      "- Transmission System frequency of 50 Hz\n",
      "CPU times: user 15 ms, sys: 314 μs, total: 15.4 ms\n",
      "Wall time: 11 s\n"
     ]
    }
   ],
   "source": [
    "%%time\n",
    "\n",
    "# payload with model paramters\n",
    "messages=[{ \"role\":'user', \"content\":[{'type':'text','text': prompt.format(contexts, query)}]}]\n",
    "sonnet_payload = json.dumps({\n",
    "    \"anthropic_version\": \"bedrock-2023-05-31\",\n",
    "    \"max_tokens\": 4096,\n",
    "    \"messages\": messages,\n",
    "    \"temperature\": 0.0,\n",
    "    \"top_p\": 0\n",
    "        }  )\n",
    "\n",
    "#modelId = \"anthropic.claude-3-5-sonnet-20240620-v1:0\"  # Claude 3.5 Sonnet\n",
    "modelId = 'anthropic.claude-3-sonnet-20240229-v1:0'     # Claude 3 Sonnet\n",
    "accept = 'application/json'\n",
    "contentType = 'application/json'\n",
    "response = bedrock_client.invoke_model(body=sonnet_payload, modelId=modelId, accept=accept, contentType=contentType)\n",
    "response_body = json.loads(response.get('body').read())\n",
    "response_text = response_body.get('content')[0]['text']\n",
    "\n",
    "#pp.pprint(response_text)\n",
    "\n",
    "print(response_text)"
   ]
  },
  {
   "cell_type": "markdown",
   "id": "ed9c34df-fa57-4bac-b03c-76871a8664ae",
   "metadata": {},
   "source": [
    "---"
   ]
  },
  {
   "cell_type": "markdown",
   "id": "6142f6f5-bab5-4b73-9202-41fcd27d7ed1",
   "metadata": {},
   "source": [
    "---"
   ]
  },
  {
   "cell_type": "markdown",
   "id": "43ba0249-b2dd-4a2d-a920-d7aefa44e7a7",
   "metadata": {},
   "source": [
    "## 방법2 : LangChain 으로 구현"
   ]
  },
  {
   "cell_type": "code",
   "execution_count": null,
   "id": "08c4d1e4-20e9-4008-91a0-3f1c1b10833e",
   "metadata": {
    "tags": []
   },
   "outputs": [],
   "source": [
    "!pip install langchain_aws langchain-community -U"
   ]
  },
  {
   "cell_type": "code",
   "execution_count": 8,
   "id": "0887288c-7a03-459d-b956-3e66a58abe8d",
   "metadata": {
    "tags": []
   },
   "outputs": [
    {
     "name": "stdout",
     "output_type": "stream",
     "text": [
      "us-east-1\n"
     ]
    }
   ],
   "source": [
    "# Bedrock Client 초기화\n",
    "\n",
    "import boto3\n",
    "import pprint\n",
    "from botocore.client import Config\n",
    "import json\n",
    "import time\n",
    "\n",
    "pp = pprint.PrettyPrinter(indent=2)\n",
    "session = boto3.session.Session()\n",
    "region = session.region_name\n",
    "bedrock_config = Config(connect_timeout=120, read_timeout=120, retries={'max_attempts': 0})\n",
    "bedrock_client = boto3.client('bedrock-runtime', region_name = region)\n",
    "bedrock_agent_client = boto3.client(\"bedrock-agent-runtime\",\n",
    "                              config=bedrock_config, region_name = region)\n",
    "print(region)"
   ]
  },
  {
   "cell_type": "code",
   "execution_count": 9,
   "id": "3829fa68-d9fc-4f03-b995-2ec47b685dbe",
   "metadata": {
    "tags": []
   },
   "outputs": [],
   "source": [
    "# from langchain.llms.bedrock import Bedrock\n",
    "import langchain\n",
    "from langchain_aws import ChatBedrock\n",
    "from langchain.retrievers.bedrock import AmazonKnowledgeBasesRetriever\n",
    "\n",
    "llm = ChatBedrock(model_id=modelId, \n",
    "                  client=bedrock_client)"
   ]
  },
  {
   "cell_type": "code",
   "execution_count": 10,
   "id": "9e403934-79f3-4992-a0b4-4019566c5b08",
   "metadata": {
    "tags": []
   },
   "outputs": [
    {
     "name": "stderr",
     "output_type": "stream",
     "text": [
      "/home/ec2-user/anaconda3/envs/pytorch_p310/lib/python3.10/site-packages/langchain_core/_api/deprecation.py:139: LangChainDeprecationWarning: The method `BaseRetriever.get_relevant_documents` was deprecated in langchain-core 0.1.46 and will be removed in 0.3.0. Use invoke instead.\n",
      "  warn_deprecated(\n"
     ]
    }
   ],
   "source": [
    "# 사용자 쿼리\n",
    "query = \"\"\"\n",
    "Reference Site condition 에 대해서 알려주세요.\n",
    "\"\"\"\n",
    "\n",
    "\n",
    "kb_id = \"2S7W5D8WOO\"  ## KB name : 1-es-eng\n",
    "\n",
    "# KB에서 관련 내용 검색\n",
    "retriever = AmazonKnowledgeBasesRetriever(\n",
    "        knowledge_base_id=kb_id,\n",
    "        retrieval_config={\"vectorSearchConfiguration\": \n",
    "                          {\"numberOfResults\": 20,  # Chunk 20개 요청\n",
    "                           'overrideSearchType': \"HYBRID\", # optional\n",
    "                           }\n",
    "                          },\n",
    "        # endpoint_url=endpoint_url,\n",
    "        # region_name=region,\n",
    "        # credentials_profile_name=\"<profile_name>\",\n",
    "    )\n",
    "docs = retriever.get_relevant_documents(\n",
    "        query=query\n",
    "    )\n",
    "\n",
    "#pp.pprint(docs)"
   ]
  },
  {
   "cell_type": "code",
   "execution_count": 13,
   "id": "22c8072a-08d5-4076-a88f-9eee7559e877",
   "metadata": {
    "tags": []
   },
   "outputs": [],
   "source": [
    "from langchain.prompts import PromptTemplate\n",
    "\n",
    "# 프롬프트 템플릿\n",
    "PROMPT_TEMPLATE = \"\"\"\n",
    "Human: You are an ITB(Invitation To Bid) advisor AI system, and provides answers to questions by using fact based. \n",
    "Use the following pieces of information to provide a detail answer to the question enclosed in <question> tags. \n",
    "If you don't know the answer, just say that you don't know, don't try to make up an answer.\n",
    "\n",
    "<context>\n",
    "{context}\n",
    "</context>\n",
    "\n",
    "<question>\n",
    "{question}\n",
    "</question>\n",
    "\n",
    "The response should be specific and use statistics or numbers.\n",
    "\n",
    "Assistant:\"\"\"\n",
    "claude_prompt = PromptTemplate(template=PROMPT_TEMPLATE, \n",
    "                               input_variables=[\"context\",\"question\"])"
   ]
  },
  {
   "cell_type": "code",
   "execution_count": 15,
   "id": "ac9239f1-1e08-4ef1-ac46-384b621439c1",
   "metadata": {
    "tags": []
   },
   "outputs": [
    {
     "name": "stdout",
     "output_type": "stream",
     "text": [
      "답변:\n",
      "계약서에 명시된 Reference Site Condition(RSC)는 다음과 같습니다:\n",
      "\n",
      "- 대기 온도 46°C\n",
      "- 상대 습도 40% \n",
      "- 대기압 1,013 mbar\n",
      "- 해수 온도 33°C\n",
      "- 해수 염분 40.5 g/kg\n",
      "- 주파수 50 Hz\n",
      "\n",
      "이는 플랜트의 설계 및 성능 평가의 기준이 되는 현장 조건입니다. 플랜트의 설계 용량, 연료 운전 한계, 전력 산출량 등이 이 RSC 조건에서 결정됩니다.\n",
      "\n",
      "\n",
      "출처:\n",
      "1. s3://240719-jesamkim-bucket/ES_Contracts/2_UHP/Schedules_Execution Version/Execution Version_Schedule 16A_Part 1_MFS/Part 1 Appendix C/Sch 16A Part 1 App C - Annex 6 Section 3.2_Design and Performance Data.pdf\n",
      "2. s3://240719-jesamkim-bucket/ES_Contracts/1_UHP/Schedules_Execution Version/Execution Version_Schedule 16A_Part 3 EPC Contractor Proposal/Section 3/Section 3.2 Design and Peroformance Data/Section 3.2_Design and Performance Data.pdf\n",
      "3. s3://240719-jesamkim-bucket/ES_Contracts/2_UHP/Schedules_Execution Version/Execution Version_Schedule 22A_Technical Limits/Schedule 22A - Annex 3 - Section 3.2_Design and Performance Data.pdf\n",
      "4. s3://240719-jesamkim-bucket/ES_Contracts/UAE_F3/EPC/Fujairah F3 IPP - EPC Contract - Appendix C (Final).DOC\n",
      "5. s3://240719-jesamkim-bucket/ES_Contracts/UAE_F3/UAE F3 IPP - EPC Contract 20200215_SCT.docx\n",
      "6. s3://240719-jesamkim-bucket/ES_Contracts/UAE_F3/EPC/Fujairah F3 IPP - EPC Contract 20200215_SCT.docx\n",
      "7. s3://240719-jesamkim-bucket/ES_Contracts/UAE_F3/UAE F3 EPC Contract - Execution Version.pdf\n",
      "8. s3://240719-jesamkim-bucket/ES_Contracts/UAE_F3/EPC/F3 EPC Contract - Execution Version.pdf\n",
      "9. s3://240719-jesamkim-bucket/ES_Contracts/2_UHP/Schedules_Execution Version/Execution Version_Schedule 24A_Interface Connections/Schedule 24A - Annex 4 - Interlocking Scheme.pdf\n",
      "10. s3://240719-jesamkim-bucket/ES_Contracts/2_UHP/UHP_EPC Contract Main Body_Native Files.docx\n",
      "11. s3://240719-jesamkim-bucket/ES_Contracts/UAE_F3/EPC/Fujairah F3 IPP - EPC Contract - Appendix G (Final).DOCX\n",
      "12. s3://240719-jesamkim-bucket/ES_Contracts/2_UHP/Schedules_Execution Version/Execution Version_Schedule 16A_Part 1_MFS/Part 1 Vol 1/Execution Version_Schedule 16A Part 1 Vol 1.pdf\n",
      "13. s3://240719-jesamkim-bucket/ES_Contracts/2_UHP/Schedules_Execution Version/Execution Version_Schedule 16A_Part 1_MFS/Part 1 Vol 2/Schedule 16A Part 1 vol2_Annex 1.pdf\n",
      "14. s3://240719-jesamkim-bucket/ES_Contracts/UAE_F3/UAE F3 IPP - EPC Contract 20200215_SCT.docx\n",
      "15. s3://240719-jesamkim-bucket/ES_Contracts/UAE_F3/EPC/Fujairah F3 IPP - EPC Contract 20200215_SCT.docx\n",
      "16. s3://240719-jesamkim-bucket/ES_Contracts/UAE_F3/EPC/Fujairah F3 IPP - EPC Contract 20200215_SCT.docx\n",
      "17. s3://240719-jesamkim-bucket/ES_Contracts/UAE_F3/UAE F3 IPP - EPC Contract 20200215_SCT.docx\n",
      "18. s3://240719-jesamkim-bucket/ES_Contracts/2_UHP/UHP_EPC Contract Main Body_Native Files.docx\n",
      "19. s3://240719-jesamkim-bucket/ES_Contracts/UAE_F3/EPC/Fujairah F3 IPP - EPC Contract - Appendix C (Final).DOC\n",
      "20. s3://240719-jesamkim-bucket/ES_Contracts/UAE_F3/UAE F3 EPC Contract - Execution Version.pdf\n",
      "\n",
      "CPU times: user 13.7 ms, sys: 0 ns, total: 13.7 ms\n",
      "Wall time: 14 s\n"
     ]
    }
   ],
   "source": [
    "%%time\n",
    "\n",
    "from langchain.chains import RetrievalQA\n",
    "\n",
    "qa = RetrievalQA.from_chain_type(\n",
    "    llm=llm,\n",
    "    chain_type=\"stuff\",\n",
    "    retriever=retriever,\n",
    "    return_source_documents=True,\n",
    "    chain_type_kwargs={\"prompt\": claude_prompt}\n",
    ")\n",
    "\n",
    "answer = qa.invoke(query)\n",
    "\n",
    "# 답변 출력\n",
    "print(\"답변:\")\n",
    "print(answer['result'])\n",
    "print()\n",
    "\n",
    "# 출처 문서 정보 출력\n",
    "print(\"\\n출처:\")\n",
    "for i, doc in enumerate(answer['source_documents'], 1):\n",
    "    print(f\"{i}. {doc.metadata['location']['s3Location']['uri']}\")\n",
    "    \n",
    "print()"
   ]
  },
  {
   "cell_type": "code",
   "execution_count": null,
   "id": "d1cc7cb8-a4a2-4ddc-bb00-d86bd5dbc7e7",
   "metadata": {},
   "outputs": [],
   "source": []
  },
  {
   "cell_type": "code",
   "execution_count": null,
   "id": "93263a0d-93fe-4296-b46c-ad44b3315e89",
   "metadata": {},
   "outputs": [],
   "source": []
  }
 ],
 "metadata": {
  "kernelspec": {
   "display_name": "conda_pytorch_p310",
   "language": "python",
   "name": "conda_pytorch_p310"
  },
  "language_info": {
   "codemirror_mode": {
    "name": "ipython",
    "version": 3
   },
   "file_extension": ".py",
   "mimetype": "text/x-python",
   "name": "python",
   "nbconvert_exporter": "python",
   "pygments_lexer": "ipython3",
   "version": "3.10.14"
  }
 },
 "nbformat": 4,
 "nbformat_minor": 5
}
