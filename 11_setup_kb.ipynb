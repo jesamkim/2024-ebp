{
 "cells": [
  {
   "cell_type": "markdown",
   "id": "6d098362-e23d-49b1-b541-0dcf953eb57c",
   "metadata": {},
   "source": [
    "# Step 1. SETUP\n",
    "## Knowledge Base for Amazon Bedrock 을 활용한 RAG "
   ]
  },
  {
   "cell_type": "code",
   "execution_count": null,
   "id": "01294f53-63ee-4a23-843e-4a88c47f07ea",
   "metadata": {
    "tags": []
   },
   "outputs": [],
   "source": [
    "# boto3 최신 버전으로 업데이트\n",
    "!pip install boto3 -U"
   ]
  },
  {
   "cell_type": "markdown",
   "id": "30538527-2c79-4095-be1a-2bdb41c4d6da",
   "metadata": {},
   "source": [
    "### S3 에 ITB 문서 업로드\n",
    "- S3 버킷은 미리 셍성해 놓아야 합니다.\n",
    "- local_directory 에 있는 모든 디렉토리 및 파일 이름에 특수기호는 제거되어야 합니다. (전처리)\n",
    "- local_directory 에 있는 하위디렉토리를 모두 탐색해서 업로드 합니다."
   ]
  },
  {
   "cell_type": "markdown",
   "id": "804795cd-7998-4694-9254-36c5f4b58b08",
   "metadata": {},
   "source": [
    "#### ES 계약서 업로드"
   ]
  },
  {
   "cell_type": "code",
   "execution_count": 3,
   "id": "b724e38e-f1c8-4b8e-b2b6-fa95af5c538f",
   "metadata": {
    "tags": []
   },
   "outputs": [
    {
     "name": "stdout",
     "output_type": "stream",
     "text": [
      "Uploading ../itb/ES_Contracts/.DS_Store to 240719-jesamkim-bucket/ES_Contracts/.DS_Store\n",
      "Uploading ../itb/ES_Contracts/UAE_F3/UAE F3 EPC Contract - Execution Version.pdf to 240719-jesamkim-bucket/ES_Contracts/UAE_F3/UAE F3 EPC Contract - Execution Version.pdf\n",
      "Uploading ../itb/ES_Contracts/UAE_F3/UAE F3 IPP - EPC Contract 20200215_SCT.docx to 240719-jesamkim-bucket/ES_Contracts/UAE_F3/UAE F3 IPP - EPC Contract 20200215_SCT.docx\n",
      "Uploading ../itb/ES_Contracts/UAE_F3/EPC/Fujairah F3 IPP - EPC Contract - Appendix U (Final).DOCX to 240719-jesamkim-bucket/ES_Contracts/UAE_F3/EPC/Fujairah F3 IPP - EPC Contract - Appendix U (Final).DOCX\n",
      "Uploading ../itb/ES_Contracts/UAE_F3/EPC/Fujairah F3 IPP - EPC Contract - Appendix M (Final).DOCX to 240719-jesamkim-bucket/ES_Contracts/UAE_F3/EPC/Fujairah F3 IPP - EPC Contract - Appendix M (Final).DOCX\n",
      "Uploading ../itb/ES_Contracts/UAE_F3/EPC/Fujairah F3 IPP - EPC Contract - Appendix BB (Final).DOCX to 240719-jesamkim-bucket/ES_Contracts/UAE_F3/EPC/Fujairah F3 IPP - EPC Contract - Appendix BB (Final).DOCX\n",
      "Uploading ../itb/ES_Contracts/UAE_F3/EPC/Fujairah F3 IPP - EPC Contract - Appendix O (Final).DOCX to 240719-jesamkim-bucket/ES_Contracts/UAE_F3/EPC/Fujairah F3 IPP - EPC Contract - Appendix O (Final).DOCX\n",
      "Uploading ../itb/ES_Contracts/UAE_F3/EPC/Fujairah F3 IPP - EPC Contract - Appendix S (Final).DOCX to 240719-jesamkim-bucket/ES_Contracts/UAE_F3/EPC/Fujairah F3 IPP - EPC Contract - Appendix S (Final).DOCX\n",
      "Uploading ../itb/ES_Contracts/UAE_F3/EPC/Fujairah F3 IPP - EPC Contract - Appendix F (Final).DOCX to 240719-jesamkim-bucket/ES_Contracts/UAE_F3/EPC/Fujairah F3 IPP - EPC Contract - Appendix F (Final).DOCX\n",
      "Uploading ../itb/ES_Contracts/UAE_F3/EPC/Fujairah F3 IPP - EPC Contract - Appendix Q (Final).DOCX to 240719-jesamkim-bucket/ES_Contracts/UAE_F3/EPC/Fujairah F3 IPP - EPC Contract - Appendix Q (Final).DOCX\n",
      "Uploading ../itb/ES_Contracts/UAE_F3/EPC/Fujairah F3 IPP - EPC Contract - Appendix F - Part 2A PPA Baseline Schedule.pdf to 240719-jesamkim-bucket/ES_Contracts/UAE_F3/EPC/Fujairah F3 IPP - EPC Contract - Appendix F - Part 2A PPA Baseline Schedule.pdf\n",
      "Uploading ../itb/ES_Contracts/UAE_F3/EPC/Fujairah F3 IPP - EPC Contract - Appendix Y (Final).DOCX to 240719-jesamkim-bucket/ES_Contracts/UAE_F3/EPC/Fujairah F3 IPP - EPC Contract - Appendix Y (Final).DOCX\n",
      "Uploading ../itb/ES_Contracts/UAE_F3/EPC/Fujairah F3 IPP - EPC Contract - Appendix P (Final).DOCX to 240719-jesamkim-bucket/ES_Contracts/UAE_F3/EPC/Fujairah F3 IPP - EPC Contract - Appendix P (Final).DOCX\n",
      "Uploading ../itb/ES_Contracts/UAE_F3/EPC/F3 - EPC Novation Agreement - 2 June 2020.pdf to 240719-jesamkim-bucket/ES_Contracts/UAE_F3/EPC/F3 - EPC Novation Agreement - 2 June 2020.pdf\n",
      "Uploading ../itb/ES_Contracts/UAE_F3/EPC/Fujairah F3 IPP - EPC Contract - Appendix X (Final).DOCX to 240719-jesamkim-bucket/ES_Contracts/UAE_F3/EPC/Fujairah F3 IPP - EPC Contract - Appendix X (Final).DOCX\n",
      "Uploading ../itb/ES_Contracts/UAE_F3/EPC/Fujairah F3 IPP - EPC Contract - Appendix T (Final).DOCX to 240719-jesamkim-bucket/ES_Contracts/UAE_F3/EPC/Fujairah F3 IPP - EPC Contract - Appendix T (Final).DOCX\n",
      "Uploading ../itb/ES_Contracts/UAE_F3/EPC/Fujairah F3 IPP - EPC Contract - Appendix E (Final).DOCX to 240719-jesamkim-bucket/ES_Contracts/UAE_F3/EPC/Fujairah F3 IPP - EPC Contract - Appendix E (Final).DOCX\n",
      "Uploading ../itb/ES_Contracts/UAE_F3/EPC/Fujairah F3 IPP - EPC Contract - Appendix I (Final).DOC to 240719-jesamkim-bucket/ES_Contracts/UAE_F3/EPC/Fujairah F3 IPP - EPC Contract - Appendix I (Final).DOC\n",
      "Uploading ../itb/ES_Contracts/UAE_F3/EPC/Fujairah F3 IPP - EPC Contract - Appendix B (Final).DOCX to 240719-jesamkim-bucket/ES_Contracts/UAE_F3/EPC/Fujairah F3 IPP - EPC Contract - Appendix B (Final).DOCX\n",
      "Uploading ../itb/ES_Contracts/UAE_F3/EPC/Fujairah F3 IPP - EPC Contract - Appendix V (Final).DOCX to 240719-jesamkim-bucket/ES_Contracts/UAE_F3/EPC/Fujairah F3 IPP - EPC Contract - Appendix V (Final).DOCX\n",
      "Uploading ../itb/ES_Contracts/UAE_F3/EPC/Fujairah F3 IPP - EPC Contract - Appendix H (Final).DOCX to 240719-jesamkim-bucket/ES_Contracts/UAE_F3/EPC/Fujairah F3 IPP - EPC Contract - Appendix H (Final).DOCX\n",
      "Uploading ../itb/ES_Contracts/UAE_F3/EPC/Fujairah F3 IPP - EPC Contract - Appendix R (Final).DOCX to 240719-jesamkim-bucket/ES_Contracts/UAE_F3/EPC/Fujairah F3 IPP - EPC Contract - Appendix R (Final).DOCX\n",
      "Uploading ../itb/ES_Contracts/UAE_F3/EPC/Fujairah F3 IPP - EPC Contract - Appendix L (Final).DOCX to 240719-jesamkim-bucket/ES_Contracts/UAE_F3/EPC/Fujairah F3 IPP - EPC Contract - Appendix L (Final).DOCX\n",
      "Uploading ../itb/ES_Contracts/UAE_F3/EPC/Fujairah F3 IPP - EPC Agreement - Appendix Z (Final).DOCX to 240719-jesamkim-bucket/ES_Contracts/UAE_F3/EPC/Fujairah F3 IPP - EPC Agreement - Appendix Z (Final).DOCX\n",
      "Uploading ../itb/ES_Contracts/UAE_F3/EPC/Fujairah F3 IPP - EPC Contract - Appendix CC (Final).DOCX to 240719-jesamkim-bucket/ES_Contracts/UAE_F3/EPC/Fujairah F3 IPP - EPC Contract - Appendix CC (Final).DOCX\n",
      "Uploading ../itb/ES_Contracts/UAE_F3/EPC/Fujairah F3 IPP - EPC Contract - Appendix K (Final).DOCX to 240719-jesamkim-bucket/ES_Contracts/UAE_F3/EPC/Fujairah F3 IPP - EPC Contract - Appendix K (Final).DOCX\n",
      "Uploading ../itb/ES_Contracts/UAE_F3/EPC/Fujairah F3 IPP - EPC Contract - Appendix G (Final).DOCX to 240719-jesamkim-bucket/ES_Contracts/UAE_F3/EPC/Fujairah F3 IPP - EPC Contract - Appendix G (Final).DOCX\n",
      "Uploading ../itb/ES_Contracts/UAE_F3/EPC/F3 EPC Contract - Execution Version.pdf to 240719-jesamkim-bucket/ES_Contracts/UAE_F3/EPC/F3 EPC Contract - Execution Version.pdf\n",
      "Uploading ../itb/ES_Contracts/UAE_F3/EPC/Fujairah F3 IPP - EPC Contract - Appendix C (Final).DOC to 240719-jesamkim-bucket/ES_Contracts/UAE_F3/EPC/Fujairah F3 IPP - EPC Contract - Appendix C (Final).DOC\n",
      "Uploading ../itb/ES_Contracts/UAE_F3/EPC/Fujairah F3 IPP - EPC Contract - Appendix F - Part 2B Baseline Schedule(200214)R6.pdf to 240719-jesamkim-bucket/ES_Contracts/UAE_F3/EPC/Fujairah F3 IPP - EPC Contract - Appendix F - Part 2B Baseline Schedule(200214)R6.pdf\n",
      "Uploading ../itb/ES_Contracts/UAE_F3/EPC/Fujairah F3 IPP - EPC Agreement - Appendix AA (Final).DOCX to 240719-jesamkim-bucket/ES_Contracts/UAE_F3/EPC/Fujairah F3 IPP - EPC Agreement - Appendix AA (Final).DOCX\n",
      "Uploading ../itb/ES_Contracts/UAE_F3/EPC/F3 EPC Contract - Execution Version_Scanned copy_Signed_F.pdf to 240719-jesamkim-bucket/ES_Contracts/UAE_F3/EPC/F3 EPC Contract - Execution Version_Scanned copy_Signed_F.pdf\n",
      "Uploading ../itb/ES_Contracts/UAE_F3/EPC/Fujairah F3 IPP - EPC Contract - Appendix D (Final).DOCX to 240719-jesamkim-bucket/ES_Contracts/UAE_F3/EPC/Fujairah F3 IPP - EPC Contract - Appendix D (Final).DOCX\n",
      "Uploading ../itb/ES_Contracts/UAE_F3/EPC/Fujairah F3 IPP - EPC Contract - Appendix J (Final).DOCX to 240719-jesamkim-bucket/ES_Contracts/UAE_F3/EPC/Fujairah F3 IPP - EPC Contract - Appendix J (Final).DOCX\n",
      "Uploading ../itb/ES_Contracts/UAE_F3/EPC/Fujairah F3 IPP - EPC Contract 20200215_SCT.docx to 240719-jesamkim-bucket/ES_Contracts/UAE_F3/EPC/Fujairah F3 IPP - EPC Contract 20200215_SCT.docx\n",
      "Uploading ../itb/ES_Contracts/UAE_F3/EPC/Fujairah F3 IPP - EPC Contract - Appendix W (Final).DOCX to 240719-jesamkim-bucket/ES_Contracts/UAE_F3/EPC/Fujairah F3 IPP - EPC Contract - Appendix W (Final).DOCX\n",
      "Uploading ../itb/ES_Contracts/2_UHP/.DS_Store to 240719-jesamkim-bucket/ES_Contracts/2_UHP/.DS_Store\n",
      "Uploading ../itb/ES_Contracts/2_UHP/UHP_EPC Contract Main Body_Execution Version.pdf to 240719-jesamkim-bucket/ES_Contracts/2_UHP/UHP_EPC Contract Main Body_Execution Version.pdf\n",
      "Uploading ../itb/ES_Contracts/2_UHP/UHP_EPC Contract Main Body_Native Files.docx to 240719-jesamkim-bucket/ES_Contracts/2_UHP/UHP_EPC Contract Main Body_Native Files.docx\n",
      "Uploading ../itb/ES_Contracts/2_UHP/Schedules_Execution Version/Execution Version_Schedule 18A_Commissioning and Testing.pdf to 240719-jesamkim-bucket/ES_Contracts/2_UHP/Schedules_Execution Version/Execution Version_Schedule 18A_Commissioning and Testing.pdf\n",
      "Uploading ../itb/ES_Contracts/2_UHP/Schedules_Execution Version/Execution Version_Schedule 25A_Water Quality Requirement.pdf to 240719-jesamkim-bucket/ES_Contracts/2_UHP/Schedules_Execution Version/Execution Version_Schedule 25A_Water Quality Requirement.pdf\n",
      "Uploading ../itb/ES_Contracts/2_UHP/Schedules_Execution Version/Execution Version_Schedule 4A_Capacities and Target Dates.pdf to 240719-jesamkim-bucket/ES_Contracts/2_UHP/Schedules_Execution Version/Execution Version_Schedule 4A_Capacities and Target Dates.pdf\n",
      "Uploading ../itb/ES_Contracts/2_UHP/Schedules_Execution Version/Execution Version_Schedule 5A_Performance Guarantees.pdf to 240719-jesamkim-bucket/ES_Contracts/2_UHP/Schedules_Execution Version/Execution Version_Schedule 5A_Performance Guarantees.pdf\n",
      "Uploading ../itb/ES_Contracts/2_UHP/Schedules_Execution Version/Execution Version_Schedule 3A_Contract Price and Milestone Payment Schedule.pdf to 240719-jesamkim-bucket/ES_Contracts/2_UHP/Schedules_Execution Version/Execution Version_Schedule 3A_Contract Price and Milestone Payment Schedule.pdf\n",
      "Uploading ../itb/ES_Contracts/2_UHP/Schedules_Execution Version/Execution Version_Schedule 16A_Part 2 MFS Employer Requirements.pdf to 240719-jesamkim-bucket/ES_Contracts/2_UHP/Schedules_Execution Version/Execution Version_Schedule 16A_Part 2 MFS Employer Requirements.pdf\n",
      "Uploading ../itb/ES_Contracts/2_UHP/Schedules_Execution Version/Execution Version_Schedule 15A_Initial Construction Programme.pdf to 240719-jesamkim-bucket/ES_Contracts/2_UHP/Schedules_Execution Version/Execution Version_Schedule 15A_Initial Construction Programme.pdf\n",
      "Uploading ../itb/ES_Contracts/2_UHP/Schedules_Execution Version/Execution Version_Schedule 11A_Insurances.PDF to 240719-jesamkim-bucket/ES_Contracts/2_UHP/Schedules_Execution Version/Execution Version_Schedule 11A_Insurances.PDF\n",
      "Uploading ../itb/ES_Contracts/2_UHP/Schedules_Execution Version/.DS_Store to 240719-jesamkim-bucket/ES_Contracts/2_UHP/Schedules_Execution Version/.DS_Store\n",
      "Uploading ../itb/ES_Contracts/2_UHP/Schedules_Execution Version/Execution Version_Schedule 12A_List of Key Personnel.pdf to 240719-jesamkim-bucket/ES_Contracts/2_UHP/Schedules_Execution Version/Execution Version_Schedule 12A_List of Key Personnel.pdf\n",
      "Uploading ../itb/ES_Contracts/2_UHP/Schedules_Execution Version/Execution Version_Schedule 10A_Submission of Documents.pdf to 240719-jesamkim-bucket/ES_Contracts/2_UHP/Schedules_Execution Version/Execution Version_Schedule 10A_Submission of Documents.pdf\n",
      "Uploading ../itb/ES_Contracts/2_UHP/Schedules_Execution Version/Execution Version_Schedule 13A_Pre-Approved Sub-Contractors.pdf to 240719-jesamkim-bucket/ES_Contracts/2_UHP/Schedules_Execution Version/Execution Version_Schedule 13A_Pre-Approved Sub-Contractors.pdf\n",
      "Uploading ../itb/ES_Contracts/2_UHP/Schedules_Execution Version/Execution Version_Schedule 21A_Full Lien Release.pdf to 240719-jesamkim-bucket/ES_Contracts/2_UHP/Schedules_Execution Version/Execution Version_Schedule 21A_Full Lien Release.pdf\n",
      "Uploading ../itb/ES_Contracts/2_UHP/Schedules_Execution Version/Execution Version_Schedule 1A_Employers Approval.pdf to 240719-jesamkim-bucket/ES_Contracts/2_UHP/Schedules_Execution Version/Execution Version_Schedule 1A_Employers Approval.pdf\n",
      "Uploading ../itb/ES_Contracts/2_UHP/Schedules_Execution Version/Execution Version_Schedule 9A_Form of Notice to Proceed.pdf to 240719-jesamkim-bucket/ES_Contracts/2_UHP/Schedules_Execution Version/Execution Version_Schedule 9A_Form of Notice to Proceed.pdf\n",
      "Uploading ../itb/ES_Contracts/2_UHP/Schedules_Execution Version/Execution Version_Schedule 30A_Key Procurement Subcontracts.pdf to 240719-jesamkim-bucket/ES_Contracts/2_UHP/Schedules_Execution Version/Execution Version_Schedule 30A_Key Procurement Subcontracts.pdf\n",
      "Uploading ../itb/ES_Contracts/2_UHP/Schedules_Execution Version/Execution Version_Schedule 14A_Form of Acceptance Certificate.pdf to 240719-jesamkim-bucket/ES_Contracts/2_UHP/Schedules_Execution Version/Execution Version_Schedule 14A_Form of Acceptance Certificate.pdf\n",
      "Uploading ../itb/ES_Contracts/2_UHP/Schedules_Execution Version/Execution Version_Schedule 6A_Liquidated Damages.pdf to 240719-jesamkim-bucket/ES_Contracts/2_UHP/Schedules_Execution Version/Execution Version_Schedule 6A_Liquidated Damages.pdf\n",
      "Uploading ../itb/ES_Contracts/2_UHP/Schedules_Execution Version/Execution Version_Schedule 7A_Bonds.pdf to 240719-jesamkim-bucket/ES_Contracts/2_UHP/Schedules_Execution Version/Execution Version_Schedule 7A_Bonds.pdf\n",
      "Uploading ../itb/ES_Contracts/2_UHP/Schedules_Execution Version/Execution Version_Schedule 20A_Metering.pdf to 240719-jesamkim-bucket/ES_Contracts/2_UHP/Schedules_Execution Version/Execution Version_Schedule 20A_Metering.pdf\n",
      "Uploading ../itb/ES_Contracts/2_UHP/Schedules_Execution Version/Execution Version_Schedule 24A_Interface Connections/Schedule 24A - Annex 2 - A-2_NWCC signal list.pdf to 240719-jesamkim-bucket/ES_Contracts/2_UHP/Schedules_Execution Version/Execution Version_Schedule 24A_Interface Connections/Schedule 24A - Annex 2 - A-2_NWCC signal list.pdf\n",
      "Uploading ../itb/ES_Contracts/2_UHP/Schedules_Execution Version/Execution Version_Schedule 24A_Interface Connections/Schedule 24A - Annex 10 - Outage Programme.pdf to 240719-jesamkim-bucket/ES_Contracts/2_UHP/Schedules_Execution Version/Execution Version_Schedule 24A_Interface Connections/Schedule 24A - Annex 10 - Outage Programme.pdf\n",
      "Uploading ../itb/ES_Contracts/2_UHP/Schedules_Execution Version/Execution Version_Schedule 24A_Interface Connections/Schedule 24A - Annex 1 - KM List of Signals.pdf to 240719-jesamkim-bucket/ES_Contracts/2_UHP/Schedules_Execution Version/Execution Version_Schedule 24A_Interface Connections/Schedule 24A - Annex 1 - KM List of Signals.pdf\n",
      "Uploading ../itb/ES_Contracts/2_UHP/Schedules_Execution Version/Execution Version_Schedule 24A_Interface Connections/Schedule 24A - Annex 6.1 - HS-P2-G1 Safety Guidelines.pdf to 240719-jesamkim-bucket/ES_Contracts/2_UHP/Schedules_Execution Version/Execution Version_Schedule 24A_Interface Connections/Schedule 24A - Annex 6.1 - HS-P2-G1 Safety Guidelines.pdf\n",
      "Uploading ../itb/ES_Contracts/2_UHP/Schedules_Execution Version/Execution Version_Schedule 24A_Interface Connections/Schedule 24A - Annex 5 - UHP-SCT-P80-V-E-0006_A_Piping Tie-in List.pdf to 240719-jesamkim-bucket/ES_Contracts/2_UHP/Schedules_Execution Version/Execution Version_Schedule 24A_Interface Connections/Schedule 24A - Annex 5 - UHP-SCT-P80-V-E-0006_A_Piping Tie-in List.pdf\n",
      "Uploading ../itb/ES_Contracts/2_UHP/Schedules_Execution Version/Execution Version_Schedule 24A_Interface Connections/Schedule 24A - Annex 9 - Metering Point Schematic.pdf to 240719-jesamkim-bucket/ES_Contracts/2_UHP/Schedules_Execution Version/Execution Version_Schedule 24A_Interface Connections/Schedule 24A - Annex 9 - Metering Point Schematic.pdf\n",
      "Uploading ../itb/ES_Contracts/2_UHP/Schedules_Execution Version/Execution Version_Schedule 24A_Interface Connections/Schedule 24A - Annex 4 - Interlocking Scheme.pdf to 240719-jesamkim-bucket/ES_Contracts/2_UHP/Schedules_Execution Version/Execution Version_Schedule 24A_Interface Connections/Schedule 24A - Annex 4 - Interlocking Scheme.pdf\n",
      "Uploading ../itb/ES_Contracts/2_UHP/Schedules_Execution Version/Execution Version_Schedule 24A_Interface Connections/Execution Version_Schedule 24A_Power Potable Water Interface Connections.pdf to 240719-jesamkim-bucket/ES_Contracts/2_UHP/Schedules_Execution Version/Execution Version_Schedule 24A_Interface Connections/Execution Version_Schedule 24A_Power Potable Water Interface Connections.pdf\n",
      "Uploading ../itb/ES_Contracts/2_UHP/Schedules_Execution Version/Execution Version_Schedule 24A_Interface Connections/Schedule 24A - Annex 6.2 - KM HSE REQ FROM CONTRACTORS APPENDIX - J.PDF to 240719-jesamkim-bucket/ES_Contracts/2_UHP/Schedules_Execution Version/Execution Version_Schedule 24A_Interface Connections/Schedule 24A - Annex 6.2 - KM HSE REQ FROM CONTRACTORS APPENDIX - J.PDF\n",
      "Uploading ../itb/ES_Contracts/2_UHP/Schedules_Execution Version/Execution Version_Schedule 24A_Interface Connections/Schedule 24A - Annex 3 - A-4_ET-P26-G1 Guidelines for Protection Energy Meter Requirements.pdf to 240719-jesamkim-bucket/ES_Contracts/2_UHP/Schedules_Execution Version/Execution Version_Schedule 24A_Interface Connections/Schedule 24A - Annex 3 - A-4_ET-P26-G1 Guidelines for Protection Energy Meter Requirements.pdf\n",
      "Uploading ../itb/ES_Contracts/2_UHP/Schedules_Execution Version/Execution Version_Schedule 22A_Technical Limits/Execution Version_Schedule 22A_Technical Limits.pdf to 240719-jesamkim-bucket/ES_Contracts/2_UHP/Schedules_Execution Version/Execution Version_Schedule 22A_Technical Limits/Execution Version_Schedule 22A_Technical Limits.pdf\n",
      "Uploading ../itb/ES_Contracts/2_UHP/Schedules_Execution Version/Execution Version_Schedule 22A_Technical Limits/Schedule 22A - Annex 2 - Process Flow Diagrams.pdf to 240719-jesamkim-bucket/ES_Contracts/2_UHP/Schedules_Execution Version/Execution Version_Schedule 22A_Technical Limits/Schedule 22A - Annex 2 - Process Flow Diagrams.pdf\n",
      "Uploading ../itb/ES_Contracts/2_UHP/Schedules_Execution Version/Execution Version_Schedule 22A_Technical Limits/Schedule 22A - Annex 1 - Water Balance.PDF to 240719-jesamkim-bucket/ES_Contracts/2_UHP/Schedules_Execution Version/Execution Version_Schedule 22A_Technical Limits/Schedule 22A - Annex 1 - Water Balance.PDF\n",
      "Uploading ../itb/ES_Contracts/2_UHP/Schedules_Execution Version/Execution Version_Schedule 22A_Technical Limits/Schedule 22A - Annex 3 - Section 3.1_Performance Criteria.pdf to 240719-jesamkim-bucket/ES_Contracts/2_UHP/Schedules_Execution Version/Execution Version_Schedule 22A_Technical Limits/Schedule 22A - Annex 3 - Section 3.1_Performance Criteria.pdf\n",
      "Uploading ../itb/ES_Contracts/2_UHP/Schedules_Execution Version/Execution Version_Schedule 22A_Technical Limits/Schedule 22A - Annex 3 - Section 3.2_Design and Performance Data.pdf to 240719-jesamkim-bucket/ES_Contracts/2_UHP/Schedules_Execution Version/Execution Version_Schedule 22A_Technical Limits/Schedule 22A - Annex 3 - Section 3.2_Design and Performance Data.pdf\n",
      "Uploading ../itb/ES_Contracts/2_UHP/Schedules_Execution Version/Execution Version_Schedule 26A_Site Plan/Schedule 26A - Annex 1 - Site Plan.pdf to 240719-jesamkim-bucket/ES_Contracts/2_UHP/Schedules_Execution Version/Execution Version_Schedule 26A_Site Plan/Schedule 26A - Annex 1 - Site Plan.pdf\n",
      "Uploading ../itb/ES_Contracts/2_UHP/Schedules_Execution Version/Execution Version_Schedule 26A_Site Plan/Execution Version_Schedule 26A_Site Plan.pdf to 240719-jesamkim-bucket/ES_Contracts/2_UHP/Schedules_Execution Version/Execution Version_Schedule 26A_Site Plan/Execution Version_Schedule 26A_Site Plan.pdf\n",
      "Uploading ../itb/ES_Contracts/2_UHP/Schedules_Execution Version/Execution Version_Schedule 26A_Site Plan/Schedule 26A - Annex 3 - Overall Plot Plan.pdf to 240719-jesamkim-bucket/ES_Contracts/2_UHP/Schedules_Execution Version/Execution Version_Schedule 26A_Site Plan/Schedule 26A - Annex 3 - Overall Plot Plan.pdf\n",
      "Uploading ../itb/ES_Contracts/2_UHP/Schedules_Execution Version/Execution Version_Schedule 26A_Site Plan/Schedule 26A - Annex 2 - Facility Plot Plan.pdf to 240719-jesamkim-bucket/ES_Contracts/2_UHP/Schedules_Execution Version/Execution Version_Schedule 26A_Site Plan/Schedule 26A - Annex 2 - Facility Plot Plan.pdf\n",
      "Uploading ../itb/ES_Contracts/2_UHP/Schedules_Execution Version/Execution Version_Schedule 26A_Site Plan/Schedule 26A - Annex 4 - Demarcation for PTW Procedures.pdf to 240719-jesamkim-bucket/ES_Contracts/2_UHP/Schedules_Execution Version/Execution Version_Schedule 26A_Site Plan/Schedule 26A - Annex 4 - Demarcation for PTW Procedures.pdf\n",
      "Uploading ../itb/ES_Contracts/2_UHP/Schedules_Execution Version/Execution Version_Schedule 29A_HSE Guidelines and Procedures/Execution Version_Schedule 29A_Employer HSE Procedures.pdf to 240719-jesamkim-bucket/ES_Contracts/2_UHP/Schedules_Execution Version/Execution Version_Schedule 29A_HSE Guidelines and Procedures/Execution Version_Schedule 29A_Employer HSE Procedures.pdf\n",
      "Uploading ../itb/ES_Contracts/2_UHP/Schedules_Execution Version/Execution Version_Schedule 29A_HSE Guidelines and Procedures/.DS_Store to 240719-jesamkim-bucket/ES_Contracts/2_UHP/Schedules_Execution Version/Execution Version_Schedule 29A_HSE Guidelines and Procedures/.DS_Store\n",
      "Uploading ../itb/ES_Contracts/2_UHP/Schedules_Execution Version/Execution Version_Schedule 29A_HSE Guidelines and Procedures/UHP QHSE Commitment Policy.pdf to 240719-jesamkim-bucket/ES_Contracts/2_UHP/Schedules_Execution Version/Execution Version_Schedule 29A_HSE Guidelines and Procedures/UHP QHSE Commitment Policy.pdf\n",
      "Uploading ../itb/ES_Contracts/2_UHP/Schedules_Execution Version/Execution Version_Schedule 29A_HSE Guidelines and Procedures/UHP-HSE-P-015 Lifting Safely/UHP-HSE-P-015 Lifting Safely.pdf to 240719-jesamkim-bucket/ES_Contracts/2_UHP/Schedules_Execution Version/Execution Version_Schedule 29A_HSE Guidelines and Procedures/UHP-HSE-P-015 Lifting Safely/UHP-HSE-P-015 Lifting Safely.pdf\n",
      "Uploading ../itb/ES_Contracts/2_UHP/Schedules_Execution Version/Execution Version_Schedule 29A_HSE Guidelines and Procedures/UHP-HSE-P-010 Confined Space Entry/UHP-HSE-P-010 Confined Space Entry.pdf to 240719-jesamkim-bucket/ES_Contracts/2_UHP/Schedules_Execution Version/Execution Version_Schedule 29A_HSE Guidelines and Procedures/UHP-HSE-P-010 Confined Space Entry/UHP-HSE-P-010 Confined Space Entry.pdf\n",
      "Uploading ../itb/ES_Contracts/2_UHP/Schedules_Execution Version/Execution Version_Schedule 29A_HSE Guidelines and Procedures/UHP-HSE-P-013 Chemical Handling/UHP-HSE-P-013 Chemical Handling.pdf to 240719-jesamkim-bucket/ES_Contracts/2_UHP/Schedules_Execution Version/Execution Version_Schedule 29A_HSE Guidelines and Procedures/UHP-HSE-P-013 Chemical Handling/UHP-HSE-P-013 Chemical Handling.pdf\n",
      "Uploading ../itb/ES_Contracts/2_UHP/Schedules_Execution Version/Execution Version_Schedule 29A_HSE Guidelines and Procedures/UHP-HSE-P-004 UHP Risk Management/UHP-HSE-P-004 UHP Risk Management.pdf to 240719-jesamkim-bucket/ES_Contracts/2_UHP/Schedules_Execution Version/Execution Version_Schedule 29A_HSE Guidelines and Procedures/UHP-HSE-P-004 UHP Risk Management/UHP-HSE-P-004 UHP Risk Management.pdf\n",
      "Uploading ../itb/ES_Contracts/2_UHP/Schedules_Execution Version/Execution Version_Schedule 29A_HSE Guidelines and Procedures/UHP-HSE-P-005 HSE Incident Management/UHP-HSE-P-005 HSE Incident Management.pdf to 240719-jesamkim-bucket/ES_Contracts/2_UHP/Schedules_Execution Version/Execution Version_Schedule 29A_HSE Guidelines and Procedures/UHP-HSE-P-005 HSE Incident Management/UHP-HSE-P-005 HSE Incident Management.pdf\n",
      "Uploading ../itb/ES_Contracts/2_UHP/Schedules_Execution Version/Execution Version_Schedule 29A_HSE Guidelines and Procedures/UHP-HSE-P-011 Working at Heights/UHP-HSE-P-011 Working at Heights.pdf to 240719-jesamkim-bucket/ES_Contracts/2_UHP/Schedules_Execution Version/Execution Version_Schedule 29A_HSE Guidelines and Procedures/UHP-HSE-P-011 Working at Heights/UHP-HSE-P-011 Working at Heights.pdf\n",
      "Uploading ../itb/ES_Contracts/2_UHP/Schedules_Execution Version/Execution Version_Schedule 29A_HSE Guidelines and Procedures/UHP-HSE-P-017 Manual Handling/UHP-HSE-P-017 Manual Handling.pdf to 240719-jesamkim-bucket/ES_Contracts/2_UHP/Schedules_Execution Version/Execution Version_Schedule 29A_HSE Guidelines and Procedures/UHP-HSE-P-017 Manual Handling/UHP-HSE-P-017 Manual Handling.pdf\n",
      "Uploading ../itb/ES_Contracts/2_UHP/Schedules_Execution Version/Execution Version_Schedule 29A_HSE Guidelines and Procedures/UHP-HSE-P-009 Heat Stress Guidelines/UHP-HSE-P-009 Heat Stress Guidelines.pdf to 240719-jesamkim-bucket/ES_Contracts/2_UHP/Schedules_Execution Version/Execution Version_Schedule 29A_HSE Guidelines and Procedures/UHP-HSE-P-009 Heat Stress Guidelines/UHP-HSE-P-009 Heat Stress Guidelines.pdf\n",
      "Uploading ../itb/ES_Contracts/2_UHP/Schedules_Execution Version/Execution Version_Schedule 29A_HSE Guidelines and Procedures/UHP-HSE-P-002 General HSE Guidelines/UHP-HSE-P-002 General HSE Guidelines.pdf to 240719-jesamkim-bucket/ES_Contracts/2_UHP/Schedules_Execution Version/Execution Version_Schedule 29A_HSE Guidelines and Procedures/UHP-HSE-P-002 General HSE Guidelines/UHP-HSE-P-002 General HSE Guidelines.pdf\n",
      "Uploading ../itb/ES_Contracts/2_UHP/Schedules_Execution Version/Execution Version_Schedule 29A_HSE Guidelines and Procedures/UHP-HSE-P-014 Excavation Safety/UHP-HSE-P-014 Excavation Safety.pdf to 240719-jesamkim-bucket/ES_Contracts/2_UHP/Schedules_Execution Version/Execution Version_Schedule 29A_HSE Guidelines and Procedures/UHP-HSE-P-014 Excavation Safety/UHP-HSE-P-014 Excavation Safety.pdf\n",
      "Uploading ../itb/ES_Contracts/2_UHP/Schedules_Execution Version/Execution Version_Schedule 29A_HSE Guidelines and Procedures/UHP-HSE-P-012 Hot Work Procedures/UHP-HSE-P-012 Hot Work Procedures.pdf to 240719-jesamkim-bucket/ES_Contracts/2_UHP/Schedules_Execution Version/Execution Version_Schedule 29A_HSE Guidelines and Procedures/UHP-HSE-P-012 Hot Work Procedures/UHP-HSE-P-012 Hot Work Procedures.pdf\n",
      "Uploading ../itb/ES_Contracts/2_UHP/Schedules_Execution Version/Execution Version_Schedule 29A_HSE Guidelines and Procedures/UHP-HSE-P-003 Legal Requirements/UHP-HSE-P-003 Legal Requirements.pdf to 240719-jesamkim-bucket/ES_Contracts/2_UHP/Schedules_Execution Version/Execution Version_Schedule 29A_HSE Guidelines and Procedures/UHP-HSE-P-003 Legal Requirements/UHP-HSE-P-003 Legal Requirements.pdf\n",
      "Uploading ../itb/ES_Contracts/2_UHP/Schedules_Execution Version/Execution Version_Schedule 16A_Part 3 EPC Contractor Proposal/181106 Revised ToC_r1.pdf to 240719-jesamkim-bucket/ES_Contracts/2_UHP/Schedules_Execution Version/Execution Version_Schedule 16A_Part 3 EPC Contractor Proposal/181106 Revised ToC_r1.pdf\n",
      "Uploading ../itb/ES_Contracts/2_UHP/Schedules_Execution Version/Execution Version_Schedule 16A_Part 3 EPC Contractor Proposal/181106 Cover Letter.pdf to 240719-jesamkim-bucket/ES_Contracts/2_UHP/Schedules_Execution Version/Execution Version_Schedule 16A_Part 3 EPC Contractor Proposal/181106 Cover Letter.pdf\n",
      "Uploading ../itb/ES_Contracts/2_UHP/Schedules_Execution Version/Execution Version_Schedule 16A_Part 3 EPC Contractor Proposal/Section 3/Section 3. (cover)_Design Data and Performance Guarantee.pdf to 240719-jesamkim-bucket/ES_Contracts/2_UHP/Schedules_Execution Version/Execution Version_Schedule 16A_Part 3 EPC Contractor Proposal/Section 3/Section 3. (cover)_Design Data and Performance Guarantee.pdf\n",
      "Uploading ../itb/ES_Contracts/2_UHP/Schedules_Execution Version/Execution Version_Schedule 16A_Part 3 EPC Contractor Proposal/Section 3/Section 3.1 Performance Criteria/Section 3.1_Performance Criteria.pdf to 240719-jesamkim-bucket/ES_Contracts/2_UHP/Schedules_Execution Version/Execution Version_Schedule 16A_Part 3 EPC Contractor Proposal/Section 3/Section 3.1 Performance Criteria/Section 3.1_Performance Criteria.pdf\n",
      "Uploading ../itb/ES_Contracts/2_UHP/Schedules_Execution Version/Execution Version_Schedule 16A_Part 3 EPC Contractor Proposal/Section 3/Section 3.1 Performance Criteria/Section 3.1 (cover)_Performance Criteria.pdf to 240719-jesamkim-bucket/ES_Contracts/2_UHP/Schedules_Execution Version/Execution Version_Schedule 16A_Part 3 EPC Contractor Proposal/Section 3/Section 3.1 Performance Criteria/Section 3.1 (cover)_Performance Criteria.pdf\n",
      "Uploading ../itb/ES_Contracts/2_UHP/Schedules_Execution Version/Execution Version_Schedule 16A_Part 3 EPC Contractor Proposal/Section 2/Section 2. (cover)_Deviations and Clarifications.pdf to 240719-jesamkim-bucket/ES_Contracts/2_UHP/Schedules_Execution Version/Execution Version_Schedule 16A_Part 3 EPC Contractor Proposal/Section 2/Section 2. (cover)_Deviations and Clarifications.pdf\n",
      "Uploading ../itb/ES_Contracts/2_UHP/Schedules_Execution Version/Execution Version_Schedule 16A_Part 3 EPC Contractor Proposal/Section 5/Section 5. (cover)_Technical Descriptions.pdf to 240719-jesamkim-bucket/ES_Contracts/2_UHP/Schedules_Execution Version/Execution Version_Schedule 16A_Part 3 EPC Contractor Proposal/Section 5/Section 5. (cover)_Technical Descriptions.pdf\n",
      "Uploading ../itb/ES_Contracts/2_UHP/Schedules_Execution Version/Execution Version_Schedule 16A_Part 3 EPC Contractor Proposal/Section 5/Section 5.4_Process Flow Diagrams/Section 5.4 (cover)_Process Flow Diagrams.pdf to 240719-jesamkim-bucket/ES_Contracts/2_UHP/Schedules_Execution Version/Execution Version_Schedule 16A_Part 3 EPC Contractor Proposal/Section 5/Section 5.4_Process Flow Diagrams/Section 5.4 (cover)_Process Flow Diagrams.pdf\n",
      "Uploading ../itb/ES_Contracts/2_UHP/Schedules_Execution Version/Execution Version_Schedule 16A_Part 3 EPC Contractor Proposal/Section 5/Section 5.4_Process Flow Diagrams/Section 5.4.2_Process Flow Diagrams.pdf to 240719-jesamkim-bucket/ES_Contracts/2_UHP/Schedules_Execution Version/Execution Version_Schedule 16A_Part 3 EPC Contractor Proposal/Section 5/Section 5.4_Process Flow Diagrams/Section 5.4.2_Process Flow Diagrams.pdf\n",
      "Uploading ../itb/ES_Contracts/2_UHP/Schedules_Execution Version/Execution Version_Schedule 16A_Part 3 EPC Contractor Proposal/Section 5/Section 5.8_Single Line Diagram/Section 5.8 (cover)_Single Line Diagram.pdf to 240719-jesamkim-bucket/ES_Contracts/2_UHP/Schedules_Execution Version/Execution Version_Schedule 16A_Part 3 EPC Contractor Proposal/Section 5/Section 5.8_Single Line Diagram/Section 5.8 (cover)_Single Line Diagram.pdf\n",
      "Uploading ../itb/ES_Contracts/2_UHP/Schedules_Execution Version/Execution Version_Schedule 16A_Part 3 EPC Contractor Proposal/Section 5/Section 5.17_Video Monitoring System/Section 5.17_Video Monitoring Systems.pdf to 240719-jesamkim-bucket/ES_Contracts/2_UHP/Schedules_Execution Version/Execution Version_Schedule 16A_Part 3 EPC Contractor Proposal/Section 5/Section 5.17_Video Monitoring System/Section 5.17_Video Monitoring Systems.pdf\n",
      "Uploading ../itb/ES_Contracts/2_UHP/Schedules_Execution Version/Execution Version_Schedule 16A_Part 3 EPC Contractor Proposal/Section 5/Section 5.6_Energy and Mass Balances/Section 5.6.1_Water Balance Diagram.pdf to 240719-jesamkim-bucket/ES_Contracts/2_UHP/Schedules_Execution Version/Execution Version_Schedule 16A_Part 3 EPC Contractor Proposal/Section 5/Section 5.6_Energy and Mass Balances/Section 5.6.1_Water Balance Diagram.pdf\n",
      "Uploading ../itb/ES_Contracts/2_UHP/Schedules_Execution Version/Execution Version_Schedule 16A_Part 3 EPC Contractor Proposal/Section 7/Section 7. (cover)_Drawings and Diagrams.pdf to 240719-jesamkim-bucket/ES_Contracts/2_UHP/Schedules_Execution Version/Execution Version_Schedule 16A_Part 3 EPC Contractor Proposal/Section 7/Section 7. (cover)_Drawings and Diagrams.pdf\n",
      "Uploading ../itb/ES_Contracts/2_UHP/Schedules_Execution Version/Execution Version_Schedule 16A_Part 3 EPC Contractor Proposal/Section 7/Section 7.2 Curves and Diagrams/Section 7.2 (cover)_Curves and Diagrams.pdf to 240719-jesamkim-bucket/ES_Contracts/2_UHP/Schedules_Execution Version/Execution Version_Schedule 16A_Part 3 EPC Contractor Proposal/Section 7/Section 7.2 Curves and Diagrams/Section 7.2 (cover)_Curves and Diagrams.pdf\n",
      "Uploading ../itb/ES_Contracts/2_UHP/Schedules_Execution Version/Execution Version_Schedule 16A_Part 1_MFS/Part 1 Vol 2/Schedule 16A Part 1 vol2_Annex 1.pdf to 240719-jesamkim-bucket/ES_Contracts/2_UHP/Schedules_Execution Version/Execution Version_Schedule 16A_Part 1_MFS/Part 1 Vol 2/Schedule 16A Part 1 vol2_Annex 1.pdf\n",
      "Uploading ../itb/ES_Contracts/2_UHP/Schedules_Execution Version/Execution Version_Schedule 16A_Part 1_MFS/Part 1 Vol 2/Schedule 16A Part 1 vol2_Annex 4.pdf to 240719-jesamkim-bucket/ES_Contracts/2_UHP/Schedules_Execution Version/Execution Version_Schedule 16A_Part 1_MFS/Part 1 Vol 2/Schedule 16A Part 1 vol2_Annex 4.pdf\n",
      "Uploading ../itb/ES_Contracts/2_UHP/Schedules_Execution Version/Execution Version_Schedule 16A_Part 1_MFS/Part 1 Vol 2/Schedule 16A Part 1 vol2_Annex 7.pdf to 240719-jesamkim-bucket/ES_Contracts/2_UHP/Schedules_Execution Version/Execution Version_Schedule 16A_Part 1_MFS/Part 1 Vol 2/Schedule 16A Part 1 vol2_Annex 7.pdf\n",
      "Uploading ../itb/ES_Contracts/2_UHP/Schedules_Execution Version/Execution Version_Schedule 16A_Part 1_MFS/Part 1 Vol 2/Schedule 16A Part 1 vol2_Annex 10.pdf to 240719-jesamkim-bucket/ES_Contracts/2_UHP/Schedules_Execution Version/Execution Version_Schedule 16A_Part 1_MFS/Part 1 Vol 2/Schedule 16A Part 1 vol2_Annex 10.pdf\n",
      "Uploading ../itb/ES_Contracts/2_UHP/Schedules_Execution Version/Execution Version_Schedule 16A_Part 1_MFS/Part 1 Vol 2/Schedule 16A Part 1 vol2_Annex 2.pdf to 240719-jesamkim-bucket/ES_Contracts/2_UHP/Schedules_Execution Version/Execution Version_Schedule 16A_Part 1_MFS/Part 1 Vol 2/Schedule 16A Part 1 vol2_Annex 2.pdf\n",
      "Uploading ../itb/ES_Contracts/2_UHP/Schedules_Execution Version/Execution Version_Schedule 16A_Part 1_MFS/Part 1 Vol 2/Schedule 16A Part 1 vol2_Annex 5.pdf to 240719-jesamkim-bucket/ES_Contracts/2_UHP/Schedules_Execution Version/Execution Version_Schedule 16A_Part 1_MFS/Part 1 Vol 2/Schedule 16A Part 1 vol2_Annex 5.pdf\n",
      "Uploading ../itb/ES_Contracts/2_UHP/Schedules_Execution Version/Execution Version_Schedule 16A_Part 1_MFS/Part 1 Vol 2/Schedule 16A Part 1 vol2_Annex 8.pdf to 240719-jesamkim-bucket/ES_Contracts/2_UHP/Schedules_Execution Version/Execution Version_Schedule 16A_Part 1_MFS/Part 1 Vol 2/Schedule 16A Part 1 vol2_Annex 8.pdf\n",
      "Uploading ../itb/ES_Contracts/2_UHP/Schedules_Execution Version/Execution Version_Schedule 16A_Part 1_MFS/Part 1 Vol 2/Schedule 16A Part 1 vol2_Annex 3.pdf to 240719-jesamkim-bucket/ES_Contracts/2_UHP/Schedules_Execution Version/Execution Version_Schedule 16A_Part 1_MFS/Part 1 Vol 2/Schedule 16A Part 1 vol2_Annex 3.pdf\n",
      "Uploading ../itb/ES_Contracts/2_UHP/Schedules_Execution Version/Execution Version_Schedule 16A_Part 1_MFS/Part 1 Vol 2/Schedule 16A Part 1 vol2_Annex 6.pdf to 240719-jesamkim-bucket/ES_Contracts/2_UHP/Schedules_Execution Version/Execution Version_Schedule 16A_Part 1_MFS/Part 1 Vol 2/Schedule 16A Part 1 vol2_Annex 6.pdf\n",
      "Uploading ../itb/ES_Contracts/2_UHP/Schedules_Execution Version/Execution Version_Schedule 16A_Part 1_MFS/Part 1 Vol 2/Execution Version_Schedule 16A Part 1 Vol 2.pdf to 240719-jesamkim-bucket/ES_Contracts/2_UHP/Schedules_Execution Version/Execution Version_Schedule 16A_Part 1_MFS/Part 1 Vol 2/Execution Version_Schedule 16A Part 1 Vol 2.pdf\n",
      "Uploading ../itb/ES_Contracts/2_UHP/Schedules_Execution Version/Execution Version_Schedule 16A_Part 1_MFS/Part 1 Vol 2/Schedule 16A Part 1 vol2_Annex 9.pdf to 240719-jesamkim-bucket/ES_Contracts/2_UHP/Schedules_Execution Version/Execution Version_Schedule 16A_Part 1_MFS/Part 1 Vol 2/Schedule 16A Part 1 vol2_Annex 9.pdf\n",
      "Uploading ../itb/ES_Contracts/2_UHP/Schedules_Execution Version/Execution Version_Schedule 16A_Part 1_MFS/Part 1 Vol 1/Execution Version_Schedule 16A Part 1 Vol 1.pdf to 240719-jesamkim-bucket/ES_Contracts/2_UHP/Schedules_Execution Version/Execution Version_Schedule 16A_Part 1_MFS/Part 1 Vol 1/Execution Version_Schedule 16A Part 1 Vol 1.pdf\n",
      "Uploading ../itb/ES_Contracts/2_UHP/Schedules_Execution Version/Execution Version_Schedule 16A_Part 1_MFS/Part 1 Appendix C/Sch 16A Part 1 App C - Annex 2 Electrical Network Corridor and Connection Point.pdf to 240719-jesamkim-bucket/ES_Contracts/2_UHP/Schedules_Execution Version/Execution Version_Schedule 16A_Part 1_MFS/Part 1 Appendix C/Sch 16A Part 1 App C - Annex 2 Electrical Network Corridor and Connection Point.pdf\n",
      "Uploading ../itb/ES_Contracts/2_UHP/Schedules_Execution Version/Execution Version_Schedule 16A_Part 1_MFS/Part 1 Appendix C/Sch 16A Part 1 App C - Annex 5 Block Diagram for NCC_NWCC Connections.pdf to 240719-jesamkim-bucket/ES_Contracts/2_UHP/Schedules_Execution Version/Execution Version_Schedule 16A_Part 1_MFS/Part 1 Appendix C/Sch 16A Part 1 App C - Annex 5 Block Diagram for NCC_NWCC Connections.pdf\n",
      "Uploading ../itb/ES_Contracts/2_UHP/Schedules_Execution Version/Execution Version_Schedule 16A_Part 1_MFS/Part 1 Appendix C/Execution Version_Schedule 16A Part 1 Appendix C.pdf to 240719-jesamkim-bucket/ES_Contracts/2_UHP/Schedules_Execution Version/Execution Version_Schedule 16A_Part 1_MFS/Part 1 Appendix C/Execution Version_Schedule 16A Part 1 Appendix C.pdf\n",
      "Uploading ../itb/ES_Contracts/2_UHP/Schedules_Execution Version/Execution Version_Schedule 16A_Part 1_MFS/Part 1 Appendix C/Sch 16A Part 1 App C - Annex 1 SLD-Facility D-Technical Proposal Section 5.8.1.pdf to 240719-jesamkim-bucket/ES_Contracts/2_UHP/Schedules_Execution Version/Execution Version_Schedule 16A_Part 1_MFS/Part 1 Appendix C/Sch 16A Part 1 App C - Annex 1 SLD-Facility D-Technical Proposal Section 5.8.1.pdf\n",
      "Uploading ../itb/ES_Contracts/2_UHP/Schedules_Execution Version/Execution Version_Schedule 16A_Part 1_MFS/Part 1 Appendix C/Sch 16A Part 1 App C - Annex 7 Section 3.1_Performance Criteria.pdf to 240719-jesamkim-bucket/ES_Contracts/2_UHP/Schedules_Execution Version/Execution Version_Schedule 16A_Part 1_MFS/Part 1 Appendix C/Sch 16A Part 1 App C - Annex 7 Section 3.1_Performance Criteria.pdf\n",
      "Uploading ../itb/ES_Contracts/2_UHP/Schedules_Execution Version/Execution Version_Schedule 16A_Part 1_MFS/Part 1 Appendix C/Sch 16A Part 1 App C - Annex 4 plot plan UHP-SCT-P80-UZ-D-0001 rev 2.pdf to 240719-jesamkim-bucket/ES_Contracts/2_UHP/Schedules_Execution Version/Execution Version_Schedule 16A_Part 1_MFS/Part 1 Appendix C/Sch 16A Part 1 App C - Annex 4 plot plan UHP-SCT-P80-UZ-D-0001 rev 2.pdf\n",
      "Uploading ../itb/ES_Contracts/2_UHP/Schedules_Execution Version/Execution Version_Schedule 16A_Part 1_MFS/Part 1 Appendix C/Sch 16A Part 1 App C - Annex 3 Potable Water Delivery Points.PDF to 240719-jesamkim-bucket/ES_Contracts/2_UHP/Schedules_Execution Version/Execution Version_Schedule 16A_Part 1_MFS/Part 1 Appendix C/Sch 16A Part 1 App C - Annex 3 Potable Water Delivery Points.PDF\n",
      "Uploading ../itb/ES_Contracts/2_UHP/Schedules_Execution Version/Execution Version_Schedule 16A_Part 1_MFS/Part 1 Appendix C/Sch 16A Part 1 App C - Annex 6 Section 3.2_Design and Performance Data.pdf to 240719-jesamkim-bucket/ES_Contracts/2_UHP/Schedules_Execution Version/Execution Version_Schedule 16A_Part 1_MFS/Part 1 Appendix C/Sch 16A Part 1 App C - Annex 6 Section 3.2_Design and Performance Data.pdf\n",
      "Uploading ../itb/ES_Contracts/1_UHP/.DS_Store to 240719-jesamkim-bucket/ES_Contracts/1_UHP/.DS_Store\n",
      "Uploading ../itb/ES_Contracts/1_UHP/Schedules_Execution Version/.DS_Store to 240719-jesamkim-bucket/ES_Contracts/1_UHP/Schedules_Execution Version/.DS_Store\n",
      "Uploading ../itb/ES_Contracts/1_UHP/Schedules_Execution Version/Execution Version_Schedule 29A_HSE Guidelines and Procedures/.DS_Store to 240719-jesamkim-bucket/ES_Contracts/1_UHP/Schedules_Execution Version/Execution Version_Schedule 29A_HSE Guidelines and Procedures/.DS_Store\n",
      "Uploading ../itb/ES_Contracts/1_UHP/Schedules_Execution Version/Execution Version_Schedule 29A_HSE Guidelines and Procedures/UHP-HSE-P-016 Driving Safely Traffic Management/UHP-HSE-P-016 -Driving Safely Traffic Management.pdf to 240719-jesamkim-bucket/ES_Contracts/1_UHP/Schedules_Execution Version/Execution Version_Schedule 29A_HSE Guidelines and Procedures/UHP-HSE-P-016 Driving Safely Traffic Management/UHP-HSE-P-016 -Driving Safely Traffic Management.pdf\n",
      "Uploading ../itb/ES_Contracts/1_UHP/Schedules_Execution Version/Execution Version_Schedule 29A_HSE Guidelines and Procedures/UHP-HSE-P-016 Driving Safely Traffic Management/UHP-HSE-P-016-DS-002 -Tri Cycle Driving Guidelines.pdf to 240719-jesamkim-bucket/ES_Contracts/1_UHP/Schedules_Execution Version/Execution Version_Schedule 29A_HSE Guidelines and Procedures/UHP-HSE-P-016 Driving Safely Traffic Management/UHP-HSE-P-016-DS-002 -Tri Cycle Driving Guidelines.pdf\n",
      "Uploading ../itb/ES_Contracts/1_UHP/Schedules_Execution Version/Execution Version_Schedule 29A_HSE Guidelines and Procedures/UHP-HSE-P-016 Driving Safely Traffic Management/UHP-HSE-P-016-DS-001 -Golf Car Driving Guidelines.pdf to 240719-jesamkim-bucket/ES_Contracts/1_UHP/Schedules_Execution Version/Execution Version_Schedule 29A_HSE Guidelines and Procedures/UHP-HSE-P-016 Driving Safely Traffic Management/UHP-HSE-P-016-DS-001 -Golf Car Driving Guidelines.pdf\n",
      "Uploading ../itb/ES_Contracts/1_UHP/Schedules_Execution Version/Execution Version_Schedule 29A_HSE Guidelines and Procedures/UHP-HSE-P-006 Emergency Preparedness and Response Plan/Appendices/UHP-HSE-P-006-A022 Dust Storm.pdf to 240719-jesamkim-bucket/ES_Contracts/1_UHP/Schedules_Execution Version/Execution Version_Schedule 29A_HSE Guidelines and Procedures/UHP-HSE-P-006 Emergency Preparedness and Response Plan/Appendices/UHP-HSE-P-006-A022 Dust Storm.pdf\n",
      "Uploading ../itb/ES_Contracts/1_UHP/Schedules_Execution Version/Execution Version_Schedule 16A_Part 3 EPC Contractor Proposal/Section 3/Section 3.2 Design and Peroformance Data/Section 3.2_Design and Performance Data.pdf to 240719-jesamkim-bucket/ES_Contracts/1_UHP/Schedules_Execution Version/Execution Version_Schedule 16A_Part 3 EPC Contractor Proposal/Section 3/Section 3.2 Design and Peroformance Data/Section 3.2_Design and Performance Data.pdf\n",
      "Uploading ../itb/ES_Contracts/1_UHP/Schedules_Execution Version/Execution Version_Schedule 16A_Part 3 EPC Contractor Proposal/Section 2/20181105 UHP counter comments to EPC proposal (19 April Meeting)-EPCC Reply_rev.pdf to 240719-jesamkim-bucket/ES_Contracts/1_UHP/Schedules_Execution Version/Execution Version_Schedule 16A_Part 3 EPC Contractor Proposal/Section 2/20181105 UHP counter comments to EPC proposal (19 April Meeting)-EPCC Reply_rev.pdf\n",
      "Uploading ../itb/ES_Contracts/1_UHP/Schedules_Execution Version/Execution Version_Schedule 16A_Part 3 EPC Contractor Proposal/Section 5/Section 5.4_Process Flow Diagrams/Section 5.4.1_Process Flow Diagram - RO BOP_181105.pdf to 240719-jesamkim-bucket/ES_Contracts/1_UHP/Schedules_Execution Version/Execution Version_Schedule 16A_Part 3 EPC Contractor Proposal/Section 5/Section 5.4_Process Flow Diagrams/Section 5.4.1_Process Flow Diagram - RO BOP_181105.pdf\n",
      "Uploading ../itb/ES_Contracts/1_UHP/Schedules_Execution Version/Execution Version_Schedule 16A_Part 3 EPC Contractor Proposal/Section 5/Section 5.4_Process Flow Diagrams/Section 5.4.1 (cover)_Process Flow Diagrams - RO BOP.pdf to 240719-jesamkim-bucket/ES_Contracts/1_UHP/Schedules_Execution Version/Execution Version_Schedule 16A_Part 3 EPC Contractor Proposal/Section 5/Section 5.4_Process Flow Diagrams/Section 5.4.1 (cover)_Process Flow Diagrams - RO BOP.pdf\n",
      "Uploading ../itb/ES_Contracts/1_UHP/Schedules_Execution Version/Execution Version_Schedule 16A_Part 3 EPC Contractor Proposal/Section 5/Section 5.8_Single Line Diagram/Section 5.8.1 Overall Single Line Diagram_181102.pdf to 240719-jesamkim-bucket/ES_Contracts/1_UHP/Schedules_Execution Version/Execution Version_Schedule 16A_Part 3 EPC Contractor Proposal/Section 5/Section 5.8_Single Line Diagram/Section 5.8.1 Overall Single Line Diagram_181102.pdf\n",
      "Uploading ../itb/ES_Contracts/1_UHP/Schedules_Execution Version/Execution Version_Schedule 16A_Part 3 EPC Contractor Proposal/Section 5/Section 5.8_Single Line Diagram/Section 5.8.1 (cover)_Overall Single Line Diagram.pdf to 240719-jesamkim-bucket/ES_Contracts/1_UHP/Schedules_Execution Version/Execution Version_Schedule 16A_Part 3 EPC Contractor Proposal/Section 5/Section 5.8_Single Line Diagram/Section 5.8.1 (cover)_Overall Single Line Diagram.pdf\n",
      "Uploading ../itb/ES_Contracts/1_UHP/Schedules_Execution Version/Execution Version_Schedule 16A_Part 3 EPC Contractor Proposal/Section 5/Section 5.17_Video Monitoring System/Section 5.17 (cover)_Video Monitoring System.pdf to 240719-jesamkim-bucket/ES_Contracts/1_UHP/Schedules_Execution Version/Execution Version_Schedule 16A_Part 3 EPC Contractor Proposal/Section 5/Section 5.17_Video Monitoring System/Section 5.17 (cover)_Video Monitoring System.pdf\n",
      "Uploading ../itb/ES_Contracts/1_UHP/Schedules_Execution Version/Execution Version_Schedule 16A_Part 3 EPC Contractor Proposal/Section 5/Section 5.2_Civil and Building Plans/Section 5.2 (cover)_Civil and Building Plans.pdf to 240719-jesamkim-bucket/ES_Contracts/1_UHP/Schedules_Execution Version/Execution Version_Schedule 16A_Part 3 EPC Contractor Proposal/Section 5/Section 5.2_Civil and Building Plans/Section 5.2 (cover)_Civil and Building Plans.pdf\n",
      "Uploading ../itb/ES_Contracts/1_UHP/Schedules_Execution Version/Execution Version_Schedule 16A_Part 3 EPC Contractor Proposal/Section 5/Section 5.6_Energy and Mass Balances/Section 5.6.1 (cover)_Water Balance Diagram.pdf to 240719-jesamkim-bucket/ES_Contracts/1_UHP/Schedules_Execution Version/Execution Version_Schedule 16A_Part 3 EPC Contractor Proposal/Section 5/Section 5.6_Energy and Mass Balances/Section 5.6.1 (cover)_Water Balance Diagram.pdf\n",
      "Uploading ../itb/ES_Contracts/1_UHP/Schedules_Execution Version/Execution Version_Schedule 16A_Part 3 EPC Contractor Proposal/Section 5/Section 5.6_Energy and Mass Balances/Section 5.6 (cover)_Energy and Mass Balances.pdf to 240719-jesamkim-bucket/ES_Contracts/1_UHP/Schedules_Execution Version/Execution Version_Schedule 16A_Part 3 EPC Contractor Proposal/Section 5/Section 5.6_Energy and Mass Balances/Section 5.6 (cover)_Energy and Mass Balances.pdf\n",
      "Uploading ../itb/ES_Contracts/1_UHP/Schedules_Execution Version/Execution Version_Schedule 16A_Part 3 EPC Contractor Proposal/Section 7/Section 7.1 Piping and Instrument Diagram/Section 7.1.1 (cover)_P&ID for RO BOP.pdf to 240719-jesamkim-bucket/ES_Contracts/1_UHP/Schedules_Execution Version/Execution Version_Schedule 16A_Part 3 EPC Contractor Proposal/Section 7/Section 7.1 Piping and Instrument Diagram/Section 7.1.1 (cover)_P&ID for RO BOP.pdf\n",
      "Uploading ../itb/ES_Contracts/1_UHP/Schedules_Execution Version/Execution Version_Schedule 16A_Part 3 EPC Contractor Proposal/Section 7/Section 7.1 Piping and Instrument Diagram/Section 7.1.1 P&ID for RO BOP_181105.pdf to 240719-jesamkim-bucket/ES_Contracts/1_UHP/Schedules_Execution Version/Execution Version_Schedule 16A_Part 3 EPC Contractor Proposal/Section 7/Section 7.1 Piping and Instrument Diagram/Section 7.1.1 P&ID for RO BOP_181105.pdf\n"
     ]
    }
   ],
   "source": [
    "import os\n",
    "import boto3\n",
    "\n",
    "def upload_directory_to_s3(local_directory, bucket_name, s3_prefix=''):\n",
    "    s3 = boto3.client('s3')\n",
    "\n",
    "    for root, dirs, files in os.walk(local_directory):\n",
    "        for filename in files:\n",
    "            local_path = os.path.join(root, filename)\n",
    "\n",
    "            # S3 키 생성 (상대 경로 유지)\n",
    "            relative_path = os.path.relpath(local_path, local_directory)\n",
    "            s3_key = os.path.join(s3_prefix, relative_path).replace(\"\\\\\", \"/\")\n",
    "\n",
    "            print(f\"Uploading {local_path} to {bucket_name}/{s3_key}\")\n",
    "            s3.upload_file(local_path, bucket_name, s3_key)\n",
    "\n",
    "            \n",
    "# 아래 내용을 환경에 맞게 수정하세요.\n",
    "local_directory = '../itb/ES_Contracts/' # SageMaker에 저장된 ITB 문서 로컬 경로 (문서 경로에 맞게 수정 합니다)\n",
    "bucket_name = '240719-jesamkim-bucket'# S3 버킷 이름\n",
    "s3_prefix = 'ES_Contracts'  # S3 내의 기본 경로 \n",
    "\n",
    "upload_directory_to_s3(local_directory, bucket_name, s3_prefix)"
   ]
  },
  {
   "cell_type": "markdown",
   "id": "2f77e2a2-0d10-4780-98d9-18163a3135e7",
   "metadata": {},
   "source": [
    "#### 토목 계약서 업로드"
   ]
  },
  {
   "cell_type": "code",
   "execution_count": 4,
   "id": "b25844cc-6472-4321-9b55-57ffd02d74b0",
   "metadata": {
    "tags": []
   },
   "outputs": [
    {
     "name": "stdout",
     "output_type": "stream",
     "text": [
      "Uploading ../itb/Civil_Eng_ITB/.DS_Store to 240719-jesamkim-bucket/Civil_Eng_Contracts/.DS_Store\n",
      "Uploading ../itb/Civil_Eng_ITB/240320 Riyadh Metro 수행 현장 vs. Line 2 연장 ITB 비교 (상세)_Qualification 수정.docx to 240719-jesamkim-bucket/Civil_Eng_Contracts/240320 Riyadh Metro 수행 현장 vs. Line 2 연장 ITB 비교 (상세)_Qualification 수정.docx\n",
      "Uploading ../itb/Civil_Eng_ITB/Riyadh_456/Exhibit C. General Conditions-int.pdf to 240719-jesamkim-bucket/Civil_Eng_Contracts/Riyadh_456/Exhibit C. General Conditions-int.pdf\n",
      "Uploading ../itb/Civil_Eng_ITB/Riyadh_456/Exhibit B. as received from ADA at Contract signing_OCR.pdf to 240719-jesamkim-bucket/Civil_Eng_Contracts/Riyadh_456/Exhibit B. as received from ADA at Contract signing_OCR.pdf\n",
      "Uploading ../itb/Civil_Eng_ITB/[0] RML2/Special Condition.pdf to 240719-jesamkim-bucket/Civil_Eng_Contracts/[0] RML2/Special Condition.pdf\n",
      "Uploading ../itb/Civil_Eng_ITB/[0] RML7 ITB/M-ESD-200000-0000-TDC-000002-01_ITT.pdf to 240719-jesamkim-bucket/Civil_Eng_Contracts/[0] RML7 ITB/M-ESD-200000-0000-TDC-000002-01_ITT.pdf\n",
      "Uploading ../itb/Civil_Eng_ITB/[0] RML7 ITB/M-ESD-200000-0000-TDC-000001-01_ITT.pdf to 240719-jesamkim-bucket/Civil_Eng_Contracts/[0] RML7 ITB/M-ESD-200000-0000-TDC-000001-01_ITT.pdf\n",
      "Uploading ../itb/Civil_Eng_ITB/[0] RML7 ITB/Conditions of Contracts/M-ESD-200000-GN00-CON-000002-03 Addendum 01.pdf to 240719-jesamkim-bucket/Civil_Eng_Contracts/[0] RML7 ITB/Conditions of Contracts/M-ESD-200000-GN00-CON-000002-03 Addendum 01.pdf\n",
      "Uploading ../itb/Civil_Eng_ITB/[0] RML7 ITB/Conditions of Contracts/M-ESD-200000-GN00-CON-000003-02 Addendum 03.pdf to 240719-jesamkim-bucket/Civil_Eng_Contracts/[0] RML7 ITB/Conditions of Contracts/M-ESD-200000-GN00-CON-000003-02 Addendum 03.pdf\n",
      "Uploading ../itb/Civil_Eng_ITB/[0] RML7 ITB/Conditions of Contracts/M-ESD-200000-GN00-CON-000002-04 Addendum03.pdf to 240719-jesamkim-bucket/Civil_Eng_Contracts/[0] RML7 ITB/Conditions of Contracts/M-ESD-200000-GN00-CON-000002-04 Addendum03.pdf\n",
      "Uploading ../itb/Civil_Eng_ITB/[0] RML7 ITB/Conditions of Contracts/M-ESD-200000-GN00-CON-000003-03 Addendum 05.pdf to 240719-jesamkim-bucket/Civil_Eng_Contracts/[0] RML7 ITB/Conditions of Contracts/M-ESD-200000-GN00-CON-000003-03 Addendum 05.pdf\n",
      "Uploading ../itb/Civil_Eng_ITB/[0] RML7 ITB/Conditions of Contracts/Exhibit C_General Conditions_Rev 01.pdf to 240719-jesamkim-bucket/Civil_Eng_Contracts/[0] RML7 ITB/Conditions of Contracts/Exhibit C_General Conditions_Rev 01.pdf\n",
      "Uploading ../itb/Civil_Eng_ITB/[0] RML7 ITB/Conditions of Contracts/Exhibit B_Special Conditions_Rev 01.pdf to 240719-jesamkim-bucket/Civil_Eng_Contracts/[0] RML7 ITB/Conditions of Contracts/Exhibit B_Special Conditions_Rev 01.pdf\n",
      "Uploading ../itb/Civil_Eng_ITB/[0] RML7 ITB/Conditions of Contracts/M-ESD-200000-GN00-CON-000002-06 Addendum 05.pdf to 240719-jesamkim-bucket/Civil_Eng_Contracts/[0] RML7 ITB/Conditions of Contracts/M-ESD-200000-GN00-CON-000002-06 Addendum 05.pdf\n"
     ]
    }
   ],
   "source": [
    "import os\n",
    "import boto3\n",
    "\n",
    "def upload_directory_to_s3(local_directory, bucket_name, s3_prefix=''):\n",
    "    s3 = boto3.client('s3')\n",
    "\n",
    "    for root, dirs, files in os.walk(local_directory):\n",
    "        for filename in files:\n",
    "            local_path = os.path.join(root, filename)\n",
    "\n",
    "            # S3 키 생성 (상대 경로 유지)\n",
    "            relative_path = os.path.relpath(local_path, local_directory)\n",
    "            s3_key = os.path.join(s3_prefix, relative_path).replace(\"\\\\\", \"/\")\n",
    "\n",
    "            print(f\"Uploading {local_path} to {bucket_name}/{s3_key}\")\n",
    "            s3.upload_file(local_path, bucket_name, s3_key)\n",
    "\n",
    "            \n",
    "# 아래 내용을 환경에 맞게 수정하세요.\n",
    "local_directory = '../itb/Civil_Eng_ITB/' # SageMaker에 저장된 ITB 문서 로컬 경로 (문서 경로에 맞게 수정 합니다)\n",
    "bucket_name = '240719-jesamkim-bucket'# S3 버킷 이름\n",
    "s3_prefix = 'Civil_Eng_Contracts'  # S3 내의 기본 경로 \n",
    "\n",
    "upload_directory_to_s3(local_directory, bucket_name, s3_prefix)"
   ]
  },
  {
   "cell_type": "markdown",
   "id": "02b11bfa-8475-4446-b4ef-46deb3f66ea1",
   "metadata": {},
   "source": [
    "### KB(Knowledge Base) for Amazon Bedrock 설정"
   ]
  },
  {
   "cell_type": "markdown",
   "id": "0e2f2629-378f-425c-9128-8350319a7285",
   "metadata": {},
   "source": [
    "아래 문서의 순서에 따라 Bedrock 콘솔 화면에서 KB를 설정 합니다.\n",
    "\n",
    "SageMaker 노트북 환경에서 PDF 보기가 잘 안되시면 문서를 다운로드 받아서 Open 하시기 바랍니다.\n",
    "\n",
    "[KB 설정 가이드 문서](./img/240719-KB_setup_guide.pdf)"
   ]
  },
  {
   "cell_type": "code",
   "execution_count": null,
   "id": "683aeb61-e138-4de5-a2a4-fa1f69216d83",
   "metadata": {},
   "outputs": [],
   "source": []
  }
 ],
 "metadata": {
  "kernelspec": {
   "display_name": "conda_pytorch_p310",
   "language": "python",
   "name": "conda_pytorch_p310"
  },
  "language_info": {
   "codemirror_mode": {
    "name": "ipython",
    "version": 3
   },
   "file_extension": ".py",
   "mimetype": "text/x-python",
   "name": "python",
   "nbconvert_exporter": "python",
   "pygments_lexer": "ipython3",
   "version": "3.10.14"
  }
 },
 "nbformat": 4,
 "nbformat_minor": 5
}
