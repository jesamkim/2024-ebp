{
 "cells": [
  {
   "cell_type": "markdown",
   "id": "71d855af",
   "metadata": {},
   "source": [
    "# 1. Read .doc, docx file"
   ]
  },
  {
   "cell_type": "code",
   "execution_count": 1,
   "id": "25ddc105",
   "metadata": {},
   "outputs": [],
   "source": [
    "!pip install --upgrade --quiet python-docx"
   ]
  },
  {
   "cell_type": "code",
   "execution_count": 2,
   "id": "c0f59b67",
   "metadata": {},
   "outputs": [
    {
     "name": "stdout",
     "output_type": "stream",
     "text": [
      "Dear shareholders:\n",
      "As I sit down to write my second annual shareholder letter as CEO, I find myself optimistic and energized by what lies ahead for Amazon. Despite 2022 being one of the harder macroeconomic years in recent memory, and with some of our own operating challenges to boot, we still found a way to grow demand (on top of the unprecedented growth we experienced in the first half of the pandemic). We innovated in our largest businesses to meaningfully improve customer experience short and long term. And, we made important adjustments in our investment decisions and the way in which we’ll invent moving forward, while still preserving the long-term investments that we believe can change the future of Amazon for customers, shareholders, and employees.\n",
      "While there were an unusual number of simultaneous challenges this past year, the reality is that if you operate in large, dynamic, global market segments with many capable and well-funded competitors (the conditions in which Amazon operates all of its businesses), conditions rarely stay stagnant for long.\n",
      "In the 25 years I’ve been at Amazon, there has been constant change, much of which we’ve initiated ourselves. When I joined Amazon in 1997, we had booked $15M in revenue in 1996, were a books-only retailer, did not have a third-party marketplace, and only shipped to addresses in the US. Today, Amazon sells nearly every physical and digital retail item you can imagine, with a vibrant third-party seller ecosystem that accounts for 60% of our unit sales, and reaches customers in virtually every country around the world. Similarly, building a business around a set of technology infrastructure services in the cloud was not obvious in 2003 when we started pursuing AWS, and still wasn’t when we launched our first services in 2006. Having virtually every book at your fingertips in 60 seconds, and then being able to store and retrieve them on a lightweight digital reader was not “a thing” yet when we launched Kindle in 2007, nor was a voice-driven personal assistant like Alexa (launched in 2014) that you could use to access entertainment, control your smart home, shop, and retrieve all sorts of information.\n",
      "There have also been times when macroeconomic conditions or operating inefficiencies have presented us with new challenges. For instance, in the 2001 dot-com crash, we had to secure letters of credit to buy inventory for the holidays, streamline costs to deliver better profitability for the business, yet still prioritized the long-term customer experience and business we were trying to build (if you remember, we actually lowered prices in most of our categories during that tenuous 2001 period). You saw this sort of balancing again in 2008-2009 as we endured the recession provoked by the mortgage-backed securities financial crisis. We took several actions to manage the cost structure and efficiency of our Stores business, but we also balanced this streamlining with investment in customer experiences that we believed could be substantial future businesses with strong returns for shareholders. In 2008, AWS was still a fairly small, fledgling business. We knew we were on to something, but it still required substantial capital investment. There were voices inside and outside of the company questioning why Amazon (known mostly as an online retailer then) would be investing so much in cloud computing. But, we knew we were inventing something special that could create a lot of value for customers and Amazon in the future. We had a head start on potential competitors; and if anything, we wanted to accelerate our pace of innovation. We made the long-term decision to continue investing in AWS. Fifteen years later, AWS is now an $85B annual revenue run rate business, with strong profitability, that has transformed how customers from start-ups to multinational companies to public sector organizations manage their technology infrastructure. Amazon would be a different company if we’d slowed investment in AWS during that 2008-2009 period.\n",
      "Change is always around the corner. Sometimes, you proactively invite it in, and sometimes it just comes a-knocking. But, when you see it’s coming, you have to embrace it. And, the companies that do this well over a long period of time usually succeed. I’m optimistic about our future prospects because I like the way our team is responding to the changes we see in front of us.\n",
      "Over the last several months, we took a deep look across the company, business by business, invention by invention, and asked ourselves whether we had conviction about each initiative’s long-term potential to drive enough revenue, operating income, free cash flow, and return on invested capital. In some cases, it led to us shuttering certain businesses. For instance, we stopped pursuing physical store concepts like our Bookstores and 4 Star stores, closed our Amazon Fabric and Amazon Care efforts, and moved on from some newer devices where we didn’t see a path to meaningful returns. In other cases, we looked at some programs that weren’t producing the returns we’d hoped (e.g. free shipping for all online grocery orders over $35) and amended them. We also reprioritized where to spend our resources, which ultimately led to the hard decision to eliminate 27,000 corporate roles. There are a number of other changes that we’ve made over the last several months to streamline our overall costs, and like most leadership teams, we’ll continue to evaluate what we’re seeing in our business and proceed adaptively.\n",
      "We also looked hard at how we were working together as a team and asked our corporate employees to come back to the office at least three days a week, beginning in May. During the pandemic, our employees rallied to get work done from home and did everything possible to keep up with the unexpected circumstances that presented themselves. It was impressive and I’m proud of the way our collective team came together to overcome unprecedented challenges for our customers, communities, and business. But, we don’t think it’s the best long-term approach. We’ve become convinced that collaborating and inventing is easier and more effective when we’re working together and learning from one another in person. The energy and riffing on one another’s ideas happen more freely, and many of the best Amazon inventions have had their breakthrough moments from people staying behind after a meeting and working through ideas on a whiteboard, or continuing the conversation on the walk back from a meeting, or just popping by a teammate’s office later that day with another thought. Invention is often messy. It wanders and meanders and marinates. Serendipitous interactions help it, and there are more of those in-person than virtually. It’s also significantly easier to learn, model, practice, and strengthen our culture when we’re in the office together most of the time and surrounded by our colleagues. Innovation and our unique culture have been incredibly important in our first 29 years as a company, and I expect it will be comparably so in the next 29.\n",
      "A critical challenge we’ve continued to tackle is the rising cost to serve in our Stores fulfillment network (i.e. the cost to get a product from Amazon to a customer)—and we’ve made several changes that we believe will meaningfully improve our fulfillment costs and speed of delivery.\n",
      "During the early part of the pandemic, with many physical stores shut down, our consumer business grew at an extraordinary clip, with annual revenue increasing from $245B in 2019 to $434B in 2022. This meant that we had to double the fulfillment center footprint that we’d built over the prior 25 years and substantially accelerate building a last-mile transportation network that’s now the size of UPS (along with a new sortation center network to assist with efficiency and speed when items needed to traverse long distances)—all in the span of about two years. This was no easy feat, and hundreds of thousands of Amazonians worked very hard to make this happen. However, not surprisingly, with that rate and scale of change, there was a lot of optimization needed to yield the intended productivity. Over the last several months, we’ve scrutinized every process path in our fulfillment centers and transportation network and redesigned scores of processes and mechanisms, resulting in steady productivity gains and cost reductions over the last few quarters. There’s more work to do, but we’re pleased with our trajectory and the meaningful upside in front of us.\n",
      "We also took this occasion to make larger structural changes that set us up better to deliver lower costs and faster speed for many years to come. A good example was reevaluating how our US fulfillment network was organized. Until recently, Amazon operated one national US fulfillment network that distributed inventory from fulfillment centers spread across the entire country. If a local fulfillment center didn’t have the product a customer ordered, we’d end up shipping it from other parts of the country, costing us more and increasing delivery times. This challenge became more pronounced as our fulfillment network expanded to hundreds of additional nodes over the last few years, distributing inventory across more locations and increasing the complexity of connecting the fulfillment center and delivery station nodes efficiently. Last year, we started rearchitecting our inventory placement strategy and leveraging our larger fulfillment center footprint to move from a national fulfillment network to a regionalized network model. We made significant internal changes (e.g. placement and logistics software, processes, physical operations) to create eight interconnected regions in smaller geographic areas. Each of these regions has broad, relevant selection to operate in a largely self-sufficient way, while still being able to ship nationally when necessary. Some of the most meaningful and hard work came from optimizing the connections between this large amount of infrastructure. We also continue to improve our advanced machine learning algorithms to better predict what customers in various parts of the country will need so that we have the right inventory in the right regions at the right time. We’ve recently completed this regional roll out and like the early results. Shorter travel distances mean lower cost to serve, less impact on the environment, and customers getting their orders faster. On the latter, we’re excited about seeing more next day and same-day deliveries, and we’re on track to have our fastest Prime delivery speeds ever in 2023. Overall, we remain confident about our plans to lower costs, reduce delivery times, and build a meaningfully larger retail business with healthy operating margins.\n",
      "AWS has an $85B annualized revenue run rate, is still early in its adoption curve, but at a juncture where it’s critical to stay focused on what matters most to customers over the long-haul. Despite growing 29% year-over-year (“YoY”) in 2022 on a $62B revenue base, AWS faces short-term headwinds right now as companies are being more cautious in spending given the challenging, current macroeconomic conditions. While some companies might obsess over how they could extract as much money from customers as possible in these tight times, it’s neither what customers want nor best for customers in the long term, so we’re taking a different tack. One of the many advantages of AWS and cloud computing is that when your business grows, you can seamlessly scale up; and conversely, if your business contracts, you can choose to give us back that capacity and cease paying for it. This elasticity is unique to the cloud, and doesn’t exist when you’ve already made expensive capital investments in your own on-premises datacenters, servers, and networking gear. In AWS, like all our businesses, we’re not trying to optimize for any one quarter or year. We’re trying to build customer relationships (and a business) that outlast all of us; and as a result, our AWS sales and support teams are spending much of their time helping customers optimize their AWS spend so they can better weather this uncertain economy. Many of these AWS customers tell us that they’re not cost-cutting as much as cost-optimizing so they can take their resources and apply them to emerging and inventive new customer experiences they’re planning. Customers have appreciated this customer-focused, long-term approach, and we think it’ll bode well for both customers and AWS.\n",
      "While these short-term headwinds soften our growth rate, we like a lot of the fundamentals that we’re seeing in AWS. Our new customer pipeline is robust, as are our active migrations. Many companies use discontinuous periods like this to step back and determine what they strategically want to change, and we find an increasing number of enterprises opting out of managing their own infrastructure, and preferring to move to AWS to enjoy the agility, innovation, cost-efficiency, and security benefits. And most importantly for customers, AWS continues to deliver new capabilities rapidly (over 3,300 new features and services launched in 2022), and invest in long-term inventions that change what’s possible.\n",
      "Chip development is a good example. In last year’s letter, I mentioned the investment we were making in our general-purpose CPU processors named Graviton. Graviton2-based compute instances deliver up to 40% better price-performance than the comparable latest generation x86-based instances; and in 2022, we delivered our Graviton3 chips, providing 25% better performance than the Graviton2 processors. Further, as machine learning adoption has continued to accelerate, customers have yearned for lower-cost GPUs (the chips most commonly used for machine learning). AWS started investing years ago in these specialized chips for machine learning training and inference (inferences are the predictions or answers that a machine learning model provides). We delivered our first training chip in 2022 (“Trainium”); and for the most common machine learning models, Trainium-based instances are up to 140% faster than GPU-based instances at up to 70% lower cost. Most companies are still in the training stage, but as they develop models that graduate to large-scale production, they’ll find that most of the cost is in inference because models are trained periodically whereas inferences are happening all the time as their associated application is being exercised. We launched our first inference chips (“Inferentia”) in 2019, and they have saved companies like Amazon over a hundred million dollars in capital expense already. Our Inferentia2 chip, which just launched, offers up to four times higher throughput and ten times lower latency than our first Inferentia processor. With the enormous upcoming growth in machine learning, customers will be able to get a lot more done with AWS’s training and inference chips at a significantly lower cost. We’re not close to being done innovating here, and this long-term investment should prove fruitful for both customers and AWS. AWS is still in the early stages of its evolution, and has a chance for unusual growth in the next decade.\n",
      "Similarly high potential, Amazon’s Advertising business is uniquely effective for brands, which is part of why it continues to grow at a brisk clip. Akin to physical retailers’ advertising businesses selling shelf space, end-caps, and placement in their circulars, our sponsored products and brands offerings have been an integral part of the Amazon shopping experience for more than a decade. However, unlike physical retailers, Amazon can tailor these sponsored products to be relevant to what customers are searching for given what we know about shopping behaviors and our very deep investment in machine learning algorithms. This leads to advertising that’s more useful for customers; and as a result, performs better for brands. This is part of why our Advertising revenue has continued to grow rapidly (23% YoY in Q4 2022, 25% YoY overall for 2022 on a $31B revenue base), even as most large advertising-focused businesses’ growth have slowed over the last several quarters.\n",
      "We strive to be the best place for advertisers to build their brands. We have near and long-term opportunities that will help us achieve that mission. We’re continuing to make large investments in machine learning to keep honing our advertising selection algorithms. For the past couple of years, we’ve invested in building comprehensive, flexible, and durable planning and measurement solutions, giving marketers greater insight into advertising effectiveness. An example is Amazon Marketing Cloud (“AMC”). AMC is a “clean room” (i.e. secure digital environment) in which advertisers can run custom audience and campaign analytics across a range of first and third-party inputs, in a privacy-safe manner, to generate advertising and business insights to inform their broader marketing and sales strategies. The Advertising and AWS teams have collaborated to enable companies to store their data in AWS, operate securely in AMC with Amazon and other third-party data sources, perform analytics in AWS, and have the option to activate advertising on Amazon or third-party publishers through the Amazon Demand-Side Platform. Customers really like this concerted capability. We also see future opportunity to thoughtfully integrate advertising into our video, live sports, audio, and grocery products. We’ll continue to work hard to help brands uniquely engage with the right audience, and grow this part of our business.\n",
      "While it’s tempting in turbulent times only to focus on your existing large businesses, to build a sustainable, long-lasting, growing company that helps customers across a large number of dimensions, you can’t stop inventing and working on long-term customer experiences that can meaningfully impact customers and your company.\n",
      "When we look at new investment opportunities, we ask ourselves a few questions:\n",
      "If we were successful, could it be big and have a reasonable return on invested capital?\n",
      "Is the opportunity being well-served today?\n",
      "Do we have a differentiated approach?\n",
      "And, do we have competence in that area? And if not, can we acquire it quickly?\n",
      "If we like the answers to those questions, then we’ll invest. This process has led to some expansions that seem straightforward, and others that some folks might not have initially guessed.\n",
      "The earliest example is when we chose to expand from just selling Books, to adding categories like Music, Video, Electronics, and Toys. Back then (1998-1999), it wasn’t universally applauded, but in retrospect, it seems fairly obvious.\n",
      "The same could be said for our international Stores expansion. In 2022, our international consumer segment drove $118B of revenue. In our larger, established international consumer businesses, we’re big enough to be impacted by the slowing macroeconomic conditions; however, the growth in 2019-2021 on a large base was remarkable—30% compound annual growth rate (“CAGR”) in the UK, 26% in Germany, and 21% in Japan (excluding the impact of FX). Over the past several years, we’ve invested in new international geographies, including India, Brazil, Mexico, Australia, various European countries, the Middle East, and parts of Africa. These new countries take a certain amount of fixed investment to get started and to scale, but we like the trajectory they’re on, and their growth patterns resemble what we’ve seen in North America and our established international geographies. Emerging countries sometimes lack some of the infrastructure and services that our business relies on (e.g. payment methods, transportation services, and internet/telecom infrastructure). To solve these challenges, we continue to work with various partners to deliver solutions for customers. Ultimately, we believe that this investment in serving a broader geographical footprint will allow us to help more customers across the world, as well as build a larger free cash flow-generating consumer business.\n",
      "Beyond geographic expansion, we’ve been working to expand our customer offerings across some large, unique product retail market segments. Grocery is an $800B market segment in the US alone, with the average household shopping three to four times per week. Amazon has built a somewhat unusual, but significant grocery business over nearly 20 years. Similar to how other mass merchants entered the grocery space in the 1980s, we began by adding products typically found in supermarket aisles that don’t require temperature control such as paper products, canned and boxed food, candy and snacks, pet care, health and personal care, and beauty. However, we offer more than three million items compared to a typical supermarket’s 30K for the same categories. To date, we’ve also focused on larger pack sizes, given the current cost to serve online delivery. While we’re pleased with the size and growth of our grocery business, we aspire to serve more of our customers’ grocery needs than we do today. To do so, we need a broader physical store footprint given that most of the grocery shopping still happens in physical venues. Whole Foods Market pioneered the natural and organic specialty grocery store concept 40 years ago. Today, it’s a large and growing business that continues to raise the bar for healthy and sustainable food. Over the past year, we’ve continued to invest in the business while also making changes to drive better profitability. Whole Foods is on an encouraging path, but to have a larger impact on physical grocery, we must find a mass grocery format that we believe is worth expanding broadly. Amazon Fresh is the brand we’ve been experimenting with for a few years, and we’re working hard to identify and build the right mass grocery format for Amazon scale. Grocery is a big growth opportunity for Amazon.\n",
      "Amazon Business is another example of an investment where our ecommerce and logistics capabilities position us well to pursue this large market segment. Amazon Business allows businesses, municipalities, and organizations to procure products like office supplies and other bulk items easily and at great savings. While some areas of the economy have struggled over the past few years, Amazon Business has thrived. Why? Because the team has translated what it means to deliver selection, value, and convenience into a business procurement setting, constantly listening to and learning from customers, and innovating on their behalf. Some people have never heard of Amazon Business, but, our business customers love it. Amazon Business launched in 2015 and today drives roughly $35B in annualized gross sales. More than six million active customers, including 96 of the global Fortune 100 companies, are enjoying Amazon Business’ one-stop shopping, real-time analytics, and broad selection on hundreds of millions of business supplies. We believe that we’ve only scratched the surface of what’s possible to date, and plan to keep building the features our business customers tell us they need and want.\n",
      "While many brands and merchants successfully sell their products on Amazon’s marketplace, there are also a large number of brands and sellers who have launched their own direct-to-consumer websites. One of the challenges for these merchants is driving conversion from views to purchases. We invented Buy with Prime to help with this challenge. Buy with Prime allows third-party brands and sellers to offer their products on their own websites to our large Amazon Prime membership, and offer those customers fast, free Prime shipping and seamless checkout with their Amazon account. Buy with Prime provides merchants several additional benefits, including Amazon handling the product storage, picking, packing, delivery, payment, and any returns, all through Amazon Pay and Fulfillment by Amazon. Buy with Prime has recently been made available to all US merchants; and so far, Buy with Prime has increased shopper conversion on third-party shopping sites by 25% on average. Merchants are excited about converting more sales and fulfilling these shipments more easily, Prime members love that they can use their Prime benefits on more destinations, and Buy with Prime allows us to improve the shopping experience across more of the web.\n",
      "Expanding internationally, pursuing large retail market segments that are still nascent for Amazon, and using our unique assets to help merchants sell more effectively on their own websites are somewhat natural extensions for us. There are also a few investments we’re making that are further from our core businesses, but where we see unique opportunity. In 2003, AWS would have been a classic example. In 2023, Amazon Healthcare and Kuiper are potential analogues.\n",
      "Our initial efforts in Healthcare began with pharmacy, which felt less like a major departure from ecommerce. For years, Amazon customers had asked us when we’d offer them an online pharmacy as their frustrations mounted with current providers. Launched in 2020, Amazon Pharmacy is a full-service, online pharmacy that offers transparent pricing, easy refills, and savings for Prime members. The business is growing quickly, and continues to innovate. An example is Amazon Pharmacy’s recent launch of RxPass, which for a $5 per month flat fee, enables Prime members to get as many of the eligible prescription medications as they need for dozens of common conditions, like high blood pressure, acid reflux, and anxiety. However, our customers have continued to express a strong desire for Amazon to provide a better alternative to the inefficient and unsatisfying broader healthcare experience. We decided to start with primary care as it’s a prevalent first stop in the patient journey. We evaluated and studied the existing landscape extensively, including some early Amazon experiments like Amazon Care. During this process, we identified One Medical’s patient-focused experience as an excellent foundation upon which to build our future business; and in July 2022, we announced our acquisition of One Medical. There are several elements that customers love about One Medical. It has a fantastic digital app that makes it easy for patients to discuss issues with a medical practitioner via chat or video conference. If a physical visit is required, One Medical has offices in cities across the US where patients can book same or next day appointments. One Medical has relationships with specialty physicians in each of its cities and works closely with local hospital systems to make seeing specialists easy, so One Medical members can quickly access these resources when needed. Going forward, we strongly believe that One Medical and Amazon will continue to innovate together to change what primary care will look like for customers.\n",
      "Kuiper is another example of Amazon innovating for customers over the long term in an area where there’s high customer need. Our vision for Kuiper is to create a low-Earth orbit satellite system to deliver high-quality broadband internet service to places around the world that don’t currently have it. There are hundreds of millions of households and businesses who don’t have reliable access to the internet. Imagine what they’ll be able to do with reliable connectivity, from people taking online education courses, using financial services, starting their own businesses, doing their shopping, enjoying entertainment, to businesses and governments improving their coverage, efficiency, and operations. Kuiper will deliver not only accessibility, but affordability. Our teams have developed low-cost antennas (i.e. customer terminals) that will lower the barriers to access. We recently unveiled the new terminals that will communicate with the satellites passing overhead, and we expect to be able to produce our standard residential version for less than $400 each. They’re small: 11 inches square, 1 inch thick, and weigh less than 5 pounds without their mounting bracket, but they deliver speeds up to 400 megabits per second. And they’re powered by Amazon-designed baseband chips. We’re preparing to launch two prototype satellites to test the entire end-to-end communications network this year, and plan to be in beta with commercial customers in 2024. The customer reaction to what we’ve shared thus far about Kuiper has been very positive, and we believe Kuiper represents a very large potential opportunity for Amazon. It also shares several similarities to AWS in that it’s capital intensive at the start, but has a large prospective consumer, enterprise, and government customer base, significant revenue and operating profit potential, and relatively few companies with the technical and inventive aptitude, as well as the investment hypothesis to go after it.\n",
      "One final investment area that I’ll mention, that’s core to setting Amazon up to invent in every area of our business for many decades to come, and where we’re investing heavily is Large Language Models (“LLMs”) and Generative AI. Machine learning has been a technology with high promise for several decades, but it’s only been the last five to ten years that it’s started to be used more pervasively by companies. This shift was driven by several factors, including access to higher volumes of compute capacity at lower prices than was ever available. Amazon has been using machine learning extensively for 25 years, employing it in everything from personalized ecommerce recommendations, to fulfillment center pick paths, to drones for Prime Air, to Alexa, to the many machine learning services AWS offers (where AWS has the broadest machine learning functionality and customer base of any cloud provider). More recently, a newer form of machine learning, called Generative AI, has burst onto the scene and promises to significantly accelerate machine learning adoption. Generative AI is based on very Large Language Models (trained on up to hundreds of billions of parameters, and growing), across expansive datasets, and has radically general and broad recall and learning capabilities. We have been working on our own LLMs for a while now, believe it will transform and improve virtually every customer experience, and will continue to invest substantially in these models across all of our consumer, seller, brand, and creator experiences. Additionally, as we’ve done for years in AWS, we’re democratizing this technology so companies of all sizes can leverage Generative AI. AWS is offering the most price-performant machine learning chips in Trainium and Inferentia so small and large companies can afford to train and run their LLMs in production. We enable companies to choose from various LLMs and build applications with all of the AWS security, privacy and other features that customers are accustomed to using. And, we’re delivering applications like AWS’s CodeWhisperer, which revolutionizes developer productivity by generating code suggestions in real time. I could write an entire letter on LLMs and Generative AI as I think they will be that transformative, but I’ll leave that for a future letter. Let’s just say that LLMs and Generative AI are going to be a big deal for customers, our shareholders, and Amazon.\n",
      " \n",
      "  \n",
      "So, in closing, I’m optimistic that we’ll emerge from this challenging macroeconomic time in a stronger position than when we entered it. There are several reasons for it and I’ve mentioned many of them above. But, there are two relatively simple statistics that underline our immense future opportunity. While we have a consumer business that’s $434B in 2022, the vast majority of total market segment share in global retail still resides in physical stores (roughly 80%). And, it’s a similar story for Global IT spending, where we have AWS revenue of $80B in 2022, with about 90% of Global IT spending still on-premises and yet to migrate to the cloud. As these equations steadily flip—as we’re already seeing happen—we believe our leading customer experiences, relentless invention, customer focus, and hard work will result in significant growth in the coming years. And, of course, this doesn’t include the other businesses and experiences we’re pursuing at Amazon, all of which are still in their early days.\n",
      "I strongly believe that our best days are in front of us, and I look forward to working with my teammates at Amazon to make it so.\n",
      "Sincerely,\n",
      "Andy Jassy\n",
      "President and Chief Executive Officer\n",
      "Amazon.com, Inc.\n",
      "P.S. As we have always done, our original 1997 Shareholder Letter follows. What’s written there is as true today as it was in 1997.\n",
      "\n",
      "To our shareholders:\n",
      "Amazon.com passed many milestones in 1997: by year-end, we had served more than 1.5 million customers, yielding 838% revenue growth to $147.8 million, and extended our market leadership despite aggressive competitive entry.\n",
      "But this is Day 1 for the Internet and, if we execute well, for Amazon.com. Today, online commerce saves customers money and precious time. Tomorrow, through personalization, online commerce will accelerate the very process of discovery. Amazon.com uses the Internet to create real value for its customers and, by doing so, hopes to create an enduring franchise, even in established and large markets.\n",
      "We have a window of opportunity as larger players marshal the resources to pursue the online opportunity and as customers, new to purchasing online, are receptive to forming new relationships. The competitive landscape has continued to evolve at a fast pace. Many large players have moved online with credible offerings and have devoted substantial energy and resources to building awareness, traffic, and sales. Our goal is to move quickly to solidify and extend our current position while we begin to pursue the online commerce opportunities in other areas. We see substantial opportunity in the large markets we are targeting. This strategy is not without risk: it requires serious investment and crisp execution against established franchise leaders.\n",
      "It’s All About the Long Term\n",
      "We believe that a fundamental measure of our success will be the shareholder value we create over the long term. This value will be a direct result of our ability to extend and solidify our current market leadership position. The stronger our market leadership, the more powerful our economic model. Market leadership can translate directly to higher revenue, higher profitability, greater capital velocity, and correspondingly stronger returns on invested capital.\n",
      "Our decisions have consistently reflected this focus. We first measure ourselves in terms of the metrics most indicative of our market leadership: customer and revenue growth, the degree to which our customers continue to purchase from us on a repeat basis, and the strength of our brand. We have invested and will continue to invest aggressively to expand and leverage our customer base, brand, and infrastructure as we move to establish an enduring franchise.\n",
      "Because of our emphasis on the long term, we may make decisions and weigh tradeoffs differently than some companies. Accordingly, we want to share with you our fundamental management and decision-making approach so that you, our shareholders, may confirm that it is consistent with your investment philosophy:\n",
      "We will continue to focus relentlessly on our customers.\n",
      "We will continue to make investment decisions in light of long-term market leadership considerations rather than short-term profitability considerations or short-term Wall Street reactions.\n",
      "We will continue to measure our programs and the effectiveness of our investments analytically, to jettison those that do not provide acceptable returns, and to step up our investment in those that work best. We will continue to learn from both our successes and our failures.\n",
      "We will make bold rather than timid investment decisions where we see a sufficient probability of gaining market leadership advantages. Some of these investments will pay off, others will not, and we will have learned another valuable lesson in either case.\n",
      "When forced to choose between optimizing the appearance of our GAAP accounting and maximizing the present value of future cash flows, we’ll take the cash flows.\n",
      "We will share our strategic thought processes with you when we make bold choices (to the extent competitive pressures allow), so that you may evaluate for yourselves whether we are making rational long-term leadership investments.\n",
      "We will work hard to spend wisely and maintain our lean culture. We understand the importance of continually reinforcing a cost-conscious culture, particularly in a business incurring net losses.\n",
      "We will balance our focus on growth with emphasis on long-term profitability and capital management. At this stage, we choose to prioritize growth because we believe that scale is central to achieving the potential of our business model.\n",
      "We will continue to focus on hiring and retaining versatile and talented employees, and continue to weight their compensation to stock options rather than cash. We know our success will be largely affected by our ability to attract and retain a motivated employee base, each of whom must think like, and therefore must actually be, an owner.\n",
      "We aren’t so bold as to claim that the above is the “right” investment philosophy, but it’s ours, and we would be remiss if we weren’t clear in the approach we have taken and will continue to take.\n",
      "With this foundation, we would like to turn to a review of our business focus, our progress in 1997, and our outlook for the future.\n",
      "Obsess Over Customers\n",
      "From the beginning, our focus has been on offering our customers compelling value. We realized that the Web was, and still is, the World Wide Wait. Therefore, we set out to offer customers something they simply could not get any other way, and began serving them with books. We brought them much more selection than was possible in a physical store (our store would now occupy 6 football fields), and presented it in a useful, easy- to-search, and easy-to-browse format in a store open 365 days a year, 24 hours a day. We maintained a dogged focus on improving the shopping experience, and in 1997 substantially enhanced our store. We now offer customers gift certificates, 1-Click shopping℠, and vastly more reviews, content, browsing options, and recommendation features. We dramatically lowered prices, further increasing customer value. Word of mouth remains the most powerful customer acquisition tool we have, and we are grateful for the trust our customers have placed in us. Repeat purchases and word of mouth have combined to make Amazon.com the market leader in online bookselling.\n",
      "By many measures, Amazon.com came a long way in 1997:\n",
      "Sales grew from $15.7 million in 1996 to $147.8 million – an 838% increase.\n",
      "Cumulative customer accounts grew from 180,000 to 1,510,000 – a 738% increase.\n",
      "The percentage of orders from repeat customers grew from over 46% in the fourth quarter of 1996 to over 58% in the same period in 1997.\n",
      "In terms of audience reach, per Media Metrix, our Web site went from a rank of 90th to within the top 20.\n",
      "We established long-term relationships with many important strategic partners, including America Online, Yahoo!, Excite, Netscape, GeoCities, AltaVista, @Home, and Prodigy.\n",
      "Infrastructure\n",
      "During 1997, we worked hard to expand our business infrastructure to support these greatly increased traffic, sales, and service levels:\n",
      "Amazon.com’s employee base grew from 158 to 614, and we significantly strengthened our management team.\n",
      "Distribution center capacity grew from 50,000 to 285,000 square feet, including a 70% expansion of our Seattle facilities and the launch of our second distribution center in Delaware in November.\n",
      "Inventories rose to over 200,000 titles at year-end, enabling us to improve availability for our customers.\n",
      "Our cash and investment balances at year-end were $125 million, thanks to our initial public offering in May 1997 and our $75 million loan, affording us substantial strategic flexibility.\n",
      "Our Employees\n",
      "The past year’s success is the product of a talented, smart, hard-working group, and I take great pride in being a part of this team. Setting the bar high in our approach to hiring has been, and will continue to be, the single most important element of Amazon.com’s success.\n",
      "It’s not easy to work here (when I interview people I tell them, “You can work long, hard, or smart, but at Amazon.com you can’t choose two out of three”), but we are working to build something important, something that matters to our customers, something that we can all tell our grandchildren about. Such things aren’t meant to be easy. We are incredibly fortunate to have this group of dedicated employees whose sacrifices and passion build Amazon.com.\n",
      "Goals for 1998\n",
      "We are still in the early stages of learning how to bring new value to our customers through Internet commerce and merchandising. Our goal remains to continue to solidify and extend our brand and customer base. This requires sustained investment in systems and infrastructure to support outstanding customer convenience, selection, and service while we grow. We are planning to add music to our product offering, and over time we believe that other products may be prudent investments. We also believe there are significant opportunities to better serve our customers overseas, such as reducing delivery times and better tailoring the customer experience. To be certain, a big part of the challenge for us will lie not in finding new ways to expand our business, but in prioritizing our investments.\n",
      "We now know vastly more about online commerce than when Amazon.com was founded, but we still have so much to learn. Though we are optimistic, we must remain vigilant and maintain a sense of urgency. The challenges and hurdles we will face to make our long-term vision for Amazon.com a reality are several: aggressive, capable, well-funded competition; considerable growth challenges and execution risk; the risks of product and geographic expansion; and the need for large continuing investments to meet an expanding market opportunity. However, as we’ve long said, online bookselling, and online commerce in general, should prove to be a very large market, and it’s likely that a number of companies will see significant benefit. We feel good about what we’ve done, and even more excited about what we want to do.\n",
      "1997 was indeed an incredible year. We at Amazon.com are grateful to our customers for their business and trust, to each other for our hard work, and to our shareholders for their support and encouragement.\n",
      "Jeffrey P. Bezos\n",
      "Founder and Chief Executive Officer\n",
      "Amazon.com, Inc.\n",
      "\n"
     ]
    }
   ],
   "source": [
    "from docx import Document\n",
    "\n",
    "# 워드 파일 열기\n",
    "doc = Document('sample-docs.docx')\n",
    "\n",
    "# 단락 읽기\n",
    "for para in doc.paragraphs:\n",
    "    print(para.text)"
   ]
  },
  {
   "cell_type": "markdown",
   "id": "310f2f63",
   "metadata": {},
   "source": [
    "# 2. Invoke LLM using langchain"
   ]
  },
  {
   "cell_type": "markdown",
   "id": "14370c88",
   "metadata": {},
   "source": [
    "## 2.1 Install dependencies"
   ]
  },
  {
   "cell_type": "code",
   "execution_count": 3,
   "id": "4cd25914",
   "metadata": {},
   "outputs": [],
   "source": [
    "!pip install --upgrade --quiet langchain_aws\n",
    "!pip install --upgrade --quiet botocore boto3"
   ]
  },
  {
   "cell_type": "markdown",
   "id": "affb318a",
   "metadata": {},
   "source": [
    "## 2.2 Make LLM"
   ]
  },
  {
   "cell_type": "code",
   "execution_count": 4,
   "id": "4fd4e382",
   "metadata": {},
   "outputs": [],
   "source": [
    "#from langchain_community.chat_models import BedrockChat\n",
    "from langchain_aws import ChatBedrock\n",
    "from langchain_core.messages import HumanMessage, SystemMessage\n",
    "from langchain.callbacks.streaming_stdout import StreamingStdOutCallbackHandler\n",
    "from langchain_core.prompts import ChatPromptTemplate"
   ]
  },
  {
   "cell_type": "code",
   "execution_count": 5,
   "id": "f49113cd",
   "metadata": {},
   "outputs": [],
   "source": [
    "region_name = \"us-west-2\"\n",
    "model_id = \"anthropic.claude-3-sonnet-20240229-v1:0\"\n",
    "model_kwargs =  { \n",
    "    \"max_tokens\": 4096,\n",
    "    \"temperature\": 0.9,\n",
    "    \"top_k\": 250,\n",
    "    \"top_p\": 1,\n",
    "    \"stop_sequences\": [\"\\n\\nHuman\"],\n",
    "}\n",
    "llm = ChatBedrock(\n",
    "    region_name=region_name,\n",
    "    model_id=model_id,\n",
    "    streaming=True,\n",
    "    callbacks=[StreamingStdOutCallbackHandler()],\n",
    "    model_kwargs=model_kwargs\n",
    ")"
   ]
  },
  {
   "cell_type": "markdown",
   "id": "ec38a245",
   "metadata": {},
   "source": [
    "## 2.3 Option1. Invoke LLM with Normal Text"
   ]
  },
  {
   "cell_type": "code",
   "execution_count": 6,
   "id": "d0a70f18",
   "metadata": {},
   "outputs": [
    {
     "name": "stderr",
     "output_type": "stream",
     "text": [
      "/home/ec2-user/anaconda3/envs/python3/lib/python3.10/site-packages/langchain_core/_api/deprecation.py:117: LangChainDeprecationWarning: The function `__call__` was deprecated in LangChain 0.1.7 and will be removed in 0.2.0. Use invoke instead.\n",
      "  warn_deprecated(\n"
     ]
    },
    {
     "name": "stdout",
     "output_type": "stream",
     "text": [
      "나는 프로그래밍을 사랑합니다."
     ]
    },
    {
     "data": {
      "text/plain": [
       "'나는 프로그래밍을 사랑합니다.'"
      ]
     },
     "execution_count": 6,
     "metadata": {},
     "output_type": "execute_result"
    }
   ],
   "source": [
    "prompt = \"당신은 영어를 한국어로 번역하는 전문 번역가입니다. I love programming.\"\n",
    "messages = [\n",
    "    HumanMessage(\n",
    "        content=prompt\n",
    "    )\n",
    "]\n",
    "result = llm(messages)\n",
    "result.content"
   ]
  },
  {
   "cell_type": "markdown",
   "id": "bd5a6c69",
   "metadata": {},
   "source": [
    "## 2.4 Option2. Invoke LLM with Prompt Template"
   ]
  },
  {
   "cell_type": "code",
   "execution_count": 7,
   "id": "f18d6917",
   "metadata": {},
   "outputs": [
    {
     "name": "stdout",
     "output_type": "stream",
     "text": [
      "저는 프로그래밍을 좋아합니다."
     ]
    },
    {
     "data": {
      "text/plain": [
       "'저는 프로그래밍을 좋아합니다.'"
      ]
     },
     "execution_count": 7,
     "metadata": {},
     "output_type": "execute_result"
    }
   ],
   "source": [
    "from langchain.prompts import ChatPromptTemplate, HumanMessagePromptTemplate\n",
    "from langchain_core.messages import SystemMessage\n",
    "\n",
    "# Make ChatPromptTemplate\n",
    "prompt_template = ChatPromptTemplate.from_messages(\n",
    "    [\n",
    "        SystemMessage(content=\"당신은 영어를 한국어로 번역하는 전문 번역가입니다.\"),\n",
    "        HumanMessagePromptTemplate.from_template(\"{text}\")\n",
    "    ]\n",
    ")\n",
    "\n",
    "# Make Messages List\n",
    "messages = prompt_template.format_messages(text='I love programming.')\n",
    "\n",
    "result = llm(messages)\n",
    "result.content"
   ]
  },
  {
   "cell_type": "markdown",
   "id": "a2805176",
   "metadata": {},
   "source": [
    "## 2.5 Option3. Invoke LLM with Prompt Template"
   ]
  },
  {
   "cell_type": "code",
   "execution_count": 8,
   "id": "188a0124",
   "metadata": {},
   "outputs": [
    {
     "name": "stdout",
     "output_type": "stream",
     "text": [
      "프로그래밍을 좋아합니다."
     ]
    },
    {
     "data": {
      "text/plain": [
       "'프로그래밍을 좋아합니다.'"
      ]
     },
     "execution_count": 8,
     "metadata": {},
     "output_type": "execute_result"
    }
   ],
   "source": [
    "from langchain.prompts import (\n",
    "    ChatPromptTemplate,\n",
    "    SystemMessagePromptTemplate,\n",
    "    HumanMessagePromptTemplate,\n",
    ")\n",
    "\n",
    "# Make SystemMessagePromptTemplate\n",
    "system_message_prompt_template = SystemMessagePromptTemplate.from_template(\n",
    "    \"당신은 {input_language}를 {output_language}로 번역하는 전문 번역가입니다.\"\n",
    ")\n",
    "\n",
    "# Make HumanMessagePromptTemplate\n",
    "human_message_prompt_template = HumanMessagePromptTemplate.from_template(\"{text}\")\n",
    "\n",
    "# Make ChatPromptTemplate\n",
    "prompt_template = ChatPromptTemplate.from_messages(\n",
    "    [\n",
    "        system_message_prompt_template,\n",
    "        human_message_prompt_template\n",
    "    ]\n",
    ")\n",
    "\n",
    "# Make Messages List\n",
    "messages = prompt_template.format_messages(input_language=\"영어\", output_language=\"한국어\", text=\"I love programming.\")\n",
    "\n",
    "result = llm(messages)\n",
    "result.content"
   ]
  },
  {
   "cell_type": "markdown",
   "id": "36f34a4f",
   "metadata": {},
   "source": [
    "## 2.6 Option3. Invoke LLM with Prompt Template and Chain"
   ]
  },
  {
   "cell_type": "code",
   "execution_count": 9,
   "id": "aad8f01c",
   "metadata": {},
   "outputs": [
    {
     "name": "stdout",
     "output_type": "stream",
     "text": [
      "저는 프로그래밍을 사랑합니다.저는 프로그래밍을 사랑합니다.\n"
     ]
    }
   ],
   "source": [
    "# Make ChatPromptTemplate\n",
    "prompt_template = ChatPromptTemplate.from_messages(\n",
    "    [\n",
    "        SystemMessage(content=\"당신은 영어를 한국어로 번역하는 전문 번역가입니다.\"),\n",
    "        HumanMessagePromptTemplate.from_template(\"{text}\")\n",
    "    ]\n",
    ")\n",
    "\n",
    "# Make Chain\n",
    "chain = prompt_template | llm\n",
    "\n",
    "text='I love programming.'\n",
    "try:\n",
    "    result = chain.invoke(\n",
    "        {\n",
    "            \"text\": text\n",
    "        }\n",
    "    )\n",
    "    print(result.content)\n",
    "except Exception:\n",
    "    err_msg = traceback.format_exc()\n",
    "    print('error message: ', err_msg)\n",
    "    raise Exception(\"Not able to request to LLM\")"
   ]
  },
  {
   "cell_type": "markdown",
   "id": "23d5feff",
   "metadata": {},
   "source": [
    "# 3. Summarlization using langchain"
   ]
  },
  {
   "cell_type": "markdown",
   "id": "7c374bd2",
   "metadata": {},
   "source": [
    "## 3.1 Install additional dependencies"
   ]
  },
  {
   "cell_type": "code",
   "execution_count": 10,
   "id": "58b135f2",
   "metadata": {},
   "outputs": [],
   "source": [
    "!pip install --upgrade --quiet anthropic\n",
    "!pip install --upgrade --quiet pdfplumber\n",
    "!pip install --upgrade --quiet tiktoken"
   ]
  },
  {
   "cell_type": "markdown",
   "id": "e8f12140",
   "metadata": {},
   "source": [
    "## 3.2 Quickstart"
   ]
  },
  {
   "cell_type": "code",
   "execution_count": 11,
   "id": "2e977abf",
   "metadata": {},
   "outputs": [
    {
     "name": "stderr",
     "output_type": "stream",
     "text": [
      "/home/ec2-user/anaconda3/envs/python3/lib/python3.10/site-packages/langchain_core/_api/deprecation.py:117: LangChainDeprecationWarning: The function `run` was deprecated in LangChain 0.1.0 and will be removed in 0.2.0. Use invoke instead.\n",
      "  warn_deprecated(\n"
     ]
    },
    {
     "name": "stdout",
     "output_type": "stream",
     "text": [
      "This is a detailed overview of how to build autonomous agents powered by large language models (LLMs). It covers the key components required: 1) Planning capabilities like task decomposition and self-reflection, 2) Memory management with short-term and long-term memory stores, 3) Tool integration to augment the LLM with external data sources and APIs. It discusses techniques like chain of thought prompting, retrieving relevant memories, and allowing the LLM to call external tools. The post also covers case studies in scientific discovery, generative simulation environments, and proof-of-concept demos like AutoGPT. Finally, it highlights the key challenges like finite context length, limited long-term planning abilities, and the reliability of the natural language interface.This overview discusses building autonomous agents using large language models (LLMs) by incorporating key components: planning capabilities, memory management, and tool integration. It explores techniques like chain of thought prompting, memory retrieval, and calling external tools. Case studies in scientific discovery, simulation environments, and demos like AutoGPT are covered. Challenges like context length limitations, long-term planning issues, and reliability of natural language interfaces are highlighted."
     ]
    },
    {
     "data": {
      "text/plain": [
       "'This overview discusses building autonomous agents using large language models (LLMs) by incorporating key components: planning capabilities, memory management, and tool integration. It explores techniques like chain of thought prompting, memory retrieval, and calling external tools. Case studies in scientific discovery, simulation environments, and demos like AutoGPT are covered. Challenges like context length limitations, long-term planning issues, and reliability of natural language interfaces are highlighted.'"
      ]
     },
     "execution_count": 11,
     "metadata": {},
     "output_type": "execute_result"
    }
   ],
   "source": [
    "from langchain.chains.summarize import load_summarize_chain\n",
    "from langchain_community.document_loaders import WebBaseLoader\n",
    "\n",
    "loader = WebBaseLoader(\"https://lilianweng.github.io/posts/2023-06-23-agent/\")\n",
    "docs = loader.load()\n",
    "\n",
    "chain = load_summarize_chain(llm, chain_type=\"map_reduce\")\n",
    "\n",
    "chain.run(docs)"
   ]
  },
  {
   "cell_type": "markdown",
   "id": "f638935e",
   "metadata": {},
   "source": [
    "## 3.3 Map-Reduce"
   ]
  },
  {
   "cell_type": "code",
   "execution_count": 12,
   "id": "452f4eb8",
   "metadata": {},
   "outputs": [],
   "source": [
    "from langchain.chains import MapReduceDocumentsChain, ReduceDocumentsChain, StuffDocumentsChain\n",
    "from langchain_core.prompts import PromptTemplate\n",
    "from langchain_core.prompts import ChatPromptTemplate\n",
    "from langchain_core.prompts import HumanMessagePromptTemplate\n",
    "from langchain.chains.llm import LLMChain\n",
    "\n",
    "# Map\n",
    "map_template = \"\"\"아래 내용에서 주요 부분을 요약해주세요.\n",
    "{docs}\n",
    "출력은 항상 <MAP></MAP> 태그 안에 넣어줘.\n",
    "서두는 작성하지 말아줘.\n",
    "\"\"\"\n",
    "\n",
    "# Make PromptTemplate\n",
    "map_prompt = PromptTemplate.from_template(map_template)\n",
    "\n",
    "# Make LLMChain\n",
    "# - LLMChain은 초기 처리 단계로, 특정 프롬프트를 사용하여 언어 모델(llm)을 실행\n",
    "map_chain = LLMChain(llm=llm, prompt=map_prompt)"
   ]
  },
  {
   "cell_type": "code",
   "execution_count": 13,
   "id": "dc641850",
   "metadata": {},
   "outputs": [],
   "source": [
    "# Reduce\n",
    "reduce_template = \"\"\"아래 내용은 문서의 요약본입니다.\n",
    "{docs}\n",
    "위 요약본을 이용해서 주요 주제에 대한 최종 통합 요약으로 정제해주세요.\n",
    "출력은 항상 <REDUCE></REDUCE> 태그 안에 넣어줘.\n",
    "서두는 작성하지 말아줘.\n",
    "\"\"\"\n",
    "\n",
    "# Make PromptTemplate\n",
    "reduce_prompt = PromptTemplate.from_template(reduce_template)\n",
    "\n",
    "# Make LLMChain\n",
    "# - LLMChain은 초기 처리 단계로, 특정 프롬프트를 사용하여 언어 모델(llm)을 실행\n",
    "reduce_chain = LLMChain(llm=llm, prompt=reduce_prompt)"
   ]
  },
  {
   "cell_type": "code",
   "execution_count": 14,
   "id": "af4e1a34",
   "metadata": {},
   "outputs": [],
   "source": [
    "# Takes a list of documents, combines them into a single string, and passes this to an LLMChain\n",
    "# - StuffDocumentsChain은 여러 문서를 하나의 문자열로 결합하여 LLMChain에 전달하는 역할\n",
    "\n",
    "# - 이 체인은 문서 목록을 가져와서 먼저 단일 문자열로 결합합니다.\n",
    "# - 이는 각 문서를 document_prompt를 사용하여 문자열로 포맷한 다음 document_separator를 사용하여 결합함으로써 이를 수행합니다.\n",
    "# - 그런 다음 document_variable_name으로 설정된 변수 이름을 사용하여 입력에 해당 새 문자열을 추가합니다.\n",
    "# - 그런 다음 해당 입력은 llm_chain으로 전달됩니다.\n",
    "\n",
    "# - https://api.python.langchain.com/en/latest/chains/langchain.chains.combine_documents.stuff.StuffDocumentsChain.html\n",
    "\n",
    "combine_documents_chain = StuffDocumentsChain(\n",
    "    llm_chain=reduce_chain, document_variable_name=\"docs\"\n",
    ")\n",
    "\n",
    "# Combines and iteratively reduces the mapped documents\n",
    "# - ReduceDocumentsChain은 문서들을 결합하고, 지정된 토큰 수(token_max)를 초과하지 않도록 반복적으로 축소하는 과정을 담당.\n",
    "# - 이 과정에서, 문서들이 StuffDocumentsChain의 컨텍스트를 초과할 경우, 동일한 체인(collapse_documents_chain)을 사용하여 처리합니다.\n",
    "\n",
    "# - 문서를 반복적으로 줄여 문서를 결합합니다.\n",
    "\n",
    "# - combine_documents_chain 은 항상 제공됩니다. 이것이 호출되는 최종 체인입니다.\n",
    "# - 이전 결과를 모두 이 체인에 전달하고 이 체인의 출력이 최종 결과로 반환됩니다.\n",
    "\n",
    "# - collapse_documents_chain은 전달된 문서가 너무 많아서 한 번에 combine_documents_chain에 모두 전달할 수 없는 경우에 사용됩니다.\n",
    "# - 이 경우,collapse_documents_chain은 허용되는 만큼의 문서 그룹에 대해 재귀적으로 호출됩니다.\n",
    "\n",
    "reduce_documents_chain = ReduceDocumentsChain(\n",
    "    # This is final chain that is called.\n",
    "    combine_documents_chain=combine_documents_chain,\n",
    "    # If documents exceed context for `StuffDocumentsChain`\n",
    "    collapse_documents_chain=combine_documents_chain,\n",
    "    # The maximum number of tokens to group documents into.\n",
    "    token_max=50000,\n",
    ")"
   ]
  },
  {
   "cell_type": "code",
   "execution_count": 15,
   "id": "bb074898",
   "metadata": {},
   "outputs": [],
   "source": [
    "# Combining documents by mapping a chain over them, then combining results\n",
    "map_reduce_chain = MapReduceDocumentsChain(\n",
    "    # Map chain\n",
    "    llm_chain=map_chain,\n",
    "    # Reduce chain\n",
    "    reduce_documents_chain=reduce_documents_chain,\n",
    "    # The variable name in the llm_chain to put the documents in\n",
    "    document_variable_name=\"docs\",\n",
    "    # Return the results of the map steps in the output\n",
    "    return_intermediate_steps=False,\n",
    ")\n",
    "\n"
   ]
  },
  {
   "cell_type": "code",
   "execution_count": 16,
   "id": "aa5646c2",
   "metadata": {},
   "outputs": [
    {
     "name": "stdout",
     "output_type": "stream",
     "text": [
      "9\n"
     ]
    }
   ],
   "source": [
    "from langchain_community.document_loaders import PDFPlumberLoader\n",
    "from langchain_text_splitters import CharacterTextSplitter, RecursiveCharacterTextSplitter\n",
    "from itertools import zip_longest\n",
    "\n",
    "loader = PDFPlumberLoader(\"22-26_국제 신재생에너지 정책변화 및 시장 분석.pdf\")\n",
    "docs = loader.load()\n",
    "\n",
    "def merge_page_content(lst, number):\n",
    "    result = []\n",
    "    for i in range(0, len(lst), number):\n",
    "        page_content = ''\n",
    "        for j in range(number):\n",
    "            if i + j < len(lst):\n",
    "                page_content = page_content + lst[i+j].page_content\n",
    "        lst[i].page_content = page_content\n",
    "        result.append(lst[i])\n",
    "    return result\n",
    "\n",
    "merge_docs = merge_page_content(docs, 15)\n",
    "print(len(merge_docs))"
   ]
  },
  {
   "cell_type": "code",
   "execution_count": null,
   "id": "a2074d40",
   "metadata": {},
   "outputs": [],
   "source": [
    "# Using Splliter\n",
    "# text_splitter = RecursiveCharacterTextSplitter(\n",
    "#     chunk_size=100, chunk_overlap=0\n",
    "# )\n",
    "\n",
    "# text_splitter = RecursiveCharacterTextSplitter(\n",
    "#     chunk_size=10000,\n",
    "#     chunk_overlap=50,\n",
    "#     separators=[\"\\n\\n\", \"\\n\", \"(?<=\\. )\", \" \", \"\"],\n",
    "#     length_function=len,\n",
    "# )\n",
    "\n",
    "# split_docs = text_splitter.split_documents(docs)\n",
    "# print(len(split_docs))"
   ]
  },
  {
   "cell_type": "code",
   "execution_count": 17,
   "id": "ba951b1a",
   "metadata": {},
   "outputs": [
    {
     "name": "stdout",
     "output_type": "stream",
     "text": [
      "<MAP>\n",
      "\n",
      "아래 내용을 요약하면 다음과 같습니다.\n",
      "\n",
      "1. 이 연구는 전세계 재생에너지 시장 동향과 정책 변화를 파악하고, 실효성 있는 재생에너지 보급제도를 분석하여 시사점을 도출하는 것이 목적입니다.\n",
      "\n",
      "2. 전력부문에서 재생에너지 보급이 지속되고 있지만, 1차 에너지 비중 증가는 더딘 추세입니다. 우리나라는 태양광, 풍력 등 변동성 재생에너지 보급에 성과를 보이고 있습니다.\n",
      "\n",
      "3. 탄소중립 선언과 러시아-우크라이나 전쟁으로 인해 세계적으로 재생에너지 정책이 강화되고 있습니다. 주요국의 탄소중립 법제화 및 재생에너지 정책을 검토하였습니다.\n",
      "\n",
      "4. 재생에너지 보급제도(FiT/FiP, RPS, 경매제도)의 효과를 실증 분석한 결과, 경매제도의 보급 효과가 가장 높고 RPS 제도의 효과는 제한적인 것으로 나타났습니다.\n",
      "\n",
      "5. 실증분석 결과를 바탕으로 향후 재생에너지 보급을 위한 제도 개선의 필요성을 제시하고 있습니다.\n",
      "\n",
      "</MAP>알겠습니다. <MAP>\n",
      "\n",
      "1.3. 재생에너지원별 균등화발전비용(LCOE)\n",
      "\n",
      "IRENA(2022)에 따르면 2021년에는 원자재와 물류비용 상승 등의 이슈가 있었지만, 태양광, 육상풍력, 해상풍력 등의 비용 하락 추세는 유지되었다. 태양광은 부품 가격이 상승하였지만 균등화발전비용(LCOE) 하락 추세에는 큰 영향을 미치지 못하였고, 육상풍력은 전년대비 이용율이 크게 개선되면서 비용이 하락하였다. \n",
      "\n",
      "2021년 LCOE를 보면 태양광은 전년대비 13% 감소하였고, 해상풍력은 13%, 육상풍력은 15% 감소하였지만, CSP는 7% 증가하였다. 재생에너지 비용은 지난 11년 동안 지열과 수력을 제외하고 모두 감소하면서, 재생에너지 모두 화석발전 비용과 비교하여 경쟁력을 갖추었다. LCOE가 가장 많이 하락한 에너지원은 태양광으로, 2010년 $0.417/kWh에서 2021년 $0.048/kWh로 88% 하락하였다. \n",
      "\n",
      "2021년 원자재 가격은 상승하였지만 태양광과 육상풍력 LCOE가 하락할 수 있었던 이유는 첫째, 원자재 가격 상승은 2020년 하반기에서 2021년 상반기에 이루어졌으며, 2021년 가동개시된 설비는 원자재 가격 상승 이전에 건설되었을 가능성이 높기 때문이다. 둘째, 기술 발전과 규모의 경제로 인해 설비 비용이 지속적으로 하락하였기 때문이다.\n",
      "\n",
      "</MAP>알겠습니다. 다음은 서두 없이 출력을 <MAP></MAP> 태그 안에 넣어서 제공하겠습니다.\n",
      "\n",
      "<MAP>\n",
      "제2장 국제 재생에너지 시장 동향\n",
      "높고 건설 기간이 길어 이러한 LCOE 하락을 이끌었을 것으로 보인다. 둘째, 많은 프로젝트에서 예비비가 원자재 상승과 물류비용 상승을 일부 상쇄하였을 것이다. 셋째, 기술 개발과 효율성 및 규모의 개선이 이루어졌다. 넷째, 재생에너지 시장을 주도하는 중국 시장의 재생에너지 비용 하락이 이루어졌으며, 다만 제조업체의 이익은 줄어든 것으로 보인다.\n",
      "\n",
      "태양광 제조산업의 가치사슬은 폴리실리콘, 잉곳, 웨이퍼, 태양전지, 모듈로 구성되어 있다. 전 가치사슬에서 시장점유율이 높은 상위업체를 중심으로 시장이 재편되고 있으며, 이러한 현상은 2021년에도 지속되었다. 2021년 시장점유율이 가장 많이 증가한 가치사슬은 태양전지로 전년 대비 11.8%p 상승한 80.2%에 도달하였다. 인버터와 모듈 시장점유율은 지난해와 비슷한 수준인 98.4%와 72.0%를 유지하였고, 폴리실리콘과 인버터 시장점유율은 지난해 대비 소폭 하락한 94.8%와 87.0%로 나타났다.\n",
      "\n",
      "2021년에는 중국에 본사를 두고 있는 제조사들의 시장점유율이 더욱 증가하였다. 2017년 폴리실리콘, 태양전지, 모듈, 인버터에서 중국 기업 비중은 각각 50%, 71%, 73%, 62% 수준이었으나, 지난 5년간 비중이 꾸준히 증가하여 2022년에는 각각 78%, 86%, 79%, 78%에 도달하였다.\n",
      "</MAP>알겠습니다. 맵 태그 안에 출력을 넣겠습니다.\n",
      "\n",
      "<MAP>\n",
      "제3장 국제 재생에너지정책 동향\n",
      "\n",
      "1. 최근 에너지 국제 정세와 재생에너지 정책 동향\n",
      "1.1. 탄소중립 선언과 재생에너지 보급 목표 설정\n",
      "- 2015년 파리협정을 통해 2050년까지 온실가스 배출원과 제거 간의 균형을 달성하는 탄소중립 개념이 제시됨\n",
      "- 2022년 10월 기준 탄소중립을 위해 법제화를 마무리한 국가는 17개국과 EU이며, 38개국이 정책문건을 작성함\n",
      "- 대부분의 국가는 2050년을 탄소중립 목표연도로 설정하고, 36개국은 재생에너지 보급 목표를 100%로 설정함\n",
      "\n",
      "1.2. 러시아·우크라이나 전쟁과 국제 재생에너지 정책 추세  \n",
      "- 러·우 전쟁으로 세계 에너지 가격이 급등하면서 화석연료 기반 에너지 시스템의 취약성이 드러남\n",
      "- 재생에너지 기반 시스템은 외부환경에 독립적이고 지속가능하며 안정적임\n",
      "- EU 등 주요국들은 재생에너지 확대를 통해 에너지 안보와 기후변화 대응을 동시에 추구하고자 함\n",
      "\n",
      "1.3. 2021년 국제 재생에너지 정책 동향\n",
      "- 2021년 기준 재생에너지 보급을 위한 인센티브나 의무를 부여한 국가는 전력 156개국, 수송 70개국, 열 26개국, 산업 30개국임\n",
      "- 전력부문에서는 135개국이 보급 목표를 설정하고 FIT/FIP, 경매, RPS 등의 정책을 활용함\n",
      "- 수송, 열, 산업 부문에서는 재생에너지 보급을 위한 정책이 상대적으로 미흡한 실정임\n",
      "\n",
      "1.4. 전력부문 재생에너지 보급 정책 도입 추세\n",
      "- 현재까지 재생에너지 보급은 전력부문을 중심으로 이루어지고 있음\n",
      "- 전력부문에서 주로 사용되는 보급 정책은 FIT/FIP, RPS, 경매제도 등임\n",
      "- 최근 들어 이러한 정책들이 국가별로 확산되는 추세를 보이고 있음\n",
      "</MAP><MAP>\n",
      "셋째, \"해상풍력 에너지법(Offshore Wind Energy Act)\"에서는 독일 해상풍력 발전 용량을 2030년까지 30GW, 2038년까지 40GW, 2045년까지 최소 70GW로 확대하는 목표를 설정하고 있다. 이를 달성하기 위해 입찰 절차를 간소화하고, 해상풍력 프로젝트에 대한 지속적인 계획 보장을 목적으로 하고 있다.\n",
      "\n",
      "넷째, \"육지에서 풍력 터빈 확대 및 가속화 법률(Onshore Wind Energy Expansion Act)\"에서는 육상풍력 에너지 확산을 가속화하기 위해 주법(州法)보다 우선하는 연방 법적 근거를 마련하고 있다. 해당 법률에 따르면 연방정부는 육상풍력 발전소를 위한 입지를 선정하고 구체화해야 하며, 이를 위해 연방토지 이용계획에 최소 2% 이상의 적합한 구역을 지정해야 한다. 관련 계획과 승인 절차를 간소화하고, 주민 수용성 제고를 위한 새로운 방안도 도입하고 있다.\n",
      "</MAP><MAP>\n",
      "국가별 재생에너지 보급 제도의 실증분석을 위해서 167개국의 2005~2019년 데이터를 활용하였습니다. 이는 기존 연구에 비해 더 많은 국가의 자료와 최근 데이터를 포함하여 일반화된 시사점을 도출하는 데 기여할 것입니다.\n",
      "\n",
      "또한 본 연구에서는 기존 연구들과 달리 재생에너지 보급 제도의 효과를 개별 제도뿐만 아니라 제도 조합에 따라서도 추정하고 있습니다. 이를 통해 여러 제도를 병행 시행하는 국가들에 대한 정책적 시사점도 제공할 수 있을 것입니다.\n",
      "\n",
      "마지막으로 패널 프락탈 회귀모형을 통해 재생에너지 보급에 영향을 미칠 수 있는 국가별 이질성을 모형에 반영하였으며, 시계열 특성도 고려하였습니다. 이를 통해 기존 연구들에 비해 보다 정교한 분석 결과를 얻을 수 있을 것으로 기대됩니다.\n",
      "</MAP>알겠습니다. 다음은 제4장의 주요 내용을 요약한 것입니다.\n",
      "\n",
      "<MAP>\n",
      "- 전체 재생에너지 발전용량에 대해서는 FiT/FiP와 RPS 제도는 유의한 보급 효과가 없었으나, 경매제도는 통계적으로 유의한 양의 보급 효과가 있는 것으로 나타났음\n",
      "- 변동성 재생에너지(태양광, 풍력)에 대해서는 FiT/FiP 제도와 경매제도가 유의한 양의 보급 효과를 보였으며, RPS 제도는 유의한 효과가 없었음\n",
      "- 제조업 비중이 높을수록 변동성 재생에너지 보급에는 부정적 영향을 주었으며, 소득수준이 높을수록 재생에너지 보급에 긍정적 영향을 주는 것으로 나타남\n",
      "- 해외 계통연계 인프라가 잘 갖추어진 경우 변동성 재생에너지 보급에 긍정적 효과가 있었음\n",
      "- 재생에너지 정책수단 간 보급효과를 비교했을 때, 경매제도가 FiT/FiP와 RPS 제도보다 우월한 효과를 보였음\n",
      "</MAP>알겠습니다. 요약 내용을 <MAP></MAP> 태그 안에 넣겠습니다.\n",
      "\n",
      "<MAP>\n",
      "1. 태양광과 풍력 발전을 중심으로 전력부문 재생에너지 보급이 지속적으로 확대되고 있지만 1차 에너지에서 재생에너지 비중 변화는 제한적이다. 재생에너지 최종에너지 비중 확대를 위해 정책 개발과 기술 개발 투자가 필요하다.\n",
      "\n",
      "2. 태양광 제조업 공급망이 중국 기업 중심으로 재편되면서 공급망 리스크가 대두되고 있다. 우리나라는 미국과 유럽의 태양광 제조업 관련 정책 변화에 주목하고 적절히 대응할 필요가 있다.\n",
      "\n",
      "3. 주요국들은 탄소중립 달성을 위해 재생에너지 보급 목표를 상향 조정하고 관련 제도를 정비하고 있다. 우리나라도 재생에너지 발전 비중 확대를 위해 인프라, 거버넌스, 제도 등을 개선해야 한다.\n",
      "\n",
      "4. 계량모형 분석 결과, RPS 제도의 재생에너지 보급 촉진 효과가 제한적이었으며, 경매제도의 보급 효과가 높은 것으로 나타났다. 우리나라도 경매제도 도입을 적극 검토할 필요가 있다.\n",
      "</MAP><MAP>\n",
      "국제 신재생에너지 정책 동향과 시장을 분석한 주요 내용은 다음과 같습니다.\n",
      "\n",
      "- 주요국의 기후변화 대응 정책 및 신재생에너지 확대 정책 동향\n",
      "유럽연합, 영국, 독일, 미국, 일본 등 주요국의 2050 탄소중립 목표 달성을 위한 정책과 계획을 살펴보았습니다. 특히 유럽연합의 REPowerEU 계획, 영국의 에너지안보전략, 독일의 기후보호법 개정, 미국의 인플레이션 감축법 등 최근 정책 변화를 중점적으로 다루었습니다.\n",
      "\n",
      "- 주요국의 신재생에너지 보급 현황 및 전망 \n",
      "주요국의 신재생에너지 발전량, 설비용량, 투자 등의 현황과 전망치를 국제기구 자료를 바탕으로 정리하였습니다. 2021년 기준 세계 총발전량에서 신재생에너지 발전량이 차지하는 비중, 신규 투자액, 주요국 정책목표 등을 제시하였습니다. \n",
      "\n",
      "- 신재생에너지원별 기술 현황 및 전망\n",
      "태양광, 육상풍력, 해상풍력, 바이오에너지, 수력, 지열, 해양에너지 등 에너지원별 기술개발 현황, 보급 동향, 향후 전망 등을 분석하였습니다.\n",
      "\n",
      "- 시사점 및 정책 제언\n",
      "주요국의 정책 동향과 기술개발 현황을 바탕으로 우리나라 신재생에너지 정책의 시사점과 정책 제언을 도출하였습니다. 재생에너지 보급 확대를 위한 안정적 규제환경 조성, 기술개발 지원, 계통안정화 대책, 저탄소 정책과의 연계 등을 제안하였습니다.\n",
      "</MAP><REDUCE>\n",
      "- 전세계적으로 탄소중립과 에너지안보를 위해 재생에너지 보급 확대 정책이 강화되고 있음\n",
      "- 주요국들은 2050년 탄소중립 법제화, 재생에너지 발전 비중 확대 목표 설정, 보급 제도 정비 등을 추진 중\n",
      "- 재생에너지 보급 제도 중 경매제도의 효과가 가장 높고 RPS 제도 효과는 제한적인 것으로 분석됨\n",
      "- 태양광 발전 비용이 지속 하락하고 육상·해상 풍력 기술도 빠르게 발전하며 재생에너지 경쟁력이 제고됨\n",
      "- 재생에너지 보급 확대를 위해서는 인프라, 제도, 기술개발 등 종합적인 정책 노력이 필요함\n",
      "</REDUCE><REDUCE>\n",
      "- 전세계적으로 탄소중립과 에너지안보를 위해 재생에너지 보급 확대 정책이 강화되고 있음\n",
      "- 주요국들은 2050년 탄소중립 법제화, 재생에너지 발전 비중 확대 목표 설정, 보급 제도 정비 등을 추진 중\n",
      "- 재생에너지 보급 제도 중 경매제도의 효과가 가장 높고 RPS 제도 효과는 제한적인 것으로 분석됨\n",
      "- 태양광 발전 비용이 지속 하락하고 육상·해상 풍력 기술도 빠르게 발전하며 재생에너지 경쟁력이 제고됨\n",
      "- 재생에너지 보급 확대를 위해서는 인프라, 제도, 기술개발 등 종합적인 정책 노력이 필요함\n",
      "</REDUCE>\n"
     ]
    }
   ],
   "source": [
    "print()\n",
    "\n",
    "print(\"Final Summarize\")\n",
    "print(map_reduce_chain.run(merge_docs))"
   ]
  },
  {
   "cell_type": "code",
   "execution_count": null,
   "id": "ed4ddda4",
   "metadata": {},
   "outputs": [],
   "source": []
  }
 ],
 "metadata": {
  "kernelspec": {
   "display_name": "conda_python3",
   "language": "python",
   "name": "conda_python3"
  },
  "language_info": {
   "codemirror_mode": {
    "name": "ipython",
    "version": 3
   },
   "file_extension": ".py",
   "mimetype": "text/x-python",
   "name": "python",
   "nbconvert_exporter": "python",
   "pygments_lexer": "ipython3",
   "version": "3.10.13"
  }
 },
 "nbformat": 4,
 "nbformat_minor": 5
}
