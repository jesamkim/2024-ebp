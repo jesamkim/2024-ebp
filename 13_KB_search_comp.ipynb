{
 "cells": [
  {
   "cell_type": "markdown",
   "id": "78b52df9-8eab-4200-a639-f5631001813c",
   "metadata": {},
   "source": [
    "# Step 3. 두 개의 KB 간 내용 비교"
   ]
  },
  {
   "cell_type": "markdown",
   "id": "55fa6e66-7f90-484a-ad11-beef9678a596",
   "metadata": {},
   "source": [
    "### Setup\n",
    "* 아래 패키지 설치 후, 커널 Restart 해주세요."
   ]
  },
  {
   "cell_type": "code",
   "execution_count": null,
   "id": "69f11fc0-e6a8-4840-bfbc-b3ed84cc3bd4",
   "metadata": {
    "tags": []
   },
   "outputs": [],
   "source": [
    "%pip install --upgrade pip\n",
    "%pip install boto3 --force-reinstall --quiet\n",
    "%pip install botocore --force-reinstall --quiet\n",
    "%pip install sqlalchemy==2.0.0 --quiet\n",
    "%pip install langchain --force-reinstall --quiet\n",
    "%pip install langchain_aws langchain-community --force-reinstall --quiet"
   ]
  },
  {
   "cell_type": "markdown",
   "id": "91763684-f0a0-4cb9-81f5-0ce9a8e8dc15",
   "metadata": {},
   "source": [
    "### Bedrock Client 초기화"
   ]
  },
  {
   "cell_type": "code",
   "execution_count": 1,
   "id": "587ef5d4-104d-4f03-9116-7f38478e0512",
   "metadata": {
    "tags": []
   },
   "outputs": [
    {
     "name": "stdout",
     "output_type": "stream",
     "text": [
      "us-east-1\n"
     ]
    }
   ],
   "source": [
    "import boto3\n",
    "import pprint\n",
    "from botocore.client import Config\n",
    "import json\n",
    "import time\n",
    "import os\n",
    "\n",
    "pp = pprint.PrettyPrinter(indent=2)\n",
    "session = boto3.session.Session()\n",
    "region = session.region_name\n",
    "bedrock_config = Config(connect_timeout=120, read_timeout=120, retries={'max_attempts': 0})\n",
    "bedrock_client = boto3.client('bedrock-runtime', region_name = region)\n",
    "bedrock_agent_client = boto3.client(\"bedrock-agent-runtime\",\n",
    "                              config=bedrock_config, region_name = region)\n",
    "print(region)"
   ]
  },
  {
   "cell_type": "markdown",
   "id": "dc16d0ae-bc72-4b68-8160-72a1e5e7de23",
   "metadata": {
    "tags": []
   },
   "source": [
    "### LangChain 초기화"
   ]
  },
  {
   "cell_type": "code",
   "execution_count": 2,
   "id": "0931008d-c343-467c-b5b6-1ef09b569301",
   "metadata": {
    "tags": []
   },
   "outputs": [],
   "source": [
    "import langchain\n",
    "from langchain_aws import ChatBedrock\n",
    "from langchain.retrievers.bedrock import AmazonKnowledgeBasesRetriever\n",
    "\n",
    "\n",
    "modelId = 'anthropic.claude-3-sonnet-20240229-v1:0' # change this to use a different version from the model provider\n",
    "\n",
    "llm = ChatBedrock(model_id=modelId, \n",
    "                  client=bedrock_client)"
   ]
  },
  {
   "cell_type": "markdown",
   "id": "52a4c48b-1d40-4b17-9011-75c1b39843aa",
   "metadata": {},
   "source": [
    "### 사전에 생성한 KB 목록 확인\n",
    "* 사용하려는 2개의 KB ID를 확인 합니다."
   ]
  },
  {
   "cell_type": "code",
   "execution_count": 3,
   "id": "fc1fa4c9-f9d5-43df-808f-5d7349297849",
   "metadata": {
    "tags": []
   },
   "outputs": [
    {
     "name": "stdout",
     "output_type": "stream",
     "text": [
      "Found Knowledge Bases:\n",
      "- Name: ITB-Civil_Eng\n",
      "  ID: RYYEVXXULD\n",
      "  Description: N/A\n",
      "  Status: ACTIVE\n",
      "  Last Updated: 2024-07-19 02:34:45.555184+00:00\n",
      "---\n",
      "- Name: 240718-test\n",
      "  ID: LEX6UDHS1Q\n",
      "  Description: N/A\n",
      "  Status: ACTIVE\n",
      "  Last Updated: 2024-07-18 04:14:32.625010+00:00\n",
      "---\n",
      "- Name: knowledge-base-quick-start-aafi3\n",
      "  ID: KRQKUHNJIV\n",
      "  Description: N/A\n",
      "  Status: ACTIVE\n",
      "  Last Updated: 2024-02-26 08:27:55.881890+00:00\n",
      "---\n",
      "- Name: ITB-ES_Contracts\n",
      "  ID: JXGUVQQIK6\n",
      "  Description: N/A\n",
      "  Status: ACTIVE\n",
      "  Last Updated: 2024-07-19 00:42:45.537844+00:00\n",
      "---\n",
      "- Name: knowledge-base-quick-start-en\n",
      "  ID: DJLWVWNGBT\n",
      "  Description: N/A\n",
      "  Status: ACTIVE\n",
      "  Last Updated: 2024-02-26 12:26:22.625358+00:00\n",
      "---\n"
     ]
    }
   ],
   "source": [
    "import boto3\n",
    "\n",
    "def list_knowledge_bases():\n",
    "    # Bedrock 클라이언트 생성\n",
    "    bedrock_agent = boto3.client('bedrock-agent')\n",
    "\n",
    "    # Knowledge Base 목록 가져오기\n",
    "    response = bedrock_agent.list_knowledge_bases(\n",
    "        maxResults=100  # 한 번에 가져올 최대 결과 수\n",
    "    )\n",
    "\n",
    "    # 결과 출력\n",
    "    if 'knowledgeBaseSummaries' in response:\n",
    "        print(\"Found Knowledge Bases:\")\n",
    "        for kb in response['knowledgeBaseSummaries']:\n",
    "            print(f\"- Name: {kb['name']}\")\n",
    "            print(f\"  ID: {kb['knowledgeBaseId']}\")\n",
    "            print(f\"  Description: {kb.get('description', 'N/A')}\")\n",
    "            print(f\"  Status: {kb['status']}\")\n",
    "            print(f\"  Last Updated: {kb['updatedAt']}\")\n",
    "            print(\"---\")\n",
    "    else:\n",
    "        print(\"No Knowledge Bases found.\")\n",
    "\n",
    "    # 페이지네이션 처리\n",
    "    while 'nextToken' in response:\n",
    "        response = bedrock_agent.list_knowledge_bases(\n",
    "            maxResults=100,\n",
    "            nextToken=response['nextToken']\n",
    "        )\n",
    "        \n",
    "        for kb in response['knowledgeBaseSummaries']:\n",
    "            print(f\"- Name: {kb['name']}\")\n",
    "            print(f\"  ID: {kb['knowledgeBaseId']}\")\n",
    "            print(f\"  Description: {kb.get('description', 'N/A')}\")\n",
    "            print(f\"  Status: {kb['status']}\")\n",
    "            print(f\"  Last Updated: {kb['updatedAt']}\")\n",
    "            print(\"---\")\n",
    "\n",
    "if __name__ == \"__main__\":\n",
    "    list_knowledge_bases()"
   ]
  },
  {
   "cell_type": "code",
   "execution_count": 4,
   "id": "afb818cd-199f-456b-b306-8c9d5c26200d",
   "metadata": {
    "tags": []
   },
   "outputs": [],
   "source": [
    "# 비교에 사용할 2개의 KB ID 를 확인하고 수정\n",
    "\n",
    "kb_id_1 = \"JXGUVQQIK6\"  # ITB-ES_Contracts\n",
    "kb_id_2 = \"RYYEVXXULD\"  # ITB-Civil_Eng"
   ]
  },
  {
   "cell_type": "code",
   "execution_count": 5,
   "id": "d66b020b-be62-4e70-b646-aee9cd77539c",
   "metadata": {
    "tags": []
   },
   "outputs": [
    {
     "name": "stdout",
     "output_type": "stream",
     "text": [
      "Knowledge Base with ID JXGUVQQIK6 is named: ITB-ES_Contracts\n",
      "Knowledge Base with ID RYYEVXXULD is named: ITB-Civil_Eng\n"
     ]
    }
   ],
   "source": [
    "# 각각의 kb_id 에 대한 Name 확인\n",
    "\n",
    "def list_knowledge_bases(kb_id):\n",
    "    bedrock_agent = boto3.client('bedrock-agent')\n",
    "    target_id = kb_id\n",
    "    target_name = None\n",
    "\n",
    "    response = bedrock_agent.list_knowledge_bases(maxResults=100)\n",
    "\n",
    "    while True:\n",
    "        for kb in response.get('knowledgeBaseSummaries', []):\n",
    "            if kb['knowledgeBaseId'] == target_id:\n",
    "                target_name = kb['name']\n",
    "                break\n",
    "\n",
    "        if target_name or 'nextToken' not in response:\n",
    "            break\n",
    "\n",
    "        response = bedrock_agent.list_knowledge_bases(\n",
    "            maxResults=100,\n",
    "            nextToken=response['nextToken']\n",
    "        )\n",
    "\n",
    "    if target_name:\n",
    "        print(f\"Knowledge Base with ID {target_id} is named: {target_name}\")\n",
    "        return target_name\n",
    "    else:\n",
    "        print(f\"No Knowledge Base found with ID {target_id}\")\n",
    "\n",
    "\n",
    "# KB Name 확인\n",
    "kb_name_1 = list_knowledge_bases(kb_id_1)\n",
    "kb_name_2 = list_knowledge_bases(kb_id_2)"
   ]
  },
  {
   "cell_type": "code",
   "execution_count": 6,
   "id": "fe9c75b0-ff57-4104-9787-341a3e2cfdaf",
   "metadata": {
    "tags": []
   },
   "outputs": [],
   "source": [
    "from langchain.prompts import PromptTemplate\n",
    "\n",
    "# 프롬프트 템플릿\n",
    "PROMPT_TEMPLATE = \"\"\"\n",
    "Human: You are a ITB advisor AI system, and provides answers to questions by using fact based when possible. \n",
    "Use the following pieces of information to provide a detail answer to the question enclosed in <question> tags. \n",
    "If you don't know the answer, just say that you don't know, don't try to make up an answer.\n",
    "\n",
    "<context>\n",
    "{context}\n",
    "</context>\n",
    "\n",
    "\n",
    "<question>\n",
    "{question}\n",
    "</question>\n",
    "\n",
    "The response should be specific and use statistics or numbers when possible.\n",
    "\n",
    "Assistant:\"\"\"\n",
    "claude_prompt = PromptTemplate(template=PROMPT_TEMPLATE, \n",
    "                               input_variables=[\"context\",\"question\"])\n",
    "\n",
    "\n",
    "# 사용자 쿼리\n",
    "\n",
    "query = \"\"\"\n",
    "Reference Site condition 에 대해서 알려주세요.\n",
    "\"\"\"\n"
   ]
  },
  {
   "cell_type": "code",
   "execution_count": 7,
   "id": "93d2125e-16a7-4fe0-b694-570aaf97e19e",
   "metadata": {
    "tags": []
   },
   "outputs": [
    {
     "name": "stderr",
     "output_type": "stream",
     "text": [
      "/home/ec2-user/anaconda3/envs/pytorch_p310/lib/python3.10/site-packages/langchain_core/_api/deprecation.py:139: LangChainDeprecationWarning: The method `BaseRetriever.get_relevant_documents` was deprecated in langchain-core 0.1.46 and will be removed in 0.3.0. Use invoke instead.\n",
      "  warn_deprecated(\n"
     ]
    },
    {
     "name": "stdout",
     "output_type": "stream",
     "text": [
      "CPU times: user 174 ms, sys: 37.6 ms, total: 212 ms\n",
      "Wall time: 1.34 s\n"
     ]
    }
   ],
   "source": [
    "%%time\n",
    "\n",
    "# KB에서 관련 내용 검색\n",
    "retriever1 = AmazonKnowledgeBasesRetriever(\n",
    "        knowledge_base_id=kb_id_1,\n",
    "        retrieval_config={\"vectorSearchConfiguration\": \n",
    "                          {\"numberOfResults\": 10,\n",
    "                           'overrideSearchType': \"HYBRID\", # optional\n",
    "                           }\n",
    "                          },\n",
    "        # endpoint_url=endpoint_url,\n",
    "        # region_name=region,\n",
    "        # credentials_profile_name=\"<profile_name>\",\n",
    "    )\n",
    "\n",
    "retriever2 = AmazonKnowledgeBasesRetriever(\n",
    "        knowledge_base_id=kb_id_2,\n",
    "        retrieval_config={\"vectorSearchConfiguration\": \n",
    "                          {\"numberOfResults\": 10,\n",
    "                           'overrideSearchType': \"HYBRID\", # optional\n",
    "                           }\n",
    "                          },\n",
    "        # endpoint_url=endpoint_url,\n",
    "        # region_name=region,\n",
    "        # credentials_profile_name=\"<profile_name>\",\n",
    "    )\n",
    "\n",
    "docs1 = retriever1.get_relevant_documents(\n",
    "        query=query\n",
    "    )\n",
    "\n",
    "docs2 = retriever2.get_relevant_documents(\n",
    "        query=query\n",
    "    )"
   ]
  },
  {
   "cell_type": "markdown",
   "id": "86dd04d3-75d5-46a6-9cba-ace23223bcfd",
   "metadata": {},
   "source": [
    "### 두 KB (문서들)에 대해 검색된 결과를 각각 확인 합니다."
   ]
  },
  {
   "cell_type": "markdown",
   "id": "62cbb3b0-3d3a-453f-bc80-e3db69b8bb41",
   "metadata": {},
   "source": [
    "#### KB 1 검색 내용 출력"
   ]
  },
  {
   "cell_type": "code",
   "execution_count": 8,
   "id": "07461497-43ce-4767-a53b-c7011d4a9029",
   "metadata": {
    "tags": []
   },
   "outputs": [
    {
     "name": "stdout",
     "output_type": "stream",
     "text": [
      "URI: s3://240719-jesamkim-bucket/ES_Contracts/2_UHP/Schedules_Execution Version/Execution Version_Schedule 22A_Technical Limits/Schedule 22A - Annex 3 - Section 3.2_Design and Performance Data.pdf\n",
      "Content: # SCHEDULE 22A, ANNEX 3\n",
      "Rev 5_19Mar2019\n",
      "Bid Forms Formsheet F: Design and Performance Data\n",
      "| Descrip...\n",
      "--------------------------------------------------\n",
      "URI: s3://240719-jesamkim-bucket/ES_Contracts/1_UHP/Schedules_Execution Version/Execution Version_Schedule 16A_Part 3 EPC Contractor Proposal/Section 3/Section 3.2 Design and Peroformance Data/Section 3.2_Design and Performance Data.pdf\n",
      "Content: # SCHEDULE 22A, ANNEX 3\n",
      "Rev 5_19Mar2019\n",
      "Bid Forms Formsheet F: Design and Performance Data\n",
      "| Descrip...\n",
      "--------------------------------------------------\n",
      "URI: s3://240719-jesamkim-bucket/ES_Contracts/2_UHP/Schedules_Execution Version/Execution Version_Schedule 16A_Part 1_MFS/Part 1 Appendix C/Sch 16A Part 1 App C - Annex 6 Section 3.2_Design and Performance Data.pdf\n",
      "Content: # SCHEDULE 16A, ANNEX 6\n",
      "Rev 5_19Mar2019\n",
      "Bid Forms Formsheet F: Design and Performance Data\n",
      "| Descrip...\n",
      "--------------------------------------------------\n",
      "URI: s3://240719-jesamkim-bucket/ES_Contracts/UAE_F3/UAE F3 IPP - EPC Contract 20200215_SCT.docx\n",
      "Content: “Second Group” means:  in the event that the Group 1 Commercial Operation Date occurs earlier than t...\n",
      "--------------------------------------------------\n",
      "URI: s3://240719-jesamkim-bucket/ES_Contracts/UAE_F3/EPC/Fujairah F3 IPP - EPC Contract 20200215_SCT.docx\n",
      "Content: “Second Group” means:  in the event that the Group 1 Commercial Operation Date occurs earlier than t...\n",
      "--------------------------------------------------\n",
      "URI: s3://240719-jesamkim-bucket/ES_Contracts/UAE_F3/EPC/Fujairah F3 IPP - EPC Contract - Appendix C (Final).DOC\n",
      "Content: 3. Seawater Limitation 14  3.1 Seawater condition 14  4. Attachments 15     1. General   This Append...\n",
      "--------------------------------------------------\n",
      "URI: s3://240719-jesamkim-bucket/ES_Contracts/UAE_F3/UAE F3 EPC Contract - Execution Version.pdf\n",
      "Content: \"Scheduled Maintenance\" means maintenance or repairs in relation to Planned Outages. \"Scheduled Proj...\n",
      "--------------------------------------------------\n",
      "URI: s3://240719-jesamkim-bucket/ES_Contracts/UAE_F3/EPC/F3 EPC Contract - Execution Version.pdf\n",
      "Content: \"Scheduled Maintenance\" means maintenance or repairs in relation to Planned Outages. \"Scheduled Proj...\n",
      "--------------------------------------------------\n",
      "URI: s3://240719-jesamkim-bucket/ES_Contracts/2_UHP/Schedules_Execution Version/Execution Version_Schedule 24A_Interface Connections/Schedule 24A - Annex 4 - Interlocking Scheme.pdf\n",
      "Content: # LCC : L/R/M Switch in Maintenance\n",
      "LCC : Control Command | & | Maintenance mode\n",
      "___\n",
      "## LCC : L/R/M ...\n",
      "--------------------------------------------------\n",
      "URI: s3://240719-jesamkim-bucket/ES_Contracts/2_UHP/UHP_EPC Contract Main Body_Native Files.docx\n",
      "Content: Inspection of Site  Save in respect of the subject matter of the reports referenced in clause 4.9(B)...\n",
      "--------------------------------------------------\n",
      "\n",
      "총 10개의 문서가 처리되었습니다.\n",
      "URI 리스트의 첫 번째 항목: s3://240719-jesamkim-bucket/ES_Contracts/2_UHP/Schedules_Execution Version/Execution Version_Schedule 22A_Technical Limits/Schedule 22A - Annex 3 - Section 3.2_Design and Performance Data.pdf\n",
      "Content 리스트의 첫 번째 항목: # SCHEDULE 22A, ANNEX 3\n",
      "Rev 5_19Mar2019\n",
      "Bid Forms Formsheet F: Design and Performance Data\n",
      "| Descrip...\n"
     ]
    }
   ],
   "source": [
    "uri_list_1 = []\n",
    "content_list_1 = []\n",
    "\n",
    "for doc in docs1:\n",
    "    uri = doc.metadata['location']['s3Location']['uri']\n",
    "    content = doc.page_content\n",
    "\n",
    "    # 리스트에 추가\n",
    "    uri_list_1.append(uri)\n",
    "    content_list_1.append(content)\n",
    "\n",
    "    # 출력\n",
    "    print(f\"URI: {uri}\")\n",
    "    print(f\"Content: {content[:100]}...\")  # 내용의 처음 100자만 출력\n",
    "    print(\"-\" * 50)  # 구분선\n",
    "\n",
    "# 저장된 데이터 확인\n",
    "print(f\"\\n총 {len(uri_list_1)}개의 문서가 처리되었습니다.\")\n",
    "print(f\"URI 리스트의 첫 번째 항목: {uri_list_1[0]}\")\n",
    "print(f\"Content 리스트의 첫 번째 항목: {content_list_1[0][:100]}...\")"
   ]
  },
  {
   "cell_type": "markdown",
   "id": "ab2f331f-ea5f-44b8-8692-57d4fd7c4f71",
   "metadata": {},
   "source": [
    "#### KB 2 검색 내용 출력"
   ]
  },
  {
   "cell_type": "code",
   "execution_count": 9,
   "id": "db561450-660c-41bc-beac-29d2bb99b185",
   "metadata": {
    "tags": []
   },
   "outputs": [
    {
     "name": "stdout",
     "output_type": "stream",
     "text": [
      "URI: s3://240719-jesamkim-bucket/Civil_Eng_Contracts/[0] RML7 ITB/Conditions of Contracts/M-ESD-200000-GN00-CON-000002-03 Addendum 01.pdf\n",
      "Content: The inspection carried out by the Employer's Representative to verify the execution of works at thei...\n",
      "--------------------------------------------------\n",
      "URI: s3://240719-jesamkim-bucket/Civil_Eng_Contracts/[0] RML7 ITB/Conditions of Contracts/Exhibit C_General Conditions_Rev 01.pdf\n",
      "Content: # SECTION I: GENERAL PROVISIONS\n",
      "## 1 DEFINITIONS\n",
      "The following terms wherever mentioned herein or in...\n",
      "--------------------------------------------------\n",
      "URI: s3://240719-jesamkim-bucket/Civil_Eng_Contracts/[0] RML7 ITB/Conditions of Contracts/Exhibit B_Special Conditions_Rev 01.pdf\n",
      "Content: Reference to a Completion Certificate in General Condition 66 \"RESPONSIBILITY FOR THE WORKS\" shall m...\n",
      "--------------------------------------------------\n",
      "URI: s3://240719-jesamkim-bucket/Civil_Eng_Contracts/[0] RML7 ITB/Conditions of Contracts/Exhibit B_Special Conditions_Rev 01.pdf\n",
      "Content: All references in the General Condition to: a) The \"Government Entity\" shall be construed as referen...\n",
      "--------------------------------------------------\n",
      "URI: s3://240719-jesamkim-bucket/Civil_Eng_Contracts/[0] RML7 ITB/Conditions of Contracts/M-ESD-200000-GN00-CON-000002-03 Addendum 01.pdf\n",
      "Content: # SC-24 SITE INFORMATION In addition to the provisions of General Condition 24 \"SITE INFORMATION\", t...\n",
      "--------------------------------------------------\n",
      "URI: s3://240719-jesamkim-bucket/Civil_Eng_Contracts/[0] RML7 ITB/Conditions of Contracts/Exhibit C_General Conditions_Rev 01.pdf\n",
      "Content: Any loss or damage to any of the above shall be considered a gross negligence for which the Contract...\n",
      "--------------------------------------------------\n",
      "URI: s3://240719-jesamkim-bucket/Civil_Eng_Contracts/[0] RML7 ITB/Conditions of Contracts/M-ESD-200000-GN00-CON-000002-03 Addendum 01.pdf\n",
      "Content: Each item of Plant, Equipment, and Materials shall become the private property of the Employer free ...\n",
      "--------------------------------------------------\n",
      "URI: s3://240719-jesamkim-bucket/Civil_Eng_Contracts/[0] RML7 ITB/Conditions of Contracts/M-ESD-200000-GN00-CON-000002-03 Addendum 01.pdf\n",
      "Content: All references in the General Condition to: a) The \"Government Entity\" shall be construed as referen...\n",
      "--------------------------------------------------\n",
      "URI: s3://240719-jesamkim-bucket/Civil_Eng_Contracts/[0] RML7 ITB/Conditions of Contracts/Exhibit B_Special Conditions_Rev 01.pdf\n",
      "Content: After the Commencement Date, the Contractor shall verify that the Site soil conditions including in ...\n",
      "--------------------------------------------------\n",
      "URI: s3://240719-jesamkim-bucket/Civil_Eng_Contracts/240320 Riyadh Metro 수행 현장 vs. Line 2 연장 ITB 비교 (상세)_Qualification 수정.docx\n",
      "Content: 17  \tAdverse physical condition  \t· Type I 불인정, II 일부 인정  · 시공자는 지질조건을 포함하여 Site Condition에 대한 모든 책임...\n",
      "--------------------------------------------------\n",
      "\n",
      "총 10개의 문서가 처리되었습니다.\n",
      "URI 리스트의 첫 번째 항목: s3://240719-jesamkim-bucket/Civil_Eng_Contracts/[0] RML7 ITB/Conditions of Contracts/M-ESD-200000-GN00-CON-000002-03 Addendum 01.pdf\n",
      "Content 리스트의 첫 번째 항목: The inspection carried out by the Employer's Representative to verify the execution of works at thei...\n"
     ]
    }
   ],
   "source": [
    "uri_list_2 = []\n",
    "content_list_2 = []\n",
    "\n",
    "for doc in docs2:\n",
    "    uri = doc.metadata['location']['s3Location']['uri']\n",
    "    content = doc.page_content\n",
    "\n",
    "    # 리스트에 추가\n",
    "    uri_list_2.append(uri)\n",
    "    content_list_2.append(content)\n",
    "\n",
    "    # 출력\n",
    "    print(f\"URI: {uri}\")\n",
    "    print(f\"Content: {content[:100]}...\")  # 내용의 처음 100자만 출력\n",
    "    print(\"-\" * 50)  # 구분선\n",
    "\n",
    "# 저장된 데이터 확인\n",
    "print(f\"\\n총 {len(uri_list_2)}개의 문서가 처리되었습니다.\")\n",
    "print(f\"URI 리스트의 첫 번째 항목: {uri_list_2[0]}\")\n",
    "print(f\"Content 리스트의 첫 번째 항목: {content_list_2[0][:100]}...\")"
   ]
  },
  {
   "cell_type": "markdown",
   "id": "c47f3c85-569f-4f79-83e2-abf3b75f41b9",
   "metadata": {},
   "source": [
    "### 두 KB 검색 결과에 대해서 차이점을 Claude 3 Sonnet 에게 질의"
   ]
  },
  {
   "cell_type": "code",
   "execution_count": 10,
   "id": "8849c779-4c05-46d6-b93d-4a5ba80c9f7e",
   "metadata": {
    "tags": []
   },
   "outputs": [],
   "source": [
    "# Bedrock - Claude 3 Sonnet 호출 매서드 정의\n",
    "def get_text_response(input_content):\n",
    "    llm = ChatBedrock(\n",
    "        credentials_profile_name=os.environ.get(\"BWB_PROFILE_NAME\"),\n",
    "        region_name=os.environ.get(\"BWB_REGION_NAME\"),\n",
    "        endpoint_url=os.environ.get(\"BWB_ENDPOINT_URL\"),\n",
    "        model_id=\"anthropic.claude-3-sonnet-20240229-v1:0\",      # Claude 3 Sonnet\n",
    "        #model_id = \"anthropic.claude-3-5-sonnet-20240620-v1:0\", # Claude 3.5 Sonnet\n",
    "        model_kwargs={\n",
    "            \"max_tokens\": 4096,\n",
    "            \"temperature\": 0,\n",
    "            \"top_p\": 0.0,\n",
    "            \"top_k\": 0,\n",
    "        }\n",
    "    )\n",
    "    return llm.predict(input_content)"
   ]
  },
  {
   "cell_type": "code",
   "execution_count": 11,
   "id": "ba468d3b-4bb9-4a28-b793-24d246266162",
   "metadata": {
    "tags": []
   },
   "outputs": [],
   "source": [
    "context_1 = content_list_1\n",
    "context_2 = content_list_2\n",
    "\n",
    "# 답변 비교 프롬프트\n",
    "comp_prompt = f\"\"\"\n",
    "{kb_name_1}의 내용인 <result1></result1> 과 {kb_name_2}의 내용인 <result2></result2>를 비교 합니다.\n",
    "답변은 자세하게 기술해주세요. \n",
    "모르는 내용은 말하지 않습니다.\n",
    "\n",
    "<result1>\n",
    "{context_1}\n",
    "</result1>\n",
    "\n",
    "<result2>\n",
    "{context_2}\n",
    "</result2>\n",
    "\n",
    "XML tag는 답변에 포함하지 마세요.\n",
    "\n",
    "\"\"\""
   ]
  },
  {
   "cell_type": "code",
   "execution_count": 13,
   "id": "aa66d38c-5733-4a2f-93da-22d3fc3e20a2",
   "metadata": {
    "tags": []
   },
   "outputs": [
    {
     "name": "stdout",
     "output_type": "stream",
     "text": [
      "ITB-ES_Contracts의 내용은 주로 발전소 설계 및 성능 데이터에 관한 것으로 보입니다. 주요 내용은 다음과 같습니다:\n",
      "\n",
      "- 설계 조건(기준 현장 조건, 연료 데이터 등)\n",
      "- 다양한 생산 조건(100%, 75%, 70% 등)에서의 해수 담수화 생산량\n",
      "\n",
      "ITB-Civil_Eng의 내용은 주로 건설 공사 계약 조건에 관한 것으로 보입니다. 주요 내용은 다음과 같습니다:\n",
      "\n",
      "- 현장 숨겨진 결함에 대한 계약자의 책임\n",
      "- 현장 정보 및 현장 조건에 대한 계약자의 의무\n",
      "- 공사 기간 중 계약자의 현장 운영\n",
      "- 하자보수기간 중 계약자의 현장 운영\n",
      "- 불가항력 조건\n",
      "\n",
      "두 문서의 내용은 서로 다른 주제를 다루고 있으며, 직접적인 연관성은 없는 것으로 보입니다.\n",
      "\n",
      "CPU times: user 135 ms, sys: 7.05 ms, total: 142 ms\n",
      "Wall time: 8.43 s\n"
     ]
    }
   ],
   "source": [
    "%%time\n",
    "\n",
    "# 두 KB 비교 답변 출력\n",
    "input_text = comp_prompt\n",
    "response_content = get_text_response(input_content=input_text)\n",
    "print(response_content)\n",
    "print()"
   ]
  },
  {
   "cell_type": "code",
   "execution_count": null,
   "id": "095e254e-bcac-41b6-a79e-d8fb607787c6",
   "metadata": {},
   "outputs": [],
   "source": []
  }
 ],
 "metadata": {
  "kernelspec": {
   "display_name": "conda_pytorch_p310",
   "language": "python",
   "name": "conda_pytorch_p310"
  },
  "language_info": {
   "codemirror_mode": {
    "name": "ipython",
    "version": 3
   },
   "file_extension": ".py",
   "mimetype": "text/x-python",
   "name": "python",
   "nbconvert_exporter": "python",
   "pygments_lexer": "ipython3",
   "version": "3.10.14"
  }
 },
 "nbformat": 4,
 "nbformat_minor": 5
}
