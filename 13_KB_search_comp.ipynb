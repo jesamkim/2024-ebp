{
 "cells": [
  {
   "cell_type": "markdown",
   "id": "78b52df9-8eab-4200-a639-f5631001813c",
   "metadata": {},
   "source": [
    "# Step 3. 두 개의 KB 간 내용 비교"
   ]
  },
  {
   "cell_type": "markdown",
   "id": "55fa6e66-7f90-484a-ad11-beef9678a596",
   "metadata": {},
   "source": [
    "### Setup\n",
    "* 아래 패키지 설치 후, 커널 Restart 해주세요."
   ]
  },
  {
   "cell_type": "code",
   "execution_count": null,
   "id": "69f11fc0-e6a8-4840-bfbc-b3ed84cc3bd4",
   "metadata": {
    "tags": []
   },
   "outputs": [],
   "source": [
    "%pip install --upgrade pip\n",
    "%pip install boto3 --force-reinstall --quiet\n",
    "%pip install botocore --force-reinstall --quiet\n",
    "%pip install sqlalchemy==2.0.0 --quiet\n",
    "%pip install langchain --force-reinstall --quiet\n",
    "%pip install langchain_aws langchain-community --force-reinstall --quiet"
   ]
  },
  {
   "cell_type": "markdown",
   "id": "91763684-f0a0-4cb9-81f5-0ce9a8e8dc15",
   "metadata": {},
   "source": [
    "### Bedrock Client 초기화"
   ]
  },
  {
   "cell_type": "code",
   "execution_count": 1,
   "id": "587ef5d4-104d-4f03-9116-7f38478e0512",
   "metadata": {
    "tags": []
   },
   "outputs": [
    {
     "name": "stdout",
     "output_type": "stream",
     "text": [
      "us-east-1\n"
     ]
    }
   ],
   "source": [
    "import boto3\n",
    "import pprint\n",
    "from botocore.client import Config\n",
    "import json\n",
    "import time\n",
    "import os\n",
    "\n",
    "pp = pprint.PrettyPrinter(indent=2)\n",
    "session = boto3.session.Session()\n",
    "region = session.region_name\n",
    "bedrock_config = Config(connect_timeout=120, read_timeout=120, retries={'max_attempts': 0})\n",
    "bedrock_client = boto3.client('bedrock-runtime', region_name = region)\n",
    "bedrock_agent_client = boto3.client(\"bedrock-agent-runtime\",\n",
    "                              config=bedrock_config, region_name = region)\n",
    "print(region)"
   ]
  },
  {
   "cell_type": "markdown",
   "id": "dc16d0ae-bc72-4b68-8160-72a1e5e7de23",
   "metadata": {
    "tags": []
   },
   "source": [
    "### LangChain 초기화"
   ]
  },
  {
   "cell_type": "code",
   "execution_count": 2,
   "id": "0931008d-c343-467c-b5b6-1ef09b569301",
   "metadata": {
    "tags": []
   },
   "outputs": [],
   "source": [
    "import langchain\n",
    "from langchain_aws import ChatBedrock\n",
    "from langchain.retrievers.bedrock import AmazonKnowledgeBasesRetriever\n",
    "\n",
    "#modelId = \"anthropic.claude-3-5-sonnet-20240620-v1:0\"  # Claude 3.5 Sonnet\n",
    "modelId = 'anthropic.claude-3-sonnet-20240229-v1:0' # Claude 3 Sonnet\n",
    "\n",
    "llm = ChatBedrock(model_id=modelId, \n",
    "                  client=bedrock_client)"
   ]
  },
  {
   "cell_type": "markdown",
   "id": "52a4c48b-1d40-4b17-9011-75c1b39843aa",
   "metadata": {},
   "source": [
    "### 사전에 생성한 KB 목록 확인\n",
    "* 사용하려는 2개의 KB ID를 확인 합니다."
   ]
  },
  {
   "cell_type": "code",
   "execution_count": 3,
   "id": "fc1fa4c9-f9d5-43df-808f-5d7349297849",
   "metadata": {
    "tags": []
   },
   "outputs": [
    {
     "name": "stdout",
     "output_type": "stream",
     "text": [
      "Found Knowledge Bases:\n",
      "- Name: 2-civil-eng-01\n",
      "  ID: VIIQSV2GCL\n",
      "  Description: N/A\n",
      "  Status: ACTIVE\n",
      "  Last Updated: 2024-07-23 03:06:15.586610+00:00\n",
      "---\n",
      "- Name: 240722-test-kb\n",
      "  ID: PIWYW746HW\n",
      "  Description: N/A\n",
      "  Status: ACTIVE\n",
      "  Last Updated: 2024-07-22 04:51:26.268276+00:00\n",
      "---\n",
      "- Name: 2-civil-eng-02\n",
      "  ID: LO9DRKGBTX\n",
      "  Description: N/A\n",
      "  Status: ACTIVE\n",
      "  Last Updated: 2024-07-23 03:08:42.294328+00:00\n",
      "---\n",
      "- Name: knowledge-base-quick-start-aafi3\n",
      "  ID: KRQKUHNJIV\n",
      "  Description: N/A\n",
      "  Status: ACTIVE\n",
      "  Last Updated: 2024-02-26 08:27:55.881890+00:00\n",
      "---\n",
      "- Name: knowledge-base-quick-start-en\n",
      "  ID: DJLWVWNGBT\n",
      "  Description: N/A\n",
      "  Status: ACTIVE\n",
      "  Last Updated: 2024-02-26 12:26:22.625358+00:00\n",
      "---\n",
      "- Name: 1-es-eng\n",
      "  ID: 2S7W5D8WOO\n",
      "  Description: N/A\n",
      "  Status: ACTIVE\n",
      "  Last Updated: 2024-07-23 02:55:14.020228+00:00\n",
      "---\n"
     ]
    }
   ],
   "source": [
    "import boto3\n",
    "\n",
    "def list_knowledge_bases():\n",
    "    # Bedrock 클라이언트 생성\n",
    "    bedrock_agent = boto3.client('bedrock-agent')\n",
    "\n",
    "    # Knowledge Base 목록 가져오기\n",
    "    response = bedrock_agent.list_knowledge_bases(\n",
    "        maxResults=100  # 한 번에 가져올 최대 결과 수\n",
    "    )\n",
    "\n",
    "    # 결과 출력\n",
    "    if 'knowledgeBaseSummaries' in response:\n",
    "        print(\"Found Knowledge Bases:\")\n",
    "        for kb in response['knowledgeBaseSummaries']:\n",
    "            print(f\"- Name: {kb['name']}\")\n",
    "            print(f\"  ID: {kb['knowledgeBaseId']}\")\n",
    "            print(f\"  Description: {kb.get('description', 'N/A')}\")\n",
    "            print(f\"  Status: {kb['status']}\")\n",
    "            print(f\"  Last Updated: {kb['updatedAt']}\")\n",
    "            print(\"---\")\n",
    "    else:\n",
    "        print(\"No Knowledge Bases found.\")\n",
    "\n",
    "    # 페이지네이션 처리\n",
    "    while 'nextToken' in response:\n",
    "        response = bedrock_agent.list_knowledge_bases(\n",
    "            maxResults=100,\n",
    "            nextToken=response['nextToken']\n",
    "        )\n",
    "        \n",
    "        for kb in response['knowledgeBaseSummaries']:\n",
    "            print(f\"- Name: {kb['name']}\")\n",
    "            print(f\"  ID: {kb['knowledgeBaseId']}\")\n",
    "            print(f\"  Description: {kb.get('description', 'N/A')}\")\n",
    "            print(f\"  Status: {kb['status']}\")\n",
    "            print(f\"  Last Updated: {kb['updatedAt']}\")\n",
    "            print(\"---\")\n",
    "\n",
    "if __name__ == \"__main__\":\n",
    "    list_knowledge_bases()"
   ]
  },
  {
   "cell_type": "code",
   "execution_count": 4,
   "id": "afb818cd-199f-456b-b306-8c9d5c26200d",
   "metadata": {
    "tags": []
   },
   "outputs": [],
   "source": [
    "# 비교에 사용할 2개의 KB ID 를 확인하고 수정\n",
    "\n",
    "kb_id_1 = \"VIIQSV2GCL\"  # 2-civil-eng-01\n",
    "kb_id_2 = \"LO9DRKGBTX\"  # 2-civil-eng-02"
   ]
  },
  {
   "cell_type": "code",
   "execution_count": 5,
   "id": "d66b020b-be62-4e70-b646-aee9cd77539c",
   "metadata": {
    "tags": []
   },
   "outputs": [
    {
     "name": "stdout",
     "output_type": "stream",
     "text": [
      "Knowledge Base with ID VIIQSV2GCL is named: 2-civil-eng-01\n",
      "Knowledge Base with ID LO9DRKGBTX is named: 2-civil-eng-02\n"
     ]
    }
   ],
   "source": [
    "# 각각의 kb_id 에 대한 Name 확인\n",
    "\n",
    "def list_knowledge_bases(kb_id):\n",
    "    bedrock_agent = boto3.client('bedrock-agent')\n",
    "    target_id = kb_id\n",
    "    target_name = None\n",
    "\n",
    "    response = bedrock_agent.list_knowledge_bases(maxResults=100)\n",
    "\n",
    "    while True:\n",
    "        for kb in response.get('knowledgeBaseSummaries', []):\n",
    "            if kb['knowledgeBaseId'] == target_id:\n",
    "                target_name = kb['name']\n",
    "                break\n",
    "\n",
    "        if target_name or 'nextToken' not in response:\n",
    "            break\n",
    "\n",
    "        response = bedrock_agent.list_knowledge_bases(\n",
    "            maxResults=100,\n",
    "            nextToken=response['nextToken']\n",
    "        )\n",
    "\n",
    "    if target_name:\n",
    "        print(f\"Knowledge Base with ID {target_id} is named: {target_name}\")\n",
    "        return target_name\n",
    "    else:\n",
    "        print(f\"No Knowledge Base found with ID {target_id}\")\n",
    "\n",
    "\n",
    "# KB Name 확인\n",
    "kb_name_1 = list_knowledge_bases(kb_id_1)\n",
    "kb_name_2 = list_knowledge_bases(kb_id_2)"
   ]
  },
  {
   "cell_type": "code",
   "execution_count": 6,
   "id": "fe9c75b0-ff57-4104-9787-341a3e2cfdaf",
   "metadata": {
    "tags": []
   },
   "outputs": [],
   "source": [
    "from langchain.prompts import PromptTemplate\n",
    "\n",
    "# 프롬프트 템플릿\n",
    "PROMPT_TEMPLATE = \"\"\"\n",
    "Human: You are an ITB(Invitation To Bid) advisor AI system, and provides answers to questions by using fact based. \n",
    "Use the following pieces of information to provide a detail answer to the question enclosed in <question> tags. \n",
    "If you don't know the answer, just say that you don't know, don't try to make up an answer.\n",
    "\n",
    "<context>\n",
    "{context}\n",
    "</context>\n",
    "\n",
    "\n",
    "<question>\n",
    "{question}\n",
    "</question>\n",
    "\n",
    "The response should be specific and use statistics or numbers.\n",
    "\n",
    "Assistant:\"\"\"\n",
    "claude_prompt = PromptTemplate(template=PROMPT_TEMPLATE, \n",
    "                               input_variables=[\"context\",\"question\"])\n",
    "\n",
    "\n",
    "\n",
    "# 두 KB에 대해서 공통으로 물어볼 사용자 쿼리\n",
    "query = \"\"\"\n",
    "이 문서의 전체 내용에 대해서 자세하게 정리해주세요.\n",
    "\"\"\""
   ]
  },
  {
   "cell_type": "code",
   "execution_count": 7,
   "id": "93d2125e-16a7-4fe0-b694-570aaf97e19e",
   "metadata": {
    "tags": []
   },
   "outputs": [
    {
     "name": "stderr",
     "output_type": "stream",
     "text": [
      "/home/ec2-user/anaconda3/envs/pytorch_p310/lib/python3.10/site-packages/langchain_core/_api/deprecation.py:139: LangChainDeprecationWarning: The method `BaseRetriever.get_relevant_documents` was deprecated in langchain-core 0.1.46 and will be removed in 0.3.0. Use invoke instead.\n",
      "  warn_deprecated(\n"
     ]
    },
    {
     "name": "stdout",
     "output_type": "stream",
     "text": [
      "CPU times: user 188 ms, sys: 21.3 ms, total: 209 ms\n",
      "Wall time: 1.39 s\n"
     ]
    }
   ],
   "source": [
    "%%time\n",
    "\n",
    "# KB1에서 관련 내용 검색\n",
    "retriever1 = AmazonKnowledgeBasesRetriever(\n",
    "        knowledge_base_id=kb_id_1,\n",
    "        retrieval_config={\"vectorSearchConfiguration\": \n",
    "                          {\"numberOfResults\": 20,  # Chunk 20개 요청\n",
    "                           'overrideSearchType': \"HYBRID\", # optional\n",
    "                           }\n",
    "                          },\n",
    "        # endpoint_url=endpoint_url,\n",
    "        # region_name=region,\n",
    "        # credentials_profile_name=\"<profile_name>\",\n",
    "    )\n",
    "\n",
    "# KB2에서 관련 내용 검색\n",
    "retriever2 = AmazonKnowledgeBasesRetriever(\n",
    "        knowledge_base_id=kb_id_2,\n",
    "        retrieval_config={\"vectorSearchConfiguration\": \n",
    "                          {\"numberOfResults\": 20,  # Chunk 20개 요청\n",
    "                           'overrideSearchType': \"HYBRID\", # optional\n",
    "                           }\n",
    "                          },\n",
    "        # endpoint_url=endpoint_url,\n",
    "        # region_name=region,\n",
    "        # credentials_profile_name=\"<profile_name>\",\n",
    "    )\n",
    "\n",
    "# KB1 검색 결과들\n",
    "docs1 = retriever1.get_relevant_documents(\n",
    "        query=query\n",
    "    )\n",
    "\n",
    "# KB2 검색 결과들\n",
    "docs2 = retriever2.get_relevant_documents(\n",
    "        query=query\n",
    "    )"
   ]
  },
  {
   "cell_type": "markdown",
   "id": "86dd04d3-75d5-46a6-9cba-ace23223bcfd",
   "metadata": {},
   "source": [
    "### 두 KB (문서들)에 대해 검색된 결과를 각각 확인 합니다."
   ]
  },
  {
   "cell_type": "markdown",
   "id": "62cbb3b0-3d3a-453f-bc80-e3db69b8bb41",
   "metadata": {},
   "source": [
    "#### KB 1 검색 내용 출력"
   ]
  },
  {
   "cell_type": "code",
   "execution_count": 8,
   "id": "07461497-43ce-4767-a53b-c7011d4a9029",
   "metadata": {
    "tags": []
   },
   "outputs": [
    {
     "name": "stdout",
     "output_type": "stream",
     "text": [
      "URI: s3://240719-jesamkim-bucket/Civil_Eng_Contracts/Riyadh_456/Exhibit B. as received from ADA at Contract signing_OCR.pdf\n",
      "Content: # FAST Special Conditions Final 9-30.13\n",
      "There will be no direct enforcement rights against subcontra...\n",
      "--------------------------------------------------\n",
      "URI: s3://240719-jesamkim-bucket/Civil_Eng_Contracts/Riyadh_456/Exhibit C. General Conditions-int.pdf\n",
      "Content: # RIYADH METRO PROJECT\n",
      "## The Kingdom of Saudi Arabia\n",
      "### Riyadh Metro Project\n",
      "### Exhibit \"C\"\n",
      "### G...\n",
      "--------------------------------------------------\n",
      "URI: s3://240719-jesamkim-bucket/Civil_Eng_Contracts/Riyadh_456/Exhibit B. as received from ADA at Contract signing_OCR.pdf\n",
      "Content: # FAST Special Conditions Final 9-30.13 The Contractor shall at all times conduct all work under thi...\n",
      "--------------------------------------------------\n",
      "URI: s3://240719-jesamkim-bucket/Civil_Eng_Contracts/Riyadh_456/Exhibit C. General Conditions-int.pdf\n",
      "Content: # EGIS-DAR RIYADH METRO PROJECT ## GENERAL COMMITMENTS ### Article 9: FINAL DEPOSIT First: The Contr...\n",
      "--------------------------------------------------\n",
      "URI: s3://240719-jesamkim-bucket/Civil_Eng_Contracts/Riyadh_456/Exhibit B. as received from ADA at Contract signing_OCR.pdf\n",
      "Content: # FAST Special Conditions Final 9-30.13 which directly affect the cost or time of the project, the C...\n",
      "--------------------------------------------------\n",
      "URI: s3://240719-jesamkim-bucket/Civil_Eng_Contracts/Riyadh_456/Exhibit C. General Conditions-int.pdf\n",
      "Content: # EGIS-DAR RIYADH METRO PROJECT In the event that the Engineer withdraws his acceptance of the Contr...\n",
      "--------------------------------------------------\n",
      "URI: s3://240719-jesamkim-bucket/Civil_Eng_Contracts/Riyadh_456/Exhibit B. as received from ADA at Contract signing_OCR.pdf\n",
      "Content: # FAST Special Conditions Final 9-30.13 c) The Proprietary Information is obtained by the Employer o...\n",
      "--------------------------------------------------\n",
      "URI: s3://240719-jesamkim-bucket/Civil_Eng_Contracts/Riyadh_456/Exhibit B. as received from ADA at Contract signing_OCR.pdf\n",
      "Content: # FAST Special Conditions Final 9-30.13\n",
      "| |\n",
      "|-|\n",
      "| 3 | ASSIGNMENT TO OTHERS\n",
      "| 4 | SUBCONTRACT\n",
      "| 6 | T...\n",
      "--------------------------------------------------\n",
      "URI: s3://240719-jesamkim-bucket/Civil_Eng_Contracts/Riyadh_456/Exhibit B. as received from ADA at Contract signing_OCR.pdf\n",
      "Content: Here is the text content formatted in Markdown syntax: 3) The Employer shall make no payment to the ...\n",
      "--------------------------------------------------\n",
      "URI: s3://240719-jesamkim-bucket/Civil_Eng_Contracts/Riyadh_456/Exhibit C. General Conditions-int.pdf\n",
      "Content: # EGIS-DAR RIYADH METRO PROJECT The Contractor shall be responsible for the maintenance of all bench...\n",
      "--------------------------------------------------\n",
      "URI: s3://240719-jesamkim-bucket/Civil_Eng_Contracts/Riyadh_456/Exhibit B. as received from ADA at Contract signing_OCR.pdf\n",
      "Content: # The Contractor shall provide 1. In accordance with SC-21, EVALUATION OF THE WORK, Contractor's Bil...\n",
      "--------------------------------------------------\n",
      "URI: s3://240719-jesamkim-bucket/Civil_Eng_Contracts/Riyadh_456/Exhibit B. as received from ADA at Contract signing_OCR.pdf\n",
      "Content: # FAST Special Conditions Final 9-30.13\n",
      "| | |\n",
      "|-|-|\n",
      "| 5 | First Technical Room installation in a sta...\n",
      "--------------------------------------------------\n",
      "URI: s3://240719-jesamkim-bucket/Civil_Eng_Contracts/Riyadh_456/Exhibit C. General Conditions-int.pdf\n",
      "Content: # EGIS-DAR RIYADH METRO PROJECT concerned department about the discovery and shall execute his instr...\n",
      "--------------------------------------------------\n",
      "URI: s3://240719-jesamkim-bucket/Civil_Eng_Contracts/Riyadh_456/Exhibit B. as received from ADA at Contract signing_OCR.pdf\n",
      "Content: # FAST Special Conditions Final 9-30.13 Engineer. All maintenance and inspections performed by the C...\n",
      "--------------------------------------------------\n",
      "URI: s3://240719-jesamkim-bucket/Civil_Eng_Contracts/Riyadh_456/Exhibit C. General Conditions-int.pdf\n",
      "Content: # EGIS-DAR RIYADH METRO PROJECT ## LABOR ### Article 26: EMPLOYMENT OF LABOR The Contractor shall ma...\n",
      "--------------------------------------------------\n",
      "URI: s3://240719-jesamkim-bucket/Civil_Eng_Contracts/Riyadh_456/Exhibit B. as received from ADA at Contract signing_OCR.pdf\n",
      "Content: # FAST Special Conditions Final 9-30.13\n",
      "The Kingdom of Saudi Arabia\n",
      "Riyadh Metro Project\n",
      "Exhibit \"B\"...\n",
      "--------------------------------------------------\n",
      "URI: s3://240719-jesamkim-bucket/Civil_Eng_Contracts/Riyadh_456/Exhibit B. as received from ADA at Contract signing_OCR.pdf\n",
      "Content: # FAST Special Conditions Final 9-30.13 contractual obligations, then the Defects Liability Period w...\n",
      "--------------------------------------------------\n",
      "\n",
      "총 17개의 문서가 처리되었습니다.\n",
      "URI 리스트의 첫 번째 항목: s3://240719-jesamkim-bucket/Civil_Eng_Contracts/Riyadh_456/Exhibit B. as received from ADA at Contract signing_OCR.pdf\n",
      "Content 리스트의 첫 번째 항목: # FAST Special Conditions Final 9-30.13\n",
      "There will be no direct enforcement rights against subcontra...\n"
     ]
    }
   ],
   "source": [
    "uri_list_1 = []\n",
    "content_list_1 = []\n",
    "\n",
    "for doc in docs1:\n",
    "    uri = doc.metadata['location']['s3Location']['uri']\n",
    "    content = doc.page_content\n",
    "\n",
    "    # 리스트에 추가\n",
    "    uri_list_1.append(uri)\n",
    "    content_list_1.append(content)\n",
    "\n",
    "    # 출력\n",
    "    print(f\"URI: {uri}\")\n",
    "    print(f\"Content: {content[:100]}...\")  # 내용의 처음 100자만 출력\n",
    "    print(\"-\" * 50)  # 구분선\n",
    "\n",
    "# 저장된 데이터 확인\n",
    "print(f\"\\n총 {len(uri_list_1)}개의 문서가 처리되었습니다.\")\n",
    "print(f\"URI 리스트의 첫 번째 항목: {uri_list_1[0]}\")\n",
    "print(f\"Content 리스트의 첫 번째 항목: {content_list_1[0][:100]}...\")"
   ]
  },
  {
   "cell_type": "markdown",
   "id": "ab2f331f-ea5f-44b8-8692-57d4fd7c4f71",
   "metadata": {},
   "source": [
    "#### KB 2 검색 내용 출력"
   ]
  },
  {
   "cell_type": "code",
   "execution_count": 9,
   "id": "db561450-660c-41bc-beac-29d2bb99b185",
   "metadata": {
    "tags": []
   },
   "outputs": [
    {
     "name": "stdout",
     "output_type": "stream",
     "text": [
      "URI: s3://240719-jesamkim-bucket/Civil_Eng_Contracts/[0] RML7 ITB/Conditions of Contracts/Exhibit B_Special Conditions_Rev 01.pdf\n",
      "Content: Here is the content formatted in Markdown:\n",
      "| Contract Milestone No. | Milestone Description | Date+ ...\n",
      "--------------------------------------------------\n",
      "URI: s3://240719-jesamkim-bucket/Civil_Eng_Contracts/[0] RML7 ITB/Conditions of Contracts/Exhibit C_General Conditions_Rev 01.pdf\n",
      "Content: # Document information\n",
      "## GENERAL INFORMATION\n",
      "| Author(s) | Georgios Rigas |\n",
      "|-|-|\n",
      "| Function | Proc...\n",
      "--------------------------------------------------\n",
      "URI: s3://240719-jesamkim-bucket/Civil_Eng_Contracts/[0] RML7 ITB/M-ESD-200000-0000-TDC-000002-01_ITT.pdf\n",
      "Content: # Document information\n",
      "## GENERAL INFORMATION\n",
      "Author(s) | G. RIGAS\n",
      " - |  -\n",
      "Function | Contracts Mana...\n",
      "--------------------------------------------------\n",
      "URI: s3://240719-jesamkim-bucket/Civil_Eng_Contracts/[0] RML7 ITB/Conditions of Contracts/M-ESD-200000-GN00-CON-000002-03 Addendum 01.pdf\n",
      "Content: # Document information\n",
      "## GENERAL INFORMATION\n",
      "| Document Type | Exhibit B Special conditions |\n",
      "|-|-|...\n",
      "--------------------------------------------------\n",
      "URI: s3://240719-jesamkim-bucket/Civil_Eng_Contracts/[0] RML7 ITB/M-ESD-200000-0000-TDC-000001-01_ITT.pdf\n",
      "Content: # Document information\n",
      "## GENERAL INFORMATION\n",
      "| Author(s) | Georgios Rigas |\n",
      "|-|-|\n",
      "| Function | Cont...\n",
      "--------------------------------------------------\n",
      "URI: s3://240719-jesamkim-bucket/Civil_Eng_Contracts/[0] RML7 ITB/Conditions of Contracts/Exhibit B_Special Conditions_Rev 01.pdf\n",
      "Content: # Document information\n",
      "## GENERAL INFORMATION\n",
      "Author(s) | Georgios Rigas\n",
      " - |  -\n",
      "Function | Contract...\n",
      "--------------------------------------------------\n",
      "URI: s3://240719-jesamkim-bucket/Civil_Eng_Contracts/[0] RML7 ITB/Conditions of Contracts/Exhibit C_General Conditions_Rev 01.pdf\n",
      "Content: Here is the text content formatted in Markdown syntax: h) Works progress with respect to the deliver...\n",
      "--------------------------------------------------\n",
      "URI: s3://240719-jesamkim-bucket/Civil_Eng_Contracts/[0] RML7 ITB/M-ESD-200000-0000-TDC-000002-01_ITT.pdf\n",
      "Content: # 1. PROJECT MANAGEMENT ## WP 1.1 PROJECT MANAGEMENT PLAN The Tenderer shall submit a preliminary Pr...\n",
      "--------------------------------------------------\n",
      "URI: s3://240719-jesamkim-bucket/Civil_Eng_Contracts/[0] RML7 ITB/Conditions of Contracts/M-ESD-200000-GN00-CON-000002-03 Addendum 01.pdf\n",
      "Content: # TABLE OF CONTENTS ## SC-1   DEFINITIONS AND INTERPRETATIONS ### 1.1   DEFINITIONS: ### 1.2   INTER...\n",
      "--------------------------------------------------\n",
      "URI: s3://240719-jesamkim-bucket/Civil_Eng_Contracts/[0] RML7 ITB/Conditions of Contracts/Exhibit B_Special Conditions_Rev 01.pdf\n",
      "Content: Here is the text content formatted in Markdown syntax: vi. Five (5%) per cent of the Vehicle Lump Su...\n",
      "--------------------------------------------------\n",
      "URI: s3://240719-jesamkim-bucket/Civil_Eng_Contracts/[0] RML7 ITB/M-ESD-200000-0000-TDC-000002-01_ITT.pdf\n",
      "Content: # INSTRUCTIONS TO TENDERERS PART 2 40/40 8/19/2023 The provided image appears to be a blank page wit...\n",
      "--------------------------------------------------\n",
      "URI: s3://240719-jesamkim-bucket/Civil_Eng_Contracts/[0] RML7 ITB/Conditions of Contracts/Exhibit B_Special Conditions_Rev 01.pdf\n",
      "Content: # TABLE OF CONTENTS ## SC-1   DEFINITIONS AND INTERPRETATIONS 1.1   DEFINITIONS: 1.2   INTERPRETATIO...\n",
      "--------------------------------------------------\n",
      "URI: s3://240719-jesamkim-bucket/Civil_Eng_Contracts/[0] RML7 ITB/Conditions of Contracts/M-ESD-200000-GN00-CON-000002-03 Addendum 01.pdf\n",
      "Content: # CONFIDENTIALITY AND DATA PROTECTION\n",
      "| | | |\n",
      "|-|-|-|\n",
      "| 8 | CONFIDENTIALITY AND DATA PROTECTION | AN...\n",
      "--------------------------------------------------\n",
      "URI: s3://240719-jesamkim-bucket/Civil_Eng_Contracts/[0] RML7 ITB/M-ESD-200000-0000-TDC-000002-01_ITT.pdf\n",
      "Content: # WP 1.3.5 Project Risk Matrix\n",
      "| Id | Category and sub-category | Risk event | Consequence | | | | D...\n",
      "--------------------------------------------------\n",
      "URI: s3://240719-jesamkim-bucket/Civil_Eng_Contracts/[0] RML7 ITB/M-ESD-200000-0000-TDC-000002-01_ITT.pdf\n",
      "Content: * Ensuring that the proposed Systems solution incorporates the current best available practice for o...\n",
      "--------------------------------------------------\n",
      "URI: s3://240719-jesamkim-bucket/Civil_Eng_Contracts/[0] RML7 ITB/Conditions of Contracts/M-ESD-200000-GN00-CON-000002-03 Addendum 01.pdf\n",
      "Content: # 5.3 DETAILS FOR SERVICE Notwithstanding the provisions of General Condition 5 \"NOTICES & CORRESPON...\n",
      "--------------------------------------------------\n",
      "URI: s3://240719-jesamkim-bucket/Civil_Eng_Contracts/[0] RML7 ITB/M-ESD-200000-0000-TDC-000002-01_ITT.pdf\n",
      "Content: * Consequence:\n",
      "| Rating | Cost Impact (M SAR*) | Time Impact | Performance/Quality Impact | Conseque...\n",
      "--------------------------------------------------\n",
      "URI: s3://240719-jesamkim-bucket/Civil_Eng_Contracts/[0] RML7 ITB/M-ESD-200000-0000-TDC-000001-01_ITT.pdf\n",
      "Content: Here is the text content formatted in Markdown syntax: ### 3.5.3. The Major Entity in charge of the ...\n",
      "--------------------------------------------------\n",
      "URI: s3://240719-jesamkim-bucket/Civil_Eng_Contracts/[0] RML7 ITB/Conditions of Contracts/M-ESD-200000-GN00-CON-000002-03 Addendum 01.pdf\n",
      "Content: Here is the content formatted in Markdown syntax:\n",
      "# 12.1 SUBCONTRACTING REQUIREMENTS:\n",
      "The Contractor...\n",
      "--------------------------------------------------\n",
      "\n",
      "총 19개의 문서가 처리되었습니다.\n",
      "URI 리스트의 첫 번째 항목: s3://240719-jesamkim-bucket/Civil_Eng_Contracts/[0] RML7 ITB/Conditions of Contracts/Exhibit B_Special Conditions_Rev 01.pdf\n",
      "Content 리스트의 첫 번째 항목: Here is the content formatted in Markdown:\n",
      "| Contract Milestone No. | Milestone Description | Date+ ...\n"
     ]
    }
   ],
   "source": [
    "uri_list_2 = []\n",
    "content_list_2 = []\n",
    "\n",
    "for doc in docs2:\n",
    "    uri = doc.metadata['location']['s3Location']['uri']\n",
    "    content = doc.page_content\n",
    "\n",
    "    # 리스트에 추가\n",
    "    uri_list_2.append(uri)\n",
    "    content_list_2.append(content)\n",
    "\n",
    "    # 출력\n",
    "    print(f\"URI: {uri}\")\n",
    "    print(f\"Content: {content[:100]}...\")  # 내용의 처음 100자만 출력\n",
    "    print(\"-\" * 50)  # 구분선\n",
    "\n",
    "# 저장된 데이터 확인\n",
    "print(f\"\\n총 {len(uri_list_2)}개의 문서가 처리되었습니다.\")\n",
    "print(f\"URI 리스트의 첫 번째 항목: {uri_list_2[0]}\")\n",
    "print(f\"Content 리스트의 첫 번째 항목: {content_list_2[0][:100]}...\")"
   ]
  },
  {
   "cell_type": "markdown",
   "id": "c47f3c85-569f-4f79-83e2-abf3b75f41b9",
   "metadata": {},
   "source": [
    "### 두 KB 검색 결과에 대해서 차이점을 Claude 3 Sonnet 에게 질의"
   ]
  },
  {
   "cell_type": "code",
   "execution_count": 10,
   "id": "8849c779-4c05-46d6-b93d-4a5ba80c9f7e",
   "metadata": {
    "tags": []
   },
   "outputs": [],
   "source": [
    "# Bedrock - Claude 3 Sonnet 호출 매서드 정의\n",
    "def get_text_response(input_content):\n",
    "    llm = ChatBedrock(\n",
    "        credentials_profile_name=os.environ.get(\"BWB_PROFILE_NAME\"),\n",
    "        region_name=os.environ.get(\"BWB_REGION_NAME\"),\n",
    "        endpoint_url=os.environ.get(\"BWB_ENDPOINT_URL\"),\n",
    "        model_id=\"anthropic.claude-3-sonnet-20240229-v1:0\",      # Claude 3 Sonnet\n",
    "        #model_id = \"anthropic.claude-3-5-sonnet-20240620-v1:0\", # Claude 3.5 Sonnet\n",
    "        model_kwargs={\n",
    "            \"max_tokens\": 4096,\n",
    "            \"temperature\": 0,\n",
    "            \"top_p\": 0.0,\n",
    "            \"top_k\": 0,\n",
    "        }\n",
    "    )\n",
    "    return llm.predict(input_content)"
   ]
  },
  {
   "cell_type": "code",
   "execution_count": 11,
   "id": "ba468d3b-4bb9-4a28-b793-24d246266162",
   "metadata": {
    "tags": []
   },
   "outputs": [],
   "source": [
    "context_1 = content_list_1\n",
    "context_2 = content_list_2\n",
    "\n",
    "# 답변 비교 프롬프트\n",
    "comp_prompt = f\"\"\"\n",
    "<result1>\n",
    "{context_1}\n",
    "</result1>\n",
    "\n",
    "<result2>\n",
    "{context_2}\n",
    "</result2>\n",
    "\n",
    "다음 <instruction></instruction> 에 따라서 답변을 생성하세요.\n",
    "\n",
    "<instruction>\n",
    "1. {kb_name_1} 내용인 <result1></result1> 및 {kb_name_2} 내용인 <result2></result2>를 비교 합니다.\n",
    "2. 답변은 최대한 자세하게 기술해주세요.\n",
    "3. Remove XML tags and replace it with **{kb_name_1}** and **{kb_name_2}**.\n",
    "4. Answer in Korean.\n",
    "</instruction>\n",
    "\"\"\""
   ]
  },
  {
   "cell_type": "code",
   "execution_count": 12,
   "id": "aa66d38c-5733-4a2f-93da-22d3fc3e20a2",
   "metadata": {
    "tags": []
   },
   "outputs": [
    {
     "name": "stderr",
     "output_type": "stream",
     "text": [
      "/home/ec2-user/anaconda3/envs/pytorch_p310/lib/python3.10/site-packages/langchain_core/_api/deprecation.py:139: LangChainDeprecationWarning: The method `BaseChatModel.predict` was deprecated in langchain-core 0.1.7 and will be removed in 0.3.0. Use invoke instead.\n",
      "  warn_deprecated(\n"
     ]
    },
    {
     "name": "stdout",
     "output_type": "stream",
     "text": [
      "**2-civil-eng-01**과 **2-civil-eng-02**의 내용을 비교해보면 다음과 같은 차이점이 있습니다.\n",
      "\n",
      "1. **2-civil-eng-01**은 건설 프로젝트의 계약 조건, 특별 조건, 일반 조건 등을 포함하는 법적 문서의 내용으로 보입니다. 계약 당사자 간의 권리와 의무, 작업 범위, 지불 조건, 보증 등에 대한 상세한 조항들이 포함되어 있습니다.\n",
      "\n",
      "2. **2-civil-eng-02**는 프로젝트 관리 계획, 설계 조직, 건설 조직, 리스크 매트릭스, 기술 사양, 차량 설명 등 프로젝트 수행을 위한 기술적인 내용을 다루고 있습니다. 또한 입찰 지침서, 문서 정보 등도 포함되어 있습니다.\n",
      "\n",
      "3. **2-civil-eng-01**은 법적 구속력이 있는 계약서의 성격을 가지며, **2-civil-eng-02**는 프로젝트 수행을 위한 기술적, 운영적 지침서의 성격을 가집니다.\n",
      "\n",
      "4. **2-civil-eng-01**은 계약 조건, 법적 용어, 계약 조항 등 법률적인 내용이 주를 이루는 반면, **2-civil-eng-02**는 프로젝트 관리, 설계, 건설, 기술 사양 등 실무적인 내용이 주를 이룹니다.\n",
      "\n",
      "5. **2-civil-eng-01**은 계약 당사자 간의 권리와 의무를 규정하는 법적 문서인 반면, **2-civil-eng-02**는 프로젝트를 성공적으로 수행하기 위한 기술적, 운영적 가이드라인을 제공하는 문서입니다.\n",
      "\n",
      "요약하면, **2-civil-eng-01**은 법적 구속력이 있는 계약서의 성격을 가지며 **2-civil-eng-02**는 프로젝트 수행을 위한 기술적, 운영적 지침서의 성격을 가집니다.\n",
      "\n",
      "CPU times: user 67.6 ms, sys: 4.65 ms, total: 72.3 ms\n",
      "Wall time: 21.2 s\n"
     ]
    }
   ],
   "source": [
    "%%time\n",
    "\n",
    "# 두 KB 비교 답변 출력\n",
    "input_text = comp_prompt\n",
    "response_content = get_text_response(input_content=input_text)\n",
    "print(response_content)\n",
    "print()"
   ]
  },
  {
   "cell_type": "code",
   "execution_count": null,
   "id": "095e254e-bcac-41b6-a79e-d8fb607787c6",
   "metadata": {},
   "outputs": [],
   "source": []
  }
 ],
 "metadata": {
  "kernelspec": {
   "display_name": "conda_pytorch_p310",
   "language": "python",
   "name": "conda_pytorch_p310"
  },
  "language_info": {
   "codemirror_mode": {
    "name": "ipython",
    "version": 3
   },
   "file_extension": ".py",
   "mimetype": "text/x-python",
   "name": "python",
   "nbconvert_exporter": "python",
   "pygments_lexer": "ipython3",
   "version": "3.10.14"
  }
 },
 "nbformat": 4,
 "nbformat_minor": 5
}
