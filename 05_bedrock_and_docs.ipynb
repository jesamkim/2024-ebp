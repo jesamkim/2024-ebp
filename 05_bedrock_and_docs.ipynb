{
 "cells": [
  {
   "cell_type": "markdown",
   "id": "37a23d2a-307f-44be-ae61-b5d27cf3e4bf",
   "metadata": {},
   "source": [
    "# Amazon Bedrock & docs"
   ]
  },
  {
   "cell_type": "markdown",
   "id": "4c0230ad-e3af-42ac-97f0-e509e23fc063",
   "metadata": {},
   "source": [
    "> 이 노트북은, SageMaker Notebook <i><b>conda_python3</b></i> 커널에서 테스트 되었습니다."
   ]
  },
  {
   "cell_type": "markdown",
   "id": "c8ce1a91-782c-4651-af7e-8cfa1cebd287",
   "metadata": {},
   "source": [
    "## 0. 환경 설정"
   ]
  },
  {
   "cell_type": "code",
   "execution_count": 1,
   "id": "cccb933d-494d-490e-8bb7-33c94ff00073",
   "metadata": {
    "tags": []
   },
   "outputs": [],
   "source": [
    "# 처음 실행하는 경우, 주석(#)을 제거하고 필요한 라이브러리들을 이 환경에 설치합니다.\n",
    "\n",
    "#!pip install -r ./requirements.txt"
   ]
  },
  {
   "cell_type": "markdown",
   "id": "eedd0420-5119-439b-9068-ba657b08e4c2",
   "metadata": {},
   "source": [
    "---"
   ]
  },
  {
   "cell_type": "markdown",
   "id": "809d87dc-4493-4774-9202-93b3dad97dcb",
   "metadata": {},
   "source": [
    "## 1. 로컬 파일 로딩\n"
   ]
  },
  {
   "cell_type": "markdown",
   "id": "83433a97-5576-4feb-a4ae-cc55edc9a5aa",
   "metadata": {},
   "source": [
    "#### 1-1. csv 파일 로딩"
   ]
  },
  {
   "cell_type": "code",
   "execution_count": 2,
   "id": "75d8d76f-35e1-40cd-9f4c-d12198b5ed55",
   "metadata": {
    "tags": []
   },
   "outputs": [],
   "source": [
    "import csv\n",
    "\n",
    "# CSV 파일 경로 - 크롤링 결과 csv는 ./data/에 저장되어 있습니다.\n",
    "file_path = './data/240409_news_data.csv'\n",
    "\n",
    "# CSV 파일 읽기\n",
    "with open(file_path, 'r', encoding='utf-8') as file:\n",
    "    reader = csv.reader(file)\n",
    "    csv_content = ''.join([' '.join(row) for row in reader])\n",
    "\n"
   ]
  },
  {
   "cell_type": "code",
   "execution_count": 3,
   "id": "eb6d5060-c37d-4d41-a17c-654b062865b0",
   "metadata": {
    "tags": []
   },
   "outputs": [],
   "source": [
    "# csv_content 변수에 CSV 내용 넣고 확인\n",
    "#print(f\"CSV 파일 내용 확인:\\n{csv_content}\")\n"
   ]
  },
  {
   "cell_type": "markdown",
   "id": "d2a20dd8-ab80-409e-8a8a-edc42d02fd86",
   "metadata": {},
   "source": [
    "## 2. LangChain을 활용한 Bedrock Claude 3 호출\n"
   ]
  },
  {
   "cell_type": "markdown",
   "id": "7e3715fd-4f98-4fd1-b1e2-7545e761a394",
   "metadata": {},
   "source": [
    "#### 2-1. LangChain의 BedrockChat을 활용한 가장 간단한 코드 예시"
   ]
  },
  {
   "cell_type": "code",
   "execution_count": 4,
   "id": "1f04aee2-7b0f-4b65-87a7-8da55431bda1",
   "metadata": {
    "tags": []
   },
   "outputs": [
    {
     "name": "stderr",
     "output_type": "stream",
     "text": [
      "/home/ec2-user/anaconda3/envs/python3/lib/python3.10/site-packages/langchain_core/_api/deprecation.py:117: LangChainDeprecationWarning: The function `predict` was deprecated in LangChain 0.1.7 and will be removed in 0.2.0. Use invoke instead.\n",
      "  warn_deprecated(\n"
     ]
    },
    {
     "name": "stdout",
     "output_type": "stream",
     "text": [
      "이 내용은 호주와 사우디아라비아의 태양광 및 에너지 저장 시스템(ESS) 관련 최신 뉴스와 프로젝트에 대한 정보를 제공하고 있습니다.\n",
      "\n",
      "호주 관련 주요 내용:\n",
      "- 태양광 발전 및 ESS 프로젝트 현황 및 계획\n",
      "- 대규모 태양광 발전소 건설 및 운영 \n",
      "- 주택용 태양광 설치 증가 추세\n",
      "- 정부의 태양광 제조업 육성 정책\n",
      "- 태양광 발전량 및 기록 경신 소식\n",
      "- ESS 프로젝트 투자 및 개발 동향\n",
      "\n",
      "사우디아라비아 관련 주요 내용: \n",
      "- 대규모 태양광 및 풍력 발전 프로젝트 입찰 및 개발 계획\n",
      "- 국가 재생에너지 목표 달성을 위한 정책 추진\n",
      "- 태양광 추적기, 로봇 청소 등 관련 기술 도입\n",
      "- 페로브스카이트 등 차세대 태양전지 연구 동향\n",
      "- 그린수소 생산을 위한 재생에너지 활용 계획\n",
      "- 사우디 기업의 해외 태양광/ESS 프로젝트 수주 소식\n",
      "\n",
      "요약하면 호주와 사우디는 태양광과 ESS 분야에서 대규모 프로젝트를 추진 중이며, 관련 기술 개발과 제조업 육성, 재생에너지 정책 등 다양한 방면에서 노력하고 있음을 알 수 있습니다.\n"
     ]
    }
   ],
   "source": [
    "import os\n",
    "#from langchain_community.chat_models import BedrockChat\n",
    "from langchain_aws import ChatBedrock\n",
    "\n",
    "def get_text_response(input_content):\n",
    "    llm = ChatBedrock(\n",
    "        credentials_profile_name=os.environ.get(\"BWB_PROFILE_NAME\"),\n",
    "        region_name=os.environ.get(\"BWB_REGION_NAME\"),\n",
    "        endpoint_url=os.environ.get(\"BWB_ENDPOINT_URL\"),\n",
    "        model_id=\"anthropic.claude-3-sonnet-20240229-v1:0\",\n",
    "        model_kwargs={\n",
    "            \"max_tokens\": 4096,   # maximum : 4096\n",
    "            \"temperature\": 0,\n",
    "            \"top_p\": 0.01,\n",
    "            \"top_k\": 0,\n",
    "        }\n",
    "    )\n",
    "    return llm.predict(input_content)\n",
    "\n",
    "if __name__ == \"__main__\":\n",
    "    prompt = f\"\"\"\n",
    "    다음 {csv_content}의 내용에서 CONTENT에 대한 내용을 요약해줘.   \n",
    "    \n",
    "    \"\"\"\n",
    "    response_content = get_text_response(input_content=prompt)\n",
    "    print(response_content)"
   ]
  },
  {
   "cell_type": "code",
   "execution_count": null,
   "id": "e8ad1573-b18c-4930-9551-15530113b1e5",
   "metadata": {},
   "outputs": [],
   "source": []
  }
 ],
 "metadata": {
  "kernelspec": {
   "display_name": "conda_python3",
   "language": "python",
   "name": "conda_python3"
  },
  "language_info": {
   "codemirror_mode": {
    "name": "ipython",
    "version": 3
   },
   "file_extension": ".py",
   "mimetype": "text/x-python",
   "name": "python",
   "nbconvert_exporter": "python",
   "pygments_lexer": "ipython3",
   "version": "3.10.13"
  }
 },
 "nbformat": 4,
 "nbformat_minor": 5
}
